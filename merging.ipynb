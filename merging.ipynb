{
 "cells": [
  {
   "cell_type": "code",
   "execution_count": 199,
   "metadata": {},
   "outputs": [],
   "source": [
    "# Bibliotecas \n",
    "import pandas as pd\n",
    "import datetime as dt\n",
    "import re\n",
    "pd.set_option('display.max_rows', None)\n",
    "\n",
    "car=pd.read_csv('car_data.csv') # dataset com os preços dos carros novos (tmb tem velhos)"
   ]
  },
  {
   "cell_type": "code",
   "execution_count": null,
   "metadata": {},
   "outputs": [],
   "source": [
    "projet=pd.read_csv('train.csv') # dataset do projeto\n",
    "projet.head()\n",
    "projet.info()"
   ]
  },
  {
   "cell_type": "code",
   "execution_count": 217,
   "metadata": {},
   "outputs": [
    {
     "data": {
      "text/html": [
       "<div>\n",
       "<style scoped>\n",
       "    .dataframe tbody tr th:only-of-type {\n",
       "        vertical-align: middle;\n",
       "    }\n",
       "\n",
       "    .dataframe tbody tr th {\n",
       "        vertical-align: top;\n",
       "    }\n",
       "\n",
       "    .dataframe thead th {\n",
       "        text-align: right;\n",
       "    }\n",
       "</style>\n",
       "<table border=\"1\" class=\"dataframe\">\n",
       "  <thead>\n",
       "    <tr style=\"text-align: right;\">\n",
       "      <th></th>\n",
       "      <th>Unnamed: 0</th>\n",
       "      <th>Model</th>\n",
       "      <th>Year</th>\n",
       "      <th>Status</th>\n",
       "      <th>Mileage</th>\n",
       "      <th>Price</th>\n",
       "      <th>MSRP</th>\n",
       "      <th>brand</th>\n",
       "      <th>model</th>\n",
       "    </tr>\n",
       "  </thead>\n",
       "  <tbody>\n",
       "    <tr>\n",
       "      <th>0</th>\n",
       "      <td>0</td>\n",
       "      <td>Acura TLX A-Spec</td>\n",
       "      <td>2022</td>\n",
       "      <td>New</td>\n",
       "      <td>Not available</td>\n",
       "      <td>$49,445</td>\n",
       "      <td>MSRP $49,445</td>\n",
       "      <td>Acura</td>\n",
       "      <td>TLX A-Spec</td>\n",
       "    </tr>\n",
       "    <tr>\n",
       "      <th>1</th>\n",
       "      <td>1</td>\n",
       "      <td>Acura RDX A-Spec</td>\n",
       "      <td>2023</td>\n",
       "      <td>New</td>\n",
       "      <td>Not available</td>\n",
       "      <td>$50,895</td>\n",
       "      <td>Not specified</td>\n",
       "      <td>Acura</td>\n",
       "      <td>RDX A-Spec</td>\n",
       "    </tr>\n",
       "    <tr>\n",
       "      <th>2</th>\n",
       "      <td>2</td>\n",
       "      <td>Acura TLX Type S</td>\n",
       "      <td>2023</td>\n",
       "      <td>New</td>\n",
       "      <td>Not available</td>\n",
       "      <td>$57,745</td>\n",
       "      <td>Not specified</td>\n",
       "      <td>Acura</td>\n",
       "      <td>TLX Type S</td>\n",
       "    </tr>\n",
       "    <tr>\n",
       "      <th>3</th>\n",
       "      <td>3</td>\n",
       "      <td>Acura TLX Type S</td>\n",
       "      <td>2023</td>\n",
       "      <td>New</td>\n",
       "      <td>Not available</td>\n",
       "      <td>$57,545</td>\n",
       "      <td>Not specified</td>\n",
       "      <td>Acura</td>\n",
       "      <td>TLX Type S</td>\n",
       "    </tr>\n",
       "    <tr>\n",
       "      <th>4</th>\n",
       "      <td>4</td>\n",
       "      <td>Acura MDX Sport Hybrid 3.0L w/Technology Package</td>\n",
       "      <td>2019</td>\n",
       "      <td>Used</td>\n",
       "      <td>32,675 mi.</td>\n",
       "      <td>$40,990</td>\n",
       "      <td>$600 price drop</td>\n",
       "      <td>Acura</td>\n",
       "      <td>MDX Sport Hybrid 3.0L w/Technology Package</td>\n",
       "    </tr>\n",
       "  </tbody>\n",
       "</table>\n",
       "</div>"
      ],
      "text/plain": [
       "   Unnamed: 0                                              Model  Year Status  \\\n",
       "0           0                                   Acura TLX A-Spec  2022    New   \n",
       "1           1                                   Acura RDX A-Spec  2023    New   \n",
       "2           2                                   Acura TLX Type S  2023    New   \n",
       "3           3                                   Acura TLX Type S  2023    New   \n",
       "4           4   Acura MDX Sport Hybrid 3.0L w/Technology Package  2019   Used   \n",
       "\n",
       "         Mileage    Price             MSRP  brand  \\\n",
       "0  Not available  $49,445     MSRP $49,445  Acura   \n",
       "1  Not available  $50,895    Not specified  Acura   \n",
       "2  Not available  $57,745    Not specified  Acura   \n",
       "3  Not available  $57,545    Not specified  Acura   \n",
       "4     32,675 mi.  $40,990  $600 price drop  Acura   \n",
       "\n",
       "                                        model  \n",
       "0                                  TLX A-Spec  \n",
       "1                                  RDX A-Spec  \n",
       "2                                  TLX Type S  \n",
       "3                                  TLX Type S  \n",
       "4  MDX Sport Hybrid 3.0L w/Technology Package  "
      ]
     },
     "execution_count": 217,
     "metadata": {},
     "output_type": "execute_result"
    }
   ],
   "source": [
    "car.head()"
   ]
  },
  {
   "cell_type": "code",
   "execution_count": null,
   "metadata": {},
   "outputs": [],
   "source": [
    "car.info()"
   ]
  },
  {
   "cell_type": "markdown",
   "metadata": {},
   "source": [
    "### colocar as colunas 'brand' e 'model' como no dataset do projeto"
   ]
  },
  {
   "cell_type": "code",
   "execution_count": 202,
   "metadata": {},
   "outputs": [],
   "source": [
    "car['Model'] = car['Model'].str[4:] "
   ]
  },
  {
   "cell_type": "code",
   "execution_count": 203,
   "metadata": {},
   "outputs": [],
   "source": [
    "car['brand'] = car['Model'].str.split().str[0]\n",
    "car['model'] = car['Model'].str.split(n=1).str[1]"
   ]
  },
  {
   "cell_type": "code",
   "execution_count": 204,
   "metadata": {},
   "outputs": [],
   "source": [
    "New_Prices = car[car['Status'] == 'New'] # pegar nos carros novos"
   ]
  },
  {
   "cell_type": "markdown",
   "metadata": {},
   "source": [
    "### transformar o nome da coluna do ano do carro para combinar com o dataset do projeto\n"
   ]
  },
  {
   "cell_type": "code",
   "execution_count": 205,
   "metadata": {},
   "outputs": [
    {
     "name": "stderr",
     "output_type": "stream",
     "text": [
      "C:\\Users\\elisa\\AppData\\Local\\Temp\\ipykernel_5320\\481542589.py:2: SettingWithCopyWarning: \n",
      "A value is trying to be set on a copy of a slice from a DataFrame\n",
      "\n",
      "See the caveats in the documentation: https://pandas.pydata.org/pandas-docs/stable/user_guide/indexing.html#returning-a-view-versus-a-copy\n",
      "  New_Prices.rename(columns={'Year': 'model_year'}, inplace=True)\n"
     ]
    }
   ],
   "source": [
    "New_Prices.rename(columns={'Year': 'model_year'}, inplace=True)"
   ]
  },
  {
   "cell_type": "code",
   "execution_count": 139,
   "metadata": {},
   "outputs": [
    {
     "name": "stdout",
     "output_type": "stream",
     "text": [
      "<class 'pandas.core.frame.DataFrame'>\n",
      "Index: 47852 entries, 0 to 115760\n",
      "Data columns (total 4 columns):\n",
      " #   Column      Non-Null Count  Dtype \n",
      "---  ------      --------------  ----- \n",
      " 0   model_year  47852 non-null  int64 \n",
      " 1   Price       47852 non-null  object\n",
      " 2   brand       47852 non-null  object\n",
      " 3   model       47852 non-null  object\n",
      "dtypes: int64(1), object(3)\n",
      "memory usage: 1.8+ MB\n"
     ]
    }
   ],
   "source": [
    "# New_Prices = New_Prices.drop(columns=['Unnamed: 0', 'Model', 'Status', 'MSRP', 'Mileage'])\n",
    "New_Prices.head()\n",
    "New_Prices.info()"
   ]
  },
  {
   "cell_type": "markdown",
   "metadata": {},
   "source": [
    "### transformar o preço para inteiro e remover carateres inúteis"
   ]
  },
  {
   "cell_type": "code",
   "execution_count": 206,
   "metadata": {},
   "outputs": [
    {
     "name": "stderr",
     "output_type": "stream",
     "text": [
      "C:\\Users\\elisa\\AppData\\Local\\Temp\\ipykernel_5320\\1486477273.py:2: SettingWithCopyWarning: \n",
      "A value is trying to be set on a copy of a slice from a DataFrame.\n",
      "Try using .loc[row_indexer,col_indexer] = value instead\n",
      "\n",
      "See the caveats in the documentation: https://pandas.pydata.org/pandas-docs/stable/user_guide/indexing.html#returning-a-view-versus-a-copy\n",
      "  New_Prices['Price'] = New_Prices['Price'].str.replace('$', '').str.replace(',', '')\n"
     ]
    }
   ],
   "source": [
    "New_Prices['Price'] = New_Prices['Price'].str.replace('$', '').str.replace(',', '')"
   ]
  },
  {
   "cell_type": "code",
   "execution_count": 207,
   "metadata": {},
   "outputs": [
    {
     "name": "stderr",
     "output_type": "stream",
     "text": [
      "C:\\Users\\elisa\\AppData\\Local\\Temp\\ipykernel_5320\\289901451.py:4: SettingWithCopyWarning: \n",
      "A value is trying to be set on a copy of a slice from a DataFrame.\n",
      "Try using .loc[row_indexer,col_indexer] = value instead\n",
      "\n",
      "See the caveats in the documentation: https://pandas.pydata.org/pandas-docs/stable/user_guide/indexing.html#returning-a-view-versus-a-copy\n",
      "  New_Prices['Price'] = pd.to_numeric(New_Prices['Price'], errors='coerce')\n",
      "C:\\Users\\elisa\\AppData\\Local\\Temp\\ipykernel_5320\\289901451.py:5: SettingWithCopyWarning: \n",
      "A value is trying to be set on a copy of a slice from a DataFrame\n",
      "\n",
      "See the caveats in the documentation: https://pandas.pydata.org/pandas-docs/stable/user_guide/indexing.html#returning-a-view-versus-a-copy\n",
      "  New_Prices.dropna(subset=['Price'], inplace=True)\n",
      "C:\\Users\\elisa\\AppData\\Local\\Temp\\ipykernel_5320\\289901451.py:6: SettingWithCopyWarning: \n",
      "A value is trying to be set on a copy of a slice from a DataFrame.\n",
      "Try using .loc[row_indexer,col_indexer] = value instead\n",
      "\n",
      "See the caveats in the documentation: https://pandas.pydata.org/pandas-docs/stable/user_guide/indexing.html#returning-a-view-versus-a-copy\n",
      "  New_Prices['Price'] = New_Prices['Price'].astype(int)\n"
     ]
    }
   ],
   "source": [
    "New_Prices['Price'] = pd.to_numeric(New_Prices['Price'], errors='coerce')\n",
    "New_Prices.dropna(subset=['Price'], inplace=True)\n",
    "New_Prices['Price'] = New_Prices['Price'].astype(int)\n"
   ]
  },
  {
   "cell_type": "markdown",
   "metadata": {},
   "source": [
    "### fazer a média para carros da mesma marca e ano mas com preços diferentes"
   ]
  },
  {
   "cell_type": "code",
   "execution_count": 208,
   "metadata": {},
   "outputs": [
    {
     "name": "stdout",
     "output_type": "stream",
     "text": [
      "<class 'pandas.core.frame.DataFrame'>\n",
      "RangeIndex: 1474 entries, 0 to 1473\n",
      "Data columns (total 4 columns):\n",
      " #   Column      Non-Null Count  Dtype  \n",
      "---  ------      --------------  -----  \n",
      " 0   brand       1474 non-null   object \n",
      " 1   model       1474 non-null   object \n",
      " 2   model_year  1474 non-null   int64  \n",
      " 3   Price       1474 non-null   float64\n",
      "dtypes: float64(1), int64(1), object(2)\n",
      "memory usage: 46.2+ KB\n"
     ]
    }
   ],
   "source": [
    "mean_new_car_prices = New_Prices.groupby(['brand', 'model', 'model_year'])['Price'].mean().reset_index()\n",
    "mean_new_car_prices.head()\n",
    "mean_new_car_prices.info()"
   ]
  },
  {
   "cell_type": "markdown",
   "metadata": {},
   "source": [
    "### juntar dataset projeto com o preço dos carros novos"
   ]
  },
  {
   "cell_type": "code",
   "execution_count": 209,
   "metadata": {},
   "outputs": [],
   "source": [
    "merged_df = pd.merge(projet, mean_new_car_prices, on=['brand', 'model', 'model_year'], how='inner')"
   ]
  },
  {
   "cell_type": "code",
   "execution_count": 175,
   "metadata": {},
   "outputs": [
    {
     "data": {
      "text/html": [
       "<div>\n",
       "<style scoped>\n",
       "    .dataframe tbody tr th:only-of-type {\n",
       "        vertical-align: middle;\n",
       "    }\n",
       "\n",
       "    .dataframe tbody tr th {\n",
       "        vertical-align: top;\n",
       "    }\n",
       "\n",
       "    .dataframe thead th {\n",
       "        text-align: right;\n",
       "    }\n",
       "</style>\n",
       "<table border=\"1\" class=\"dataframe\">\n",
       "  <thead>\n",
       "    <tr style=\"text-align: right;\">\n",
       "      <th></th>\n",
       "      <th>brand</th>\n",
       "      <th>model</th>\n",
       "      <th>model_year</th>\n",
       "      <th>milage</th>\n",
       "      <th>fuel_type</th>\n",
       "      <th>engine</th>\n",
       "      <th>transmission</th>\n",
       "      <th>ext_col</th>\n",
       "      <th>int_col</th>\n",
       "      <th>accident</th>\n",
       "      <th>clean_title</th>\n",
       "      <th>price</th>\n",
       "      <th>Price</th>\n",
       "    </tr>\n",
       "  </thead>\n",
       "  <tbody>\n",
       "    <tr>\n",
       "      <th>0</th>\n",
       "      <td>Lexus</td>\n",
       "      <td>LC 500 Base</td>\n",
       "      <td>2022</td>\n",
       "      <td>2,071 mi.</td>\n",
       "      <td>Gasoline</td>\n",
       "      <td>5.0L V8 32V PDI DOHC</td>\n",
       "      <td>Automatic</td>\n",
       "      <td>Nightfall Mica</td>\n",
       "      <td>Caramel</td>\n",
       "      <td>None reported</td>\n",
       "      <td>NaN</td>\n",
       "      <td>99950</td>\n",
       "      <td>110938.333333</td>\n",
       "    </tr>\n",
       "    <tr>\n",
       "      <th>1</th>\n",
       "      <td>Acura</td>\n",
       "      <td>MDX Technology</td>\n",
       "      <td>2022</td>\n",
       "      <td>15,895 mi.</td>\n",
       "      <td>Gasoline</td>\n",
       "      <td>3.5L V6 24V GDI SOHC</td>\n",
       "      <td>10-Speed Automatic</td>\n",
       "      <td>Majestic Black Pearl</td>\n",
       "      <td>Parchment</td>\n",
       "      <td>None reported</td>\n",
       "      <td>NaN</td>\n",
       "      <td>47950</td>\n",
       "      <td>55673.571429</td>\n",
       "    </tr>\n",
       "    <tr>\n",
       "      <th>2</th>\n",
       "      <td>Ford</td>\n",
       "      <td>Explorer Limited</td>\n",
       "      <td>2022</td>\n",
       "      <td>17,500 mi.</td>\n",
       "      <td>Hybrid</td>\n",
       "      <td>318.0HP 3.3L V6 Cylinder Engine Gas/Electric H...</td>\n",
       "      <td>10-Speed A/T</td>\n",
       "      <td>White</td>\n",
       "      <td>Black</td>\n",
       "      <td>None reported</td>\n",
       "      <td>Yes</td>\n",
       "      <td>46000</td>\n",
       "      <td>52050.652174</td>\n",
       "    </tr>\n",
       "    <tr>\n",
       "      <th>3</th>\n",
       "      <td>INFINITI</td>\n",
       "      <td>QX80 SENSORY</td>\n",
       "      <td>2022</td>\n",
       "      <td>26,520 mi.</td>\n",
       "      <td>Gasoline</td>\n",
       "      <td>400.0HP 5.6L 8 Cylinder Engine Gasoline Fuel</td>\n",
       "      <td>7-Speed A/T</td>\n",
       "      <td>Blue</td>\n",
       "      <td>Brown</td>\n",
       "      <td>At least 1 accident or damage reported</td>\n",
       "      <td>Yes</td>\n",
       "      <td>64000</td>\n",
       "      <td>84444.444444</td>\n",
       "    </tr>\n",
       "    <tr>\n",
       "      <th>4</th>\n",
       "      <td>Dodge</td>\n",
       "      <td>Charger SRT Hellcat Widebody</td>\n",
       "      <td>2023</td>\n",
       "      <td>5,000 mi.</td>\n",
       "      <td>Gasoline</td>\n",
       "      <td>717.0HP 6.2L 8 Cylinder Engine Gasoline Fuel</td>\n",
       "      <td>Transmission w/Dual Shift Mode</td>\n",
       "      <td>Gray</td>\n",
       "      <td>Black</td>\n",
       "      <td>None reported</td>\n",
       "      <td>Yes</td>\n",
       "      <td>110000</td>\n",
       "      <td>96864.416667</td>\n",
       "    </tr>\n",
       "  </tbody>\n",
       "</table>\n",
       "</div>"
      ],
      "text/plain": [
       "      brand                         model  model_year      milage fuel_type  \\\n",
       "0     Lexus                   LC 500 Base        2022   2,071 mi.  Gasoline   \n",
       "1     Acura                MDX Technology        2022  15,895 mi.  Gasoline   \n",
       "2      Ford              Explorer Limited        2022  17,500 mi.    Hybrid   \n",
       "3  INFINITI                  QX80 SENSORY        2022  26,520 mi.  Gasoline   \n",
       "4     Dodge  Charger SRT Hellcat Widebody        2023   5,000 mi.  Gasoline   \n",
       "\n",
       "                                              engine  \\\n",
       "0                               5.0L V8 32V PDI DOHC   \n",
       "1                               3.5L V6 24V GDI SOHC   \n",
       "2  318.0HP 3.3L V6 Cylinder Engine Gas/Electric H...   \n",
       "3       400.0HP 5.6L 8 Cylinder Engine Gasoline Fuel   \n",
       "4       717.0HP 6.2L 8 Cylinder Engine Gasoline Fuel   \n",
       "\n",
       "                     transmission               ext_col    int_col  \\\n",
       "0                       Automatic        Nightfall Mica    Caramel   \n",
       "1              10-Speed Automatic  Majestic Black Pearl  Parchment   \n",
       "2                    10-Speed A/T                 White      Black   \n",
       "3                     7-Speed A/T                  Blue      Brown   \n",
       "4  Transmission w/Dual Shift Mode                  Gray      Black   \n",
       "\n",
       "                                 accident clean_title   price          Price  \n",
       "0                           None reported         NaN   99950  110938.333333  \n",
       "1                           None reported         NaN   47950   55673.571429  \n",
       "2                           None reported         Yes   46000   52050.652174  \n",
       "3  At least 1 accident or damage reported         Yes   64000   84444.444444  \n",
       "4                           None reported         Yes  110000   96864.416667  "
      ]
     },
     "execution_count": 175,
     "metadata": {},
     "output_type": "execute_result"
    }
   ],
   "source": [
    "merged_df.head()"
   ]
  },
  {
   "cell_type": "code",
   "execution_count": 210,
   "metadata": {},
   "outputs": [
    {
     "name": "stdout",
     "output_type": "stream",
     "text": [
      "<class 'pandas.core.frame.DataFrame'>\n",
      "RangeIndex: 204 entries, 0 to 203\n",
      "Data columns (total 13 columns):\n",
      " #   Column        Non-Null Count  Dtype  \n",
      "---  ------        --------------  -----  \n",
      " 0   brand         204 non-null    object \n",
      " 1   model         204 non-null    object \n",
      " 2   model_year    204 non-null    int64  \n",
      " 3   milage        204 non-null    object \n",
      " 4   fuel_type     188 non-null    object \n",
      " 5   engine        204 non-null    object \n",
      " 6   transmission  204 non-null    object \n",
      " 7   ext_col       204 non-null    object \n",
      " 8   int_col       204 non-null    object \n",
      " 9   accident      197 non-null    object \n",
      " 10  clean_title   153 non-null    object \n",
      " 11  price         204 non-null    int64  \n",
      " 12  Price         204 non-null    float64\n",
      "dtypes: float64(1), int64(2), object(10)\n",
      "memory usage: 20.8+ KB\n"
     ]
    }
   ],
   "source": [
    "merged_df.info()"
   ]
  },
  {
   "cell_type": "markdown",
   "metadata": {},
   "source": [
    "### não precisa disto, era só para verificar que tem marcas de carros do projeto que não estão no dataset novo"
   ]
  },
  {
   "cell_type": "code",
   "execution_count": 211,
   "metadata": {},
   "outputs": [],
   "source": [
    "merged_result = pd.merge(projet, mean_new_car_prices, on=['brand', 'model', 'model_year'], how='left', indicator=True)"
   ]
  },
  {
   "cell_type": "code",
   "execution_count": 212,
   "metadata": {},
   "outputs": [],
   "source": [
    "not_in_merged = merged_result[merged_result['_merge'] == 'left_only']\n",
    "# Drop the indicator column if needed\n",
    "# not_in_merged = not_in_merged.drop('_merge', axis=1)"
   ]
  },
  {
   "cell_type": "code",
   "execution_count": 213,
   "metadata": {},
   "outputs": [
    {
     "data": {
      "text/plain": [
       "array(['Jeep', 'Toyota', 'Subaru', 'Lexus', 'Ford', 'Nissan', 'MINI',\n",
       "       'Mazda', 'Mercedes-Benz', 'Dodge', 'Tesla', 'Audi', 'Lincoln',\n",
       "       'Volkswagen', 'INFINITI', 'RAM', 'Hyundai', 'Acura', 'Rolls-Royce',\n",
       "       'Jaguar', 'Porsche', 'Aston', 'Maserati', 'Land', 'BMW', 'Honda',\n",
       "       'Kia', 'GMC', 'Chrysler', 'Buick', 'Cadillac', 'Chevrolet',\n",
       "       'Rivian', 'Pontiac', 'Hummer', 'Mitsubishi', 'Volvo', 'Genesis',\n",
       "       'Bentley', 'Alfa', 'Lamborghini', 'Ferrari', 'Lotus', 'McLaren',\n",
       "       'Saturn', 'Saab', 'Lucid', 'FIAT', 'Polestar', 'Scion', 'Maybach',\n",
       "       'smart', 'Bugatti', 'Mercury', 'Suzuki', 'Karma'], dtype=object)"
      ]
     },
     "execution_count": 213,
     "metadata": {},
     "output_type": "execute_result"
    }
   ],
   "source": [
    "not_in_merged['brand'].unique()"
   ]
  },
  {
   "cell_type": "code",
   "execution_count": 196,
   "metadata": {},
   "outputs": [
    {
     "data": {
      "text/html": [
       "<div>\n",
       "<style scoped>\n",
       "    .dataframe tbody tr th:only-of-type {\n",
       "        vertical-align: middle;\n",
       "    }\n",
       "\n",
       "    .dataframe tbody tr th {\n",
       "        vertical-align: top;\n",
       "    }\n",
       "\n",
       "    .dataframe thead th {\n",
       "        text-align: right;\n",
       "    }\n",
       "</style>\n",
       "<table border=\"1\" class=\"dataframe\">\n",
       "  <thead>\n",
       "    <tr style=\"text-align: right;\">\n",
       "      <th></th>\n",
       "      <th>brand</th>\n",
       "      <th>model</th>\n",
       "      <th>model_year</th>\n",
       "      <th>milage</th>\n",
       "      <th>fuel_type</th>\n",
       "      <th>engine</th>\n",
       "      <th>transmission</th>\n",
       "      <th>ext_col</th>\n",
       "      <th>int_col</th>\n",
       "      <th>accident</th>\n",
       "      <th>clean_title</th>\n",
       "      <th>price</th>\n",
       "      <th>Price</th>\n",
       "      <th>_merge</th>\n",
       "    </tr>\n",
       "  </thead>\n",
       "  <tbody>\n",
       "    <tr>\n",
       "      <th>1</th>\n",
       "      <td>Toyota</td>\n",
       "      <td>Highlander XLE</td>\n",
       "      <td>2015</td>\n",
       "      <td>68,575 mi.</td>\n",
       "      <td>Gasoline</td>\n",
       "      <td>270.0HP 3.5L V6 Cylinder Engine Gasoline Fuel</td>\n",
       "      <td>A/T</td>\n",
       "      <td>Silver</td>\n",
       "      <td>Gray</td>\n",
       "      <td>At least 1 accident or damage reported</td>\n",
       "      <td>Yes</td>\n",
       "      <td>26000</td>\n",
       "      <td>NaN</td>\n",
       "      <td>left_only</td>\n",
       "    </tr>\n",
       "    <tr>\n",
       "      <th>2</th>\n",
       "      <td>Toyota</td>\n",
       "      <td>Camry Hybrid XLE</td>\n",
       "      <td>2018</td>\n",
       "      <td>69,641 mi.</td>\n",
       "      <td>Hybrid</td>\n",
       "      <td>208.0HP 2.5L 4 Cylinder Engine Gas/Electric Hy...</td>\n",
       "      <td>CVT Transmission</td>\n",
       "      <td>White</td>\n",
       "      <td>Black</td>\n",
       "      <td>At least 1 accident or damage reported</td>\n",
       "      <td>Yes</td>\n",
       "      <td>23995</td>\n",
       "      <td>NaN</td>\n",
       "      <td>left_only</td>\n",
       "    </tr>\n",
       "    <tr>\n",
       "      <th>12</th>\n",
       "      <td>Toyota</td>\n",
       "      <td>Camry Hybrid Base</td>\n",
       "      <td>2007</td>\n",
       "      <td>53,249 mi.</td>\n",
       "      <td>Hybrid</td>\n",
       "      <td>147.0HP 2.4L 4 Cylinder Engine Gas/Electric Hy...</td>\n",
       "      <td>A/T</td>\n",
       "      <td>Silver</td>\n",
       "      <td>Gray</td>\n",
       "      <td>At least 1 accident or damage reported</td>\n",
       "      <td>Yes</td>\n",
       "      <td>9250</td>\n",
       "      <td>NaN</td>\n",
       "      <td>left_only</td>\n",
       "    </tr>\n",
       "    <tr>\n",
       "      <th>30</th>\n",
       "      <td>Toyota</td>\n",
       "      <td>Highlander XLE</td>\n",
       "      <td>2018</td>\n",
       "      <td>74,000 mi.</td>\n",
       "      <td>Gasoline</td>\n",
       "      <td>295.0HP 3.5L V6 Cylinder Engine Gasoline Fuel</td>\n",
       "      <td>8-Speed A/T</td>\n",
       "      <td>White</td>\n",
       "      <td>Black</td>\n",
       "      <td>None reported</td>\n",
       "      <td>Yes</td>\n",
       "      <td>27950</td>\n",
       "      <td>NaN</td>\n",
       "      <td>left_only</td>\n",
       "    </tr>\n",
       "    <tr>\n",
       "      <th>36</th>\n",
       "      <td>Toyota</td>\n",
       "      <td>Tundra SR5</td>\n",
       "      <td>2020</td>\n",
       "      <td>26,300 mi.</td>\n",
       "      <td>Gasoline</td>\n",
       "      <td>381.0HP 5.7L 8 Cylinder Engine Gasoline Fuel</td>\n",
       "      <td>6-Speed A/T</td>\n",
       "      <td>Gray</td>\n",
       "      <td>Gray</td>\n",
       "      <td>At least 1 accident or damage reported</td>\n",
       "      <td>Yes</td>\n",
       "      <td>46199</td>\n",
       "      <td>NaN</td>\n",
       "      <td>left_only</td>\n",
       "    </tr>\n",
       "  </tbody>\n",
       "</table>\n",
       "</div>"
      ],
      "text/plain": [
       "     brand              model  model_year      milage fuel_type  \\\n",
       "1   Toyota     Highlander XLE        2015  68,575 mi.  Gasoline   \n",
       "2   Toyota   Camry Hybrid XLE        2018  69,641 mi.    Hybrid   \n",
       "12  Toyota  Camry Hybrid Base        2007  53,249 mi.    Hybrid   \n",
       "30  Toyota     Highlander XLE        2018  74,000 mi.  Gasoline   \n",
       "36  Toyota         Tundra SR5        2020  26,300 mi.  Gasoline   \n",
       "\n",
       "                                               engine      transmission  \\\n",
       "1       270.0HP 3.5L V6 Cylinder Engine Gasoline Fuel               A/T   \n",
       "2   208.0HP 2.5L 4 Cylinder Engine Gas/Electric Hy...  CVT Transmission   \n",
       "12  147.0HP 2.4L 4 Cylinder Engine Gas/Electric Hy...               A/T   \n",
       "30      295.0HP 3.5L V6 Cylinder Engine Gasoline Fuel       8-Speed A/T   \n",
       "36       381.0HP 5.7L 8 Cylinder Engine Gasoline Fuel       6-Speed A/T   \n",
       "\n",
       "   ext_col int_col                                accident clean_title  price  \\\n",
       "1   Silver    Gray  At least 1 accident or damage reported         Yes  26000   \n",
       "2    White   Black  At least 1 accident or damage reported         Yes  23995   \n",
       "12  Silver    Gray  At least 1 accident or damage reported         Yes   9250   \n",
       "30   White   Black                           None reported         Yes  27950   \n",
       "36    Gray    Gray  At least 1 accident or damage reported         Yes  46199   \n",
       "\n",
       "    Price     _merge  \n",
       "1     NaN  left_only  \n",
       "2     NaN  left_only  \n",
       "12    NaN  left_only  \n",
       "30    NaN  left_only  \n",
       "36    NaN  left_only  "
      ]
     },
     "execution_count": 196,
     "metadata": {},
     "output_type": "execute_result"
    }
   ],
   "source": [
    "condition = (not_in_merged['brand'] == 'Toyota') \n",
    "filtered_df = not_in_merged.loc[condition]\n",
    "filtered_df.head()\n",
    "# merged_df.info()"
   ]
  }
 ],
 "metadata": {
  "kernelspec": {
   "display_name": "Python 3",
   "language": "python",
   "name": "python3"
  },
  "language_info": {
   "codemirror_mode": {
    "name": "ipython",
    "version": 3
   },
   "file_extension": ".py",
   "mimetype": "text/x-python",
   "name": "python",
   "nbconvert_exporter": "python",
   "pygments_lexer": "ipython3",
   "version": "3.12.0"
  }
 },
 "nbformat": 4,
 "nbformat_minor": 2
}
