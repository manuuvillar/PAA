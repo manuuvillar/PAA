{
 "cells": [
  {
   "cell_type": "markdown",
   "metadata": {},
   "source": [
    "# Tratamento do Dataset"
   ]
  },
  {
   "cell_type": "code",
   "execution_count": null,
   "metadata": {},
   "outputs": [],
   "source": [
    "# Bibliotecas \n",
    "import pandas as pd\n",
    "import datetime as dt\n",
    "import re\n",
    "import matplotlib.pyplot as plt\n",
    "pd.set_option('display.max_rows', None)\n",
    "data=pd.read_csv('train.csv') # dataset do projeto"
   ]
  },
  {
   "cell_type": "markdown",
   "metadata": {},
   "source": [
    "#### data INFO"
   ]
  },
  {
   "cell_type": "code",
   "execution_count": null,
   "metadata": {},
   "outputs": [],
   "source": [
    "# data.dtypes\n",
    "data.info() #milage\n",
    "# data.head()\n",
    "# data.tail()\n",
    "# data.shape #(3207, 12)\n",
    "# data.nunique() # valores unicos para cada coluna"
   ]
  },
  {
   "cell_type": "code",
   "execution_count": null,
   "metadata": {},
   "outputs": [],
   "source": [
    "# modelo mais antigo e mais novo:\n",
    "antigo=data['model_year'].min()\n",
    "novo=data['model_year'].max()\n",
    "print(antigo,novo)"
   ]
  },
  {
   "cell_type": "markdown",
   "metadata": {},
   "source": [
    "#### correção: 'milage' -> INT"
   ]
  },
  {
   "cell_type": "code",
   "execution_count": null,
   "metadata": {},
   "outputs": [],
   "source": [
    "#milage:\n",
    "valores_corrigidos=[]\n",
    "for milage in data['milage']: # para cada quilometragem do dataset\n",
    "    separa=re.split(r'[ ]',milage) # sepagar o numero do mi\n",
    "    numero=separa[0] # numero\n",
    "    letra=separa[1] # mi\n",
    "    verifica=re.search(r'^[0-9]+[,]?[0-9]+$',numero) # verifica se o numeros sao sempre iguais(com casas decimais ou não)\n",
    "    verifica2=re.search(r'^mi\\.$',letra) # verifica se a letra é sempre mi\n",
    "    if verifica and verifica2: # se seguir o padra numero + mi:\n",
    "        numero=int(re.sub(r',','',numero)) # retira a , dos numeros e passa para inteiro ( estavam em obj)\n",
    "        valores_corrigidos.append(numero)\n",
    "    else: \n",
    "        print(milage,False) # tem dados diferentes no dataset\n",
    "\n",
    "data['milage']=valores_corrigidos"
   ]
  },
  {
   "cell_type": "code",
   "execution_count": null,
   "metadata": {},
   "outputs": [],
   "source": [
    "#verificaçao\n",
    "for m in data['milage']:\n",
    "    if not isinstance(m, (int)):\n",
    "        print('dado incorreto')\n",
    "# tudo certo"
   ]
  },
  {
   "cell_type": "code",
   "execution_count": null,
   "metadata": {},
   "outputs": [],
   "source": [
    "data.describe()"
   ]
  },
  {
   "cell_type": "markdown",
   "metadata": {},
   "source": [
    "#### NULL's"
   ]
  },
  {
   "cell_type": "code",
   "execution_count": null,
   "metadata": {},
   "outputs": [],
   "source": [
    "data.isnull().sum()"
   ]
  },
  {
   "cell_type": "markdown",
   "metadata": {},
   "source": [
    "#### counts"
   ]
  },
  {
   "cell_type": "code",
   "execution_count": null,
   "metadata": {},
   "outputs": [],
   "source": [
    "data['fuel_type'].value_counts() # –  38 ( existem 38 linhas com (-) -> nao se sabe)\n",
    "data['accident'].value_counts()\n",
    "data['clean_title'].value_counts() # Yes -> 2740, os restantes são valores nulos (nan)\n",
    "# data['clean_title'].unique()\n",
    "# verificar outros tipos de dizer valores nulos: ( como (-) por exemplo)\n",
    "data['brand'].value_counts() # tudo certo\n",
    "data['model'].nunique() # tudo certo\n",
    "data['model_year'].value_counts() # tudo certo\n",
    "data['engine'].value_counts() # – 38 -> nao se sabe\n",
    "data['transmission'].value_counts() # 4 -> nao se sabe \n",
    "# data['ext_col'].value_counts()# 11 -> nao se sabe\n",
    "# data['int_col'].value_counts() # 98 -> nao se sabe\n",
    "# for preco in data['price']: # tudo certo\n",
    "#     if not isinstance(preco, int):\n",
    "#         print('erro')"
   ]
  },
  {
   "cell_type": "code",
   "execution_count": null,
   "metadata": {},
   "outputs": [],
   "source": [
    "len(data['milage'])\n",
    "# len(data['milage'].unique())"
   ]
  },
  {
   "cell_type": "markdown",
   "metadata": {},
   "source": [
    "##### --> nº de velocidades na transmissão existentes no dataset"
   ]
  },
  {
   "cell_type": "code",
   "execution_count": null,
   "metadata": {},
   "outputs": [],
   "source": [
    "d2=list(data['transmission'].unique())\n",
    "alls = [int(numero) for string in d2 for numero in re.findall(r'\\d+', string)]\n",
    "list(set(alls))"
   ]
  },
  {
   "cell_type": "markdown",
   "metadata": {},
   "source": [
    "#### verificar significado de '-' e NaN para o tipo de combustível"
   ]
  },
  {
   "cell_type": "code",
   "execution_count": null,
   "metadata": {},
   "outputs": [],
   "source": [
    "len(data.loc[data['fuel_type'] == '–'])"
   ]
  },
  {
   "cell_type": "code",
   "execution_count": null,
   "metadata": {},
   "outputs": [],
   "source": [
    "data.loc[(data['fuel_type'] == '–') & (data['engine'] != '–')] "
   ]
  },
  {
   "cell_type": "markdown",
   "metadata": {},
   "source": [
    "###### OS CARROS PARA OS QUAIS O FUEL_TYPE É '-' NÃO INDICADO, TAMBÉM NÃO SE CONHECE A CONFIGURAÇÃO DO MOTOR"
   ]
  },
  {
   "cell_type": "code",
   "execution_count": null,
   "metadata": {},
   "outputs": [],
   "source": [
    "# VERIFICAR QUE OS CARROS COM NAN NO TIPO DE COMBUSTÍVEL SÃO CARROS ELÉTRICOS\n",
    "elec=data[data['fuel_type'].isnull()]\n",
    "pattern = re.compile(r'\\bElectric\\b', flags=re.IGNORECASE)\n",
    "contains_electric = elec['engine'].str.contains(pattern, na=False)\n",
    "# Selecionar todas as linhas que não contêm 'Electric' na coluna 'engine'\n",
    "elec[~contains_electric]\n",
    "# elec[contains_electric].head(10)"
   ]
  },
  {
   "cell_type": "markdown",
   "metadata": {},
   "source": [
    "###### os carros com NaN para 'fuel_type' são carros elétricos\n",
    "Tesla --> elétrico\n",
    "Standard Range Battery --> elétrico\n",
    "111.2Ah / FR 70kW / RR 160kW (697V) --> especificidade de baterias"
   ]
  },
  {
   "cell_type": "markdown",
   "metadata": {},
   "source": [
    "### gráficos"
   ]
  },
  {
   "cell_type": "markdown",
   "metadata": {},
   "source": [
    "#### BOXPLOT"
   ]
  },
  {
   "cell_type": "code",
   "execution_count": null,
   "metadata": {},
   "outputs": [],
   "source": [
    "data.plot(kind='box',figsize=(15,6),subplots=True) # grafico do codigo acima"
   ]
  },
  {
   "cell_type": "code",
   "execution_count": null,
   "metadata": {},
   "outputs": [],
   "source": [
    "data[data['model_year']<1990] # outlier do 1º gráfico"
   ]
  },
  {
   "cell_type": "code",
   "execution_count": null,
   "metadata": {},
   "outputs": [],
   "source": [
    "data[data['milage']>350000] # outlier do 2º gráfico"
   ]
  },
  {
   "cell_type": "code",
   "execution_count": null,
   "metadata": {},
   "outputs": [],
   "source": [
    "data[data['price']>1500000] # outlier 3º gráfico"
   ]
  },
  {
   "cell_type": "markdown",
   "metadata": {},
   "source": [
    "#### BARPLOT"
   ]
  },
  {
   "cell_type": "code",
   "execution_count": null,
   "metadata": {},
   "outputs": [],
   "source": [
    "import matplotlib.pyplot as plt\n",
    "import pandas as pd\n",
    "\n",
    "# Supondo que 'data' seja seu DataFrame com colunas de atributos e 'preco'\n",
    "# Vamos calcular a média do preço para cada atributo (exceto a última coluna)\n",
    "data['fuel_type'].fillna('Elétrico', inplace=True)\n",
    "\n",
    "# Lista para armazenar os gráficos gerados\n",
    "colunas = ['brand', 'model', 'model_year', 'fuel_type', 'engine', 'transmission', 'ext_col', 'int_col', 'accident', 'clean_title']\n",
    "num_linhas = 3\n",
    "num_colunas = 3\n",
    "\n",
    "fig, axs = plt.subplots(num_linhas, num_colunas, figsize=(15, 10))\n",
    "\n",
    "# Iterar sobre as colunas do DataFrame\n",
    "for i, column in enumerate(colunas[:-1]):\n",
    "    # Calcular a média do preço para cada valor único na coluna\n",
    "    med = data.groupby(column)['price'].mean()\n",
    "    top = med.sort_values(ascending=False).head(10)\n",
    "    \n",
    "    # Truncate long labels and append ellipsis\n",
    "    truncated_labels = [str(val)[:10] + '...' if len(str(val)) > 10 else str(val) for val in top.index]\n",
    "\n",
    "    # Determine the subplot index\n",
    "    linha = i // num_colunas\n",
    "    coluna = i % num_colunas\n",
    "\n",
    "    # Plotar o gráfico de barras para a média do preço por valor\n",
    "    axs[linha, coluna].bar(truncated_labels, top.values, color='deepskyblue')\n",
    "    axs[linha, coluna].set_title(f'Média de Preço por {column.upper()}')\n",
    "    axs[linha, coluna].set_ylabel('Média de Preço')\n",
    "    axs[linha, coluna].tick_params(axis='x', rotation=45)  # Rotacionar rótulos do eixo x\n",
    "\n",
    "# Ajustar o layout para evitar sobreposição\n",
    "plt.tight_layout(rect=[0, 0.1, 1, 2])\n",
    "plt.show()\n"
   ]
  },
  {
   "cell_type": "markdown",
   "metadata": {},
   "source": [
    "#### análise dos modelos com preço mais altos"
   ]
  },
  {
   "cell_type": "code",
   "execution_count": null,
   "metadata": {},
   "outputs": [],
   "source": [
    "d=data.sort_values(by='price', ascending=False).head(10)\n",
    "d[['brand', 'model', 'price']].head(10)"
   ]
  },
  {
   "cell_type": "markdown",
   "metadata": {},
   "source": [
    "#### LINEPLOT"
   ]
  },
  {
   "cell_type": "code",
   "execution_count": null,
   "metadata": {},
   "outputs": [],
   "source": [
    "d = data.groupby('milage')['price'].mean()\n",
    "d=d.sort_index()\n",
    "plt.scatter(d.index, d.values, marker='o', linestyle='-')\n",
    "plt.title('Preço Médio em Função do Número de Quilômetros')\n",
    "plt.xlabel('Quilometragem')\n",
    "plt.ylabel('Preço Médio')\n",
    "plt.xticks(rotation=45)\n",
    "\n",
    "plt.tight_layout()  # Ajuste automático da disposição para evitar sobreposição\n",
    "plt.show()\n"
   ]
  },
  {
   "cell_type": "markdown",
   "metadata": {},
   "source": [
    "#### o preço diminui a medida que o nº de quilometros aumenta"
   ]
  },
  {
   "cell_type": "code",
   "execution_count": null,
   "metadata": {},
   "outputs": [],
   "source": [
    "summary_stats = data.groupby(['brand', 'model_year'])['price'].describe()\n",
    "print(summary_stats)"
   ]
  },
  {
   "cell_type": "markdown",
   "metadata": {},
   "source": [
    "# [ENGINE] novos atributos "
   ]
  },
  {
   "cell_type": "code",
   "execution_count": null,
   "metadata": {},
   "outputs": [],
   "source": [
    "data['Potencia'] = data['engine'].str.extract(r'(\\d+\\.\\d+)HP?')\n",
    "data['Capacidade_Motor'] = data['engine'].str.extract(r'(\\d+\\.\\d+|\\d+)\\s*(?:L|Liter)')\n",
    "data['Numero_Cilindros'] = data['engine'].str.extract(r'(?:V(\\d+)|I-(\\d+)|I(\\d+)|(\\d+) Cylinder)').apply(lambda x: next(filter(lambda y: pd.notna(y), x), None), axis=1)\n",
    "# data['Tipo_Combustivel'] = data['engine'].str.extract(r'(Gasoline Fuel|Flexible Fuel|Electric)')\n",
    "data['Numero_Valvulas'] = data['engine'].str.extract(r'( \\d+)V')\n",
    "\n",
    "data['Potencia'] = pd.to_numeric(data['Potencia'], errors='coerce')\n",
    "data['Capacidade_Motor'] = pd.to_numeric(data['Capacidade_Motor'], errors='coerce')\n",
    "data['Numero_Cilindros'] = pd.to_numeric(data['Numero_Cilindros'], errors='coerce')\n",
    "data['Numero_Valvulas'] = pd.to_numeric(data['Numero_Valvulas'], errors='coerce')"
   ]
  },
  {
   "cell_type": "code",
   "execution_count": null,
   "metadata": {},
   "outputs": [],
   "source": [
    "data.info()"
   ]
  },
  {
   "cell_type": "code",
   "execution_count": null,
   "metadata": {},
   "outputs": [],
   "source": [
    "data[['engine', 'Potencia', 'Capacidade_Motor',  'Numero_Cilindros',  'Numero_Valvulas' ]].head(50)"
   ]
  },
  {
   "cell_type": "code",
   "execution_count": null,
   "metadata": {},
   "outputs": [],
   "source": [
    "d=len(data[data['Numero_Valvulas'].isnull()])\n",
    "d\n",
    "# d[['engine', 'Potencia', 'Capacidade_Motor',  'Numero_Cilindros',  'Numero_Valvulas' ]].head(50)\n",
    "# data[['engine', 'Potencia', 'Capacidade_Motor',  'Numero_Cilindros',  'Numero_Valvulas' ]].head(10)"
   ]
  },
  {
   "cell_type": "markdown",
   "metadata": {},
   "source": [
    "#### BARPLOT"
   ]
  },
  {
   "cell_type": "code",
   "execution_count": null,
   "metadata": {},
   "outputs": [],
   "source": [
    "import matplotlib.pyplot as plt\n",
    "import pandas as pd\n",
    "\n",
    "# Assuming 'data' is your DataFrame with columns of attributes and 'price'\n",
    "# Let's calculate the mean price for each attribute (except the last column)\n",
    "\n",
    "# List to store the generated plots\n",
    "columns = ['Potencia', 'Capacidade_Motor', 'Numero_Cilindros', 'Numero_Valvulas']\n",
    "\n",
    "num_linhas = 2\n",
    "num_colunas = 2\n",
    "\n",
    "fig, axs = plt.subplots(num_linhas, num_colunas, figsize=(10, 5))\n",
    "\n",
    "# Iterar sobre as colunas do DataFrame\n",
    "for i, column in enumerate(columns):\n",
    "    # Calcular a média do preço para cada valor único na coluna\n",
    "    med = data.groupby(column)['price'].mean()\n",
    "    top = med.sort_values(ascending=False).head(13)\n",
    "    \n",
    "    # Truncate long labels and append ellipsis\n",
    "    truncated_labels = [str(val)[:10] + '...' if len(str(val)) > 10 else str(val) for val in top.index]\n",
    "\n",
    "    # Determine the subplot index\n",
    "    linha = i // num_colunas\n",
    "    coluna = i % num_colunas\n",
    "\n",
    "    # Plotar o gráfico de barras para a média do preço por valor\n",
    "    axs[linha, coluna].bar(truncated_labels, top.values, color='blueviolet')\n",
    "    axs[linha, coluna].set_title(f'Média de Preço por {column.upper()}')\n",
    "    axs[linha, coluna].set_ylabel('Média de Preço')\n",
    "    axs[linha, coluna].tick_params(axis='x', rotation=45)  # Rotacionar rótulos do eixo x\n",
    "\n",
    "# Ajustar o layout para evitar sobreposição\n",
    "plt.tight_layout(rect=[0, 0.1, 1, 2])\n",
    "plt.show()"
   ]
  },
  {
   "cell_type": "code",
   "execution_count": null,
   "metadata": {},
   "outputs": [],
   "source": [
    "# data.loc[data['Numero_Valvulas'] == 32]"
   ]
  },
  {
   "cell_type": "code",
   "execution_count": null,
   "metadata": {},
   "outputs": [],
   "source": [
    "len(data['Numero_Valvulas'].unique())\n",
    "sorted(list(data['Numero_Valvulas'].unique()))"
   ]
  },
  {
   "cell_type": "code",
   "execution_count": null,
   "metadata": {},
   "outputs": [],
   "source": [
    "len(data['Numero_Cilindros'].unique())\n",
    "list(sorted(data['Numero_Cilindros'].unique()))"
   ]
  },
  {
   "cell_type": "code",
   "execution_count": null,
   "metadata": {},
   "outputs": [],
   "source": [
    "# len(data['Capacidade_Motor'].unique())\n",
    "#sorted(list(data['Capacidade_Motor'].unique()))"
   ]
  },
  {
   "cell_type": "code",
   "execution_count": null,
   "metadata": {},
   "outputs": [],
   "source": [
    "#sorted(data['Potencia'].unique())"
   ]
  },
  {
   "cell_type": "markdown",
   "metadata": {},
   "source": [
    "# verificação de possíveis valores únicos reportados pela análise do boxplot preço / marca no R"
   ]
  },
  {
   "cell_type": "code",
   "execution_count": null,
   "metadata": {},
   "outputs": [],
   "source": [
    "data.loc[data['brand'] == 'Maybach'].head()"
   ]
  },
  {
   "cell_type": "code",
   "execution_count": null,
   "metadata": {},
   "outputs": [],
   "source": [
    "data.to_csv('train_ccols.csv', index=False)"
   ]
  },
  {
   "cell_type": "markdown",
   "metadata": {},
   "source": [
    "# [SUBSETS] com dataset W/ ENGINE caract-"
   ]
  },
  {
   "cell_type": "code",
   "execution_count": null,
   "metadata": {},
   "outputs": [],
   "source": [
    "import pandas as pd\n",
    "import datetime as dt\n",
    "import re\n",
    "import matplotlib.pyplot as plt\n",
    "pd.set_option('display.max_rows', None)\n",
    "p=pd.read_csv('train_ccols.csv') "
   ]
  },
  {
   "cell_type": "code",
   "execution_count": null,
   "metadata": {},
   "outputs": [],
   "source": [
    "p['brand'].value_counts()"
   ]
  },
  {
   "cell_type": "code",
   "execution_count": null,
   "metadata": {},
   "outputs": [],
   "source": [
    "p.info()"
   ]
  },
  {
   "cell_type": "code",
   "execution_count": null,
   "metadata": {},
   "outputs": [],
   "source": [
    "p.columns"
   ]
  },
  {
   "cell_type": "code",
   "execution_count": null,
   "metadata": {},
   "outputs": [],
   "source": [
    "print(p.duplicated().sum())"
   ]
  },
  {
   "cell_type": "markdown",
   "metadata": {},
   "source": [
    "### Substituir pela mediana :\n",
    "- num valvulas\n",
    "- num cilindros\n",
    "- potencia\n",
    "- capacidade_motor"
   ]
  },
  {
   "cell_type": "code",
   "execution_count": null,
   "metadata": {},
   "outputs": [],
   "source": [
    "m = p['Numero_Valvulas'].median()\n",
    "m2 = p['Numero_Cilindros'].median()\n",
    "m3 = p['Potencia'].median()\n",
    "m4 = p['Capacidade_Motor'].median()\n",
    "\n",
    "p['Numero_Valvulas'].fillna(m, inplace=True)\n",
    "p['Numero_Cilindros'].fillna(m2, inplace=True)\n",
    "p['Potencia'].fillna(m3, inplace=True)\n",
    "p['Capacidade_Motor'].fillna(m4, inplace=True)"
   ]
  },
  {
   "cell_type": "markdown",
   "metadata": {},
   "source": [
    "#### Clean title"
   ]
  },
  {
   "cell_type": "code",
   "execution_count": null,
   "metadata": {},
   "outputs": [],
   "source": [
    "p['clean_title'] = p['clean_title'].fillna('No')"
   ]
  },
  {
   "cell_type": "markdown",
   "metadata": {},
   "source": [
    "### novos atributos (derivações)"
   ]
  },
  {
   "cell_type": "markdown",
   "metadata": {},
   "source": [
    "#### T2"
   ]
  },
  {
   "cell_type": "code",
   "execution_count": null,
   "metadata": {},
   "outputs": [],
   "source": [
    "# import numpy as np\n",
    "p['T2'] = p['transmission'].str.extract(r'(\\d+)')\n",
    "p['T2'] = pd.to_numeric(p['T2'], errors='coerce')\n",
    "m5 = p['T2'].mean() \n",
    "p['T2'].fillna(round(m5), inplace=True)\n",
    "#p.head()\n",
    "#p['T2'].isnull().sum()\n",
    "# p['T2'].unique()"
   ]
  },
  {
   "cell_type": "markdown",
   "metadata": {},
   "source": [
    "#### Categoria_ET (engine + transmission)"
   ]
  },
  {
   "cell_type": "code",
   "execution_count": null,
   "metadata": {},
   "outputs": [],
   "source": [
    "import pandas as pd\n",
    "from sklearn.cluster import KMeans\n",
    "from sklearn.preprocessing import StandardScaler\n",
    "X = p[['Potencia', 'Capacidade_Motor', 'Numero_Cilindros', 'Numero_Valvulas', 'T2']]\n",
    "scaler = StandardScaler()\n",
    "X_scaled = scaler.fit_transform(X)\n",
    "n_clusters = 5\n",
    "\n",
    "# Aplicar o algoritmo K-means para agrupar os carros em clusters\n",
    "kmeans = KMeans(n_clusters=n_clusters, random_state=42)\n",
    "kmeans.fit(X_scaled)\n",
    "\n",
    "# Adicionar uma nova coluna 'Categoria' ao DataFrame com base nos clusters\n",
    "p['Categoria_ET'] = kmeans.labels_\n",
    "# import matplotlib.pyplot as plt\n",
    "\n",
    "# # Contagem de amostras em cada categoria\n",
    "# categoria_counts = p['Categoria_ET'].value_counts().sort_index()\n",
    "\n",
    "# # Criar o gráfico de barras\n",
    "# plt.bar(categoria_counts.index, categoria_counts.values)\n",
    "\n",
    "# # Adicionar rótulos e título\n",
    "# plt.xlabel('Categoria_ET')\n",
    "# plt.ylabel('Número de amostras')\n",
    "# plt.title('Distribuição das Categorias')\n",
    "\n",
    "# Mostrar o gráfico\n",
    "# plt.show()\n",
    "\n",
    "# p['Categoria_ET'].unique()\n"
   ]
  },
  {
   "cell_type": "code",
   "execution_count": null,
   "metadata": {},
   "outputs": [],
   "source": [
    "p.columns"
   ]
  },
  {
   "cell_type": "code",
   "execution_count": null,
   "metadata": {},
   "outputs": [],
   "source": [
    "p.info()"
   ]
  },
  {
   "cell_type": "code",
   "execution_count": null,
   "metadata": {},
   "outputs": [],
   "source": [
    "p['Categoria_ET'] = p['Categoria_ET'].astype('category')"
   ]
  },
  {
   "cell_type": "markdown",
   "metadata": {},
   "source": [
    "#### Categoria Marca"
   ]
  },
  {
   "cell_type": "code",
   "execution_count": null,
   "metadata": {},
   "outputs": [],
   "source": [
    "frequencias = p['brand'].value_counts()\n",
    "\n",
    "# Define os limites das categorias\n",
    "limite_alta = frequencias.quantile(0.75)\n",
    "limite_baixa = frequencias.quantile(0.25)\n",
    "\n",
    "# Função para atribuir categoria com base na frequência\n",
    "def categorizar(frequencia):\n",
    "    if frequencia >= limite_alta:\n",
    "        return 'Alta Frequência Marca'\n",
    "    elif frequencia <= limite_baixa:\n",
    "        return 'Baixa Frequência Marca'\n",
    "    else:\n",
    "        return 'Média Frequência Marca'\n",
    "\n",
    "\n",
    "# Adiciona uma nova coluna 'categoria' ao DataFrame com as categorias das marcas\n",
    "p['Categoria_Marca'] = p['brand'].map(frequencias.apply(categorizar))\n",
    "\n",
    "p['Categoria_Marca'] = p['Categoria_Marca'].astype('category')\n",
    "p['Categoria_Marca'].value_counts()"
   ]
  },
  {
   "cell_type": "markdown",
   "metadata": {},
   "source": [
    "#### Categoria Modelo"
   ]
  },
  {
   "cell_type": "code",
   "execution_count": null,
   "metadata": {},
   "outputs": [],
   "source": [
    "frequencias = p['model'].value_counts()\n",
    "\n",
    "# Define os limites das categorias\n",
    "limite_alta = frequencias.quantile(0.75)\n",
    "limite_baixa = frequencias.quantile(0.25)\n",
    "\n",
    "# Função para atribuir categoria com base na frequência\n",
    "def categorizar(frequencia):\n",
    "    if frequencia >= limite_alta:\n",
    "        return 'Alta Frequência Modelo'\n",
    "    elif frequencia <= limite_baixa:\n",
    "        return 'Baixa Frequência Modelo'\n",
    "    else:\n",
    "        return 'Média Frequência Modelo'\n",
    "\n",
    "\n",
    "# Adiciona uma nova coluna 'categoria' ao DataFrame com as categorias das marcas\n",
    "p['Categoria_Modelo'] = p['model'].map(frequencias.apply(categorizar))\n",
    "p['Categoria_Modelo'] = p['Categoria_Modelo'].astype('category')\n",
    "p['Categoria_Modelo'].value_counts()\n",
    "p['Categoria_Modelo'].unique()"
   ]
  },
  {
   "cell_type": "code",
   "execution_count": null,
   "metadata": {},
   "outputs": [],
   "source": [
    "p.columns"
   ]
  },
  {
   "cell_type": "markdown",
   "metadata": {},
   "source": [
    "#### normalidade das novas colunas (numéricas)"
   ]
  },
  {
   "cell_type": "code",
   "execution_count": null,
   "metadata": {},
   "outputs": [],
   "source": [
    "import matplotlib.pyplot as plt\n",
    "import seaborn as sns\n",
    "import scipy.stats as stats\n",
    "\n",
    "# Lista das colunas numéricas que você deseja analisar\n",
    "colunas_numericas = ['Potencia', 'Capacidade_Motor', 'Numero_Cilindros',\n",
    "       'Numero_Valvulas', 'T2']\n",
    "\n",
    "num_colunas = len(colunas_numericas)\n",
    "fig, axs = plt.subplots(2, num_colunas, figsize=(15, 8))\n",
    "print(f'Teste de Shapiro-Wilk: \\n')\n",
    "\n",
    "# Iterar sobre as colunas numéricas e plotar os gráficos em cada subplot\n",
    "for i, coluna in enumerate(colunas_numericas):\n",
    "    # Histograma\n",
    "    sns.histplot(p[coluna], kde=True, ax=axs[0, i])\n",
    "    axs[0, i].set_title(f'{coluna}')\n",
    "    \n",
    "    # Gráfico QQ\n",
    "    stats.probplot(p[coluna], dist=\"norm\", plot=axs[1, i])\n",
    "    axs[1, i].set_title(f'QQ-plot')\n",
    " \n",
    "    # Teste de Shapiro-Wilk\n",
    "    stat, pv = stats.shapiro(p[coluna])\n",
    "    print(f'{coluna}:')\n",
    "    print(f'Valor p: {pv}')\n",
    "    if pv > 0.05:\n",
    "        print('Não podemos rejeitar a hipótese nula - A distribuição parece normal.')\n",
    "    else:\n",
    "        print('Rejeita-se a hipótese nula -> a distribuição não segue o modelo normal.')\n",
    "    \n",
    "plt.tight_layout()\n",
    "plt.show()\n"
   ]
  },
  {
   "cell_type": "markdown",
   "metadata": {},
   "source": [
    "como se pode observar, nenhum dos novos atributos (numéricos possuem distribuição normal)"
   ]
  },
  {
   "cell_type": "markdown",
   "metadata": {},
   "source": [
    "# subset 1"
   ]
  },
  {
   "cell_type": "markdown",
   "metadata": {},
   "source": [
    "- Substituição de valores nulos e '-' PELA MODA\n",
    "- Remoção outliers LOF\n",
    "- Variavies cat -> numerica"
   ]
  },
  {
   "cell_type": "code",
   "execution_count": null,
   "metadata": {},
   "outputs": [],
   "source": [
    "data1 = p"
   ]
  },
  {
   "cell_type": "code",
   "execution_count": null,
   "metadata": {},
   "outputs": [],
   "source": [
    "data1.describe()"
   ]
  },
  {
   "cell_type": "code",
   "execution_count": null,
   "metadata": {},
   "outputs": [],
   "source": [
    "data1.info()"
   ]
  },
  {
   "cell_type": "code",
   "execution_count": null,
   "metadata": {},
   "outputs": [],
   "source": [
    "data1.head()"
   ]
  },
  {
   "cell_type": "markdown",
   "metadata": {},
   "source": [
    "### NULL's substitution"
   ]
  },
  {
   "cell_type": "code",
   "execution_count": null,
   "metadata": {},
   "outputs": [],
   "source": [
    "data1['fuel_type'].unique()\n",
    "data1['fuel_type'].isnull().sum()\n",
    "data1['fuel_type'].fillna('Eletric', inplace=True)\n",
    "mod = data1['fuel_type'].mode()[0]\n",
    "\n",
    "data1['fuel_type'] = data1['fuel_type'].replace('–', mod)\n",
    "data1['fuel_type'].unique()\n",
    "\n",
    "mod1=data1['accident'].mode()[0]\n",
    "data1['accident'].fillna(mod1, inplace=True)\n",
    "\n",
    "mod3=data1['engine'].mode()[0]\n",
    "data1['engine'] = data1['engine'].replace('–', mod3)\n",
    "\n",
    "mod5=data1['ext_col'].mode()[0]\n",
    "data1['ext_col'] = data1['ext_col'].replace('–', mod5)\n",
    "\n",
    "mod6=data1['int_col'].mode()[0]\n",
    "data1['int_col'] = data1['int_col'].replace('–', mod6)\n",
    "\n",
    "mod7=data1['transmission'].mode()[0]\n",
    "data1['transmission'] = data1['transmission'].replace('–', mod6)"
   ]
  },
  {
   "cell_type": "markdown",
   "metadata": {},
   "source": [
    "#### Categoria cor interna"
   ]
  },
  {
   "cell_type": "code",
   "execution_count": null,
   "metadata": {},
   "outputs": [],
   "source": [
    "frequencias = data1['int_col'].value_counts()\n",
    "\n",
    "# Define os limites das categorias\n",
    "limite_alta = frequencias.quantile(0.75)\n",
    "limite_baixa = frequencias.quantile(0.25)\n",
    "\n",
    "# Função para atribuir categoria com base na frequência\n",
    "def categorizar(frequencia):\n",
    "    if frequencia >= limite_alta:\n",
    "        return 'Alta Frequência ext_col'\n",
    "    elif frequencia <= limite_baixa:\n",
    "        return 'Baixa Frequência ext_col'\n",
    "    elif limite_baixa < frequencia < limite_alta:  # Verifica se a frequência está entre os limites\n",
    "        return 'Média Frequência ext_col'\n",
    "\n",
    "# Adiciona uma nova coluna 'categoria' ao DataFrame com as categorias das marcas\n",
    "data1['Categoria_IntCol'] = data1['int_col'].map(frequencias.apply(categorizar))\n",
    "data1['Categoria_IntCol'] = data1['Categoria_IntCol'].astype('category')\n",
    "data1['Categoria_IntCol'].value_counts()"
   ]
  },
  {
   "cell_type": "code",
   "execution_count": null,
   "metadata": {},
   "outputs": [],
   "source": [
    "data1['ext_col'].unique()"
   ]
  },
  {
   "cell_type": "markdown",
   "metadata": {},
   "source": [
    "##### Categoria cor externa"
   ]
  },
  {
   "cell_type": "code",
   "execution_count": null,
   "metadata": {},
   "outputs": [],
   "source": [
    "frequencias = data1['ext_col'].value_counts()\n",
    "\n",
    "# Define os limites das categorias\n",
    "limite_alta = frequencias.quantile(0.75)\n",
    "limite_baixa = frequencias.quantile(0.25)\n",
    "\n",
    "# Função para atribuir categoria com base na frequência\n",
    "def categorizar(frequencia):\n",
    "    if frequencia >= limite_alta:\n",
    "        return 'Alta Frequência ext_col'\n",
    "    elif frequencia <= limite_baixa:\n",
    "        return 'Baixa Frequência ext_col'\n",
    "    elif limite_baixa < frequencia < limite_alta:  # Verifica se a frequência está entre os limites\n",
    "        return 'Média Frequência ext_col'\n",
    "\n",
    "# Adiciona uma nova coluna 'categoria' ao DataFrame com as categorias das marcas\n",
    "data1['Categoria_ExtCol'] = data1['ext_col'].map(frequencias.apply(categorizar))\n",
    "data1['Categoria_ExtCol'] = data1['Categoria_ExtCol'].astype('category')\n",
    "data1['Categoria_ExtCol'].value_counts()\n",
    "data1['Categoria_ExtCol'].unique()"
   ]
  },
  {
   "cell_type": "markdown",
   "metadata": {},
   "source": [
    "#### Correlações"
   ]
  },
  {
   "cell_type": "code",
   "execution_count": null,
   "metadata": {},
   "outputs": [],
   "source": [
    "import pandas as pd\n",
    "from scipy.stats import spearmanr\n",
    "\n",
    "# Selecionar apenas as variáveis numéricas\n",
    "numeric_df = data1.select_dtypes(include=['int64', 'float64'])\n",
    "\n",
    "# Calcular a correlação de Spearman\n",
    "spearman_corr = numeric_df.corr(method='spearman')\n",
    "\n",
    "# Visualizar a matriz de correlação de Spearman\n",
    "print(\"Matriz de correlação de Spearman:\")\n",
    "print(spearman_corr)\n"
   ]
  },
  {
   "cell_type": "code",
   "execution_count": null,
   "metadata": {},
   "outputs": [],
   "source": [
    "#va's categóricas\n",
    "categorical_columns = data1.select_dtypes(include=['object','category']).columns\n",
    "correlations = {}\n",
    "for column in categorical_columns:\n",
    "    corr, _ = spearmanr(data1[column], data1['price'])\n",
    "    correlations[column] = corr\n",
    "\n",
    "sorted_correlations = sorted(correlations.items(), key=lambda x: x[1], reverse=True)\n",
    "sorted_correlations"
   ]
  },
  {
   "cell_type": "markdown",
   "metadata": {},
   "source": [
    "### Outlier por IQR -> V.a Numéricas"
   ]
  },
  {
   "cell_type": "code",
   "execution_count": null,
   "metadata": {},
   "outputs": [],
   "source": [
    "outlier_indices_dict = {}\n",
    "\n",
    "# Variáveis Numéricas\n",
    "for column in data1.select_dtypes(include=['int64', 'float64']).columns:\n",
    "    Q1 = data1[column].quantile(0.25)\n",
    "    Q3 = data1[column].quantile(0.75)\n",
    "    IQR = Q3 - Q1\n",
    "    \n",
    "    outlier_conditional = ((data1[column] > Q1 - 1.5*IQR) & (data1[column] < Q3 + 1.5*IQR))\n",
    "\n",
    "    outlier_indices_dict[column] = data1.loc[~outlier_conditional].index\n",
    "    \n",
    "    num_outliers = len(data1[~outlier_conditional])\n",
    "    print(f\"Número de outliers em '{column}': {num_outliers}\")"
   ]
  },
  {
   "cell_type": "markdown",
   "metadata": {},
   "source": [
    "###### O número de válvulas têm muito pouca correlação com o preço -> N utiliza-se essa coluna para os cenários!\n",
    "###### Remove-se os 6 registros da capacidade do motor e os 57 com num de cilindros e 376 do T2\n"
   ]
  },
  {
   "cell_type": "markdown",
   "metadata": {},
   "source": [
    "##### Remover registros com outliers (cujo correlação baixa com preço)"
   ]
  },
  {
   "cell_type": "code",
   "execution_count": null,
   "metadata": {},
   "outputs": [],
   "source": [
    "outlier_indices_dict['Capacidade_Motor']\n",
    "outlier_indices_dict['Numero_Cilindros']\n",
    "outlier_indices_dict['T2']\n",
    "\n",
    "data1_s_out = data1.copy()\n",
    "\n",
    "outlier_indices_to_drop = outlier_indices_dict['Capacidade_Motor'].union(outlier_indices_dict['Numero_Cilindros']).union(outlier_indices_dict['T2'])\n",
    "data1_s_out.drop(outlier_indices_to_drop, inplace=True)\n",
    "\n",
    "# Verifica o tamanho do novo conjunto de dados\n",
    "print(\"Número de registros no novo conjunto de dados sem outliers:\", len(data1_s_out))"
   ]
  },
  {
   "cell_type": "code",
   "execution_count": null,
   "metadata": {},
   "outputs": [],
   "source": [
    "data1.to_csv('subset_1.csv', index=False) # sem normalizar com outliers\n",
    "data1_s_out.to_csv('subset_1_s_out.csv', index=False) # sem normalizar sem outliers"
   ]
  },
  {
   "cell_type": "markdown",
   "metadata": {},
   "source": [
    "# subset 2"
   ]
  },
  {
   "cell_type": "markdown",
   "metadata": {},
   "source": [
    "-  substituir '-' por desconhecido\n",
    "- Remoção outliers LOF\n",
    "- Variavies cat -> numerica"
   ]
  },
  {
   "cell_type": "code",
   "execution_count": null,
   "metadata": {},
   "outputs": [],
   "source": [
    "data2=p"
   ]
  },
  {
   "cell_type": "code",
   "execution_count": null,
   "metadata": {},
   "outputs": [],
   "source": [
    "p.columns"
   ]
  },
  {
   "cell_type": "markdown",
   "metadata": {},
   "source": [
    "### NULL's substitution"
   ]
  },
  {
   "cell_type": "markdown",
   "metadata": {},
   "source": [
    "### Fuel Type"
   ]
  },
  {
   "cell_type": "code",
   "execution_count": null,
   "metadata": {},
   "outputs": [],
   "source": [
    "data2['fuel_type'].unique()\n",
    "data2['fuel_type'].isnull().sum()\n",
    "data2['fuel_type'].fillna('Eletric', inplace=True)\n",
    "data2['fuel_type'] = data2['fuel_type'].replace('–', 'desconhecido')"
   ]
  },
  {
   "cell_type": "markdown",
   "metadata": {},
   "source": [
    "#### accident + engine + transmission + ex_col + int_col"
   ]
  },
  {
   "cell_type": "code",
   "execution_count": null,
   "metadata": {},
   "outputs": [],
   "source": [
    "data2['accident'].fillna('desconhecido', inplace=True)\n",
    "data2['engine'] = data2['engine'].replace('–', 'desconhecido')\n",
    "data2['transmission'] = data2['transmission'].replace('–', 'desconhecido')\n",
    "data2['ext_col'] = data2['ext_col'].replace('–', 'desconhecido')\n",
    "data2['int_col'] = data2['int_col'].replace('–', 'desconhecido')\n"
   ]
  },
  {
   "cell_type": "markdown",
   "metadata": {},
   "source": [
    "#### Categoria cor interna"
   ]
  },
  {
   "cell_type": "code",
   "execution_count": null,
   "metadata": {},
   "outputs": [],
   "source": [
    "frequencias = data2['int_col'].value_counts()\n",
    "\n",
    "# Define os limites das categorias\n",
    "limite_alta = frequencias.quantile(0.75)\n",
    "limite_baixa = frequencias.quantile(0.25)\n",
    "\n",
    "# Função para atribuir categoria com base na frequência\n",
    "def categorizar(frequencia):\n",
    "    if frequencia >= limite_alta:\n",
    "        return 'Alta Frequência int_col'\n",
    "    elif frequencia <= limite_baixa:\n",
    "        return 'Baixa Frequência int_col'\n",
    "    else:\n",
    "        return 'Média Frequência int_col'\n",
    "\n",
    "# Adiciona uma nova coluna 'categoria' ao DataFrame com as categorias das marcas\n",
    "data2['Categoria_IntCol'] = data2['int_col'].map(frequencias.apply(categorizar))\n",
    "data2['Categoria_IntCol'] = data2['Categoria_IntCol'].astype('category')\n",
    "data2['Categoria_IntCol'].value_counts()"
   ]
  },
  {
   "cell_type": "markdown",
   "metadata": {},
   "source": [
    "#### Categoria cor externa"
   ]
  },
  {
   "cell_type": "code",
   "execution_count": null,
   "metadata": {},
   "outputs": [],
   "source": [
    "frequencias = data2['ext_col'].value_counts()\n",
    "\n",
    "# Define os limites das categorias\n",
    "limite_alta = frequencias.quantile(0.75)\n",
    "limite_baixa = frequencias.quantile(0.25)\n",
    "\n",
    "# Função para atribuir categoria com base na frequência\n",
    "def categorizar(frequencia):\n",
    "    if frequencia >= limite_alta:\n",
    "        return 'Alta Frequência ext_col'\n",
    "    elif frequencia <= limite_baixa:\n",
    "        return 'Baixa Frequência ext_col'\n",
    "    else:\n",
    "        return 'Média Frequência ext_col'\n",
    "\n",
    "# Adiciona uma nova coluna 'categoria' ao DataFrame com as categorias das marcas\n",
    "data2['Categoria_ExtCol'] = data2['ext_col'].map(frequencias.apply(categorizar))\n",
    "data2['Categoria_ExtCol'] = data2['Categoria_ExtCol'].astype('category')\n",
    "data2['Categoria_ExtCol'].value_counts()"
   ]
  },
  {
   "cell_type": "markdown",
   "metadata": {},
   "source": [
    "### Correlações"
   ]
  },
  {
   "cell_type": "code",
   "execution_count": null,
   "metadata": {},
   "outputs": [],
   "source": [
    "import pandas as pd\n",
    "from scipy.stats import spearmanr\n",
    "\n",
    "# Selecionar apenas as variáveis numéricas\n",
    "numeric_df = data2.select_dtypes(include=['int64', 'float64'])\n",
    "\n",
    "# Calcular a correlação de Spearman\n",
    "spearman_corr = numeric_df.corr(method='spearman')\n",
    "\n",
    "# Visualizar a matriz de correlação de Spearman\n",
    "print(\"Matriz de correlação de Spearman:\")\n",
    "print(spearman_corr)"
   ]
  },
  {
   "cell_type": "code",
   "execution_count": null,
   "metadata": {},
   "outputs": [],
   "source": [
    "#va categorica\n",
    "categorical_columns = data2.select_dtypes(include=['object','category']).columns\n",
    "correlations = {}\n",
    "for column in categorical_columns:\n",
    "    corr, _ = spearmanr(data2[column], data2['price'])\n",
    "    correlations[column] = corr\n",
    "\n",
    "sorted_correlations = sorted(correlations.items(), key=lambda x: x[1], reverse=True)\n",
    "sorted_correlations"
   ]
  },
  {
   "cell_type": "markdown",
   "metadata": {},
   "source": [
    "### Outlier por IQR -> va.'s Numéricas"
   ]
  },
  {
   "cell_type": "code",
   "execution_count": null,
   "metadata": {},
   "outputs": [],
   "source": [
    "# Variáveis Numéricas\n",
    "for column in data2.select_dtypes(include=['int64', 'float64']).columns:\n",
    "    Q1 = data2[column].quantile(0.25)\n",
    "    Q3 = data2[column].quantile(0.75)\n",
    "    IQR = Q3 - Q1\n",
    "    \n",
    "    outlier_conditional = ((data2[column] > Q1 - 1.5*IQR) & (data2[column] < Q3 + 1.5*IQR))\n",
    "    outlier_indices_dict[column] = data2.loc[~outlier_conditional].index\n",
    "    \n",
    "    num_outliers = len(data2[~outlier_conditional])\n",
    "    print(f\"Número de outliers em '{column}': {num_outliers}\")"
   ]
  },
  {
   "cell_type": "markdown",
   "metadata": {},
   "source": [
    "##### Remover registros com outliers (cuja correlação baixa com preço)"
   ]
  },
  {
   "cell_type": "code",
   "execution_count": null,
   "metadata": {},
   "outputs": [],
   "source": [
    "outlier_indices_dict['Capacidade_Motor']\n",
    "outlier_indices_dict['Numero_Cilindros']\n",
    "outlier_indices_dict['T2']\n",
    "\n",
    "data2_s_out = data2.copy()\n",
    "\n",
    "outlier_indices_to_drop = outlier_indices_dict['Capacidade_Motor'].union(outlier_indices_dict['Numero_Cilindros']).union(outlier_indices_dict['T2'])\n",
    "data2_s_out.drop(outlier_indices_to_drop, inplace=True)\n",
    "\n",
    "# Verifica o tamanho do novo conjunto de dados\n",
    "print(\"Número de registros no novo conjunto de dados sem outliers:\", len(data2_s_out))"
   ]
  },
  {
   "cell_type": "code",
   "execution_count": null,
   "metadata": {},
   "outputs": [],
   "source": [
    "data2.to_csv('subset_2.csv', index=False) # sem normalizar com outliers\n",
    "data2_s_out.to_csv('subset_2_s_out.csv', index=False) # sem normalizar sem outliers"
   ]
  },
  {
   "cell_type": "code",
   "execution_count": null,
   "metadata": {},
   "outputs": [],
   "source": [
    "data2.info()"
   ]
  },
  {
   "cell_type": "markdown",
   "metadata": {},
   "source": [
    "# MODELAÇÃO\n",
    "### Como subset 1 é muito parecido com subset 2, só vamos utilizar o subset 1"
   ]
  },
  {
   "cell_type": "code",
   "execution_count": 1,
   "metadata": {},
   "outputs": [
    {
     "name": "stderr",
     "output_type": "stream",
     "text": [
      "C:\\Users\\elisa\\AppData\\Local\\Temp\\ipykernel_2592\\1698566151.py:1: DeprecationWarning: \n",
      "Pyarrow will become a required dependency of pandas in the next major release of pandas (pandas 3.0),\n",
      "(to allow more performant data types, such as the Arrow string type, and better interoperability with other libraries)\n",
      "but was not found to be installed on your system.\n",
      "If this would cause problems for you,\n",
      "please provide us feedback at https://github.com/pandas-dev/pandas/issues/54466\n",
      "        \n",
      "  import pandas as pd\n"
     ]
    }
   ],
   "source": [
    "import pandas as pd\n",
    "subset_1=pd.read_csv('subset_1.csv')\n",
    "subset_1_s_out=pd.read_csv('subset_1_s_out.csv')\n",
    "pd.set_option('display.max_rows', None)"
   ]
  },
  {
   "cell_type": "markdown",
   "metadata": {},
   "source": [
    "## Cenário 1 -> todas as variáveis \n",
    "###### (sem categorias extras (redundância))"
   ]
  },
  {
   "cell_type": "markdown",
   "metadata": {},
   "source": [
    "### com outliers"
   ]
  },
  {
   "cell_type": "code",
   "execution_count": 2,
   "metadata": {},
   "outputs": [],
   "source": [
    "X1 = subset_1[['brand','model','model_year','milage','fuel_type','engine','transmission','ext_col','int_col','accident','clean_title']]\n",
    "y1 = subset_1['price'] \n",
    "X1 = pd.get_dummies(X1, drop_first=True) # para var. categóricas \n",
    "\n",
    "# definir amostra treino e teste\n",
    "from sklearn.model_selection import train_test_split\n",
    "X1_train, X1_test, y1_train, y1_test = train_test_split(X1, y1, test_size=0.2, random_state=42)"
   ]
  },
  {
   "cell_type": "code",
   "execution_count": 3,
   "metadata": {},
   "outputs": [],
   "source": [
    "from sklearn.compose import make_column_transformer\n",
    "from sklearn.preprocessing import StandardScaler, OneHotEncoder\n",
    "import numpy as np\n",
    "\n",
    "features_num=X1.select_dtypes(include=['int64','float64']).columns.tolist()\n",
    "features_cat=X1.select_dtypes(include=['object','category']).columns.tolist()\n",
    "\n",
    "preprocessor = make_column_transformer(\n",
    "    (StandardScaler(), features_num),\n",
    "    (OneHotEncoder(), features_cat),\n",
    ")\n",
    "\n",
    "# normalizar\n",
    "X1_train_norm = preprocessor.fit_transform(X1_train)\n",
    "X1_test_norm = preprocessor.transform(X1_test)\n",
    "\n",
    "# logaritmizar\n",
    "y1_train_log = np.log(y1_train)\n",
    "y1_test_log = np.log(y1_test)"
   ]
  },
  {
   "cell_type": "markdown",
   "metadata": {},
   "source": [
    "### sem outliers"
   ]
  },
  {
   "cell_type": "code",
   "execution_count": null,
   "metadata": {},
   "outputs": [],
   "source": [
    "X1out = subset_1_s_out[['brand','model','model_year','milage','fuel_type','engine','transmission','ext_col','int_col','accident','clean_title']]\n",
    "y1out = subset_1_s_out['price'] \n",
    "X1out = pd.get_dummies(X1out, drop_first=True) # para var. categóricas \n",
    "\n",
    "from sklearn.model_selection import train_test_split\n",
    "X1out_train, X1out_test, y1out_train, y1out_test = train_test_split(X1out, y1out, test_size=0.2, random_state=42)"
   ]
  },
  {
   "cell_type": "markdown",
   "metadata": {},
   "source": [
    "#### normalizados e label logaritmizada"
   ]
  },
  {
   "cell_type": "code",
   "execution_count": null,
   "metadata": {},
   "outputs": [],
   "source": [
    "from sklearn.compose import make_column_transformer\n",
    "from sklearn.preprocessing import StandardScaler, OneHotEncoder\n",
    "import numpy as np\n",
    "\n",
    "features_num=X1out.select_dtypes(include=['int64','float64']).columns.tolist()\n",
    "features_cat=X1out.select_dtypes(include=['object','category']).columns.tolist()\n",
    "\n",
    "preprocessor = make_column_transformer(\n",
    "    (StandardScaler(), features_num),\n",
    "    (OneHotEncoder(), features_cat),\n",
    ")\n",
    "\n",
    "# normalizar\n",
    "X1out_train_norm = preprocessor.fit_transform(X1out_train) \n",
    "X1out_test_norm = preprocessor.transform(X1out_test)\n",
    "# logaritmizar\n",
    "y1out_train_log = np.log(y1out_train) # »»» mudei y1_train para y1out_train «««\n",
    "y1out_test_log = np.log(y1out_test) # »»» y1_train para y1out_test «««"
   ]
  },
  {
   "cell_type": "markdown",
   "metadata": {},
   "source": [
    "# Cenário 2 (todas as variáveis (categorias))"
   ]
  },
  {
   "cell_type": "markdown",
   "metadata": {},
   "source": [
    "#### com outliers"
   ]
  },
  {
   "cell_type": "code",
   "execution_count": null,
   "metadata": {},
   "outputs": [],
   "source": [
    "X1 = subset_1[['model_year', 'milage', 'fuel_type', 'accident', 'clean_title', 'Categoria_ET', 'Categoria_Marca', 'Categoria_Modelo', 'Categoria_IntCol', 'Categoria_ExtCol']]\n",
    "y1 = subset_1['price'] \n",
    "X1 = pd.get_dummies(X1, drop_first=True) # para var. categóricas \n",
    "\n",
    "from sklearn.model_selection import train_test_split\n",
    "X1_train, X1_test, y1_train, y1_test = train_test_split(X1, y1, test_size=0.2, random_state=42)"
   ]
  },
  {
   "cell_type": "markdown",
   "metadata": {},
   "source": [
    "#### Normalização + label logaritmizada"
   ]
  },
  {
   "cell_type": "code",
   "execution_count": null,
   "metadata": {},
   "outputs": [],
   "source": [
    "from sklearn.compose import make_column_transformer\n",
    "from sklearn.preprocessing import StandardScaler, OneHotEncoder\n",
    "import numpy as np\n",
    "\n",
    "features_num=X1.select_dtypes(include=['int64','float64']).columns.tolist()\n",
    "features_cat=X1.select_dtypes(include=['object','category']).columns.tolist()\n",
    "\n",
    "preprocessor = make_column_transformer(\n",
    "    (StandardScaler(), features_num),\n",
    "    (OneHotEncoder(), features_cat),\n",
    ")\n",
    "\n",
    "X1_train_norm = preprocessor.fit_transform(X1_train)\n",
    "X1_test_norm = preprocessor.transform(X1_test)\n",
    "\n",
    "y1_train_log = np.log(y1_train)\n",
    "y1_test_log = np.log(y1_test)"
   ]
  },
  {
   "cell_type": "markdown",
   "metadata": {},
   "source": [
    "#### sem outlier"
   ]
  },
  {
   "cell_type": "code",
   "execution_count": null,
   "metadata": {},
   "outputs": [],
   "source": [
    "X2out = subset_1_s_out[['model_year','milage','fuel_type','accident','clean_title','Categoria_ET','Categoria_Marca','Categoria_Modelo','Categoria_IntCol','Categoria_ExtCol']]  \n",
    "y2out = subset_1_s_out['price'] \n",
    "\n",
    "from sklearn.model_selection import train_test_split\n",
    "X2out_train, X2out_test, y2out_train, y2out_test = train_test_split(X2out, y2out, test_size=0.2, random_state=42)"
   ]
  },
  {
   "cell_type": "code",
   "execution_count": null,
   "metadata": {},
   "outputs": [],
   "source": [
    "from sklearn.compose import make_column_transformer\n",
    "from sklearn.preprocessing import StandardScaler, OneHotEncoder\n",
    "import numpy as np\n",
    "\n",
    "features_num=X2.select_dtypes(include=['int64','float64']).columns.tolist()\n",
    "features_cat=X2.select_dtypes(include=['object','category']).columns.tolist()\n",
    "\n",
    "preprocessor = make_column_transformer(\n",
    "    (StandardScaler(), features_num),\n",
    "    (OneHotEncoder(), features_cat),\n",
    ")\n",
    "\n",
    "X2out_train_norm = preprocessor.fit_transform(X2_train)\n",
    "X2out_valid_norm = preprocessor.transform(X2_test)\n",
    "y2out_train_log = np.log(y2_train)\n",
    "y2out_test_log = np.log(y2_test)"
   ]
  },
  {
   "cell_type": "markdown",
   "metadata": {},
   "source": [
    "# previsões"
   ]
  },
  {
   "cell_type": "markdown",
   "metadata": {},
   "source": [
    "### Separar Data / Treinar e Avaliar Algoritmos"
   ]
  },
  {
   "cell_type": "code",
   "execution_count": 9,
   "metadata": {},
   "outputs": [
    {
     "name": "stderr",
     "output_type": "stream",
     "text": [
      "c:\\Users\\elisa\\AppData\\Local\\Programs\\Python\\Python312\\Lib\\site-packages\\tqdm\\auto.py:21: TqdmWarning: IProgress not found. Please update jupyter and ipywidgets. See https://ipywidgets.readthedocs.io/en/stable/user_install.html\n",
      "  from .autonotebook import tqdm as notebook_tqdm\n"
     ]
    }
   ],
   "source": [
    "import pandas as pd\n",
    "from sklearn.ensemble import RandomForestRegressor, AdaBoostRegressor\n",
    "from sklearn import tree\n",
    "from sklearn.model_selection import train_test_split as split\n",
    "# from sklearn import datasets\n",
    "from slickml.metrics import (\n",
    "    RegressionMetrics,\n",
    ")  # downloaded from https://github.com/slickml/slick-ml # btw pip install slickml\n",
    "from matplotlib import pyplot as plt\n",
    "import shap"
   ]
  },
  {
   "cell_type": "code",
   "execution_count": null,
   "metadata": {},
   "outputs": [],
   "source": [
    "y1_test.shape"
   ]
  },
  {
   "cell_type": "markdown",
   "metadata": {},
   "source": [
    "### random forest"
   ]
  },
  {
   "cell_type": "markdown",
   "metadata": {},
   "source": [
    "###### sem log"
   ]
  },
  {
   "cell_type": "code",
   "execution_count": null,
   "metadata": {},
   "outputs": [],
   "source": [
    "RF = RandomForestRegressor()\n",
    "RF.fit(X1_train_norm, y1_train)\n",
    "# RF.fit(X1out_train_norm, y1out_train)\n",
    "pred = RF.predict(X1_test_norm)\n",
    "# pred = RF.predict(X1out_test_norm)\n",
    "reg_metrics = RegressionMetrics(y1_test, pred)\n",
    "# reg_metrics = RegressionMetrics(y1out_test, pred)\n",
    "reg_metrics.plot()"
   ]
  },
  {
   "cell_type": "markdown",
   "metadata": {},
   "source": [
    "###### com log"
   ]
  },
  {
   "cell_type": "code",
   "execution_count": null,
   "metadata": {},
   "outputs": [],
   "source": [
    "RF = RandomForestRegressor()\n",
    "RF.fit(X1_train_norm, y1_train_log)\n",
    "# RF.fit(X1out_train_norm, y1out_train_log)\n",
    "pred = RF.predict(X1_test_norm)\n",
    "# pred = RF.predict(X1out_test_norm)\n",
    "reg_metrics = RegressionMetrics(y1_test_log, pred)\n",
    "# reg_metrics = RegressionMetrics(y1out_test_log, pred)\n",
    "reg_metrics.plot()"
   ]
  },
  {
   "cell_type": "markdown",
   "metadata": {},
   "source": [
    "### ada boost"
   ]
  },
  {
   "cell_type": "markdown",
   "metadata": {},
   "source": [
    "###### sem log"
   ]
  },
  {
   "cell_type": "code",
   "execution_count": null,
   "metadata": {},
   "outputs": [],
   "source": [
    "AR = AdaBoostRegressor()\n",
    "AR.fit(X1_train_norm, y1_train)\n",
    "# AR.fit(X1out_train_norm, y1out_train)\n",
    "pred2 = AR.predict(X1_test_norm)\n",
    "# pred2 = AR.predict(X1out_test_norm)\n",
    "reg_metrics2 = RegressionMetrics(y1_test, pred2)\n",
    "# reg_metrics2 = RegressionMetrics(y1out_test, pred2)\n",
    "reg_metrics2.plot()"
   ]
  },
  {
   "cell_type": "markdown",
   "metadata": {},
   "source": [
    "###### com log"
   ]
  },
  {
   "cell_type": "code",
   "execution_count": null,
   "metadata": {},
   "outputs": [],
   "source": [
    "AR = AdaBoostRegressor()\n",
    "AR.fit(X1_train_norm, y1_train_log)\n",
    "# AR.fit(X1out_train_norm, y1out_train_log)\n",
    "pred2 = AR.predict(X1_test_norm)\n",
    "# pred2 = AR.predict(X1out_test_norm)\n",
    "reg_metrics2 = RegressionMetrics(y1_test_log, pred2)\n",
    "# reg_metrics2 = RegressionMetrics(y1out_test_log, pred2)\n",
    "reg_metrics2.plot()"
   ]
  },
  {
   "cell_type": "markdown",
   "metadata": {},
   "source": [
    "### decision tree"
   ]
  },
  {
   "cell_type": "markdown",
   "metadata": {},
   "source": [
    "###### sem log"
   ]
  },
  {
   "cell_type": "code",
   "execution_count": null,
   "metadata": {},
   "outputs": [],
   "source": [
    "DT = tree.DecisionTreeRegressor(max_depth=3, random_state=45) # melhor r^2 para max_depth = 3\n",
    "DT.fit(X1_train_norm, y1_train)\n",
    "# DT.fit(X1out_train_norm, y1out_train)\n",
    "pred3 = DT.predict(X1_test_norm)\n",
    "# pred3 = DT.predict(X1out_test_norm)\n",
    "reg_metrics3 = RegressionMetrics(y1_test, pred3)\n",
    "# reg_metrics3 = RegressionMetrics(y1out_test, pred3)\n",
    "reg_metrics3.plot()"
   ]
  },
  {
   "cell_type": "code",
   "execution_count": null,
   "metadata": {},
   "outputs": [],
   "source": [
    "# plt.figure(figsize=(20, 7))\n",
    "# tree.plot_tree(\n",
    "#     DT, feature_names=X1.columns, filled=True, rounded=True\n",
    "# )\n",
    "# plt.plot()"
   ]
  },
  {
   "cell_type": "markdown",
   "metadata": {},
   "source": [
    "###### com log"
   ]
  },
  {
   "cell_type": "code",
   "execution_count": null,
   "metadata": {},
   "outputs": [],
   "source": [
    "DT = tree.DecisionTreeRegressor(max_depth=5, random_state=45) # melhor r^2 com max_depth = 5\n",
    "DT.fit(X1_train_norm, y1_train_log)\n",
    "# DT.fit(X1out_train_norm, y1out_train_log)\n",
    "pred3 = DT.predict(X1_test_norm)\n",
    "# pred3 = DT.predict(X1out_test_norm)\n",
    "reg_metrics3 = RegressionMetrics(y1_test_log, pred3)\n",
    "# reg_metrics3 = RegressionMetrics(y1out_test_log, pred3)\n",
    "reg_metrics3.plot()"
   ]
  },
  {
   "cell_type": "markdown",
   "metadata": {},
   "source": [
    "### neural net"
   ]
  },
  {
   "cell_type": "markdown",
   "metadata": {},
   "source": [
    "###### sem log"
   ]
  },
  {
   "cell_type": "code",
   "execution_count": 10,
   "metadata": {},
   "outputs": [
    {
     "name": "stderr",
     "output_type": "stream",
     "text": [
      "c:\\Users\\elisa\\AppData\\Local\\Programs\\Python\\Python312\\Lib\\site-packages\\keras\\src\\layers\\core\\dense.py:86: UserWarning: Do not pass an `input_shape`/`input_dim` argument to a layer. When using Sequential models, prefer using an `Input(shape)` object as the first layer in the model instead.\n",
      "  super().__init__(activity_regularizer=activity_regularizer, **kwargs)\n"
     ]
    },
    {
     "name": "stdout",
     "output_type": "stream",
     "text": [
      "Epoch 1/500\n",
      "\u001b[1m81/81\u001b[0m \u001b[32m━━━━━━━━━━━━━━━━━━━━\u001b[0m\u001b[37m\u001b[0m \u001b[1m1s\u001b[0m 4ms/step - loss: 5436772864.0000 - mae: 42700.6797 - val_loss: 22762954752.0000 - val_mae: 52668.3750\n",
      "Epoch 2/500\n",
      "\u001b[1m81/81\u001b[0m \u001b[32m━━━━━━━━━━━━━━━━━━━━\u001b[0m\u001b[37m\u001b[0m \u001b[1m0s\u001b[0m 2ms/step - loss: 6743952384.0000 - mae: 44195.2461 - val_loss: 22759403520.0000 - val_mae: 52637.6836\n",
      "Epoch 3/500\n",
      "\u001b[1m81/81\u001b[0m \u001b[32m━━━━━━━━━━━━━━━━━━━━\u001b[0m\u001b[37m\u001b[0m \u001b[1m0s\u001b[0m 2ms/step - loss: 6722551808.0000 - mae: 43721.3906 - val_loss: 22748211200.0000 - val_mae: 52542.5156\n",
      "Epoch 4/500\n",
      "\u001b[1m81/81\u001b[0m \u001b[32m━━━━━━━━━━━━━━━━━━━━\u001b[0m\u001b[37m\u001b[0m \u001b[1m0s\u001b[0m 2ms/step - loss: 3935757056.0000 - mae: 41556.2773 - val_loss: 22723485696.0000 - val_mae: 52334.8711\n",
      "Epoch 5/500\n",
      "\u001b[1m81/81\u001b[0m \u001b[32m━━━━━━━━━━━━━━━━━━━━\u001b[0m\u001b[37m\u001b[0m \u001b[1m0s\u001b[0m 2ms/step - loss: 5432602624.0000 - mae: 42705.5039 - val_loss: 22681438208.0000 - val_mae: 51984.4727\n",
      "Epoch 6/500\n",
      "\u001b[1m81/81\u001b[0m \u001b[32m━━━━━━━━━━━━━━━━━━━━\u001b[0m\u001b[37m\u001b[0m \u001b[1m0s\u001b[0m 2ms/step - loss: 4958541824.0000 - mae: 42142.2227 - val_loss: 22618564608.0000 - val_mae: 51462.1094\n",
      "Epoch 7/500\n",
      "\u001b[1m81/81\u001b[0m \u001b[32m━━━━━━━━━━━━━━━━━━━━\u001b[0m\u001b[37m\u001b[0m \u001b[1m0s\u001b[0m 2ms/step - loss: 7033033216.0000 - mae: 43371.3945 - val_loss: 22531262464.0000 - val_mae: 50737.9766\n",
      "Epoch 8/500\n",
      "\u001b[1m81/81\u001b[0m \u001b[32m━━━━━━━━━━━━━━━━━━━━\u001b[0m\u001b[37m\u001b[0m \u001b[1m0s\u001b[0m 2ms/step - loss: 4183936512.0000 - mae: 40096.4844 - val_loss: 22419382272.0000 - val_mae: 49807.5742\n",
      "Epoch 9/500\n",
      "\u001b[1m81/81\u001b[0m \u001b[32m━━━━━━━━━━━━━━━━━━━━\u001b[0m\u001b[37m\u001b[0m \u001b[1m0s\u001b[0m 2ms/step - loss: 6138035712.0000 - mae: 39105.2344 - val_loss: 22284777472.0000 - val_mae: 48671.4023\n",
      "Epoch 10/500\n",
      "\u001b[1m81/81\u001b[0m \u001b[32m━━━━━━━━━━━━━━━━━━━━\u001b[0m\u001b[37m\u001b[0m \u001b[1m0s\u001b[0m 2ms/step - loss: 3963506944.0000 - mae: 37403.0703 - val_loss: 22123274240.0000 - val_mae: 47285.5156\n",
      "Epoch 11/500\n",
      "\u001b[1m81/81\u001b[0m \u001b[32m━━━━━━━━━━━━━━━━━━━━\u001b[0m\u001b[37m\u001b[0m \u001b[1m0s\u001b[0m 2ms/step - loss: 4044738560.0000 - mae: 37470.2031 - val_loss: 21931665408.0000 - val_mae: 45596.2383\n",
      "Epoch 12/500\n",
      "\u001b[1m81/81\u001b[0m \u001b[32m━━━━━━━━━━━━━━━━━━━━\u001b[0m\u001b[37m\u001b[0m \u001b[1m0s\u001b[0m 2ms/step - loss: 6300802560.0000 - mae: 36203.1875 - val_loss: 21721573376.0000 - val_mae: 43669.8984\n",
      "Epoch 13/500\n",
      "\u001b[1m81/81\u001b[0m \u001b[32m━━━━━━━━━━━━━━━━━━━━\u001b[0m\u001b[37m\u001b[0m \u001b[1m0s\u001b[0m 2ms/step - loss: 5312628224.0000 - mae: 33750.6484 - val_loss: 21492314112.0000 - val_mae: 41467.6328\n",
      "Epoch 14/500\n",
      "\u001b[1m81/81\u001b[0m \u001b[32m━━━━━━━━━━━━━━━━━━━━\u001b[0m\u001b[37m\u001b[0m \u001b[1m0s\u001b[0m 2ms/step - loss: 5354983936.0000 - mae: 31736.0684 - val_loss: 21251069952.0000 - val_mae: 39009.4766\n",
      "Epoch 15/500\n",
      "\u001b[1m81/81\u001b[0m \u001b[32m━━━━━━━━━━━━━━━━━━━━\u001b[0m\u001b[37m\u001b[0m \u001b[1m0s\u001b[0m 2ms/step - loss: 3491332352.0000 - mae: 29941.7754 - val_loss: 21023371264.0000 - val_mae: 36608.1016\n",
      "Epoch 16/500\n",
      "\u001b[1m81/81\u001b[0m \u001b[32m━━━━━━━━━━━━━━━━━━━━\u001b[0m\u001b[37m\u001b[0m \u001b[1m0s\u001b[0m 2ms/step - loss: 3949297408.0000 - mae: 28103.3535 - val_loss: 20802039808.0000 - val_mae: 34310.2383\n",
      "Epoch 17/500\n",
      "\u001b[1m81/81\u001b[0m \u001b[32m━━━━━━━━━━━━━━━━━━━━\u001b[0m\u001b[37m\u001b[0m \u001b[1m0s\u001b[0m 2ms/step - loss: 3001130240.0000 - mae: 23622.3477 - val_loss: 20600342528.0000 - val_mae: 32291.4863\n",
      "Epoch 18/500\n",
      "\u001b[1m81/81\u001b[0m \u001b[32m━━━━━━━━━━━━━━━━━━━━\u001b[0m\u001b[37m\u001b[0m \u001b[1m0s\u001b[0m 2ms/step - loss: 10000983040.0000 - mae: 27770.6445 - val_loss: 20411832320.0000 - val_mae: 30623.5586\n",
      "Epoch 19/500\n",
      "\u001b[1m81/81\u001b[0m \u001b[32m━━━━━━━━━━━━━━━━━━━━\u001b[0m\u001b[37m\u001b[0m \u001b[1m0s\u001b[0m 2ms/step - loss: 3297946112.0000 - mae: 21929.1797 - val_loss: 20262074368.0000 - val_mae: 29608.1992\n",
      "Epoch 20/500\n",
      "\u001b[1m81/81\u001b[0m \u001b[32m━━━━━━━━━━━━━━━━━━━━\u001b[0m\u001b[37m\u001b[0m \u001b[1m0s\u001b[0m 2ms/step - loss: 2538347008.0000 - mae: 20274.2148 - val_loss: 20134156288.0000 - val_mae: 29009.4023\n",
      "Epoch 21/500\n",
      "\u001b[1m81/81\u001b[0m \u001b[32m━━━━━━━━━━━━━━━━━━━━\u001b[0m\u001b[37m\u001b[0m \u001b[1m0s\u001b[0m 2ms/step - loss: 2751042816.0000 - mae: 21864.2168 - val_loss: 20037308416.0000 - val_mae: 28803.2832\n",
      "Epoch 22/500\n",
      "\u001b[1m81/81\u001b[0m \u001b[32m━━━━━━━━━━━━━━━━━━━━\u001b[0m\u001b[37m\u001b[0m \u001b[1m0s\u001b[0m 2ms/step - loss: 2332629504.0000 - mae: 19550.6680 - val_loss: 19953653760.0000 - val_mae: 28829.5176\n",
      "Epoch 23/500\n",
      "\u001b[1m81/81\u001b[0m \u001b[32m━━━━━━━━━━━━━━━━━━━━\u001b[0m\u001b[37m\u001b[0m \u001b[1m0s\u001b[0m 2ms/step - loss: 2373587456.0000 - mae: 19476.2305 - val_loss: 19888609280.0000 - val_mae: 28964.4551\n",
      "Epoch 24/500\n",
      "\u001b[1m81/81\u001b[0m \u001b[32m━━━━━━━━━━━━━━━━━━━━\u001b[0m\u001b[37m\u001b[0m \u001b[1m0s\u001b[0m 2ms/step - loss: 3729791744.0000 - mae: 19654.5195 - val_loss: 19838167040.0000 - val_mae: 29155.5820\n",
      "Epoch 25/500\n",
      "\u001b[1m81/81\u001b[0m \u001b[32m━━━━━━━━━━━━━━━━━━━━\u001b[0m\u001b[37m\u001b[0m \u001b[1m0s\u001b[0m 2ms/step - loss: 1812278400.0000 - mae: 18458.7734 - val_loss: 19800965120.0000 - val_mae: 29351.9414\n",
      "Epoch 26/500\n",
      "\u001b[1m81/81\u001b[0m \u001b[32m━━━━━━━━━━━━━━━━━━━━\u001b[0m\u001b[37m\u001b[0m \u001b[1m0s\u001b[0m 2ms/step - loss: 4070958080.0000 - mae: 21012.2383 - val_loss: 19768252416.0000 - val_mae: 29536.3145\n",
      "Epoch 27/500\n",
      "\u001b[1m81/81\u001b[0m \u001b[32m━━━━━━━━━━━━━━━━━━━━\u001b[0m\u001b[37m\u001b[0m \u001b[1m0s\u001b[0m 2ms/step - loss: 2341311232.0000 - mae: 20627.9785 - val_loss: 19742775296.0000 - val_mae: 29723.3730\n",
      "Epoch 28/500\n",
      "\u001b[1m81/81\u001b[0m \u001b[32m━━━━━━━━━━━━━━━━━━━━\u001b[0m\u001b[37m\u001b[0m \u001b[1m0s\u001b[0m 2ms/step - loss: 2759392256.0000 - mae: 19828.5391 - val_loss: 19720855552.0000 - val_mae: 29842.4824\n",
      "Epoch 29/500\n",
      "\u001b[1m81/81\u001b[0m \u001b[32m━━━━━━━━━━━━━━━━━━━━\u001b[0m\u001b[37m\u001b[0m \u001b[1m0s\u001b[0m 2ms/step - loss: 3466623744.0000 - mae: 20979.7617 - val_loss: 19697448960.0000 - val_mae: 30022.9199\n",
      "Epoch 30/500\n",
      "\u001b[1m81/81\u001b[0m \u001b[32m━━━━━━━━━━━━━━━━━━━━\u001b[0m\u001b[37m\u001b[0m \u001b[1m0s\u001b[0m 2ms/step - loss: 2148615424.0000 - mae: 20012.9004 - val_loss: 19678078976.0000 - val_mae: 30065.6035\n",
      "Epoch 31/500\n",
      "\u001b[1m81/81\u001b[0m \u001b[32m━━━━━━━━━━━━━━━━━━━━\u001b[0m\u001b[37m\u001b[0m \u001b[1m0s\u001b[0m 2ms/step - loss: 2043218432.0000 - mae: 20566.0742 - val_loss: 19661834240.0000 - val_mae: 30174.3711\n",
      "Epoch 32/500\n",
      "\u001b[1m81/81\u001b[0m \u001b[32m━━━━━━━━━━━━━━━━━━━━\u001b[0m\u001b[37m\u001b[0m \u001b[1m0s\u001b[0m 1ms/step - loss: 2435211008.0000 - mae: 20209.6973 - val_loss: 19647426560.0000 - val_mae: 30177.4922\n",
      "Epoch 33/500\n",
      "\u001b[1m81/81\u001b[0m \u001b[32m━━━━━━━━━━━━━━━━━━━━\u001b[0m\u001b[37m\u001b[0m \u001b[1m0s\u001b[0m 2ms/step - loss: 7139631616.0000 - mae: 23933.1367 - val_loss: 19635193856.0000 - val_mae: 30168.1250\n",
      "Epoch 34/500\n",
      "\u001b[1m81/81\u001b[0m \u001b[32m━━━━━━━━━━━━━━━━━━━━\u001b[0m\u001b[37m\u001b[0m \u001b[1m0s\u001b[0m 2ms/step - loss: 2781147904.0000 - mae: 20588.1191 - val_loss: 19619262464.0000 - val_mae: 30273.4707\n",
      "Epoch 35/500\n",
      "\u001b[1m81/81\u001b[0m \u001b[32m━━━━━━━━━━━━━━━━━━━━\u001b[0m\u001b[37m\u001b[0m \u001b[1m0s\u001b[0m 2ms/step - loss: 4193973248.0000 - mae: 21807.0410 - val_loss: 19609100288.0000 - val_mae: 30225.2969\n",
      "Epoch 36/500\n",
      "\u001b[1m81/81\u001b[0m \u001b[32m━━━━━━━━━━━━━━━━━━━━\u001b[0m\u001b[37m\u001b[0m \u001b[1m0s\u001b[0m 2ms/step - loss: 1839452544.0000 - mae: 19706.0781 - val_loss: 19600244736.0000 - val_mae: 30200.0527\n",
      "Epoch 37/500\n",
      "\u001b[1m81/81\u001b[0m \u001b[32m━━━━━━━━━━━━━━━━━━━━\u001b[0m\u001b[37m\u001b[0m \u001b[1m0s\u001b[0m 2ms/step - loss: 2719150336.0000 - mae: 19609.2109 - val_loss: 19585210368.0000 - val_mae: 30258.2188\n",
      "Epoch 38/500\n",
      "\u001b[1m81/81\u001b[0m \u001b[32m━━━━━━━━━━━━━━━━━━━━\u001b[0m\u001b[37m\u001b[0m \u001b[1m0s\u001b[0m 2ms/step - loss: 4541776896.0000 - mae: 21422.5508 - val_loss: 19574384640.0000 - val_mae: 30267.1992\n",
      "Epoch 39/500\n",
      "\u001b[1m81/81\u001b[0m \u001b[32m━━━━━━━━━━━━━━━━━━━━\u001b[0m\u001b[37m\u001b[0m \u001b[1m0s\u001b[0m 2ms/step - loss: 6088892928.0000 - mae: 22679.2773 - val_loss: 19562405888.0000 - val_mae: 30270.2266\n",
      "Epoch 40/500\n",
      "\u001b[1m81/81\u001b[0m \u001b[32m━━━━━━━━━━━━━━━━━━━━\u001b[0m\u001b[37m\u001b[0m \u001b[1m0s\u001b[0m 2ms/step - loss: 3975277056.0000 - mae: 21513.3574 - val_loss: 19553325056.0000 - val_mae: 30217.3809\n",
      "Epoch 41/500\n",
      "\u001b[1m81/81\u001b[0m \u001b[32m━━━━━━━━━━━━━━━━━━━━\u001b[0m\u001b[37m\u001b[0m \u001b[1m0s\u001b[0m 2ms/step - loss: 1645534720.0000 - mae: 20093.3340 - val_loss: 19544866816.0000 - val_mae: 30199.2363\n",
      "Epoch 42/500\n",
      "\u001b[1m81/81\u001b[0m \u001b[32m━━━━━━━━━━━━━━━━━━━━\u001b[0m\u001b[37m\u001b[0m \u001b[1m0s\u001b[0m 2ms/step - loss: 1730089344.0000 - mae: 18470.8750 - val_loss: 19531182080.0000 - val_mae: 30268.8477\n",
      "Epoch 43/500\n",
      "\u001b[1m81/81\u001b[0m \u001b[32m━━━━━━━━━━━━━━━━━━━━\u001b[0m\u001b[37m\u001b[0m \u001b[1m0s\u001b[0m 2ms/step - loss: 6359016960.0000 - mae: 22443.5898 - val_loss: 19519963136.0000 - val_mae: 30317.5762\n",
      "Epoch 44/500\n",
      "\u001b[1m81/81\u001b[0m \u001b[32m━━━━━━━━━━━━━━━━━━━━\u001b[0m\u001b[37m\u001b[0m \u001b[1m0s\u001b[0m 2ms/step - loss: 2829820928.0000 - mae: 21219.6016 - val_loss: 19512461312.0000 - val_mae: 30267.1406\n",
      "Epoch 45/500\n",
      "\u001b[1m81/81\u001b[0m \u001b[32m━━━━━━━━━━━━━━━━━━━━\u001b[0m\u001b[37m\u001b[0m \u001b[1m0s\u001b[0m 2ms/step - loss: 1366252160.0000 - mae: 19199.6133 - val_loss: 19507542016.0000 - val_mae: 30215.4180\n",
      "Epoch 46/500\n",
      "\u001b[1m81/81\u001b[0m \u001b[32m━━━━━━━━━━━━━━━━━━━━\u001b[0m\u001b[37m\u001b[0m \u001b[1m0s\u001b[0m 2ms/step - loss: 3103633152.0000 - mae: 21418.7539 - val_loss: 19493683200.0000 - val_mae: 30304.6035\n",
      "Epoch 47/500\n",
      "\u001b[1m81/81\u001b[0m \u001b[32m━━━━━━━━━━━━━━━━━━━━\u001b[0m\u001b[37m\u001b[0m \u001b[1m0s\u001b[0m 2ms/step - loss: 2643594752.0000 - mae: 21019.1289 - val_loss: 19486973952.0000 - val_mae: 30259.0215\n",
      "Epoch 48/500\n",
      "\u001b[1m81/81\u001b[0m \u001b[32m━━━━━━━━━━━━━━━━━━━━\u001b[0m\u001b[37m\u001b[0m \u001b[1m0s\u001b[0m 2ms/step - loss: 1844912896.0000 - mae: 19903.0801 - val_loss: 19475922944.0000 - val_mae: 30321.5117\n",
      "Epoch 49/500\n",
      "\u001b[1m81/81\u001b[0m \u001b[32m━━━━━━━━━━━━━━━━━━━━\u001b[0m\u001b[37m\u001b[0m \u001b[1m0s\u001b[0m 2ms/step - loss: 2797372928.0000 - mae: 21254.2949 - val_loss: 19467470848.0000 - val_mae: 30352.7734\n",
      "Epoch 50/500\n",
      "\u001b[1m81/81\u001b[0m \u001b[32m━━━━━━━━━━━━━━━━━━━━\u001b[0m\u001b[37m\u001b[0m \u001b[1m0s\u001b[0m 2ms/step - loss: 2265099520.0000 - mae: 21243.8555 - val_loss: 19460352000.0000 - val_mae: 30333.9688\n",
      "Epoch 51/500\n",
      "\u001b[1m81/81\u001b[0m \u001b[32m━━━━━━━━━━━━━━━━━━━━\u001b[0m\u001b[37m\u001b[0m \u001b[1m0s\u001b[0m 2ms/step - loss: 2774631680.0000 - mae: 20659.5156 - val_loss: 19453052928.0000 - val_mae: 30311.1152\n",
      "Epoch 52/500\n",
      "\u001b[1m81/81\u001b[0m \u001b[32m━━━━━━━━━━━━━━━━━━━━\u001b[0m\u001b[37m\u001b[0m \u001b[1m0s\u001b[0m 2ms/step - loss: 2542584576.0000 - mae: 21051.1914 - val_loss: 19444668416.0000 - val_mae: 30357.6035\n",
      "Epoch 53/500\n",
      "\u001b[1m81/81\u001b[0m \u001b[32m━━━━━━━━━━━━━━━━━━━━\u001b[0m\u001b[37m\u001b[0m \u001b[1m0s\u001b[0m 2ms/step - loss: 2239397632.0000 - mae: 20915.0215 - val_loss: 19435182080.0000 - val_mae: 30373.7227\n",
      "Epoch 54/500\n",
      "\u001b[1m81/81\u001b[0m \u001b[32m━━━━━━━━━━━━━━━━━━━━\u001b[0m\u001b[37m\u001b[0m \u001b[1m0s\u001b[0m 2ms/step - loss: 3127810816.0000 - mae: 20547.6348 - val_loss: 19424051200.0000 - val_mae: 30480.6133\n",
      "Epoch 55/500\n",
      "\u001b[1m81/81\u001b[0m \u001b[32m━━━━━━━━━━━━━━━━━━━━\u001b[0m\u001b[37m\u001b[0m \u001b[1m0s\u001b[0m 2ms/step - loss: 8307119616.0000 - mae: 23180.8633 - val_loss: 19418546176.0000 - val_mae: 30448.4863\n",
      "Epoch 56/500\n",
      "\u001b[1m81/81\u001b[0m \u001b[32m━━━━━━━━━━━━━━━━━━━━\u001b[0m\u001b[37m\u001b[0m \u001b[1m0s\u001b[0m 2ms/step - loss: 2116474240.0000 - mae: 20734.7852 - val_loss: 19412316160.0000 - val_mae: 30454.8594\n",
      "Epoch 57/500\n",
      "\u001b[1m81/81\u001b[0m \u001b[32m━━━━━━━━━━━━━━━━━━━━\u001b[0m\u001b[37m\u001b[0m \u001b[1m0s\u001b[0m 2ms/step - loss: 5717545984.0000 - mae: 22764.4199 - val_loss: 19407683584.0000 - val_mae: 30432.4355\n",
      "Epoch 58/500\n",
      "\u001b[1m81/81\u001b[0m \u001b[32m━━━━━━━━━━━━━━━━━━━━\u001b[0m\u001b[37m\u001b[0m \u001b[1m0s\u001b[0m 2ms/step - loss: 2385887744.0000 - mae: 20687.1309 - val_loss: 19403147264.0000 - val_mae: 30413.9746\n",
      "Epoch 59/500\n",
      "\u001b[1m81/81\u001b[0m \u001b[32m━━━━━━━━━━━━━━━━━━━━\u001b[0m\u001b[37m\u001b[0m \u001b[1m0s\u001b[0m 2ms/step - loss: 2404641280.0000 - mae: 20447.3730 - val_loss: 19393619968.0000 - val_mae: 30490.0801\n",
      "Epoch 60/500\n",
      "\u001b[1m81/81\u001b[0m \u001b[32m━━━━━━━━━━━━━━━━━━━━\u001b[0m\u001b[37m\u001b[0m \u001b[1m0s\u001b[0m 2ms/step - loss: 5102488064.0000 - mae: 21996.6387 - val_loss: 19388377088.0000 - val_mae: 30468.0215\n",
      "Epoch 61/500\n",
      "\u001b[1m81/81\u001b[0m \u001b[32m━━━━━━━━━━━━━━━━━━━━\u001b[0m\u001b[37m\u001b[0m \u001b[1m0s\u001b[0m 2ms/step - loss: 2356540160.0000 - mae: 21143.6094 - val_loss: 19382409216.0000 - val_mae: 30475.9004\n",
      "Epoch 62/500\n",
      "\u001b[1m81/81\u001b[0m \u001b[32m━━━━━━━━━━━━━━━━━━━━\u001b[0m\u001b[37m\u001b[0m \u001b[1m0s\u001b[0m 2ms/step - loss: 1980492416.0000 - mae: 20346.6992 - val_loss: 19378380800.0000 - val_mae: 30464.4043\n",
      "Epoch 63/500\n",
      "\u001b[1m81/81\u001b[0m \u001b[32m━━━━━━━━━━━━━━━━━━━━\u001b[0m\u001b[37m\u001b[0m \u001b[1m0s\u001b[0m 2ms/step - loss: 2403338752.0000 - mae: 20733.3301 - val_loss: 19371390976.0000 - val_mae: 30468.9316\n",
      "Epoch 64/500\n",
      "\u001b[1m81/81\u001b[0m \u001b[32m━━━━━━━━━━━━━━━━━━━━\u001b[0m\u001b[37m\u001b[0m \u001b[1m0s\u001b[0m 2ms/step - loss: 6799106048.0000 - mae: 22487.8711 - val_loss: 19363139584.0000 - val_mae: 30553.2891\n",
      "Epoch 65/500\n",
      "\u001b[1m81/81\u001b[0m \u001b[32m━━━━━━━━━━━━━━━━━━━━\u001b[0m\u001b[37m\u001b[0m \u001b[1m0s\u001b[0m 2ms/step - loss: 1683688704.0000 - mae: 19615.9043 - val_loss: 19360045056.0000 - val_mae: 30534.4805\n",
      "Epoch 66/500\n",
      "\u001b[1m81/81\u001b[0m \u001b[32m━━━━━━━━━━━━━━━━━━━━\u001b[0m\u001b[37m\u001b[0m \u001b[1m0s\u001b[0m 2ms/step - loss: 2733762048.0000 - mae: 21659.8496 - val_loss: 19353679872.0000 - val_mae: 30555.1621\n",
      "Epoch 67/500\n",
      "\u001b[1m81/81\u001b[0m \u001b[32m━━━━━━━━━━━━━━━━━━━━\u001b[0m\u001b[37m\u001b[0m \u001b[1m0s\u001b[0m 2ms/step - loss: 2252745472.0000 - mae: 19862.4902 - val_loss: 19349047296.0000 - val_mae: 30553.1309\n",
      "Epoch 68/500\n",
      "\u001b[1m81/81\u001b[0m \u001b[32m━━━━━━━━━━━━━━━━━━━━\u001b[0m\u001b[37m\u001b[0m \u001b[1m0s\u001b[0m 2ms/step - loss: 2157628160.0000 - mae: 20424.1777 - val_loss: 19342178304.0000 - val_mae: 30594.4551\n",
      "Epoch 69/500\n",
      "\u001b[1m81/81\u001b[0m \u001b[32m━━━━━━━━━━━━━━━━━━━━\u001b[0m\u001b[37m\u001b[0m \u001b[1m0s\u001b[0m 2ms/step - loss: 5053728768.0000 - mae: 22815.3535 - val_loss: 19338719232.0000 - val_mae: 30550.6387\n",
      "Epoch 70/500\n",
      "\u001b[1m81/81\u001b[0m \u001b[32m━━━━━━━━━━━━━━━━━━━━\u001b[0m\u001b[37m\u001b[0m \u001b[1m0s\u001b[0m 2ms/step - loss: 2530258944.0000 - mae: 20684.7207 - val_loss: 19334281216.0000 - val_mae: 30548.0312\n",
      "Epoch 71/500\n",
      "\u001b[1m81/81\u001b[0m \u001b[32m━━━━━━━━━━━━━━━━━━━━\u001b[0m\u001b[37m\u001b[0m \u001b[1m0s\u001b[0m 2ms/step - loss: 1609937408.0000 - mae: 20189.8535 - val_loss: 19333701632.0000 - val_mae: 30494.0527\n",
      "Epoch 72/500\n",
      "\u001b[1m81/81\u001b[0m \u001b[32m━━━━━━━━━━━━━━━━━━━━\u001b[0m\u001b[37m\u001b[0m \u001b[1m0s\u001b[0m 2ms/step - loss: 2613598976.0000 - mae: 21116.9785 - val_loss: 19323328512.0000 - val_mae: 30597.0156\n",
      "Epoch 73/500\n",
      "\u001b[1m81/81\u001b[0m \u001b[32m━━━━━━━━━━━━━━━━━━━━\u001b[0m\u001b[37m\u001b[0m \u001b[1m0s\u001b[0m 2ms/step - loss: 3666280704.0000 - mae: 20967.9863 - val_loss: 19320143872.0000 - val_mae: 30584.2930\n",
      "Epoch 74/500\n",
      "\u001b[1m81/81\u001b[0m \u001b[32m━━━━━━━━━━━━━━━━━━━━\u001b[0m\u001b[37m\u001b[0m \u001b[1m0s\u001b[0m 2ms/step - loss: 6229947392.0000 - mae: 22144.2734 - val_loss: 19317223424.0000 - val_mae: 30561.5703\n",
      "Epoch 75/500\n",
      "\u001b[1m81/81\u001b[0m \u001b[32m━━━━━━━━━━━━━━━━━━━━\u001b[0m\u001b[37m\u001b[0m \u001b[1m0s\u001b[0m 2ms/step - loss: 4645255168.0000 - mae: 22101.3887 - val_loss: 19309975552.0000 - val_mae: 30651.3340\n",
      "Epoch 76/500\n",
      "\u001b[1m81/81\u001b[0m \u001b[32m━━━━━━━━━━━━━━━━━━━━\u001b[0m\u001b[37m\u001b[0m \u001b[1m0s\u001b[0m 2ms/step - loss: 4195514112.0000 - mae: 22053.3281 - val_loss: 19308652544.0000 - val_mae: 30600.4551\n",
      "Epoch 77/500\n",
      "\u001b[1m81/81\u001b[0m \u001b[32m━━━━━━━━━━━━━━━━━━━━\u001b[0m\u001b[37m\u001b[0m \u001b[1m0s\u001b[0m 2ms/step - loss: 3883931136.0000 - mae: 21317.5820 - val_loss: 19303796736.0000 - val_mae: 30634.5859\n",
      "Epoch 78/500\n",
      "\u001b[1m81/81\u001b[0m \u001b[32m━━━━━━━━━━━━━━━━━━━━\u001b[0m\u001b[37m\u001b[0m \u001b[1m0s\u001b[0m 2ms/step - loss: 2767209216.0000 - mae: 21119.8496 - val_loss: 19300368384.0000 - val_mae: 30646.8906\n",
      "Epoch 79/500\n",
      "\u001b[1m81/81\u001b[0m \u001b[32m━━━━━━━━━━━━━━━━━━━━\u001b[0m\u001b[37m\u001b[0m \u001b[1m0s\u001b[0m 2ms/step - loss: 1783890176.0000 - mae: 20446.6250 - val_loss: 19301425152.0000 - val_mae: 30594.9805\n",
      "Epoch 80/500\n",
      "\u001b[1m81/81\u001b[0m \u001b[32m━━━━━━━━━━━━━━━━━━━━\u001b[0m\u001b[37m\u001b[0m \u001b[1m0s\u001b[0m 2ms/step - loss: 3229677568.0000 - mae: 22132.9746 - val_loss: 19293413376.0000 - val_mae: 30657.8281\n",
      "Epoch 81/500\n",
      "\u001b[1m81/81\u001b[0m \u001b[32m━━━━━━━━━━━━━━━━━━━━\u001b[0m\u001b[37m\u001b[0m \u001b[1m0s\u001b[0m 2ms/step - loss: 1949031808.0000 - mae: 21068.4648 - val_loss: 19292903424.0000 - val_mae: 30618.8848\n",
      "Epoch 82/500\n",
      "\u001b[1m81/81\u001b[0m \u001b[32m━━━━━━━━━━━━━━━━━━━━\u001b[0m\u001b[37m\u001b[0m \u001b[1m0s\u001b[0m 2ms/step - loss: 2616914944.0000 - mae: 22402.1367 - val_loss: 19287552000.0000 - val_mae: 30655.6191\n",
      "Epoch 83/500\n",
      "\u001b[1m81/81\u001b[0m \u001b[32m━━━━━━━━━━━━━━━━━━━━\u001b[0m\u001b[37m\u001b[0m \u001b[1m0s\u001b[0m 2ms/step - loss: 3166247168.0000 - mae: 21532.1777 - val_loss: 19284500480.0000 - val_mae: 30647.3516\n",
      "Epoch 84/500\n",
      "\u001b[1m81/81\u001b[0m \u001b[32m━━━━━━━━━━━━━━━━━━━━\u001b[0m\u001b[37m\u001b[0m \u001b[1m0s\u001b[0m 2ms/step - loss: 3188158464.0000 - mae: 22220.1660 - val_loss: 19278665728.0000 - val_mae: 30720.0371\n",
      "Epoch 85/500\n",
      "\u001b[1m81/81\u001b[0m \u001b[32m━━━━━━━━━━━━━━━━━━━━\u001b[0m\u001b[37m\u001b[0m \u001b[1m0s\u001b[0m 1ms/step - loss: 4120882688.0000 - mae: 21583.0039 - val_loss: 19276654592.0000 - val_mae: 30720.2363\n",
      "Epoch 86/500\n",
      "\u001b[1m81/81\u001b[0m \u001b[32m━━━━━━━━━━━━━━━━━━━━\u001b[0m\u001b[37m\u001b[0m \u001b[1m0s\u001b[0m 2ms/step - loss: 4952155648.0000 - mae: 22422.0996 - val_loss: 19274496000.0000 - val_mae: 30701.3145\n",
      "Epoch 87/500\n",
      "\u001b[1m81/81\u001b[0m \u001b[32m━━━━━━━━━━━━━━━━━━━━\u001b[0m\u001b[37m\u001b[0m \u001b[1m0s\u001b[0m 2ms/step - loss: 2002628992.0000 - mae: 20218.7988 - val_loss: 19270176768.0000 - val_mae: 30737.1211\n",
      "Epoch 88/500\n",
      "\u001b[1m81/81\u001b[0m \u001b[32m━━━━━━━━━━━━━━━━━━━━\u001b[0m\u001b[37m\u001b[0m \u001b[1m0s\u001b[0m 2ms/step - loss: 2250393600.0000 - mae: 20345.7695 - val_loss: 19267346432.0000 - val_mae: 30728.9121\n",
      "Epoch 89/500\n",
      "\u001b[1m81/81\u001b[0m \u001b[32m━━━━━━━━━━━━━━━━━━━━\u001b[0m\u001b[37m\u001b[0m \u001b[1m0s\u001b[0m 2ms/step - loss: 1977262080.0000 - mae: 21174.5059 - val_loss: 19266222080.0000 - val_mae: 30713.2402\n",
      "Epoch 90/500\n",
      "\u001b[1m81/81\u001b[0m \u001b[32m━━━━━━━━━━━━━━━━━━━━\u001b[0m\u001b[37m\u001b[0m \u001b[1m0s\u001b[0m 2ms/step - loss: 1814594176.0000 - mae: 20355.5352 - val_loss: 19265089536.0000 - val_mae: 30667.9844\n",
      "Epoch 91/500\n",
      "\u001b[1m81/81\u001b[0m \u001b[32m━━━━━━━━━━━━━━━━━━━━\u001b[0m\u001b[37m\u001b[0m \u001b[1m0s\u001b[0m 2ms/step - loss: 5733061120.0000 - mae: 22538.6641 - val_loss: 19258408960.0000 - val_mae: 30737.6230\n",
      "Epoch 92/500\n",
      "\u001b[1m81/81\u001b[0m \u001b[32m━━━━━━━━━━━━━━━━━━━━\u001b[0m\u001b[37m\u001b[0m \u001b[1m0s\u001b[0m 1ms/step - loss: 2246573056.0000 - mae: 20372.6230 - val_loss: 19257313280.0000 - val_mae: 30715.6855\n",
      "Epoch 93/500\n",
      "\u001b[1m81/81\u001b[0m \u001b[32m━━━━━━━━━━━━━━━━━━━━\u001b[0m\u001b[37m\u001b[0m \u001b[1m0s\u001b[0m 2ms/step - loss: 1914516992.0000 - mae: 19876.6074 - val_loss: 19254126592.0000 - val_mae: 30719.1191\n",
      "Epoch 94/500\n",
      "\u001b[1m81/81\u001b[0m \u001b[32m━━━━━━━━━━━━━━━━━━━━\u001b[0m\u001b[37m\u001b[0m \u001b[1m0s\u001b[0m 2ms/step - loss: 5004126720.0000 - mae: 22669.8516 - val_loss: 19247947776.0000 - val_mae: 30794.1055\n",
      "Epoch 95/500\n",
      "\u001b[1m81/81\u001b[0m \u001b[32m━━━━━━━━━━━━━━━━━━━━\u001b[0m\u001b[37m\u001b[0m \u001b[1m0s\u001b[0m 2ms/step - loss: 3568543232.0000 - mae: 21248.3945 - val_loss: 19246817280.0000 - val_mae: 30769.9414\n",
      "Epoch 96/500\n",
      "\u001b[1m81/81\u001b[0m \u001b[32m━━━━━━━━━━━━━━━━━━━━\u001b[0m\u001b[37m\u001b[0m \u001b[1m0s\u001b[0m 2ms/step - loss: 3032510976.0000 - mae: 21021.7227 - val_loss: 19243843584.0000 - val_mae: 30789.5723\n",
      "Epoch 97/500\n",
      "\u001b[1m81/81\u001b[0m \u001b[32m━━━━━━━━━━━━━━━━━━━━\u001b[0m\u001b[37m\u001b[0m \u001b[1m0s\u001b[0m 2ms/step - loss: 1648199808.0000 - mae: 19640.4297 - val_loss: 19243720704.0000 - val_mae: 30752.1406\n",
      "Epoch 98/500\n",
      "\u001b[1m81/81\u001b[0m \u001b[32m━━━━━━━━━━━━━━━━━━━━\u001b[0m\u001b[37m\u001b[0m \u001b[1m0s\u001b[0m 2ms/step - loss: 2308694528.0000 - mae: 21511.1133 - val_loss: 19235993600.0000 - val_mae: 30897.7324\n",
      "Epoch 99/500\n",
      "\u001b[1m81/81\u001b[0m \u001b[32m━━━━━━━━━━━━━━━━━━━━\u001b[0m\u001b[37m\u001b[0m \u001b[1m0s\u001b[0m 2ms/step - loss: 1825367680.0000 - mae: 20148.9277 - val_loss: 19234080768.0000 - val_mae: 30884.5293\n",
      "Epoch 100/500\n",
      "\u001b[1m81/81\u001b[0m \u001b[32m━━━━━━━━━━━━━━━━━━━━\u001b[0m\u001b[37m\u001b[0m \u001b[1m0s\u001b[0m 1ms/step - loss: 1601037824.0000 - mae: 20170.6484 - val_loss: 19237234688.0000 - val_mae: 30795.3730\n",
      "Epoch 101/500\n",
      "\u001b[1m81/81\u001b[0m \u001b[32m━━━━━━━━━━━━━━━━━━━━\u001b[0m\u001b[37m\u001b[0m \u001b[1m0s\u001b[0m 2ms/step - loss: 3736174848.0000 - mae: 21777.0430 - val_loss: 19232468992.0000 - val_mae: 30835.6016\n",
      "Epoch 102/500\n",
      "\u001b[1m81/81\u001b[0m \u001b[32m━━━━━━━━━━━━━━━━━━━━\u001b[0m\u001b[37m\u001b[0m \u001b[1m0s\u001b[0m 2ms/step - loss: 2549941504.0000 - mae: 20921.9219 - val_loss: 19228831744.0000 - val_mae: 30877.1895\n",
      "Epoch 103/500\n",
      "\u001b[1m81/81\u001b[0m \u001b[32m━━━━━━━━━━━━━━━━━━━━\u001b[0m\u001b[37m\u001b[0m \u001b[1m0s\u001b[0m 2ms/step - loss: 3795172864.0000 - mae: 20994.4863 - val_loss: 19227164672.0000 - val_mae: 30853.4551\n",
      "Epoch 104/500\n",
      "\u001b[1m81/81\u001b[0m \u001b[32m━━━━━━━━━━━━━━━━━━━━\u001b[0m\u001b[37m\u001b[0m \u001b[1m0s\u001b[0m 2ms/step - loss: 4727501312.0000 - mae: 22181.2129 - val_loss: 19226273792.0000 - val_mae: 30835.2031\n",
      "Epoch 105/500\n",
      "\u001b[1m81/81\u001b[0m \u001b[32m━━━━━━━━━━━━━━━━━━━━\u001b[0m\u001b[37m\u001b[0m \u001b[1m0s\u001b[0m 2ms/step - loss: 2252154112.0000 - mae: 20173.6270 - val_loss: 19227113472.0000 - val_mae: 30788.9355\n",
      "Epoch 106/500\n",
      "\u001b[1m81/81\u001b[0m \u001b[32m━━━━━━━━━━━━━━━━━━━━\u001b[0m\u001b[37m\u001b[0m \u001b[1m0s\u001b[0m 2ms/step - loss: 3953374464.0000 - mae: 22064.2988 - val_loss: 19221501952.0000 - val_mae: 30867.4199\n",
      "Epoch 107/500\n",
      "\u001b[1m81/81\u001b[0m \u001b[32m━━━━━━━━━━━━━━━━━━━━\u001b[0m\u001b[37m\u001b[0m \u001b[1m0s\u001b[0m 2ms/step - loss: 2788403968.0000 - mae: 21551.4980 - val_loss: 19221809152.0000 - val_mae: 30828.1719\n",
      "Epoch 108/500\n",
      "\u001b[1m81/81\u001b[0m \u001b[32m━━━━━━━━━━━━━━━━━━━━\u001b[0m\u001b[37m\u001b[0m \u001b[1m0s\u001b[0m 2ms/step - loss: 2081573760.0000 - mae: 20867.0742 - val_loss: 19219857408.0000 - val_mae: 30828.7812\n",
      "Epoch 109/500\n",
      "\u001b[1m81/81\u001b[0m \u001b[32m━━━━━━━━━━━━━━━━━━━━\u001b[0m\u001b[37m\u001b[0m \u001b[1m0s\u001b[0m 2ms/step - loss: 2175129088.0000 - mae: 20533.5293 - val_loss: 19218475008.0000 - val_mae: 30823.1035\n",
      "Epoch 110/500\n",
      "\u001b[1m81/81\u001b[0m \u001b[32m━━━━━━━━━━━━━━━━━━━━\u001b[0m\u001b[37m\u001b[0m \u001b[1m0s\u001b[0m 2ms/step - loss: 2300514304.0000 - mae: 20831.6465 - val_loss: 19218757632.0000 - val_mae: 30787.0566\n",
      "Epoch 111/500\n",
      "\u001b[1m81/81\u001b[0m \u001b[32m━━━━━━━━━━━━━━━━━━━━\u001b[0m\u001b[37m\u001b[0m \u001b[1m0s\u001b[0m 2ms/step - loss: 3894741760.0000 - mae: 21839.3223 - val_loss: 19216662528.0000 - val_mae: 30790.1895\n",
      "Epoch 112/500\n",
      "\u001b[1m81/81\u001b[0m \u001b[32m━━━━━━━━━━━━━━━━━━━━\u001b[0m\u001b[37m\u001b[0m \u001b[1m0s\u001b[0m 2ms/step - loss: 3056151808.0000 - mae: 20556.2031 - val_loss: 19216252928.0000 - val_mae: 30777.1719\n",
      "Epoch 113/500\n",
      "\u001b[1m81/81\u001b[0m \u001b[32m━━━━━━━━━━━━━━━━━━━━\u001b[0m\u001b[37m\u001b[0m \u001b[1m0s\u001b[0m 2ms/step - loss: 2061567872.0000 - mae: 20330.5000 - val_loss: 19215839232.0000 - val_mae: 30766.3086\n",
      "Epoch 114/500\n",
      "\u001b[1m81/81\u001b[0m \u001b[32m━━━━━━━━━━━━━━━━━━━━\u001b[0m\u001b[37m\u001b[0m \u001b[1m0s\u001b[0m 2ms/step - loss: 2198117120.0000 - mae: 21643.4180 - val_loss: 19213203456.0000 - val_mae: 30797.1113\n",
      "Epoch 115/500\n",
      "\u001b[1m81/81\u001b[0m \u001b[32m━━━━━━━━━━━━━━━━━━━━\u001b[0m\u001b[37m\u001b[0m \u001b[1m0s\u001b[0m 2ms/step - loss: 3102854912.0000 - mae: 20779.2168 - val_loss: 19208562688.0000 - val_mae: 30843.2305\n",
      "Epoch 116/500\n",
      "\u001b[1m81/81\u001b[0m \u001b[32m━━━━━━━━━━━━━━━━━━━━\u001b[0m\u001b[37m\u001b[0m \u001b[1m0s\u001b[0m 2ms/step - loss: 2946625792.0000 - mae: 20869.5664 - val_loss: 19206416384.0000 - val_mae: 30858.5547\n",
      "Epoch 117/500\n",
      "\u001b[1m81/81\u001b[0m \u001b[32m━━━━━━━━━━━━━━━━━━━━\u001b[0m\u001b[37m\u001b[0m \u001b[1m0s\u001b[0m 2ms/step - loss: 1820242944.0000 - mae: 20142.2051 - val_loss: 19205398528.0000 - val_mae: 30856.8730\n",
      "Epoch 118/500\n",
      "\u001b[1m81/81\u001b[0m \u001b[32m━━━━━━━━━━━━━━━━━━━━\u001b[0m\u001b[37m\u001b[0m \u001b[1m0s\u001b[0m 2ms/step - loss: 2189864192.0000 - mae: 20818.2383 - val_loss: 19201009664.0000 - val_mae: 30899.5586\n",
      "Epoch 119/500\n",
      "\u001b[1m81/81\u001b[0m \u001b[32m━━━━━━━━━━━━━━━━━━━━\u001b[0m\u001b[37m\u001b[0m \u001b[1m0s\u001b[0m 2ms/step - loss: 3177670912.0000 - mae: 21260.9688 - val_loss: 19200577536.0000 - val_mae: 30852.1113\n",
      "Epoch 120/500\n",
      "\u001b[1m81/81\u001b[0m \u001b[32m━━━━━━━━━━━━━━━━━━━━\u001b[0m\u001b[37m\u001b[0m \u001b[1m0s\u001b[0m 2ms/step - loss: 6894073856.0000 - mae: 22965.7402 - val_loss: 19199148032.0000 - val_mae: 30858.4453\n",
      "Epoch 121/500\n",
      "\u001b[1m81/81\u001b[0m \u001b[32m━━━━━━━━━━━━━━━━━━━━\u001b[0m\u001b[37m\u001b[0m \u001b[1m0s\u001b[0m 2ms/step - loss: 2017423232.0000 - mae: 20853.2930 - val_loss: 19196598272.0000 - val_mae: 30862.3613\n",
      "Epoch 122/500\n",
      "\u001b[1m81/81\u001b[0m \u001b[32m━━━━━━━━━━━━━━━━━━━━\u001b[0m\u001b[37m\u001b[0m \u001b[1m0s\u001b[0m 2ms/step - loss: 2071916928.0000 - mae: 21320.5898 - val_loss: 19192461312.0000 - val_mae: 30907.4707\n",
      "Epoch 123/500\n",
      "\u001b[1m81/81\u001b[0m \u001b[32m━━━━━━━━━━━━━━━━━━━━\u001b[0m\u001b[37m\u001b[0m \u001b[1m0s\u001b[0m 2ms/step - loss: 2661614080.0000 - mae: 22034.1426 - val_loss: 19192082432.0000 - val_mae: 30871.6797\n",
      "Epoch 124/500\n",
      "\u001b[1m81/81\u001b[0m \u001b[32m━━━━━━━━━━━━━━━━━━━━\u001b[0m\u001b[37m\u001b[0m \u001b[1m0s\u001b[0m 2ms/step - loss: 1858443776.0000 - mae: 20648.0391 - val_loss: 19192473600.0000 - val_mae: 30842.7637\n",
      "Epoch 125/500\n",
      "\u001b[1m81/81\u001b[0m \u001b[32m━━━━━━━━━━━━━━━━━━━━\u001b[0m\u001b[37m\u001b[0m \u001b[1m0s\u001b[0m 2ms/step - loss: 3048231168.0000 - mae: 21793.0371 - val_loss: 19190636544.0000 - val_mae: 30837.8750\n",
      "Epoch 126/500\n",
      "\u001b[1m81/81\u001b[0m \u001b[32m━━━━━━━━━━━━━━━━━━━━\u001b[0m\u001b[37m\u001b[0m \u001b[1m0s\u001b[0m 2ms/step - loss: 4269665536.0000 - mae: 22768.9316 - val_loss: 19190546432.0000 - val_mae: 30817.8965\n",
      "Epoch 127/500\n",
      "\u001b[1m81/81\u001b[0m \u001b[32m━━━━━━━━━━━━━━━━━━━━\u001b[0m\u001b[37m\u001b[0m \u001b[1m0s\u001b[0m 1ms/step - loss: 3514739200.0000 - mae: 21382.2168 - val_loss: 19187982336.0000 - val_mae: 30836.5039\n",
      "Epoch 128/500\n",
      "\u001b[1m81/81\u001b[0m \u001b[32m━━━━━━━━━━━━━━━━━━━━\u001b[0m\u001b[37m\u001b[0m \u001b[1m0s\u001b[0m 2ms/step - loss: 3537892864.0000 - mae: 21544.5156 - val_loss: 19183915008.0000 - val_mae: 30872.1094\n",
      "Epoch 129/500\n",
      "\u001b[1m81/81\u001b[0m \u001b[32m━━━━━━━━━━━━━━━━━━━━\u001b[0m\u001b[37m\u001b[0m \u001b[1m0s\u001b[0m 2ms/step - loss: 4795143680.0000 - mae: 22320.7598 - val_loss: 19186479104.0000 - val_mae: 30804.5449\n",
      "Epoch 130/500\n",
      "\u001b[1m81/81\u001b[0m \u001b[32m━━━━━━━━━━━━━━━━━━━━\u001b[0m\u001b[37m\u001b[0m \u001b[1m0s\u001b[0m 2ms/step - loss: 4161568256.0000 - mae: 23021.0156 - val_loss: 19186485248.0000 - val_mae: 30787.6074\n",
      "Epoch 131/500\n",
      "\u001b[1m81/81\u001b[0m \u001b[32m━━━━━━━━━━━━━━━━━━━━\u001b[0m\u001b[37m\u001b[0m \u001b[1m0s\u001b[0m 2ms/step - loss: 4036061440.0000 - mae: 22637.9805 - val_loss: 19184984064.0000 - val_mae: 30779.1504\n",
      "Epoch 132/500\n",
      "\u001b[1m81/81\u001b[0m \u001b[32m━━━━━━━━━━━━━━━━━━━━\u001b[0m\u001b[37m\u001b[0m \u001b[1m0s\u001b[0m 2ms/step - loss: 2177755648.0000 - mae: 20866.2871 - val_loss: 19182102528.0000 - val_mae: 30801.5430\n",
      "Epoch 133/500\n",
      "\u001b[1m81/81\u001b[0m \u001b[32m━━━━━━━━━━━━━━━━━━━━\u001b[0m\u001b[37m\u001b[0m \u001b[1m0s\u001b[0m 2ms/step - loss: 1932129792.0000 - mae: 20256.8730 - val_loss: 19179927552.0000 - val_mae: 30806.9473\n",
      "Epoch 134/500\n",
      "\u001b[1m81/81\u001b[0m \u001b[32m━━━━━━━━━━━━━━━━━━━━\u001b[0m\u001b[37m\u001b[0m \u001b[1m0s\u001b[0m 2ms/step - loss: 3116057600.0000 - mae: 20655.7949 - val_loss: 19176886272.0000 - val_mae: 30831.9258\n",
      "Epoch 135/500\n",
      "\u001b[1m81/81\u001b[0m \u001b[32m━━━━━━━━━━━━━━━━━━━━\u001b[0m\u001b[37m\u001b[0m \u001b[1m0s\u001b[0m 2ms/step - loss: 2440899840.0000 - mae: 21143.1973 - val_loss: 19173756928.0000 - val_mae: 30868.0195\n",
      "Epoch 136/500\n",
      "\u001b[1m81/81\u001b[0m \u001b[32m━━━━━━━━━━━━━━━━━━━━\u001b[0m\u001b[37m\u001b[0m \u001b[1m0s\u001b[0m 1ms/step - loss: 4152567296.0000 - mae: 22075.1738 - val_loss: 19171966976.0000 - val_mae: 30871.9258\n",
      "Epoch 137/500\n",
      "\u001b[1m81/81\u001b[0m \u001b[32m━━━━━━━━━━━━━━━━━━━━\u001b[0m\u001b[37m\u001b[0m \u001b[1m0s\u001b[0m 2ms/step - loss: 7343230976.0000 - mae: 25254.4551 - val_loss: 19171289088.0000 - val_mae: 30870.6953\n",
      "Epoch 138/500\n",
      "\u001b[1m81/81\u001b[0m \u001b[32m━━━━━━━━━━━━━━━━━━━━\u001b[0m\u001b[37m\u001b[0m \u001b[1m0s\u001b[0m 2ms/step - loss: 4826508288.0000 - mae: 22415.9785 - val_loss: 19172859904.0000 - val_mae: 30829.6797\n",
      "Epoch 139/500\n",
      "\u001b[1m81/81\u001b[0m \u001b[32m━━━━━━━━━━━━━━━━━━━━\u001b[0m\u001b[37m\u001b[0m \u001b[1m0s\u001b[0m 2ms/step - loss: 3010698752.0000 - mae: 21366.2559 - val_loss: 19170838528.0000 - val_mae: 30846.8809\n",
      "Epoch 140/500\n",
      "\u001b[1m81/81\u001b[0m \u001b[32m━━━━━━━━━━━━━━━━━━━━\u001b[0m\u001b[37m\u001b[0m \u001b[1m0s\u001b[0m 2ms/step - loss: 2220694784.0000 - mae: 21049.2539 - val_loss: 19170336768.0000 - val_mae: 30828.8320\n",
      "Epoch 141/500\n",
      "\u001b[1m81/81\u001b[0m \u001b[32m━━━━━━━━━━━━━━━━━━━━\u001b[0m\u001b[37m\u001b[0m \u001b[1m0s\u001b[0m 2ms/step - loss: 2816869120.0000 - mae: 20285.8008 - val_loss: 19167684608.0000 - val_mae: 30864.9727\n",
      "Epoch 142/500\n",
      "\u001b[1m81/81\u001b[0m \u001b[32m━━━━━━━━━━━━━━━━━━━━\u001b[0m\u001b[37m\u001b[0m \u001b[1m0s\u001b[0m 2ms/step - loss: 2311327488.0000 - mae: 21045.0039 - val_loss: 19165634560.0000 - val_mae: 30881.5957\n",
      "Epoch 143/500\n",
      "\u001b[1m81/81\u001b[0m \u001b[32m━━━━━━━━━━━━━━━━━━━━\u001b[0m\u001b[37m\u001b[0m \u001b[1m0s\u001b[0m 2ms/step - loss: 1465778432.0000 - mae: 19088.8008 - val_loss: 19164921856.0000 - val_mae: 30879.0840\n",
      "Epoch 144/500\n",
      "\u001b[1m81/81\u001b[0m \u001b[32m━━━━━━━━━━━━━━━━━━━━\u001b[0m\u001b[37m\u001b[0m \u001b[1m0s\u001b[0m 2ms/step - loss: 2082166912.0000 - mae: 21071.7324 - val_loss: 19159986176.0000 - val_mae: 30935.5820\n",
      "Epoch 145/500\n",
      "\u001b[1m81/81\u001b[0m \u001b[32m━━━━━━━━━━━━━━━━━━━━\u001b[0m\u001b[37m\u001b[0m \u001b[1m0s\u001b[0m 2ms/step - loss: 1813811584.0000 - mae: 19981.1270 - val_loss: 19162540032.0000 - val_mae: 30879.9727\n",
      "Epoch 146/500\n",
      "\u001b[1m81/81\u001b[0m \u001b[32m━━━━━━━━━━━━━━━━━━━━\u001b[0m\u001b[37m\u001b[0m \u001b[1m0s\u001b[0m 2ms/step - loss: 4017916928.0000 - mae: 21683.5742 - val_loss: 19159726080.0000 - val_mae: 30914.4961\n",
      "Epoch 147/500\n",
      "\u001b[1m81/81\u001b[0m \u001b[32m━━━━━━━━━━━━━━━━━━━━\u001b[0m\u001b[37m\u001b[0m \u001b[1m0s\u001b[0m 2ms/step - loss: 4049641728.0000 - mae: 21539.9941 - val_loss: 19156488192.0000 - val_mae: 30957.6973\n",
      "Epoch 148/500\n",
      "\u001b[1m81/81\u001b[0m \u001b[32m━━━━━━━━━━━━━━━━━━━━\u001b[0m\u001b[37m\u001b[0m \u001b[1m0s\u001b[0m 2ms/step - loss: 2550007552.0000 - mae: 20949.2188 - val_loss: 19156922368.0000 - val_mae: 30923.3027\n",
      "Epoch 149/500\n",
      "\u001b[1m81/81\u001b[0m \u001b[32m━━━━━━━━━━━━━━━━━━━━\u001b[0m\u001b[37m\u001b[0m \u001b[1m0s\u001b[0m 2ms/step - loss: 2506336000.0000 - mae: 21177.0977 - val_loss: 19157137408.0000 - val_mae: 30892.7285\n",
      "Epoch 150/500\n",
      "\u001b[1m81/81\u001b[0m \u001b[32m━━━━━━━━━━━━━━━━━━━━\u001b[0m\u001b[37m\u001b[0m \u001b[1m0s\u001b[0m 2ms/step - loss: 3893730304.0000 - mae: 21876.7090 - val_loss: 19154878464.0000 - val_mae: 30908.6445\n",
      "Epoch 151/500\n",
      "\u001b[1m81/81\u001b[0m \u001b[32m━━━━━━━━━━━━━━━━━━━━\u001b[0m\u001b[37m\u001b[0m \u001b[1m0s\u001b[0m 2ms/step - loss: 3262195456.0000 - mae: 21683.1191 - val_loss: 19152295936.0000 - val_mae: 30928.0840\n",
      "Epoch 152/500\n",
      "\u001b[1m81/81\u001b[0m \u001b[32m━━━━━━━━━━━━━━━━━━━━\u001b[0m\u001b[37m\u001b[0m \u001b[1m0s\u001b[0m 2ms/step - loss: 2698687232.0000 - mae: 21611.1270 - val_loss: 19151423488.0000 - val_mae: 30930.7734\n",
      "Epoch 153/500\n",
      "\u001b[1m81/81\u001b[0m \u001b[32m━━━━━━━━━━━━━━━━━━━━\u001b[0m\u001b[37m\u001b[0m \u001b[1m0s\u001b[0m 2ms/step - loss: 5193729024.0000 - mae: 22891.0059 - val_loss: 19152572416.0000 - val_mae: 30874.9004\n",
      "Epoch 154/500\n",
      "\u001b[1m81/81\u001b[0m \u001b[32m━━━━━━━━━━━━━━━━━━━━\u001b[0m\u001b[37m\u001b[0m \u001b[1m0s\u001b[0m 2ms/step - loss: 2941203200.0000 - mae: 20754.2090 - val_loss: 19144226816.0000 - val_mae: 30978.1934\n",
      "Epoch 155/500\n",
      "\u001b[1m81/81\u001b[0m \u001b[32m━━━━━━━━━━━━━━━━━━━━\u001b[0m\u001b[37m\u001b[0m \u001b[1m0s\u001b[0m 2ms/step - loss: 5493998080.0000 - mae: 23656.8496 - val_loss: 19144050688.0000 - val_mae: 30959.7500\n",
      "Epoch 156/500\n",
      "\u001b[1m81/81\u001b[0m \u001b[32m━━━━━━━━━━━━━━━━━━━━\u001b[0m\u001b[37m\u001b[0m \u001b[1m0s\u001b[0m 2ms/step - loss: 4300202496.0000 - mae: 22382.8262 - val_loss: 19143378944.0000 - val_mae: 30940.3027\n",
      "Epoch 157/500\n",
      "\u001b[1m81/81\u001b[0m \u001b[32m━━━━━━━━━━━━━━━━━━━━\u001b[0m\u001b[37m\u001b[0m \u001b[1m0s\u001b[0m 2ms/step - loss: 3253502976.0000 - mae: 22755.7461 - val_loss: 19142920192.0000 - val_mae: 30933.3574\n",
      "Epoch 158/500\n",
      "\u001b[1m81/81\u001b[0m \u001b[32m━━━━━━━━━━━━━━━━━━━━\u001b[0m\u001b[37m\u001b[0m \u001b[1m0s\u001b[0m 2ms/step - loss: 2614183424.0000 - mae: 20650.3672 - val_loss: 19142270976.0000 - val_mae: 30940.7031\n",
      "Epoch 159/500\n",
      "\u001b[1m81/81\u001b[0m \u001b[32m━━━━━━━━━━━━━━━━━━━━\u001b[0m\u001b[37m\u001b[0m \u001b[1m0s\u001b[0m 2ms/step - loss: 2670137088.0000 - mae: 20867.8789 - val_loss: 19141648384.0000 - val_mae: 30912.4082\n",
      "Epoch 160/500\n",
      "\u001b[1m81/81\u001b[0m \u001b[32m━━━━━━━━━━━━━━━━━━━━\u001b[0m\u001b[37m\u001b[0m \u001b[1m0s\u001b[0m 2ms/step - loss: 1704006144.0000 - mae: 20382.6484 - val_loss: 19144880128.0000 - val_mae: 30856.1055\n",
      "Epoch 161/500\n",
      "\u001b[1m81/81\u001b[0m \u001b[32m━━━━━━━━━━━━━━━━━━━━\u001b[0m\u001b[37m\u001b[0m \u001b[1m0s\u001b[0m 2ms/step - loss: 2324418304.0000 - mae: 21408.3262 - val_loss: 19140642816.0000 - val_mae: 30886.3984\n",
      "Epoch 162/500\n",
      "\u001b[1m81/81\u001b[0m \u001b[32m━━━━━━━━━━━━━━━━━━━━\u001b[0m\u001b[37m\u001b[0m \u001b[1m0s\u001b[0m 2ms/step - loss: 2121357824.0000 - mae: 21342.2715 - val_loss: 19141130240.0000 - val_mae: 30883.0879\n",
      "Epoch 163/500\n",
      "\u001b[1m81/81\u001b[0m \u001b[32m━━━━━━━━━━━━━━━━━━━━\u001b[0m\u001b[37m\u001b[0m \u001b[1m0s\u001b[0m 2ms/step - loss: 7265844736.0000 - mae: 24034.5840 - val_loss: 19140202496.0000 - val_mae: 30872.8125\n",
      "Epoch 164/500\n",
      "\u001b[1m81/81\u001b[0m \u001b[32m━━━━━━━━━━━━━━━━━━━━\u001b[0m\u001b[37m\u001b[0m \u001b[1m0s\u001b[0m 2ms/step - loss: 2736773888.0000 - mae: 21069.5371 - val_loss: 19137646592.0000 - val_mae: 30898.4180\n",
      "Epoch 165/500\n",
      "\u001b[1m81/81\u001b[0m \u001b[32m━━━━━━━━━━━━━━━━━━━━\u001b[0m\u001b[37m\u001b[0m \u001b[1m0s\u001b[0m 2ms/step - loss: 1818764160.0000 - mae: 20474.8203 - val_loss: 19136073728.0000 - val_mae: 30925.9746\n",
      "Epoch 166/500\n",
      "\u001b[1m81/81\u001b[0m \u001b[32m━━━━━━━━━━━━━━━━━━━━\u001b[0m\u001b[37m\u001b[0m \u001b[1m0s\u001b[0m 2ms/step - loss: 5821419008.0000 - mae: 22901.6348 - val_loss: 19135647744.0000 - val_mae: 30905.6426\n",
      "Epoch 167/500\n",
      "\u001b[1m81/81\u001b[0m \u001b[32m━━━━━━━━━━━━━━━━━━━━\u001b[0m\u001b[37m\u001b[0m \u001b[1m0s\u001b[0m 2ms/step - loss: 5460805120.0000 - mae: 23094.8809 - val_loss: 19135371264.0000 - val_mae: 30889.9219\n",
      "Epoch 168/500\n",
      "\u001b[1m81/81\u001b[0m \u001b[32m━━━━━━━━━━━━━━━━━━━━\u001b[0m\u001b[37m\u001b[0m \u001b[1m0s\u001b[0m 2ms/step - loss: 2607661056.0000 - mae: 21084.2207 - val_loss: 19134775296.0000 - val_mae: 30884.7168\n",
      "Epoch 169/500\n",
      "\u001b[1m81/81\u001b[0m \u001b[32m━━━━━━━━━━━━━━━━━━━━\u001b[0m\u001b[37m\u001b[0m \u001b[1m0s\u001b[0m 2ms/step - loss: 2183212800.0000 - mae: 21268.0352 - val_loss: 19136348160.0000 - val_mae: 30857.0957\n",
      "Epoch 170/500\n",
      "\u001b[1m81/81\u001b[0m \u001b[32m━━━━━━━━━━━━━━━━━━━━\u001b[0m\u001b[37m\u001b[0m \u001b[1m0s\u001b[0m 2ms/step - loss: 2530457344.0000 - mae: 21376.4785 - val_loss: 19132286976.0000 - val_mae: 30895.7949\n",
      "Epoch 171/500\n",
      "\u001b[1m81/81\u001b[0m \u001b[32m━━━━━━━━━━━━━━━━━━━━\u001b[0m\u001b[37m\u001b[0m \u001b[1m0s\u001b[0m 2ms/step - loss: 4031887616.0000 - mae: 21587.4121 - val_loss: 19129892864.0000 - val_mae: 30918.5117\n",
      "Epoch 172/500\n",
      "\u001b[1m81/81\u001b[0m \u001b[32m━━━━━━━━━━━━━━━━━━━━\u001b[0m\u001b[37m\u001b[0m \u001b[1m0s\u001b[0m 2ms/step - loss: 2148753664.0000 - mae: 20958.2500 - val_loss: 19130601472.0000 - val_mae: 30891.3203\n",
      "Epoch 173/500\n",
      "\u001b[1m81/81\u001b[0m \u001b[32m━━━━━━━━━━━━━━━━━━━━\u001b[0m\u001b[37m\u001b[0m \u001b[1m0s\u001b[0m 2ms/step - loss: 2639417856.0000 - mae: 20846.2090 - val_loss: 19131815936.0000 - val_mae: 30861.7383\n",
      "Epoch 174/500\n",
      "\u001b[1m81/81\u001b[0m \u001b[32m━━━━━━━━━━━━━━━━━━━━\u001b[0m\u001b[37m\u001b[0m \u001b[1m0s\u001b[0m 2ms/step - loss: 2029900928.0000 - mae: 20854.9492 - val_loss: 19128713216.0000 - val_mae: 30925.2188\n",
      "Epoch 175/500\n",
      "\u001b[1m81/81\u001b[0m \u001b[32m━━━━━━━━━━━━━━━━━━━━\u001b[0m\u001b[37m\u001b[0m \u001b[1m0s\u001b[0m 1ms/step - loss: 2092815232.0000 - mae: 21225.7051 - val_loss: 19129600000.0000 - val_mae: 30893.4121\n",
      "Epoch 176/500\n",
      "\u001b[1m81/81\u001b[0m \u001b[32m━━━━━━━━━━━━━━━━━━━━\u001b[0m\u001b[37m\u001b[0m \u001b[1m0s\u001b[0m 2ms/step - loss: 2294806016.0000 - mae: 21583.0898 - val_loss: 19128915968.0000 - val_mae: 30892.7266\n",
      "Epoch 177/500\n",
      "\u001b[1m81/81\u001b[0m \u001b[32m━━━━━━━━━━━━━━━━━━━━\u001b[0m\u001b[37m\u001b[0m \u001b[1m0s\u001b[0m 2ms/step - loss: 2239082496.0000 - mae: 20878.0312 - val_loss: 19122569216.0000 - val_mae: 30996.3516\n",
      "Epoch 178/500\n",
      "\u001b[1m81/81\u001b[0m \u001b[32m━━━━━━━━━━━━━━━━━━━━\u001b[0m\u001b[37m\u001b[0m \u001b[1m0s\u001b[0m 2ms/step - loss: 4415486976.0000 - mae: 23917.1074 - val_loss: 19123152896.0000 - val_mae: 30966.8047\n",
      "Epoch 179/500\n",
      "\u001b[1m81/81\u001b[0m \u001b[32m━━━━━━━━━━━━━━━━━━━━\u001b[0m\u001b[37m\u001b[0m \u001b[1m0s\u001b[0m 2ms/step - loss: 3426355712.0000 - mae: 22462.3242 - val_loss: 19124117504.0000 - val_mae: 30925.3652\n",
      "Epoch 180/500\n",
      "\u001b[1m81/81\u001b[0m \u001b[32m━━━━━━━━━━━━━━━━━━━━\u001b[0m\u001b[37m\u001b[0m \u001b[1m0s\u001b[0m 2ms/step - loss: 2182621696.0000 - mae: 20970.1543 - val_loss: 19122556928.0000 - val_mae: 30941.5918\n",
      "Epoch 181/500\n",
      "\u001b[1m81/81\u001b[0m \u001b[32m━━━━━━━━━━━━━━━━━━━━\u001b[0m\u001b[37m\u001b[0m \u001b[1m0s\u001b[0m 2ms/step - loss: 4382919168.0000 - mae: 22559.8203 - val_loss: 19121674240.0000 - val_mae: 30927.3828\n",
      "Epoch 182/500\n",
      "\u001b[1m81/81\u001b[0m \u001b[32m━━━━━━━━━━━━━━━━━━━━\u001b[0m\u001b[37m\u001b[0m \u001b[1m0s\u001b[0m 2ms/step - loss: 1866059136.0000 - mae: 20846.2969 - val_loss: 19124250624.0000 - val_mae: 30876.5176\n",
      "Epoch 183/500\n",
      "\u001b[1m81/81\u001b[0m \u001b[32m━━━━━━━━━━━━━━━━━━━━\u001b[0m\u001b[37m\u001b[0m \u001b[1m0s\u001b[0m 2ms/step - loss: 2211867392.0000 - mae: 20792.2949 - val_loss: 19121494016.0000 - val_mae: 30896.4648\n",
      "Epoch 184/500\n",
      "\u001b[1m81/81\u001b[0m \u001b[32m━━━━━━━━━━━━━━━━━━━━\u001b[0m\u001b[37m\u001b[0m \u001b[1m0s\u001b[0m 2ms/step - loss: 2096668800.0000 - mae: 21885.1465 - val_loss: 19124860928.0000 - val_mae: 30849.9414\n",
      "Epoch 185/500\n",
      "\u001b[1m81/81\u001b[0m \u001b[32m━━━━━━━━━━━━━━━━━━━━\u001b[0m\u001b[37m\u001b[0m \u001b[1m0s\u001b[0m 2ms/step - loss: 3425718272.0000 - mae: 21678.0195 - val_loss: 19119243264.0000 - val_mae: 30884.7891\n",
      "Epoch 186/500\n",
      "\u001b[1m81/81\u001b[0m \u001b[32m━━━━━━━━━━━━━━━━━━━━\u001b[0m\u001b[37m\u001b[0m \u001b[1m0s\u001b[0m 2ms/step - loss: 4453040640.0000 - mae: 21764.2051 - val_loss: 19117883392.0000 - val_mae: 30897.0625\n",
      "Epoch 187/500\n",
      "\u001b[1m81/81\u001b[0m \u001b[32m━━━━━━━━━━━━━━━━━━━━\u001b[0m\u001b[37m\u001b[0m \u001b[1m0s\u001b[0m 2ms/step - loss: 4896282624.0000 - mae: 22358.9902 - val_loss: 19117494272.0000 - val_mae: 30888.3984\n",
      "Epoch 188/500\n",
      "\u001b[1m81/81\u001b[0m \u001b[32m━━━━━━━━━━━━━━━━━━━━\u001b[0m\u001b[37m\u001b[0m \u001b[1m0s\u001b[0m 2ms/step - loss: 2574934784.0000 - mae: 21741.5352 - val_loss: 19115470848.0000 - val_mae: 30920.4824\n",
      "Epoch 189/500\n",
      "\u001b[1m81/81\u001b[0m \u001b[32m━━━━━━━━━━━━━━━━━━━━\u001b[0m\u001b[37m\u001b[0m \u001b[1m0s\u001b[0m 2ms/step - loss: 1956043136.0000 - mae: 19656.8516 - val_loss: 19116011520.0000 - val_mae: 30895.2715\n",
      "Epoch 190/500\n",
      "\u001b[1m81/81\u001b[0m \u001b[32m━━━━━━━━━━━━━━━━━━━━\u001b[0m\u001b[37m\u001b[0m \u001b[1m0s\u001b[0m 2ms/step - loss: 2106190976.0000 - mae: 20376.9883 - val_loss: 19112849408.0000 - val_mae: 30942.9727\n",
      "Epoch 191/500\n",
      "\u001b[1m81/81\u001b[0m \u001b[32m━━━━━━━━━━━━━━━━━━━━\u001b[0m\u001b[37m\u001b[0m \u001b[1m0s\u001b[0m 1ms/step - loss: 2152711424.0000 - mae: 20507.9121 - val_loss: 19111114752.0000 - val_mae: 30962.3125\n",
      "Epoch 192/500\n",
      "\u001b[1m81/81\u001b[0m \u001b[32m━━━━━━━━━━━━━━━━━━━━\u001b[0m\u001b[37m\u001b[0m \u001b[1m0s\u001b[0m 2ms/step - loss: 2000678912.0000 - mae: 21167.9785 - val_loss: 19114741760.0000 - val_mae: 30917.1875\n",
      "Epoch 193/500\n",
      "\u001b[1m81/81\u001b[0m \u001b[32m━━━━━━━━━━━━━━━━━━━━\u001b[0m\u001b[37m\u001b[0m \u001b[1m0s\u001b[0m 2ms/step - loss: 6065814528.0000 - mae: 23963.1953 - val_loss: 19111749632.0000 - val_mae: 30929.4082\n",
      "Epoch 194/500\n",
      "\u001b[1m81/81\u001b[0m \u001b[32m━━━━━━━━━━━━━━━━━━━━\u001b[0m\u001b[37m\u001b[0m \u001b[1m0s\u001b[0m 1ms/step - loss: 4277316352.0000 - mae: 22132.1094 - val_loss: 19112824832.0000 - val_mae: 30893.7578\n",
      "Epoch 195/500\n",
      "\u001b[1m81/81\u001b[0m \u001b[32m━━━━━━━━━━━━━━━━━━━━\u001b[0m\u001b[37m\u001b[0m \u001b[1m0s\u001b[0m 1ms/step - loss: 8509092352.0000 - mae: 24755.8750 - val_loss: 19111596032.0000 - val_mae: 30900.4297\n",
      "Epoch 196/500\n",
      "\u001b[1m81/81\u001b[0m \u001b[32m━━━━━━━━━━━━━━━━━━━━\u001b[0m\u001b[37m\u001b[0m \u001b[1m0s\u001b[0m 2ms/step - loss: 8393651200.0000 - mae: 24599.6699 - val_loss: 19110152192.0000 - val_mae: 30927.2656\n",
      "Epoch 197/500\n",
      "\u001b[1m81/81\u001b[0m \u001b[32m━━━━━━━━━━━━━━━━━━━━\u001b[0m\u001b[37m\u001b[0m \u001b[1m0s\u001b[0m 1ms/step - loss: 2289665536.0000 - mae: 21001.3750 - val_loss: 19110103040.0000 - val_mae: 30912.8496\n",
      "Epoch 198/500\n",
      "\u001b[1m81/81\u001b[0m \u001b[32m━━━━━━━━━━━━━━━━━━━━\u001b[0m\u001b[37m\u001b[0m \u001b[1m0s\u001b[0m 1ms/step - loss: 4853713920.0000 - mae: 23735.6602 - val_loss: 19109951488.0000 - val_mae: 30901.5703\n",
      "Epoch 199/500\n",
      "\u001b[1m81/81\u001b[0m \u001b[32m━━━━━━━━━━━━━━━━━━━━\u001b[0m\u001b[37m\u001b[0m \u001b[1m0s\u001b[0m 2ms/step - loss: 5374539776.0000 - mae: 22287.8477 - val_loss: 19108452352.0000 - val_mae: 30904.2812\n",
      "Epoch 200/500\n",
      "\u001b[1m81/81\u001b[0m \u001b[32m━━━━━━━━━━━━━━━━━━━━\u001b[0m\u001b[37m\u001b[0m \u001b[1m0s\u001b[0m 2ms/step - loss: 2502307840.0000 - mae: 21688.6973 - val_loss: 19110471680.0000 - val_mae: 30859.7344\n",
      "Epoch 201/500\n",
      "\u001b[1m81/81\u001b[0m \u001b[32m━━━━━━━━━━━━━━━━━━━━\u001b[0m\u001b[37m\u001b[0m \u001b[1m0s\u001b[0m 2ms/step - loss: 2683116800.0000 - mae: 21442.7793 - val_loss: 19108741120.0000 - val_mae: 30872.3242\n",
      "Epoch 202/500\n",
      "\u001b[1m81/81\u001b[0m \u001b[32m━━━━━━━━━━━━━━━━━━━━\u001b[0m\u001b[37m\u001b[0m \u001b[1m0s\u001b[0m 2ms/step - loss: 2565852928.0000 - mae: 21475.9375 - val_loss: 19109203968.0000 - val_mae: 30857.3516\n",
      "Epoch 203/500\n",
      "\u001b[1m81/81\u001b[0m \u001b[32m━━━━━━━━━━━━━━━━━━━━\u001b[0m\u001b[37m\u001b[0m \u001b[1m0s\u001b[0m 2ms/step - loss: 3684257536.0000 - mae: 21043.1816 - val_loss: 19105646592.0000 - val_mae: 30903.2656\n",
      "Epoch 204/500\n",
      "\u001b[1m81/81\u001b[0m \u001b[32m━━━━━━━━━━━━━━━━━━━━\u001b[0m\u001b[37m\u001b[0m \u001b[1m0s\u001b[0m 1ms/step - loss: 2032719488.0000 - mae: 21230.8848 - val_loss: 19106131968.0000 - val_mae: 30884.9688\n",
      "Epoch 205/500\n",
      "\u001b[1m81/81\u001b[0m \u001b[32m━━━━━━━━━━━━━━━━━━━━\u001b[0m\u001b[37m\u001b[0m \u001b[1m0s\u001b[0m 2ms/step - loss: 2336657920.0000 - mae: 19948.1348 - val_loss: 19103864832.0000 - val_mae: 30897.2246\n",
      "Epoch 206/500\n",
      "\u001b[1m81/81\u001b[0m \u001b[32m━━━━━━━━━━━━━━━━━━━━\u001b[0m\u001b[37m\u001b[0m \u001b[1m0s\u001b[0m 2ms/step - loss: 2221617408.0000 - mae: 20890.5371 - val_loss: 19103623168.0000 - val_mae: 30883.7598\n",
      "Epoch 207/500\n",
      "\u001b[1m81/81\u001b[0m \u001b[32m━━━━━━━━━━━━━━━━━━━━\u001b[0m\u001b[37m\u001b[0m \u001b[1m0s\u001b[0m 1ms/step - loss: 4603277824.0000 - mae: 22707.6797 - val_loss: 19099920384.0000 - val_mae: 30938.2422\n",
      "Epoch 208/500\n",
      "\u001b[1m81/81\u001b[0m \u001b[32m━━━━━━━━━━━━━━━━━━━━\u001b[0m\u001b[37m\u001b[0m \u001b[1m0s\u001b[0m 2ms/step - loss: 5590017024.0000 - mae: 22425.6895 - val_loss: 19100098560.0000 - val_mae: 30925.6855\n",
      "Epoch 209/500\n",
      "\u001b[1m81/81\u001b[0m \u001b[32m━━━━━━━━━━━━━━━━━━━━\u001b[0m\u001b[37m\u001b[0m \u001b[1m0s\u001b[0m 1ms/step - loss: 4218598656.0000 - mae: 21987.7793 - val_loss: 19100106752.0000 - val_mae: 30899.5117\n",
      "Epoch 210/500\n",
      "\u001b[1m81/81\u001b[0m \u001b[32m━━━━━━━━━━━━━━━━━━━━\u001b[0m\u001b[37m\u001b[0m \u001b[1m0s\u001b[0m 2ms/step - loss: 3479278336.0000 - mae: 22186.0156 - val_loss: 19100811264.0000 - val_mae: 30891.8730\n",
      "Epoch 211/500\n",
      "\u001b[1m81/81\u001b[0m \u001b[32m━━━━━━━━━━━━━━━━━━━━\u001b[0m\u001b[37m\u001b[0m \u001b[1m0s\u001b[0m 2ms/step - loss: 7255149056.0000 - mae: 23654.4062 - val_loss: 19099543552.0000 - val_mae: 30901.9531\n",
      "Epoch 212/500\n",
      "\u001b[1m81/81\u001b[0m \u001b[32m━━━━━━━━━━━━━━━━━━━━\u001b[0m\u001b[37m\u001b[0m \u001b[1m0s\u001b[0m 2ms/step - loss: 2669682432.0000 - mae: 21190.8672 - val_loss: 19097868288.0000 - val_mae: 30929.3926\n",
      "Epoch 213/500\n",
      "\u001b[1m81/81\u001b[0m \u001b[32m━━━━━━━━━━━━━━━━━━━━\u001b[0m\u001b[37m\u001b[0m \u001b[1m0s\u001b[0m 2ms/step - loss: 3529327616.0000 - mae: 22364.0176 - val_loss: 19097425920.0000 - val_mae: 30921.8535\n",
      "Epoch 214/500\n",
      "\u001b[1m81/81\u001b[0m \u001b[32m━━━━━━━━━━━━━━━━━━━━\u001b[0m\u001b[37m\u001b[0m \u001b[1m0s\u001b[0m 2ms/step - loss: 4201329408.0000 - mae: 22170.2168 - val_loss: 19097985024.0000 - val_mae: 30897.0273\n",
      "Epoch 215/500\n",
      "\u001b[1m81/81\u001b[0m \u001b[32m━━━━━━━━━━━━━━━━━━━━\u001b[0m\u001b[37m\u001b[0m \u001b[1m0s\u001b[0m 2ms/step - loss: 4661273088.0000 - mae: 21855.7441 - val_loss: 19101222912.0000 - val_mae: 30832.5762\n",
      "Epoch 216/500\n",
      "\u001b[1m81/81\u001b[0m \u001b[32m━━━━━━━━━━━━━━━━━━━━\u001b[0m\u001b[37m\u001b[0m \u001b[1m0s\u001b[0m 2ms/step - loss: 4143545600.0000 - mae: 21840.4277 - val_loss: 19101429760.0000 - val_mae: 30827.9531\n",
      "Epoch 217/500\n",
      "\u001b[1m81/81\u001b[0m \u001b[32m━━━━━━━━━━━━━━━━━━━━\u001b[0m\u001b[37m\u001b[0m \u001b[1m0s\u001b[0m 2ms/step - loss: 2886018048.0000 - mae: 21589.0293 - val_loss: 19098275840.0000 - val_mae: 30861.6328\n",
      "Epoch 218/500\n",
      "\u001b[1m81/81\u001b[0m \u001b[32m━━━━━━━━━━━━━━━━━━━━\u001b[0m\u001b[37m\u001b[0m \u001b[1m0s\u001b[0m 2ms/step - loss: 2821345536.0000 - mae: 21613.1016 - val_loss: 19099447296.0000 - val_mae: 30832.6641\n",
      "Epoch 219/500\n",
      "\u001b[1m81/81\u001b[0m \u001b[32m━━━━━━━━━━━━━━━━━━━━\u001b[0m\u001b[37m\u001b[0m \u001b[1m0s\u001b[0m 2ms/step - loss: 2980746240.0000 - mae: 21104.5293 - val_loss: 19098746880.0000 - val_mae: 30821.9473\n",
      "Epoch 220/500\n",
      "\u001b[1m81/81\u001b[0m \u001b[32m━━━━━━━━━━━━━━━━━━━━\u001b[0m\u001b[37m\u001b[0m \u001b[1m0s\u001b[0m 2ms/step - loss: 2639909888.0000 - mae: 21348.3047 - val_loss: 19097444352.0000 - val_mae: 30823.7109\n",
      "Epoch 221/500\n",
      "\u001b[1m81/81\u001b[0m \u001b[32m━━━━━━━━━━━━━━━━━━━━\u001b[0m\u001b[37m\u001b[0m \u001b[1m0s\u001b[0m 2ms/step - loss: 1880399104.0000 - mae: 20375.0547 - val_loss: 19097554944.0000 - val_mae: 30834.1426\n",
      "Epoch 222/500\n",
      "\u001b[1m81/81\u001b[0m \u001b[32m━━━━━━━━━━━━━━━━━━━━\u001b[0m\u001b[37m\u001b[0m \u001b[1m0s\u001b[0m 2ms/step - loss: 2565162240.0000 - mae: 22291.5410 - val_loss: 19093280768.0000 - val_mae: 30870.5293\n",
      "Epoch 223/500\n",
      "\u001b[1m81/81\u001b[0m \u001b[32m━━━━━━━━━━━━━━━━━━━━\u001b[0m\u001b[37m\u001b[0m \u001b[1m0s\u001b[0m 2ms/step - loss: 1603201408.0000 - mae: 20251.7891 - val_loss: 19098259456.0000 - val_mae: 30794.8535\n",
      "Epoch 224/500\n",
      "\u001b[1m81/81\u001b[0m \u001b[32m━━━━━━━━━━━━━━━━━━━━\u001b[0m\u001b[37m\u001b[0m \u001b[1m0s\u001b[0m 2ms/step - loss: 2767972352.0000 - mae: 21417.6230 - val_loss: 19092330496.0000 - val_mae: 30845.5488\n",
      "Epoch 225/500\n",
      "\u001b[1m81/81\u001b[0m \u001b[32m━━━━━━━━━━━━━━━━━━━━\u001b[0m\u001b[37m\u001b[0m \u001b[1m0s\u001b[0m 1ms/step - loss: 3690323712.0000 - mae: 21974.6699 - val_loss: 19091535872.0000 - val_mae: 30857.1719\n",
      "Epoch 226/500\n",
      "\u001b[1m81/81\u001b[0m \u001b[32m━━━━━━━━━━━━━━━━━━━━\u001b[0m\u001b[37m\u001b[0m \u001b[1m0s\u001b[0m 2ms/step - loss: 2572267008.0000 - mae: 20695.8359 - val_loss: 19090104320.0000 - val_mae: 30858.7070\n",
      "Epoch 227/500\n",
      "\u001b[1m81/81\u001b[0m \u001b[32m━━━━━━━━━━━━━━━━━━━━\u001b[0m\u001b[37m\u001b[0m \u001b[1m0s\u001b[0m 2ms/step - loss: 3074243072.0000 - mae: 21488.2754 - val_loss: 19089354752.0000 - val_mae: 30880.7695\n",
      "Epoch 228/500\n",
      "\u001b[1m81/81\u001b[0m \u001b[32m━━━━━━━━━━━━━━━━━━━━\u001b[0m\u001b[37m\u001b[0m \u001b[1m0s\u001b[0m 2ms/step - loss: 2885455104.0000 - mae: 22107.7676 - val_loss: 19089362944.0000 - val_mae: 30866.8184\n",
      "Epoch 229/500\n",
      "\u001b[1m81/81\u001b[0m \u001b[32m━━━━━━━━━━━━━━━━━━━━\u001b[0m\u001b[37m\u001b[0m \u001b[1m0s\u001b[0m 1ms/step - loss: 2967921664.0000 - mae: 20713.3398 - val_loss: 19087757312.0000 - val_mae: 30874.4512\n",
      "Epoch 230/500\n",
      "\u001b[1m81/81\u001b[0m \u001b[32m━━━━━━━━━━━━━━━━━━━━\u001b[0m\u001b[37m\u001b[0m \u001b[1m0s\u001b[0m 2ms/step - loss: 5009984000.0000 - mae: 23295.9121 - val_loss: 19091879936.0000 - val_mae: 30799.9062\n",
      "Epoch 231/500\n",
      "\u001b[1m81/81\u001b[0m \u001b[32m━━━━━━━━━━━━━━━━━━━━\u001b[0m\u001b[37m\u001b[0m \u001b[1m0s\u001b[0m 2ms/step - loss: 2883038208.0000 - mae: 21041.5391 - val_loss: 19091879936.0000 - val_mae: 30787.5449\n",
      "Epoch 232/500\n",
      "\u001b[1m81/81\u001b[0m \u001b[32m━━━━━━━━━━━━━━━━━━━━\u001b[0m\u001b[37m\u001b[0m \u001b[1m0s\u001b[0m 2ms/step - loss: 4629991424.0000 - mae: 22770.8008 - val_loss: 19089549312.0000 - val_mae: 30810.9727\n",
      "Epoch 233/500\n",
      "\u001b[1m81/81\u001b[0m \u001b[32m━━━━━━━━━━━━━━━━━━━━\u001b[0m\u001b[37m\u001b[0m \u001b[1m0s\u001b[0m 2ms/step - loss: 2576619776.0000 - mae: 21395.0430 - val_loss: 19083038720.0000 - val_mae: 30918.3301\n",
      "Epoch 234/500\n",
      "\u001b[1m81/81\u001b[0m \u001b[32m━━━━━━━━━━━━━━━━━━━━\u001b[0m\u001b[37m\u001b[0m \u001b[1m0s\u001b[0m 2ms/step - loss: 2384648192.0000 - mae: 21235.7988 - val_loss: 19086792704.0000 - val_mae: 30847.0625\n",
      "Epoch 235/500\n",
      "\u001b[1m81/81\u001b[0m \u001b[32m━━━━━━━━━━━━━━━━━━━━\u001b[0m\u001b[37m\u001b[0m \u001b[1m0s\u001b[0m 2ms/step - loss: 1527607552.0000 - mae: 19906.0977 - val_loss: 19087167488.0000 - val_mae: 30826.6016\n",
      "Epoch 236/500\n",
      "\u001b[1m81/81\u001b[0m \u001b[32m━━━━━━━━━━━━━━━━━━━━\u001b[0m\u001b[37m\u001b[0m \u001b[1m0s\u001b[0m 2ms/step - loss: 1408401792.0000 - mae: 19553.1758 - val_loss: 19088132096.0000 - val_mae: 30820.0117\n",
      "Epoch 237/500\n",
      "\u001b[1m81/81\u001b[0m \u001b[32m━━━━━━━━━━━━━━━━━━━━\u001b[0m\u001b[37m\u001b[0m \u001b[1m0s\u001b[0m 1ms/step - loss: 2246191360.0000 - mae: 20890.0039 - val_loss: 19080998912.0000 - val_mae: 30905.0430\n",
      "Epoch 238/500\n",
      "\u001b[1m81/81\u001b[0m \u001b[32m━━━━━━━━━━━━━━━━━━━━\u001b[0m\u001b[37m\u001b[0m \u001b[1m0s\u001b[0m 1ms/step - loss: 2020977920.0000 - mae: 21197.1074 - val_loss: 19082745856.0000 - val_mae: 30859.3086\n",
      "Epoch 239/500\n",
      "\u001b[1m81/81\u001b[0m \u001b[32m━━━━━━━━━━━━━━━━━━━━\u001b[0m\u001b[37m\u001b[0m \u001b[1m0s\u001b[0m 2ms/step - loss: 3392984576.0000 - mae: 22123.8926 - val_loss: 19080290304.0000 - val_mae: 30896.5039\n",
      "Epoch 240/500\n",
      "\u001b[1m81/81\u001b[0m \u001b[32m━━━━━━━━━━━━━━━━━━━━\u001b[0m\u001b[37m\u001b[0m \u001b[1m0s\u001b[0m 2ms/step - loss: 2143450240.0000 - mae: 20655.2637 - val_loss: 19080308736.0000 - val_mae: 30884.6426\n",
      "Epoch 241/500\n",
      "\u001b[1m81/81\u001b[0m \u001b[32m━━━━━━━━━━━━━━━━━━━━\u001b[0m\u001b[37m\u001b[0m \u001b[1m0s\u001b[0m 2ms/step - loss: 1788020736.0000 - mae: 20921.5312 - val_loss: 19079843840.0000 - val_mae: 30879.5273\n",
      "Epoch 242/500\n",
      "\u001b[1m81/81\u001b[0m \u001b[32m━━━━━━━━━━━━━━━━━━━━\u001b[0m\u001b[37m\u001b[0m \u001b[1m0s\u001b[0m 2ms/step - loss: 2218455808.0000 - mae: 20982.8613 - val_loss: 19080384512.0000 - val_mae: 30854.3359\n",
      "Epoch 243/500\n",
      "\u001b[1m81/81\u001b[0m \u001b[32m━━━━━━━━━━━━━━━━━━━━\u001b[0m\u001b[37m\u001b[0m \u001b[1m0s\u001b[0m 2ms/step - loss: 5711704064.0000 - mae: 23453.6230 - val_loss: 19078690816.0000 - val_mae: 30866.1680\n",
      "Epoch 244/500\n",
      "\u001b[1m81/81\u001b[0m \u001b[32m━━━━━━━━━━━━━━━━━━━━\u001b[0m\u001b[37m\u001b[0m \u001b[1m0s\u001b[0m 2ms/step - loss: 4316264448.0000 - mae: 22843.4219 - val_loss: 19079176192.0000 - val_mae: 30847.0742\n",
      "Epoch 245/500\n",
      "\u001b[1m81/81\u001b[0m \u001b[32m━━━━━━━━━━━━━━━━━━━━\u001b[0m\u001b[37m\u001b[0m \u001b[1m0s\u001b[0m 2ms/step - loss: 2774443264.0000 - mae: 22759.4316 - val_loss: 19078748160.0000 - val_mae: 30857.7344\n",
      "Epoch 246/500\n",
      "\u001b[1m81/81\u001b[0m \u001b[32m━━━━━━━━━━━━━━━━━━━━\u001b[0m\u001b[37m\u001b[0m \u001b[1m0s\u001b[0m 2ms/step - loss: 3622293248.0000 - mae: 21812.5117 - val_loss: 19078981632.0000 - val_mae: 30832.4805\n",
      "Epoch 247/500\n",
      "\u001b[1m81/81\u001b[0m \u001b[32m━━━━━━━━━━━━━━━━━━━━\u001b[0m\u001b[37m\u001b[0m \u001b[1m0s\u001b[0m 2ms/step - loss: 1751025024.0000 - mae: 20441.4473 - val_loss: 19079344128.0000 - val_mae: 30838.9590\n",
      "Epoch 248/500\n",
      "\u001b[1m81/81\u001b[0m \u001b[32m━━━━━━━━━━━━━━━━━━━━\u001b[0m\u001b[37m\u001b[0m \u001b[1m0s\u001b[0m 2ms/step - loss: 3530329856.0000 - mae: 21875.2383 - val_loss: 19074496512.0000 - val_mae: 30887.3867\n",
      "Epoch 249/500\n",
      "\u001b[1m81/81\u001b[0m \u001b[32m━━━━━━━━━━━━━━━━━━━━\u001b[0m\u001b[37m\u001b[0m \u001b[1m0s\u001b[0m 2ms/step - loss: 6031267840.0000 - mae: 22937.6738 - val_loss: 19075737600.0000 - val_mae: 30853.5137\n",
      "Epoch 250/500\n",
      "\u001b[1m81/81\u001b[0m \u001b[32m━━━━━━━━━━━━━━━━━━━━\u001b[0m\u001b[37m\u001b[0m \u001b[1m0s\u001b[0m 2ms/step - loss: 2163020288.0000 - mae: 21026.5645 - val_loss: 19074254848.0000 - val_mae: 30864.1250\n",
      "Epoch 251/500\n",
      "\u001b[1m81/81\u001b[0m \u001b[32m━━━━━━━━━━━━━━━━━━━━\u001b[0m\u001b[37m\u001b[0m \u001b[1m0s\u001b[0m 2ms/step - loss: 2928439808.0000 - mae: 21627.3379 - val_loss: 19072612352.0000 - val_mae: 30884.6270\n",
      "Epoch 252/500\n",
      "\u001b[1m81/81\u001b[0m \u001b[32m━━━━━━━━━━━━━━━━━━━━\u001b[0m\u001b[37m\u001b[0m \u001b[1m0s\u001b[0m 2ms/step - loss: 6475617280.0000 - mae: 23263.6738 - val_loss: 19072968704.0000 - val_mae: 30864.1465\n",
      "Epoch 253/500\n",
      "\u001b[1m81/81\u001b[0m \u001b[32m━━━━━━━━━━━━━━━━━━━━\u001b[0m\u001b[37m\u001b[0m \u001b[1m0s\u001b[0m 2ms/step - loss: 3634670336.0000 - mae: 21604.0605 - val_loss: 19074537472.0000 - val_mae: 30819.2305\n",
      "Epoch 254/500\n",
      "\u001b[1m81/81\u001b[0m \u001b[32m━━━━━━━━━━━━━━━━━━━━\u001b[0m\u001b[37m\u001b[0m \u001b[1m0s\u001b[0m 2ms/step - loss: 1666341888.0000 - mae: 20016.6289 - val_loss: 19072374784.0000 - val_mae: 30854.7793\n",
      "Epoch 255/500\n",
      "\u001b[1m81/81\u001b[0m \u001b[32m━━━━━━━━━━━━━━━━━━━━\u001b[0m\u001b[37m\u001b[0m \u001b[1m0s\u001b[0m 2ms/step - loss: 2122581376.0000 - mae: 21144.9355 - val_loss: 19067781120.0000 - val_mae: 30891.0957\n",
      "Epoch 256/500\n",
      "\u001b[1m81/81\u001b[0m \u001b[32m━━━━━━━━━━━━━━━━━━━━\u001b[0m\u001b[37m\u001b[0m \u001b[1m0s\u001b[0m 2ms/step - loss: 3295589120.0000 - mae: 22472.9258 - val_loss: 19068821504.0000 - val_mae: 30848.5957\n",
      "Epoch 257/500\n",
      "\u001b[1m81/81\u001b[0m \u001b[32m━━━━━━━━━━━━━━━━━━━━\u001b[0m\u001b[37m\u001b[0m \u001b[1m0s\u001b[0m 2ms/step - loss: 2076840576.0000 - mae: 20955.2617 - val_loss: 19069706240.0000 - val_mae: 30835.0938\n",
      "Epoch 258/500\n",
      "\u001b[1m81/81\u001b[0m \u001b[32m━━━━━━━━━━━━━━━━━━━━\u001b[0m\u001b[37m\u001b[0m \u001b[1m0s\u001b[0m 2ms/step - loss: 2110676864.0000 - mae: 21094.5820 - val_loss: 19070892032.0000 - val_mae: 30793.8477\n",
      "Epoch 259/500\n",
      "\u001b[1m81/81\u001b[0m \u001b[32m━━━━━━━━━━━━━━━━━━━━\u001b[0m\u001b[37m\u001b[0m \u001b[1m0s\u001b[0m 2ms/step - loss: 2224328448.0000 - mae: 20998.1074 - val_loss: 19065409536.0000 - val_mae: 30878.8008\n",
      "Epoch 260/500\n",
      "\u001b[1m81/81\u001b[0m \u001b[32m━━━━━━━━━━━━━━━━━━━━\u001b[0m\u001b[37m\u001b[0m \u001b[1m0s\u001b[0m 2ms/step - loss: 3422030848.0000 - mae: 22489.7871 - val_loss: 19065075712.0000 - val_mae: 30869.1465\n",
      "Epoch 261/500\n",
      "\u001b[1m81/81\u001b[0m \u001b[32m━━━━━━━━━━━━━━━━━━━━\u001b[0m\u001b[37m\u001b[0m \u001b[1m0s\u001b[0m 2ms/step - loss: 1690860288.0000 - mae: 20089.3867 - val_loss: 19066857472.0000 - val_mae: 30844.9902\n",
      "Epoch 262/500\n",
      "\u001b[1m81/81\u001b[0m \u001b[32m━━━━━━━━━━━━━━━━━━━━\u001b[0m\u001b[37m\u001b[0m \u001b[1m0s\u001b[0m 3ms/step - loss: 4491272704.0000 - mae: 22773.2559 - val_loss: 19066210304.0000 - val_mae: 30820.4355\n",
      "Epoch 263/500\n",
      "\u001b[1m81/81\u001b[0m \u001b[32m━━━━━━━━━━━━━━━━━━━━\u001b[0m\u001b[37m\u001b[0m \u001b[1m0s\u001b[0m 2ms/step - loss: 3802533888.0000 - mae: 22505.5000 - val_loss: 19063648256.0000 - val_mae: 30855.0742\n",
      "Epoch 264/500\n",
      "\u001b[1m81/81\u001b[0m \u001b[32m━━━━━━━━━━━━━━━━━━━━\u001b[0m\u001b[37m\u001b[0m \u001b[1m0s\u001b[0m 2ms/step - loss: 2724643840.0000 - mae: 21073.9766 - val_loss: 19064821760.0000 - val_mae: 30826.6816\n",
      "Epoch 265/500\n",
      "\u001b[1m81/81\u001b[0m \u001b[32m━━━━━━━━━━━━━━━━━━━━\u001b[0m\u001b[37m\u001b[0m \u001b[1m0s\u001b[0m 2ms/step - loss: 1605753728.0000 - mae: 20594.4609 - val_loss: 19068383232.0000 - val_mae: 30778.7031\n",
      "Epoch 266/500\n",
      "\u001b[1m81/81\u001b[0m \u001b[32m━━━━━━━━━━━━━━━━━━━━\u001b[0m\u001b[37m\u001b[0m \u001b[1m0s\u001b[0m 2ms/step - loss: 3178211072.0000 - mae: 22624.3730 - val_loss: 19063267328.0000 - val_mae: 30833.8262\n",
      "Epoch 267/500\n",
      "\u001b[1m81/81\u001b[0m \u001b[32m━━━━━━━━━━━━━━━━━━━━\u001b[0m\u001b[37m\u001b[0m \u001b[1m0s\u001b[0m 2ms/step - loss: 1956662784.0000 - mae: 21422.3027 - val_loss: 19064518656.0000 - val_mae: 30801.1738\n",
      "Epoch 268/500\n",
      "\u001b[1m81/81\u001b[0m \u001b[32m━━━━━━━━━━━━━━━━━━━━\u001b[0m\u001b[37m\u001b[0m \u001b[1m0s\u001b[0m 2ms/step - loss: 2103916416.0000 - mae: 21100.7422 - val_loss: 19063427072.0000 - val_mae: 30808.2305\n",
      "Epoch 269/500\n",
      "\u001b[1m81/81\u001b[0m \u001b[32m━━━━━━━━━━━━━━━━━━━━\u001b[0m\u001b[37m\u001b[0m \u001b[1m0s\u001b[0m 2ms/step - loss: 1814609792.0000 - mae: 19563.4824 - val_loss: 19065968640.0000 - val_mae: 30758.3457\n",
      "Epoch 270/500\n",
      "\u001b[1m81/81\u001b[0m \u001b[32m━━━━━━━━━━━━━━━━━━━━\u001b[0m\u001b[37m\u001b[0m \u001b[1m0s\u001b[0m 2ms/step - loss: 2825119232.0000 - mae: 21321.2520 - val_loss: 19061886976.0000 - val_mae: 30808.9062\n",
      "Epoch 271/500\n",
      "\u001b[1m81/81\u001b[0m \u001b[32m━━━━━━━━━━━━━━━━━━━━\u001b[0m\u001b[37m\u001b[0m \u001b[1m0s\u001b[0m 2ms/step - loss: 3066276864.0000 - mae: 21386.7832 - val_loss: 19058745344.0000 - val_mae: 30848.4570\n",
      "Epoch 272/500\n",
      "\u001b[1m81/81\u001b[0m \u001b[32m━━━━━━━━━━━━━━━━━━━━\u001b[0m\u001b[37m\u001b[0m \u001b[1m0s\u001b[0m 2ms/step - loss: 2348884480.0000 - mae: 21312.8262 - val_loss: 19059478528.0000 - val_mae: 30824.0469\n",
      "Epoch 273/500\n",
      "\u001b[1m81/81\u001b[0m \u001b[32m━━━━━━━━━━━━━━━━━━━━\u001b[0m\u001b[37m\u001b[0m \u001b[1m0s\u001b[0m 2ms/step - loss: 1887553920.0000 - mae: 20526.3418 - val_loss: 19058853888.0000 - val_mae: 30820.9199\n",
      "Epoch 274/500\n",
      "\u001b[1m81/81\u001b[0m \u001b[32m━━━━━━━━━━━━━━━━━━━━\u001b[0m\u001b[37m\u001b[0m \u001b[1m0s\u001b[0m 2ms/step - loss: 1863251968.0000 - mae: 21014.6172 - val_loss: 19061917696.0000 - val_mae: 30781.1816\n",
      "Epoch 275/500\n",
      "\u001b[1m81/81\u001b[0m \u001b[32m━━━━━━━━━━━━━━━━━━━━\u001b[0m\u001b[37m\u001b[0m \u001b[1m0s\u001b[0m 2ms/step - loss: 2939992320.0000 - mae: 21725.0273 - val_loss: 19058817024.0000 - val_mae: 30798.8633\n",
      "Epoch 276/500\n",
      "\u001b[1m81/81\u001b[0m \u001b[32m━━━━━━━━━━━━━━━━━━━━\u001b[0m\u001b[37m\u001b[0m \u001b[1m0s\u001b[0m 2ms/step - loss: 6725251072.0000 - mae: 24763.4727 - val_loss: 19057469440.0000 - val_mae: 30812.6133\n",
      "Epoch 277/500\n",
      "\u001b[1m81/81\u001b[0m \u001b[32m━━━━━━━━━━━━━━━━━━━━\u001b[0m\u001b[37m\u001b[0m \u001b[1m0s\u001b[0m 2ms/step - loss: 4548611072.0000 - mae: 22936.6816 - val_loss: 19058903040.0000 - val_mae: 30763.6445\n",
      "Epoch 278/500\n",
      "\u001b[1m81/81\u001b[0m \u001b[32m━━━━━━━━━━━━━━━━━━━━\u001b[0m\u001b[37m\u001b[0m \u001b[1m0s\u001b[0m 2ms/step - loss: 3488693760.0000 - mae: 21525.0254 - val_loss: 19059591168.0000 - val_mae: 30752.8320\n",
      "Epoch 279/500\n",
      "\u001b[1m81/81\u001b[0m \u001b[32m━━━━━━━━━━━━━━━━━━━━\u001b[0m\u001b[37m\u001b[0m \u001b[1m0s\u001b[0m 2ms/step - loss: 4732958208.0000 - mae: 22333.1426 - val_loss: 19058499584.0000 - val_mae: 30759.4648\n",
      "Epoch 280/500\n",
      "\u001b[1m81/81\u001b[0m \u001b[32m━━━━━━━━━━━━━━━━━━━━\u001b[0m\u001b[37m\u001b[0m \u001b[1m0s\u001b[0m 2ms/step - loss: 1720795520.0000 - mae: 20225.4941 - val_loss: 19055958016.0000 - val_mae: 30802.5449\n",
      "Epoch 281/500\n",
      "\u001b[1m81/81\u001b[0m \u001b[32m━━━━━━━━━━━━━━━━━━━━\u001b[0m\u001b[37m\u001b[0m \u001b[1m0s\u001b[0m 2ms/step - loss: 1335548928.0000 - mae: 19559.7773 - val_loss: 19057268736.0000 - val_mae: 30776.1035\n",
      "Epoch 282/500\n",
      "\u001b[1m81/81\u001b[0m \u001b[32m━━━━━━━━━━━━━━━━━━━━\u001b[0m\u001b[37m\u001b[0m \u001b[1m0s\u001b[0m 2ms/step - loss: 3903255808.0000 - mae: 22781.8477 - val_loss: 19052460032.0000 - val_mae: 30826.1680\n",
      "Epoch 283/500\n",
      "\u001b[1m81/81\u001b[0m \u001b[32m━━━━━━━━━━━━━━━━━━━━\u001b[0m\u001b[37m\u001b[0m \u001b[1m0s\u001b[0m 2ms/step - loss: 1637628544.0000 - mae: 20388.0547 - val_loss: 19057307648.0000 - val_mae: 30770.7656\n",
      "Epoch 284/500\n",
      "\u001b[1m81/81\u001b[0m \u001b[32m━━━━━━━━━━━━━━━━━━━━\u001b[0m\u001b[37m\u001b[0m \u001b[1m0s\u001b[0m 2ms/step - loss: 2200968192.0000 - mae: 20795.5684 - val_loss: 19054655488.0000 - val_mae: 30783.3965\n",
      "Epoch 285/500\n",
      "\u001b[1m81/81\u001b[0m \u001b[32m━━━━━━━━━━━━━━━━━━━━\u001b[0m\u001b[37m\u001b[0m \u001b[1m0s\u001b[0m 2ms/step - loss: 4317879808.0000 - mae: 22476.5020 - val_loss: 19054407680.0000 - val_mae: 30774.2891\n",
      "Epoch 286/500\n",
      "\u001b[1m81/81\u001b[0m \u001b[32m━━━━━━━━━━━━━━━━━━━━\u001b[0m\u001b[37m\u001b[0m \u001b[1m0s\u001b[0m 2ms/step - loss: 2974219520.0000 - mae: 21433.9277 - val_loss: 19054637056.0000 - val_mae: 30745.7852\n",
      "Epoch 287/500\n",
      "\u001b[1m81/81\u001b[0m \u001b[32m━━━━━━━━━━━━━━━━━━━━\u001b[0m\u001b[37m\u001b[0m \u001b[1m0s\u001b[0m 2ms/step - loss: 1910704640.0000 - mae: 20421.7520 - val_loss: 19053615104.0000 - val_mae: 30750.6699\n",
      "Epoch 288/500\n",
      "\u001b[1m81/81\u001b[0m \u001b[32m━━━━━━━━━━━━━━━━━━━━\u001b[0m\u001b[37m\u001b[0m \u001b[1m0s\u001b[0m 2ms/step - loss: 6784203264.0000 - mae: 23699.1758 - val_loss: 19052322816.0000 - val_mae: 30753.6035\n",
      "Epoch 289/500\n",
      "\u001b[1m81/81\u001b[0m \u001b[32m━━━━━━━━━━━━━━━━━━━━\u001b[0m\u001b[37m\u001b[0m \u001b[1m0s\u001b[0m 2ms/step - loss: 3201417472.0000 - mae: 21996.8984 - val_loss: 19050911744.0000 - val_mae: 30760.2871\n",
      "Epoch 290/500\n",
      "\u001b[1m81/81\u001b[0m \u001b[32m━━━━━━━━━━━━━━━━━━━━\u001b[0m\u001b[37m\u001b[0m \u001b[1m0s\u001b[0m 2ms/step - loss: 2266514176.0000 - mae: 21511.4707 - val_loss: 19050612736.0000 - val_mae: 30757.6133\n",
      "Epoch 291/500\n",
      "\u001b[1m81/81\u001b[0m \u001b[32m━━━━━━━━━━━━━━━━━━━━\u001b[0m\u001b[37m\u001b[0m \u001b[1m0s\u001b[0m 2ms/step - loss: 4597718016.0000 - mae: 22771.7988 - val_loss: 19051104256.0000 - val_mae: 30741.7852\n",
      "Epoch 292/500\n",
      "\u001b[1m81/81\u001b[0m \u001b[32m━━━━━━━━━━━━━━━━━━━━\u001b[0m\u001b[37m\u001b[0m \u001b[1m0s\u001b[0m 2ms/step - loss: 2782610432.0000 - mae: 21496.2715 - val_loss: 19051323392.0000 - val_mae: 30734.8789\n",
      "Epoch 293/500\n",
      "\u001b[1m81/81\u001b[0m \u001b[32m━━━━━━━━━━━━━━━━━━━━\u001b[0m\u001b[37m\u001b[0m \u001b[1m0s\u001b[0m 2ms/step - loss: 2944474880.0000 - mae: 21018.9668 - val_loss: 19048339456.0000 - val_mae: 30768.8730\n",
      "Epoch 294/500\n",
      "\u001b[1m81/81\u001b[0m \u001b[32m━━━━━━━━━━━━━━━━━━━━\u001b[0m\u001b[37m\u001b[0m \u001b[1m0s\u001b[0m 2ms/step - loss: 2943261696.0000 - mae: 21862.4941 - val_loss: 19048693760.0000 - val_mae: 30749.5117\n",
      "Epoch 295/500\n",
      "\u001b[1m81/81\u001b[0m \u001b[32m━━━━━━━━━━━━━━━━━━━━\u001b[0m\u001b[37m\u001b[0m \u001b[1m0s\u001b[0m 2ms/step - loss: 1497522688.0000 - mae: 20216.6719 - val_loss: 19053953024.0000 - val_mae: 30673.8535\n",
      "Epoch 296/500\n",
      "\u001b[1m81/81\u001b[0m \u001b[32m━━━━━━━━━━━━━━━━━━━━\u001b[0m\u001b[37m\u001b[0m \u001b[1m0s\u001b[0m 2ms/step - loss: 2094997888.0000 - mae: 21873.6406 - val_loss: 19047540736.0000 - val_mae: 30747.6602\n",
      "Epoch 297/500\n",
      "\u001b[1m81/81\u001b[0m \u001b[32m━━━━━━━━━━━━━━━━━━━━\u001b[0m\u001b[37m\u001b[0m \u001b[1m0s\u001b[0m 2ms/step - loss: 3979916032.0000 - mae: 21584.5020 - val_loss: 19047141376.0000 - val_mae: 30733.3145\n",
      "Epoch 298/500\n",
      "\u001b[1m81/81\u001b[0m \u001b[32m━━━━━━━━━━━━━━━━━━━━\u001b[0m\u001b[37m\u001b[0m \u001b[1m0s\u001b[0m 2ms/step - loss: 2812214528.0000 - mae: 21181.4590 - val_loss: 19045462016.0000 - val_mae: 30738.5020\n",
      "Epoch 299/500\n",
      "\u001b[1m81/81\u001b[0m \u001b[32m━━━━━━━━━━━━━━━━━━━━\u001b[0m\u001b[37m\u001b[0m \u001b[1m0s\u001b[0m 2ms/step - loss: 2628971776.0000 - mae: 21267.3398 - val_loss: 19043966976.0000 - val_mae: 30748.3672\n",
      "Epoch 300/500\n",
      "\u001b[1m81/81\u001b[0m \u001b[32m━━━━━━━━━━━━━━━━━━━━\u001b[0m\u001b[37m\u001b[0m \u001b[1m0s\u001b[0m 2ms/step - loss: 3627865856.0000 - mae: 22992.1426 - val_loss: 19044528128.0000 - val_mae: 30722.7012\n",
      "Epoch 301/500\n",
      "\u001b[1m81/81\u001b[0m \u001b[32m━━━━━━━━━━━━━━━━━━━━\u001b[0m\u001b[37m\u001b[0m \u001b[1m0s\u001b[0m 2ms/step - loss: 2152440320.0000 - mae: 20261.1426 - val_loss: 19045666816.0000 - val_mae: 30698.9062\n",
      "Epoch 302/500\n",
      "\u001b[1m81/81\u001b[0m \u001b[32m━━━━━━━━━━━━━━━━━━━━\u001b[0m\u001b[37m\u001b[0m \u001b[1m0s\u001b[0m 2ms/step - loss: 2304410368.0000 - mae: 21013.2148 - val_loss: 19043829760.0000 - val_mae: 30720.0000\n",
      "Epoch 303/500\n",
      "\u001b[1m81/81\u001b[0m \u001b[32m━━━━━━━━━━━━━━━━━━━━\u001b[0m\u001b[37m\u001b[0m \u001b[1m0s\u001b[0m 2ms/step - loss: 3920925696.0000 - mae: 22399.0234 - val_loss: 19044208640.0000 - val_mae: 30691.1348\n",
      "Epoch 304/500\n",
      "\u001b[1m81/81\u001b[0m \u001b[32m━━━━━━━━━━━━━━━━━━━━\u001b[0m\u001b[37m\u001b[0m \u001b[1m0s\u001b[0m 2ms/step - loss: 2465052928.0000 - mae: 20656.3008 - val_loss: 19043682304.0000 - val_mae: 30697.9941\n",
      "Epoch 305/500\n",
      "\u001b[1m81/81\u001b[0m \u001b[32m━━━━━━━━━━━━━━━━━━━━\u001b[0m\u001b[37m\u001b[0m \u001b[1m0s\u001b[0m 2ms/step - loss: 3572193024.0000 - mae: 21373.7109 - val_loss: 19044636672.0000 - val_mae: 30667.5762\n",
      "Epoch 306/500\n",
      "\u001b[1m81/81\u001b[0m \u001b[32m━━━━━━━━━━━━━━━━━━━━\u001b[0m\u001b[37m\u001b[0m \u001b[1m0s\u001b[0m 2ms/step - loss: 3513124608.0000 - mae: 21274.7773 - val_loss: 19043022848.0000 - val_mae: 30680.0352\n",
      "Epoch 307/500\n",
      "\u001b[1m81/81\u001b[0m \u001b[32m━━━━━━━━━━━━━━━━━━━━\u001b[0m\u001b[37m\u001b[0m \u001b[1m0s\u001b[0m 2ms/step - loss: 3620461056.0000 - mae: 21916.2734 - val_loss: 19041603584.0000 - val_mae: 30690.7656\n",
      "Epoch 308/500\n",
      "\u001b[1m81/81\u001b[0m \u001b[32m━━━━━━━━━━━━━━━━━━━━\u001b[0m\u001b[37m\u001b[0m \u001b[1m0s\u001b[0m 2ms/step - loss: 3328709120.0000 - mae: 21067.9453 - val_loss: 19042181120.0000 - val_mae: 30663.8730\n",
      "Epoch 309/500\n",
      "\u001b[1m81/81\u001b[0m \u001b[32m━━━━━━━━━━━━━━━━━━━━\u001b[0m\u001b[37m\u001b[0m \u001b[1m0s\u001b[0m 2ms/step - loss: 3695364608.0000 - mae: 21365.6211 - val_loss: 19040450560.0000 - val_mae: 30684.0938\n",
      "Epoch 310/500\n",
      "\u001b[1m81/81\u001b[0m \u001b[32m━━━━━━━━━━━━━━━━━━━━\u001b[0m\u001b[37m\u001b[0m \u001b[1m0s\u001b[0m 2ms/step - loss: 2124669824.0000 - mae: 20969.6660 - val_loss: 19046797312.0000 - val_mae: 30602.7266\n",
      "Epoch 311/500\n",
      "\u001b[1m81/81\u001b[0m \u001b[32m━━━━━━━━━━━━━━━━━━━━\u001b[0m\u001b[37m\u001b[0m \u001b[1m0s\u001b[0m 2ms/step - loss: 2732258816.0000 - mae: 20547.0879 - val_loss: 19040956416.0000 - val_mae: 30640.0059\n",
      "Epoch 312/500\n",
      "\u001b[1m81/81\u001b[0m \u001b[32m━━━━━━━━━━━━━━━━━━━━\u001b[0m\u001b[37m\u001b[0m \u001b[1m0s\u001b[0m 2ms/step - loss: 3369773056.0000 - mae: 21673.8047 - val_loss: 19039901696.0000 - val_mae: 30642.0957\n",
      "Epoch 313/500\n",
      "\u001b[1m81/81\u001b[0m \u001b[32m━━━━━━━━━━━━━━━━━━━━\u001b[0m\u001b[37m\u001b[0m \u001b[1m0s\u001b[0m 2ms/step - loss: 2572759808.0000 - mae: 20674.2207 - val_loss: 19040765952.0000 - val_mae: 30637.2188\n",
      "Epoch 314/500\n",
      "\u001b[1m81/81\u001b[0m \u001b[32m━━━━━━━━━━━━━━━━━━━━\u001b[0m\u001b[37m\u001b[0m \u001b[1m0s\u001b[0m 2ms/step - loss: 2767737856.0000 - mae: 22521.0117 - val_loss: 19042572288.0000 - val_mae: 30598.5273\n",
      "Epoch 315/500\n",
      "\u001b[1m81/81\u001b[0m \u001b[32m━━━━━━━━━━━━━━━━━━━━\u001b[0m\u001b[37m\u001b[0m \u001b[1m0s\u001b[0m 2ms/step - loss: 2702446080.0000 - mae: 20873.6855 - val_loss: 19040505856.0000 - val_mae: 30619.7812\n",
      "Epoch 316/500\n",
      "\u001b[1m81/81\u001b[0m \u001b[32m━━━━━━━━━━━━━━━━━━━━\u001b[0m\u001b[37m\u001b[0m \u001b[1m0s\u001b[0m 2ms/step - loss: 3037886464.0000 - mae: 21336.2168 - val_loss: 19038611456.0000 - val_mae: 30630.7168\n",
      "Epoch 317/500\n",
      "\u001b[1m81/81\u001b[0m \u001b[32m━━━━━━━━━━━━━━━━━━━━\u001b[0m\u001b[37m\u001b[0m \u001b[1m0s\u001b[0m 2ms/step - loss: 4460463616.0000 - mae: 22272.7129 - val_loss: 19034030080.0000 - val_mae: 30689.8848\n",
      "Epoch 318/500\n",
      "\u001b[1m81/81\u001b[0m \u001b[32m━━━━━━━━━━━━━━━━━━━━\u001b[0m\u001b[37m\u001b[0m \u001b[1m0s\u001b[0m 2ms/step - loss: 4492752896.0000 - mae: 22373.6758 - val_loss: 19034019840.0000 - val_mae: 30687.2676\n",
      "Epoch 319/500\n",
      "\u001b[1m81/81\u001b[0m \u001b[32m━━━━━━━━━━━━━━━━━━━━\u001b[0m\u001b[37m\u001b[0m \u001b[1m0s\u001b[0m 2ms/step - loss: 1778168832.0000 - mae: 19604.5605 - val_loss: 19032045568.0000 - val_mae: 30693.5605\n",
      "Epoch 320/500\n",
      "\u001b[1m81/81\u001b[0m \u001b[32m━━━━━━━━━━━━━━━━━━━━\u001b[0m\u001b[37m\u001b[0m \u001b[1m0s\u001b[0m 2ms/step - loss: 6460374016.0000 - mae: 23279.0586 - val_loss: 19033221120.0000 - val_mae: 30675.0781\n",
      "Epoch 321/500\n",
      "\u001b[1m81/81\u001b[0m \u001b[32m━━━━━━━━━━━━━━━━━━━━\u001b[0m\u001b[37m\u001b[0m \u001b[1m0s\u001b[0m 2ms/step - loss: 3905430272.0000 - mae: 21611.6543 - val_loss: 19031422976.0000 - val_mae: 30693.3672\n",
      "Epoch 322/500\n",
      "\u001b[1m81/81\u001b[0m \u001b[32m━━━━━━━━━━━━━━━━━━━━\u001b[0m\u001b[37m\u001b[0m \u001b[1m0s\u001b[0m 2ms/step - loss: 2380785920.0000 - mae: 21260.3105 - val_loss: 19032240128.0000 - val_mae: 30663.5332\n",
      "Epoch 323/500\n",
      "\u001b[1m81/81\u001b[0m \u001b[32m━━━━━━━━━━━━━━━━━━━━\u001b[0m\u001b[37m\u001b[0m \u001b[1m0s\u001b[0m 2ms/step - loss: 2239515904.0000 - mae: 21284.0859 - val_loss: 19032756224.0000 - val_mae: 30652.3652\n",
      "Epoch 324/500\n",
      "\u001b[1m81/81\u001b[0m \u001b[32m━━━━━━━━━━━━━━━━━━━━\u001b[0m\u001b[37m\u001b[0m \u001b[1m0s\u001b[0m 2ms/step - loss: 2217558016.0000 - mae: 21240.5547 - val_loss: 19030759424.0000 - val_mae: 30669.1250\n",
      "Epoch 325/500\n",
      "\u001b[1m81/81\u001b[0m \u001b[32m━━━━━━━━━━━━━━━━━━━━\u001b[0m\u001b[37m\u001b[0m \u001b[1m0s\u001b[0m 2ms/step - loss: 1706128000.0000 - mae: 20130.9043 - val_loss: 19031363584.0000 - val_mae: 30656.3652\n",
      "Epoch 326/500\n",
      "\u001b[1m81/81\u001b[0m \u001b[32m━━━━━━━━━━━━━━━━━━━━\u001b[0m\u001b[37m\u001b[0m \u001b[1m0s\u001b[0m 2ms/step - loss: 1956065280.0000 - mae: 20271.0117 - val_loss: 19030859776.0000 - val_mae: 30674.3262\n",
      "Epoch 327/500\n",
      "\u001b[1m81/81\u001b[0m \u001b[32m━━━━━━━━━━━━━━━━━━━━\u001b[0m\u001b[37m\u001b[0m \u001b[1m0s\u001b[0m 2ms/step - loss: 1818732160.0000 - mae: 20795.9102 - val_loss: 19030730752.0000 - val_mae: 30676.2461\n",
      "Epoch 328/500\n",
      "\u001b[1m81/81\u001b[0m \u001b[32m━━━━━━━━━━━━━━━━━━━━\u001b[0m\u001b[37m\u001b[0m \u001b[1m0s\u001b[0m 2ms/step - loss: 4750664704.0000 - mae: 21250.6523 - val_loss: 19024191488.0000 - val_mae: 30740.4453\n",
      "Epoch 329/500\n",
      "\u001b[1m81/81\u001b[0m \u001b[32m━━━━━━━━━━━━━━━━━━━━\u001b[0m\u001b[37m\u001b[0m \u001b[1m0s\u001b[0m 2ms/step - loss: 3370022144.0000 - mae: 21627.8691 - val_loss: 19025745920.0000 - val_mae: 30707.1250\n",
      "Epoch 330/500\n",
      "\u001b[1m81/81\u001b[0m \u001b[32m━━━━━━━━━━━━━━━━━━━━\u001b[0m\u001b[37m\u001b[0m \u001b[1m0s\u001b[0m 2ms/step - loss: 2366383360.0000 - mae: 20040.7266 - val_loss: 19027394560.0000 - val_mae: 30663.7891\n",
      "Epoch 331/500\n",
      "\u001b[1m81/81\u001b[0m \u001b[32m━━━━━━━━━━━━━━━━━━━━\u001b[0m\u001b[37m\u001b[0m \u001b[1m0s\u001b[0m 2ms/step - loss: 1627884928.0000 - mae: 20652.0566 - val_loss: 19032449024.0000 - val_mae: 30583.7852\n",
      "Epoch 332/500\n",
      "\u001b[1m81/81\u001b[0m \u001b[32m━━━━━━━━━━━━━━━━━━━━\u001b[0m\u001b[37m\u001b[0m \u001b[1m0s\u001b[0m 2ms/step - loss: 1411422080.0000 - mae: 20201.6250 - val_loss: 19029661696.0000 - val_mae: 30617.3711\n",
      "Epoch 333/500\n",
      "\u001b[1m81/81\u001b[0m \u001b[32m━━━━━━━━━━━━━━━━━━━━\u001b[0m\u001b[37m\u001b[0m \u001b[1m0s\u001b[0m 2ms/step - loss: 2364502784.0000 - mae: 20862.5234 - val_loss: 19007592448.0000 - val_mae: 30858.9844\n",
      "Epoch 334/500\n",
      "\u001b[1m81/81\u001b[0m \u001b[32m━━━━━━━━━━━━━━━━━━━━\u001b[0m\u001b[37m\u001b[0m \u001b[1m0s\u001b[0m 2ms/step - loss: 2812583168.0000 - mae: 21291.0020 - val_loss: 19008808960.0000 - val_mae: 30822.6875\n",
      "Epoch 335/500\n",
      "\u001b[1m81/81\u001b[0m \u001b[32m━━━━━━━━━━━━━━━━━━━━\u001b[0m\u001b[37m\u001b[0m \u001b[1m0s\u001b[0m 2ms/step - loss: 1551836160.0000 - mae: 20270.2305 - val_loss: 19010557952.0000 - val_mae: 30776.5039\n",
      "Epoch 336/500\n",
      "\u001b[1m81/81\u001b[0m \u001b[32m━━━━━━━━━━━━━━━━━━━━\u001b[0m\u001b[37m\u001b[0m \u001b[1m0s\u001b[0m 2ms/step - loss: 5507087872.0000 - mae: 23536.0625 - val_loss: 19009630208.0000 - val_mae: 30771.0469\n",
      "Epoch 337/500\n",
      "\u001b[1m81/81\u001b[0m \u001b[32m━━━━━━━━━━━━━━━━━━━━\u001b[0m\u001b[37m\u001b[0m \u001b[1m0s\u001b[0m 2ms/step - loss: 3937693952.0000 - mae: 21730.1543 - val_loss: 19010879488.0000 - val_mae: 30719.2090\n",
      "Epoch 338/500\n",
      "\u001b[1m81/81\u001b[0m \u001b[32m━━━━━━━━━━━━━━━━━━━━\u001b[0m\u001b[37m\u001b[0m \u001b[1m0s\u001b[0m 2ms/step - loss: 2512123392.0000 - mae: 20418.0176 - val_loss: 19010523136.0000 - val_mae: 30724.6602\n",
      "Epoch 339/500\n",
      "\u001b[1m81/81\u001b[0m \u001b[32m━━━━━━━━━━━━━━━━━━━━\u001b[0m\u001b[37m\u001b[0m \u001b[1m0s\u001b[0m 2ms/step - loss: 2014744832.0000 - mae: 21035.2754 - val_loss: 19012524032.0000 - val_mae: 30686.8164\n",
      "Epoch 340/500\n",
      "\u001b[1m81/81\u001b[0m \u001b[32m━━━━━━━━━━━━━━━━━━━━\u001b[0m\u001b[37m\u001b[0m \u001b[1m0s\u001b[0m 2ms/step - loss: 3656994560.0000 - mae: 20918.0312 - val_loss: 19013091328.0000 - val_mae: 30664.5332\n",
      "Epoch 341/500\n",
      "\u001b[1m81/81\u001b[0m \u001b[32m━━━━━━━━━━━━━━━━━━━━\u001b[0m\u001b[37m\u001b[0m \u001b[1m0s\u001b[0m 2ms/step - loss: 4935241728.0000 - mae: 23130.5352 - val_loss: 19012460544.0000 - val_mae: 30658.5957\n",
      "Epoch 342/500\n",
      "\u001b[1m81/81\u001b[0m \u001b[32m━━━━━━━━━━━━━━━━━━━━\u001b[0m\u001b[37m\u001b[0m \u001b[1m0s\u001b[0m 2ms/step - loss: 2237549568.0000 - mae: 20855.3984 - val_loss: 19014840320.0000 - val_mae: 30619.4551\n",
      "Epoch 343/500\n",
      "\u001b[1m81/81\u001b[0m \u001b[32m━━━━━━━━━━━━━━━━━━━━\u001b[0m\u001b[37m\u001b[0m \u001b[1m0s\u001b[0m 2ms/step - loss: 2053537408.0000 - mae: 20583.6543 - val_loss: 19015100416.0000 - val_mae: 30597.6172\n",
      "Epoch 344/500\n",
      "\u001b[1m81/81\u001b[0m \u001b[32m━━━━━━━━━━━━━━━━━━━━\u001b[0m\u001b[37m\u001b[0m \u001b[1m0s\u001b[0m 2ms/step - loss: 2488199168.0000 - mae: 20531.1152 - val_loss: 19012102144.0000 - val_mae: 30636.1719\n",
      "Epoch 345/500\n",
      "\u001b[1m81/81\u001b[0m \u001b[32m━━━━━━━━━━━━━━━━━━━━\u001b[0m\u001b[37m\u001b[0m \u001b[1m0s\u001b[0m 2ms/step - loss: 1474427136.0000 - mae: 19888.1660 - val_loss: 19015372800.0000 - val_mae: 30592.7480\n",
      "Epoch 346/500\n",
      "\u001b[1m81/81\u001b[0m \u001b[32m━━━━━━━━━━━━━━━━━━━━\u001b[0m\u001b[37m\u001b[0m \u001b[1m0s\u001b[0m 2ms/step - loss: 3337686784.0000 - mae: 20498.6250 - val_loss: 19012595712.0000 - val_mae: 30604.0000\n",
      "Epoch 347/500\n",
      "\u001b[1m81/81\u001b[0m \u001b[32m━━━━━━━━━━━━━━━━━━━━\u001b[0m\u001b[37m\u001b[0m \u001b[1m0s\u001b[0m 2ms/step - loss: 4522989568.0000 - mae: 22973.3984 - val_loss: 19010754560.0000 - val_mae: 30622.5547\n",
      "Epoch 348/500\n",
      "\u001b[1m81/81\u001b[0m \u001b[32m━━━━━━━━━━━━━━━━━━━━\u001b[0m\u001b[37m\u001b[0m \u001b[1m0s\u001b[0m 2ms/step - loss: 2354982912.0000 - mae: 21155.6309 - val_loss: 19013449728.0000 - val_mae: 30568.1660\n",
      "Epoch 349/500\n",
      "\u001b[1m81/81\u001b[0m \u001b[32m━━━━━━━━━━━━━━━━━━━━\u001b[0m\u001b[37m\u001b[0m \u001b[1m0s\u001b[0m 2ms/step - loss: 1951737216.0000 - mae: 20850.3145 - val_loss: 19012200448.0000 - val_mae: 30572.5859\n",
      "Epoch 350/500\n",
      "\u001b[1m81/81\u001b[0m \u001b[32m━━━━━━━━━━━━━━━━━━━━\u001b[0m\u001b[37m\u001b[0m \u001b[1m0s\u001b[0m 2ms/step - loss: 2295893504.0000 - mae: 20871.1133 - val_loss: 19010529280.0000 - val_mae: 30592.8379\n",
      "Epoch 351/500\n",
      "\u001b[1m81/81\u001b[0m \u001b[32m━━━━━━━━━━━━━━━━━━━━\u001b[0m\u001b[37m\u001b[0m \u001b[1m0s\u001b[0m 2ms/step - loss: 3014526464.0000 - mae: 21377.3125 - val_loss: 19006406656.0000 - val_mae: 30638.2246\n",
      "Epoch 352/500\n",
      "\u001b[1m81/81\u001b[0m \u001b[32m━━━━━━━━━━━━━━━━━━━━\u001b[0m\u001b[37m\u001b[0m \u001b[1m0s\u001b[0m 2ms/step - loss: 3166074112.0000 - mae: 22446.4336 - val_loss: 19007291392.0000 - val_mae: 30604.5645\n",
      "Epoch 353/500\n",
      "\u001b[1m81/81\u001b[0m \u001b[32m━━━━━━━━━━━━━━━━━━━━\u001b[0m\u001b[37m\u001b[0m \u001b[1m0s\u001b[0m 2ms/step - loss: 2524604928.0000 - mae: 20988.8965 - val_loss: 19007643648.0000 - val_mae: 30585.3984\n",
      "Epoch 354/500\n",
      "\u001b[1m81/81\u001b[0m \u001b[32m━━━━━━━━━━━━━━━━━━━━\u001b[0m\u001b[37m\u001b[0m \u001b[1m0s\u001b[0m 2ms/step - loss: 5927192064.0000 - mae: 22652.6953 - val_loss: 19009994752.0000 - val_mae: 30559.5078\n",
      "Epoch 355/500\n",
      "\u001b[1m81/81\u001b[0m \u001b[32m━━━━━━━━━━━━━━━━━━━━\u001b[0m\u001b[37m\u001b[0m \u001b[1m0s\u001b[0m 2ms/step - loss: 3426670592.0000 - mae: 21637.8906 - val_loss: 19007041536.0000 - val_mae: 30608.3828\n",
      "Epoch 356/500\n",
      "\u001b[1m81/81\u001b[0m \u001b[32m━━━━━━━━━━━━━━━━━━━━\u001b[0m\u001b[37m\u001b[0m \u001b[1m0s\u001b[0m 2ms/step - loss: 2402450688.0000 - mae: 20691.6797 - val_loss: 19009275904.0000 - val_mae: 30573.4238\n",
      "Epoch 357/500\n",
      "\u001b[1m81/81\u001b[0m \u001b[32m━━━━━━━━━━━━━━━━━━━━\u001b[0m\u001b[37m\u001b[0m \u001b[1m0s\u001b[0m 2ms/step - loss: 2576010240.0000 - mae: 20608.5156 - val_loss: 19004162048.0000 - val_mae: 30614.0059\n",
      "Epoch 358/500\n",
      "\u001b[1m81/81\u001b[0m \u001b[32m━━━━━━━━━━━━━━━━━━━━\u001b[0m\u001b[37m\u001b[0m \u001b[1m0s\u001b[0m 2ms/step - loss: 3537711104.0000 - mae: 21788.1543 - val_loss: 19005396992.0000 - val_mae: 30568.8164\n",
      "Epoch 359/500\n",
      "\u001b[1m81/81\u001b[0m \u001b[32m━━━━━━━━━━━━━━━━━━━━\u001b[0m\u001b[37m\u001b[0m \u001b[1m0s\u001b[0m 2ms/step - loss: 5798974464.0000 - mae: 22062.8047 - val_loss: 19006711808.0000 - val_mae: 30542.2031\n",
      "Epoch 360/500\n",
      "\u001b[1m81/81\u001b[0m \u001b[32m━━━━━━━━━━━━━━━━━━━━\u001b[0m\u001b[37m\u001b[0m \u001b[1m0s\u001b[0m 2ms/step - loss: 2228104960.0000 - mae: 20663.9902 - val_loss: 19004231680.0000 - val_mae: 30567.6543\n",
      "Epoch 361/500\n",
      "\u001b[1m81/81\u001b[0m \u001b[32m━━━━━━━━━━━━━━━━━━━━\u001b[0m\u001b[37m\u001b[0m \u001b[1m0s\u001b[0m 2ms/step - loss: 2119949056.0000 - mae: 20950.3652 - val_loss: 19003912192.0000 - val_mae: 30558.2656\n",
      "Epoch 362/500\n",
      "\u001b[1m81/81\u001b[0m \u001b[32m━━━━━━━━━━━━━━━━━━━━\u001b[0m\u001b[37m\u001b[0m \u001b[1m0s\u001b[0m 2ms/step - loss: 2937834752.0000 - mae: 20980.7305 - val_loss: 19002707968.0000 - val_mae: 30560.5020\n",
      "Epoch 363/500\n",
      "\u001b[1m81/81\u001b[0m \u001b[32m━━━━━━━━━━━━━━━━━━━━\u001b[0m\u001b[37m\u001b[0m \u001b[1m0s\u001b[0m 2ms/step - loss: 3219181824.0000 - mae: 21832.7969 - val_loss: 19003115520.0000 - val_mae: 30540.9902\n",
      "Epoch 364/500\n",
      "\u001b[1m81/81\u001b[0m \u001b[32m━━━━━━━━━━━━━━━━━━━━\u001b[0m\u001b[37m\u001b[0m \u001b[1m0s\u001b[0m 2ms/step - loss: 5176174592.0000 - mae: 22134.0762 - val_loss: 19003424768.0000 - val_mae: 30532.8438\n",
      "Epoch 365/500\n",
      "\u001b[1m81/81\u001b[0m \u001b[32m━━━━━━━━━━━━━━━━━━━━\u001b[0m\u001b[37m\u001b[0m \u001b[1m0s\u001b[0m 2ms/step - loss: 1595878784.0000 - mae: 19929.1836 - val_loss: 19005304832.0000 - val_mae: 30517.7480\n",
      "Epoch 366/500\n",
      "\u001b[1m81/81\u001b[0m \u001b[32m━━━━━━━━━━━━━━━━━━━━\u001b[0m\u001b[37m\u001b[0m \u001b[1m0s\u001b[0m 2ms/step - loss: 2577492736.0000 - mae: 21393.2988 - val_loss: 19003428864.0000 - val_mae: 30510.3125\n",
      "Epoch 367/500\n",
      "\u001b[1m81/81\u001b[0m \u001b[32m━━━━━━━━━━━━━━━━━━━━\u001b[0m\u001b[37m\u001b[0m \u001b[1m0s\u001b[0m 2ms/step - loss: 3813398528.0000 - mae: 21675.9961 - val_loss: 19002390528.0000 - val_mae: 30527.5488\n",
      "Epoch 368/500\n",
      "\u001b[1m81/81\u001b[0m \u001b[32m━━━━━━━━━━━━━━━━━━━━\u001b[0m\u001b[37m\u001b[0m \u001b[1m0s\u001b[0m 2ms/step - loss: 2363669504.0000 - mae: 20693.5391 - val_loss: 19000530944.0000 - val_mae: 30543.9004\n",
      "Epoch 369/500\n",
      "\u001b[1m81/81\u001b[0m \u001b[32m━━━━━━━━━━━━━━━━━━━━\u001b[0m\u001b[37m\u001b[0m \u001b[1m0s\u001b[0m 2ms/step - loss: 3085860352.0000 - mae: 21706.5527 - val_loss: 18998906880.0000 - val_mae: 30544.1504\n",
      "Epoch 370/500\n",
      "\u001b[1m81/81\u001b[0m \u001b[32m━━━━━━━━━━━━━━━━━━━━\u001b[0m\u001b[37m\u001b[0m \u001b[1m0s\u001b[0m 2ms/step - loss: 8397109760.0000 - mae: 24332.1250 - val_loss: 19001585664.0000 - val_mae: 30487.0215\n",
      "Epoch 371/500\n",
      "\u001b[1m81/81\u001b[0m \u001b[32m━━━━━━━━━━━━━━━━━━━━\u001b[0m\u001b[37m\u001b[0m \u001b[1m0s\u001b[0m 2ms/step - loss: 1992322432.0000 - mae: 20315.6270 - val_loss: 19002185728.0000 - val_mae: 30459.5137\n",
      "Epoch 372/500\n",
      "\u001b[1m81/81\u001b[0m \u001b[32m━━━━━━━━━━━━━━━━━━━━\u001b[0m\u001b[37m\u001b[0m \u001b[1m0s\u001b[0m 2ms/step - loss: 1956784640.0000 - mae: 20993.0352 - val_loss: 19000823808.0000 - val_mae: 30468.3730\n",
      "Epoch 373/500\n",
      "\u001b[1m81/81\u001b[0m \u001b[32m━━━━━━━━━━━━━━━━━━━━\u001b[0m\u001b[37m\u001b[0m \u001b[1m0s\u001b[0m 2ms/step - loss: 3841657600.0000 - mae: 21594.2305 - val_loss: 19000678400.0000 - val_mae: 30457.7344\n",
      "Epoch 374/500\n",
      "\u001b[1m81/81\u001b[0m \u001b[32m━━━━━━━━━━━━━━━━━━━━\u001b[0m\u001b[37m\u001b[0m \u001b[1m0s\u001b[0m 2ms/step - loss: 2465854720.0000 - mae: 20453.6172 - val_loss: 18999318528.0000 - val_mae: 30474.9844\n",
      "Epoch 375/500\n",
      "\u001b[1m81/81\u001b[0m \u001b[32m━━━━━━━━━━━━━━━━━━━━\u001b[0m\u001b[37m\u001b[0m \u001b[1m0s\u001b[0m 2ms/step - loss: 2598428672.0000 - mae: 20837.2051 - val_loss: 18999873536.0000 - val_mae: 30450.9219\n",
      "Epoch 376/500\n",
      "\u001b[1m81/81\u001b[0m \u001b[32m━━━━━━━━━━━━━━━━━━━━\u001b[0m\u001b[37m\u001b[0m \u001b[1m0s\u001b[0m 2ms/step - loss: 2055067520.0000 - mae: 20472.5957 - val_loss: 18997692416.0000 - val_mae: 30477.5488\n",
      "Epoch 377/500\n",
      "\u001b[1m81/81\u001b[0m \u001b[32m━━━━━━━━━━━━━━━━━━━━\u001b[0m\u001b[37m\u001b[0m \u001b[1m0s\u001b[0m 2ms/step - loss: 1784420352.0000 - mae: 20399.3086 - val_loss: 18999762944.0000 - val_mae: 30441.7637\n",
      "Epoch 378/500\n",
      "\u001b[1m81/81\u001b[0m \u001b[32m━━━━━━━━━━━━━━━━━━━━\u001b[0m\u001b[37m\u001b[0m \u001b[1m0s\u001b[0m 2ms/step - loss: 3391481856.0000 - mae: 21555.9492 - val_loss: 18995892224.0000 - val_mae: 30464.9805\n",
      "Epoch 379/500\n",
      "\u001b[1m81/81\u001b[0m \u001b[32m━━━━━━━━━━━━━━━━━━━━\u001b[0m\u001b[37m\u001b[0m \u001b[1m0s\u001b[0m 2ms/step - loss: 1979447168.0000 - mae: 21043.1309 - val_loss: 18998548480.0000 - val_mae: 30414.2344\n",
      "Epoch 380/500\n",
      "\u001b[1m81/81\u001b[0m \u001b[32m━━━━━━━━━━━━━━━━━━━━\u001b[0m\u001b[37m\u001b[0m \u001b[1m0s\u001b[0m 2ms/step - loss: 2459230208.0000 - mae: 21315.4316 - val_loss: 18997725184.0000 - val_mae: 30412.2578\n",
      "Epoch 381/500\n",
      "\u001b[1m81/81\u001b[0m \u001b[32m━━━━━━━━━━━━━━━━━━━━\u001b[0m\u001b[37m\u001b[0m \u001b[1m0s\u001b[0m 2ms/step - loss: 1446552832.0000 - mae: 19926.3125 - val_loss: 19002839040.0000 - val_mae: 30341.8535\n",
      "Epoch 382/500\n",
      "\u001b[1m81/81\u001b[0m \u001b[32m━━━━━━━━━━━━━━━━━━━━\u001b[0m\u001b[37m\u001b[0m \u001b[1m0s\u001b[0m 2ms/step - loss: 4151062528.0000 - mae: 22749.4141 - val_loss: 18987673600.0000 - val_mae: 30504.2578\n",
      "Epoch 383/500\n",
      "\u001b[1m81/81\u001b[0m \u001b[32m━━━━━━━━━━━━━━━━━━━━\u001b[0m\u001b[37m\u001b[0m \u001b[1m0s\u001b[0m 2ms/step - loss: 2380650752.0000 - mae: 20959.2129 - val_loss: 18990798848.0000 - val_mae: 30448.1191\n",
      "Epoch 384/500\n",
      "\u001b[1m81/81\u001b[0m \u001b[32m━━━━━━━━━━━━━━━━━━━━\u001b[0m\u001b[37m\u001b[0m \u001b[1m0s\u001b[0m 2ms/step - loss: 6562022912.0000 - mae: 23583.8281 - val_loss: 18991122432.0000 - val_mae: 30439.5137\n",
      "Epoch 385/500\n",
      "\u001b[1m81/81\u001b[0m \u001b[32m━━━━━━━━━━━━━━━━━━━━\u001b[0m\u001b[37m\u001b[0m \u001b[1m0s\u001b[0m 2ms/step - loss: 2965788928.0000 - mae: 21169.6328 - val_loss: 18991104000.0000 - val_mae: 30419.0117\n",
      "Epoch 386/500\n",
      "\u001b[1m81/81\u001b[0m \u001b[32m━━━━━━━━━━━━━━━━━━━━\u001b[0m\u001b[37m\u001b[0m \u001b[1m0s\u001b[0m 2ms/step - loss: 2232125696.0000 - mae: 21192.5801 - val_loss: 18993070080.0000 - val_mae: 30390.1406\n",
      "Epoch 387/500\n",
      "\u001b[1m81/81\u001b[0m \u001b[32m━━━━━━━━━━━━━━━━━━━━\u001b[0m\u001b[37m\u001b[0m \u001b[1m0s\u001b[0m 2ms/step - loss: 6660549120.0000 - mae: 22110.6074 - val_loss: 18988003328.0000 - val_mae: 30446.8066\n",
      "Epoch 388/500\n",
      "\u001b[1m81/81\u001b[0m \u001b[32m━━━━━━━━━━━━━━━━━━━━\u001b[0m\u001b[37m\u001b[0m \u001b[1m0s\u001b[0m 2ms/step - loss: 3684264448.0000 - mae: 22014.4883 - val_loss: 18987409408.0000 - val_mae: 30452.2051\n",
      "Epoch 389/500\n",
      "\u001b[1m81/81\u001b[0m \u001b[32m━━━━━━━━━━━━━━━━━━━━\u001b[0m\u001b[37m\u001b[0m \u001b[1m0s\u001b[0m 2ms/step - loss: 2090760192.0000 - mae: 21612.3691 - val_loss: 18992625664.0000 - val_mae: 30376.9219\n",
      "Epoch 390/500\n",
      "\u001b[1m81/81\u001b[0m \u001b[32m━━━━━━━━━━━━━━━━━━━━\u001b[0m\u001b[37m\u001b[0m \u001b[1m0s\u001b[0m 2ms/step - loss: 2178595328.0000 - mae: 20615.5195 - val_loss: 18989586432.0000 - val_mae: 30394.1934\n",
      "Epoch 391/500\n",
      "\u001b[1m81/81\u001b[0m \u001b[32m━━━━━━━━━━━━━━━━━━━━\u001b[0m\u001b[37m\u001b[0m \u001b[1m0s\u001b[0m 2ms/step - loss: 2218770432.0000 - mae: 21492.7344 - val_loss: 18989576192.0000 - val_mae: 30370.1191\n",
      "Epoch 392/500\n",
      "\u001b[1m81/81\u001b[0m \u001b[32m━━━━━━━━━━━━━━━━━━━━\u001b[0m\u001b[37m\u001b[0m \u001b[1m0s\u001b[0m 2ms/step - loss: 2216720640.0000 - mae: 20130.8965 - val_loss: 18989479936.0000 - val_mae: 30362.3672\n",
      "Epoch 393/500\n",
      "\u001b[1m81/81\u001b[0m \u001b[32m━━━━━━━━━━━━━━━━━━━━\u001b[0m\u001b[37m\u001b[0m \u001b[1m0s\u001b[0m 2ms/step - loss: 5561912832.0000 - mae: 23856.3887 - val_loss: 18989604864.0000 - val_mae: 30351.2734\n",
      "Epoch 394/500\n",
      "\u001b[1m81/81\u001b[0m \u001b[32m━━━━━━━━━━━━━━━━━━━━\u001b[0m\u001b[37m\u001b[0m \u001b[1m0s\u001b[0m 2ms/step - loss: 2544446464.0000 - mae: 20865.0957 - val_loss: 18990393344.0000 - val_mae: 30320.3359\n",
      "Epoch 395/500\n",
      "\u001b[1m81/81\u001b[0m \u001b[32m━━━━━━━━━━━━━━━━━━━━\u001b[0m\u001b[37m\u001b[0m \u001b[1m0s\u001b[0m 2ms/step - loss: 2765507072.0000 - mae: 20808.9512 - val_loss: 18988193792.0000 - val_mae: 30337.1191\n",
      "Epoch 396/500\n",
      "\u001b[1m81/81\u001b[0m \u001b[32m━━━━━━━━━━━━━━━━━━━━\u001b[0m\u001b[37m\u001b[0m \u001b[1m0s\u001b[0m 2ms/step - loss: 2753033984.0000 - mae: 21344.3125 - val_loss: 18986698752.0000 - val_mae: 30336.6484\n",
      "Epoch 397/500\n",
      "\u001b[1m81/81\u001b[0m \u001b[32m━━━━━━━━━━━━━━━━━━━━\u001b[0m\u001b[37m\u001b[0m \u001b[1m0s\u001b[0m 2ms/step - loss: 1516980096.0000 - mae: 19205.2422 - val_loss: 18989561856.0000 - val_mae: 30309.0312\n",
      "Epoch 398/500\n",
      "\u001b[1m81/81\u001b[0m \u001b[32m━━━━━━━━━━━━━━━━━━━━\u001b[0m\u001b[37m\u001b[0m \u001b[1m0s\u001b[0m 2ms/step - loss: 2546041856.0000 - mae: 20560.8320 - val_loss: 18987362304.0000 - val_mae: 30313.0098\n",
      "Epoch 399/500\n",
      "\u001b[1m81/81\u001b[0m \u001b[32m━━━━━━━━━━━━━━━━━━━━\u001b[0m\u001b[37m\u001b[0m \u001b[1m0s\u001b[0m 2ms/step - loss: 1783742208.0000 - mae: 20903.3008 - val_loss: 18989608960.0000 - val_mae: 30280.6270\n",
      "Epoch 400/500\n",
      "\u001b[1m81/81\u001b[0m \u001b[32m━━━━━━━━━━━━━━━━━━━━\u001b[0m\u001b[37m\u001b[0m \u001b[1m0s\u001b[0m 2ms/step - loss: 1908834432.0000 - mae: 20409.4492 - val_loss: 18985990144.0000 - val_mae: 30300.1367\n",
      "Epoch 401/500\n",
      "\u001b[1m81/81\u001b[0m \u001b[32m━━━━━━━━━━━━━━━━━━━━\u001b[0m\u001b[37m\u001b[0m \u001b[1m0s\u001b[0m 2ms/step - loss: 2937223936.0000 - mae: 21679.2383 - val_loss: 18986844160.0000 - val_mae: 30274.8496\n",
      "Epoch 402/500\n",
      "\u001b[1m81/81\u001b[0m \u001b[32m━━━━━━━━━━━━━━━━━━━━\u001b[0m\u001b[37m\u001b[0m \u001b[1m0s\u001b[0m 2ms/step - loss: 2036004480.0000 - mae: 20764.5645 - val_loss: 18983403520.0000 - val_mae: 30301.0566\n",
      "Epoch 403/500\n",
      "\u001b[1m81/81\u001b[0m \u001b[32m━━━━━━━━━━━━━━━━━━━━\u001b[0m\u001b[37m\u001b[0m \u001b[1m0s\u001b[0m 2ms/step - loss: 3090299904.0000 - mae: 21938.7148 - val_loss: 18981101568.0000 - val_mae: 30320.8320\n",
      "Epoch 404/500\n",
      "\u001b[1m81/81\u001b[0m \u001b[32m━━━━━━━━━━━━━━━━━━━━\u001b[0m\u001b[37m\u001b[0m \u001b[1m0s\u001b[0m 2ms/step - loss: 3583166720.0000 - mae: 21423.3320 - val_loss: 18978506752.0000 - val_mae: 30352.4453\n",
      "Epoch 405/500\n",
      "\u001b[1m81/81\u001b[0m \u001b[32m━━━━━━━━━━━━━━━━━━━━\u001b[0m\u001b[37m\u001b[0m \u001b[1m0s\u001b[0m 2ms/step - loss: 2748871424.0000 - mae: 21545.7461 - val_loss: 18977576960.0000 - val_mae: 30354.5293\n",
      "Epoch 406/500\n",
      "\u001b[1m81/81\u001b[0m \u001b[32m━━━━━━━━━━━━━━━━━━━━\u001b[0m\u001b[37m\u001b[0m \u001b[1m0s\u001b[0m 2ms/step - loss: 7240602624.0000 - mae: 23430.6719 - val_loss: 18978813952.0000 - val_mae: 30316.8691\n",
      "Epoch 407/500\n",
      "\u001b[1m81/81\u001b[0m \u001b[32m━━━━━━━━━━━━━━━━━━━━\u001b[0m\u001b[37m\u001b[0m \u001b[1m0s\u001b[0m 2ms/step - loss: 3220909056.0000 - mae: 20863.5156 - val_loss: 18980405248.0000 - val_mae: 30287.6855\n",
      "Epoch 408/500\n",
      "\u001b[1m81/81\u001b[0m \u001b[32m━━━━━━━━━━━━━━━━━━━━\u001b[0m\u001b[37m\u001b[0m \u001b[1m0s\u001b[0m 2ms/step - loss: 1753408384.0000 - mae: 19821.3535 - val_loss: 18978762752.0000 - val_mae: 30279.0215\n",
      "Epoch 409/500\n",
      "\u001b[1m81/81\u001b[0m \u001b[32m━━━━━━━━━━━━━━━━━━━━\u001b[0m\u001b[37m\u001b[0m \u001b[1m0s\u001b[0m 2ms/step - loss: 3497865984.0000 - mae: 21241.8184 - val_loss: 18975883264.0000 - val_mae: 30316.4570\n",
      "Epoch 410/500\n",
      "\u001b[1m81/81\u001b[0m \u001b[32m━━━━━━━━━━━━━━━━━━━━\u001b[0m\u001b[37m\u001b[0m \u001b[1m0s\u001b[0m 2ms/step - loss: 1812448896.0000 - mae: 20107.4414 - val_loss: 18975338496.0000 - val_mae: 30310.3984\n",
      "Epoch 411/500\n",
      "\u001b[1m81/81\u001b[0m \u001b[32m━━━━━━━━━━━━━━━━━━━━\u001b[0m\u001b[37m\u001b[0m \u001b[1m0s\u001b[0m 2ms/step - loss: 1953859200.0000 - mae: 19792.0938 - val_loss: 18972112896.0000 - val_mae: 30335.8789\n",
      "Epoch 412/500\n",
      "\u001b[1m81/81\u001b[0m \u001b[32m━━━━━━━━━━━━━━━━━━━━\u001b[0m\u001b[37m\u001b[0m \u001b[1m0s\u001b[0m 2ms/step - loss: 3273473536.0000 - mae: 21570.3516 - val_loss: 18971777024.0000 - val_mae: 30322.9883\n",
      "Epoch 413/500\n",
      "\u001b[1m81/81\u001b[0m \u001b[32m━━━━━━━━━━━━━━━━━━━━\u001b[0m\u001b[37m\u001b[0m \u001b[1m0s\u001b[0m 2ms/step - loss: 4189051904.0000 - mae: 22929.9570 - val_loss: 18971881472.0000 - val_mae: 30299.0684\n",
      "Epoch 414/500\n",
      "\u001b[1m81/81\u001b[0m \u001b[32m━━━━━━━━━━━━━━━━━━━━\u001b[0m\u001b[37m\u001b[0m \u001b[1m0s\u001b[0m 2ms/step - loss: 2563490560.0000 - mae: 21029.9688 - val_loss: 18970703872.0000 - val_mae: 30310.3711\n",
      "Epoch 415/500\n",
      "\u001b[1m81/81\u001b[0m \u001b[32m━━━━━━━━━━━━━━━━━━━━\u001b[0m\u001b[37m\u001b[0m \u001b[1m0s\u001b[0m 2ms/step - loss: 1905395328.0000 - mae: 20225.9121 - val_loss: 18973773824.0000 - val_mae: 30261.0645\n",
      "Epoch 416/500\n",
      "\u001b[1m81/81\u001b[0m \u001b[32m━━━━━━━━━━━━━━━━━━━━\u001b[0m\u001b[37m\u001b[0m \u001b[1m0s\u001b[0m 2ms/step - loss: 6921759744.0000 - mae: 23346.8730 - val_loss: 18968363008.0000 - val_mae: 30303.7031\n",
      "Epoch 417/500\n",
      "\u001b[1m81/81\u001b[0m \u001b[32m━━━━━━━━━━━━━━━━━━━━\u001b[0m\u001b[37m\u001b[0m \u001b[1m0s\u001b[0m 2ms/step - loss: 2219808256.0000 - mae: 21574.2285 - val_loss: 18973153280.0000 - val_mae: 30244.9473\n",
      "Epoch 418/500\n",
      "\u001b[1m81/81\u001b[0m \u001b[32m━━━━━━━━━━━━━━━━━━━━\u001b[0m\u001b[37m\u001b[0m \u001b[1m0s\u001b[0m 2ms/step - loss: 3749372416.0000 - mae: 22102.8867 - val_loss: 18964238336.0000 - val_mae: 30333.3965\n",
      "Epoch 419/500\n",
      "\u001b[1m81/81\u001b[0m \u001b[32m━━━━━━━━━━━━━━━━━━━━\u001b[0m\u001b[37m\u001b[0m \u001b[1m0s\u001b[0m 2ms/step - loss: 1979990016.0000 - mae: 18814.9258 - val_loss: 18967681024.0000 - val_mae: 30273.3047\n",
      "Epoch 420/500\n",
      "\u001b[1m81/81\u001b[0m \u001b[32m━━━━━━━━━━━━━━━━━━━━\u001b[0m\u001b[37m\u001b[0m \u001b[1m0s\u001b[0m 2ms/step - loss: 4065817088.0000 - mae: 21799.3965 - val_loss: 18965057536.0000 - val_mae: 30306.0410\n",
      "Epoch 421/500\n",
      "\u001b[1m81/81\u001b[0m \u001b[32m━━━━━━━━━━━━━━━━━━━━\u001b[0m\u001b[37m\u001b[0m \u001b[1m0s\u001b[0m 2ms/step - loss: 4756910592.0000 - mae: 22928.4863 - val_loss: 18966259712.0000 - val_mae: 30270.4492\n",
      "Epoch 422/500\n",
      "\u001b[1m81/81\u001b[0m \u001b[32m━━━━━━━━━━━━━━━━━━━━\u001b[0m\u001b[37m\u001b[0m \u001b[1m0s\u001b[0m 2ms/step - loss: 2605122304.0000 - mae: 20967.9102 - val_loss: 18967941120.0000 - val_mae: 30238.2715\n",
      "Epoch 423/500\n",
      "\u001b[1m81/81\u001b[0m \u001b[32m━━━━━━━━━━━━━━━━━━━━\u001b[0m\u001b[37m\u001b[0m \u001b[1m0s\u001b[0m 2ms/step - loss: 2863022080.0000 - mae: 20749.1211 - val_loss: 18967492608.0000 - val_mae: 30224.5293\n",
      "Epoch 424/500\n",
      "\u001b[1m81/81\u001b[0m \u001b[32m━━━━━━━━━━━━━━━━━━━━\u001b[0m\u001b[37m\u001b[0m \u001b[1m0s\u001b[0m 2ms/step - loss: 2312874752.0000 - mae: 20697.6816 - val_loss: 18966286336.0000 - val_mae: 30244.7539\n",
      "Epoch 425/500\n",
      "\u001b[1m81/81\u001b[0m \u001b[32m━━━━━━━━━━━━━━━━━━━━\u001b[0m\u001b[37m\u001b[0m \u001b[1m0s\u001b[0m 2ms/step - loss: 2880737792.0000 - mae: 21674.8984 - val_loss: 18964967424.0000 - val_mae: 30238.1191\n",
      "Epoch 426/500\n",
      "\u001b[1m81/81\u001b[0m \u001b[32m━━━━━━━━━━━━━━━━━━━━\u001b[0m\u001b[37m\u001b[0m \u001b[1m0s\u001b[0m 2ms/step - loss: 2663416320.0000 - mae: 21515.6699 - val_loss: 18963243008.0000 - val_mae: 30245.6973\n",
      "Epoch 427/500\n",
      "\u001b[1m81/81\u001b[0m \u001b[32m━━━━━━━━━━━━━━━━━━━━\u001b[0m\u001b[37m\u001b[0m \u001b[1m0s\u001b[0m 2ms/step - loss: 4209724160.0000 - mae: 21671.3262 - val_loss: 18965258240.0000 - val_mae: 30213.0586\n",
      "Epoch 428/500\n",
      "\u001b[1m81/81\u001b[0m \u001b[32m━━━━━━━━━━━━━━━━━━━━\u001b[0m\u001b[37m\u001b[0m \u001b[1m0s\u001b[0m 2ms/step - loss: 1535732096.0000 - mae: 19787.3379 - val_loss: 18963912704.0000 - val_mae: 30233.1738\n",
      "Epoch 429/500\n",
      "\u001b[1m81/81\u001b[0m \u001b[32m━━━━━━━━━━━━━━━━━━━━\u001b[0m\u001b[37m\u001b[0m \u001b[1m0s\u001b[0m 2ms/step - loss: 2700843520.0000 - mae: 19969.2344 - val_loss: 18961582080.0000 - val_mae: 30267.2520\n",
      "Epoch 430/500\n",
      "\u001b[1m81/81\u001b[0m \u001b[32m━━━━━━━━━━━━━━━━━━━━\u001b[0m\u001b[37m\u001b[0m \u001b[1m0s\u001b[0m 2ms/step - loss: 1712093824.0000 - mae: 19630.3105 - val_loss: 18962071552.0000 - val_mae: 30241.1367\n",
      "Epoch 431/500\n",
      "\u001b[1m81/81\u001b[0m \u001b[32m━━━━━━━━━━━━━━━━━━━━\u001b[0m\u001b[37m\u001b[0m \u001b[1m0s\u001b[0m 2ms/step - loss: 2538652928.0000 - mae: 20918.8047 - val_loss: 18959826944.0000 - val_mae: 30255.9531\n",
      "Epoch 432/500\n",
      "\u001b[1m81/81\u001b[0m \u001b[32m━━━━━━━━━━━━━━━━━━━━\u001b[0m\u001b[37m\u001b[0m \u001b[1m0s\u001b[0m 2ms/step - loss: 3257926144.0000 - mae: 21418.4902 - val_loss: 18957369344.0000 - val_mae: 30268.8164\n",
      "Epoch 433/500\n",
      "\u001b[1m81/81\u001b[0m \u001b[32m━━━━━━━━━━━━━━━━━━━━\u001b[0m\u001b[37m\u001b[0m \u001b[1m0s\u001b[0m 2ms/step - loss: 5307826176.0000 - mae: 21873.1348 - val_loss: 18958827520.0000 - val_mae: 30229.1055\n",
      "Epoch 434/500\n",
      "\u001b[1m81/81\u001b[0m \u001b[32m━━━━━━━━━━━━━━━━━━━━\u001b[0m\u001b[37m\u001b[0m \u001b[1m0s\u001b[0m 2ms/step - loss: 3590086656.0000 - mae: 21817.8652 - val_loss: 18956126208.0000 - val_mae: 30244.4609\n",
      "Epoch 435/500\n",
      "\u001b[1m81/81\u001b[0m \u001b[32m━━━━━━━━━━━━━━━━━━━━\u001b[0m\u001b[37m\u001b[0m \u001b[1m0s\u001b[0m 2ms/step - loss: 2716614144.0000 - mae: 20715.8594 - val_loss: 18955501568.0000 - val_mae: 30228.5195\n",
      "Epoch 436/500\n",
      "\u001b[1m81/81\u001b[0m \u001b[32m━━━━━━━━━━━━━━━━━━━━\u001b[0m\u001b[37m\u001b[0m \u001b[1m0s\u001b[0m 2ms/step - loss: 4116055296.0000 - mae: 21438.4023 - val_loss: 18955816960.0000 - val_mae: 30215.8438\n",
      "Epoch 437/500\n",
      "\u001b[1m81/81\u001b[0m \u001b[32m━━━━━━━━━━━━━━━━━━━━\u001b[0m\u001b[37m\u001b[0m \u001b[1m0s\u001b[0m 2ms/step - loss: 2632705536.0000 - mae: 20363.1699 - val_loss: 18955960320.0000 - val_mae: 30212.6816\n",
      "Epoch 438/500\n",
      "\u001b[1m81/81\u001b[0m \u001b[32m━━━━━━━━━━━━━━━━━━━━\u001b[0m\u001b[37m\u001b[0m \u001b[1m0s\u001b[0m 2ms/step - loss: 2645746688.0000 - mae: 20400.6270 - val_loss: 18954868736.0000 - val_mae: 30181.8633\n",
      "Epoch 439/500\n",
      "\u001b[1m81/81\u001b[0m \u001b[32m━━━━━━━━━━━━━━━━━━━━\u001b[0m\u001b[37m\u001b[0m \u001b[1m0s\u001b[0m 2ms/step - loss: 2051579264.0000 - mae: 20587.5898 - val_loss: 18957406208.0000 - val_mae: 30154.6973\n",
      "Epoch 440/500\n",
      "\u001b[1m81/81\u001b[0m \u001b[32m━━━━━━━━━━━━━━━━━━━━\u001b[0m\u001b[37m\u001b[0m \u001b[1m0s\u001b[0m 2ms/step - loss: 2962521344.0000 - mae: 20902.1504 - val_loss: 18936731648.0000 - val_mae: 30366.1094\n",
      "Epoch 441/500\n",
      "\u001b[1m81/81\u001b[0m \u001b[32m━━━━━━━━━━━━━━━━━━━━\u001b[0m\u001b[37m\u001b[0m \u001b[1m0s\u001b[0m 2ms/step - loss: 1953581184.0000 - mae: 20724.3184 - val_loss: 18938900480.0000 - val_mae: 30331.6035\n",
      "Epoch 442/500\n",
      "\u001b[1m81/81\u001b[0m \u001b[32m━━━━━━━━━━━━━━━━━━━━\u001b[0m\u001b[37m\u001b[0m \u001b[1m0s\u001b[0m 2ms/step - loss: 2661554176.0000 - mae: 20762.4023 - val_loss: 18939836416.0000 - val_mae: 30285.1660\n",
      "Epoch 443/500\n",
      "\u001b[1m81/81\u001b[0m \u001b[32m━━━━━━━━━━━━━━━━━━━━\u001b[0m\u001b[37m\u001b[0m \u001b[1m0s\u001b[0m 2ms/step - loss: 3590665984.0000 - mae: 21939.2441 - val_loss: 18941198336.0000 - val_mae: 30267.0059\n",
      "Epoch 444/500\n",
      "\u001b[1m81/81\u001b[0m \u001b[32m━━━━━━━━━━━━━━━━━━━━\u001b[0m\u001b[37m\u001b[0m \u001b[1m0s\u001b[0m 2ms/step - loss: 3789632768.0000 - mae: 20996.2891 - val_loss: 18939049984.0000 - val_mae: 30283.0801\n",
      "Epoch 445/500\n",
      "\u001b[1m81/81\u001b[0m \u001b[32m━━━━━━━━━━━━━━━━━━━━\u001b[0m\u001b[37m\u001b[0m \u001b[1m0s\u001b[0m 2ms/step - loss: 2042058240.0000 - mae: 21617.6445 - val_loss: 18941265920.0000 - val_mae: 30244.4980\n",
      "Epoch 446/500\n",
      "\u001b[1m81/81\u001b[0m \u001b[32m━━━━━━━━━━━━━━━━━━━━\u001b[0m\u001b[37m\u001b[0m \u001b[1m0s\u001b[0m 2ms/step - loss: 2090690688.0000 - mae: 21006.7031 - val_loss: 18944075776.0000 - val_mae: 30208.5195\n",
      "Epoch 447/500\n",
      "\u001b[1m81/81\u001b[0m \u001b[32m━━━━━━━━━━━━━━━━━━━━\u001b[0m\u001b[37m\u001b[0m \u001b[1m0s\u001b[0m 2ms/step - loss: 5980810752.0000 - mae: 22662.1191 - val_loss: 18939957248.0000 - val_mae: 30236.2559\n",
      "Epoch 448/500\n",
      "\u001b[1m81/81\u001b[0m \u001b[32m━━━━━━━━━━━━━━━━━━━━\u001b[0m\u001b[37m\u001b[0m \u001b[1m0s\u001b[0m 2ms/step - loss: 4814042112.0000 - mae: 21617.5645 - val_loss: 18938388480.0000 - val_mae: 30258.5723\n",
      "Epoch 449/500\n",
      "\u001b[1m81/81\u001b[0m \u001b[32m━━━━━━━━━━━━━━━━━━━━\u001b[0m\u001b[37m\u001b[0m \u001b[1m0s\u001b[0m 2ms/step - loss: 2031049600.0000 - mae: 20341.8809 - val_loss: 18940524544.0000 - val_mae: 30218.6484\n",
      "Epoch 450/500\n",
      "\u001b[1m81/81\u001b[0m \u001b[32m━━━━━━━━━━━━━━━━━━━━\u001b[0m\u001b[37m\u001b[0m \u001b[1m0s\u001b[0m 2ms/step - loss: 1692097152.0000 - mae: 19871.6250 - val_loss: 18937931776.0000 - val_mae: 30245.4824\n",
      "Epoch 451/500\n",
      "\u001b[1m81/81\u001b[0m \u001b[32m━━━━━━━━━━━━━━━━━━━━\u001b[0m\u001b[37m\u001b[0m \u001b[1m0s\u001b[0m 2ms/step - loss: 5003344384.0000 - mae: 22413.0547 - val_loss: 18936891392.0000 - val_mae: 30238.8066\n",
      "Epoch 452/500\n",
      "\u001b[1m81/81\u001b[0m \u001b[32m━━━━━━━━━━━━━━━━━━━━\u001b[0m\u001b[37m\u001b[0m \u001b[1m0s\u001b[0m 2ms/step - loss: 3361467392.0000 - mae: 21065.7852 - val_loss: 18937348096.0000 - val_mae: 30208.8066\n",
      "Epoch 453/500\n",
      "\u001b[1m81/81\u001b[0m \u001b[32m━━━━━━━━━━━━━━━━━━━━\u001b[0m\u001b[37m\u001b[0m \u001b[1m0s\u001b[0m 2ms/step - loss: 5325727744.0000 - mae: 22651.4785 - val_loss: 18938173440.0000 - val_mae: 30193.4863\n",
      "Epoch 454/500\n",
      "\u001b[1m81/81\u001b[0m \u001b[32m━━━━━━━━━━━━━━━━━━━━\u001b[0m\u001b[37m\u001b[0m \u001b[1m0s\u001b[0m 2ms/step - loss: 3344923136.0000 - mae: 22614.0625 - val_loss: 18938167296.0000 - val_mae: 30168.7656\n",
      "Epoch 455/500\n",
      "\u001b[1m81/81\u001b[0m \u001b[32m━━━━━━━━━━━━━━━━━━━━\u001b[0m\u001b[37m\u001b[0m \u001b[1m0s\u001b[0m 2ms/step - loss: 1983374464.0000 - mae: 20370.1875 - val_loss: 18941800448.0000 - val_mae: 30112.5488\n",
      "Epoch 456/500\n",
      "\u001b[1m81/81\u001b[0m \u001b[32m━━━━━━━━━━━━━━━━━━━━\u001b[0m\u001b[37m\u001b[0m \u001b[1m0s\u001b[0m 2ms/step - loss: 2684697856.0000 - mae: 20526.2422 - val_loss: 18936573952.0000 - val_mae: 30173.8477\n",
      "Epoch 457/500\n",
      "\u001b[1m81/81\u001b[0m \u001b[32m━━━━━━━━━━━━━━━━━━━━\u001b[0m\u001b[37m\u001b[0m \u001b[1m0s\u001b[0m 2ms/step - loss: 4997116416.0000 - mae: 21626.9238 - val_loss: 18934732800.0000 - val_mae: 30186.9570\n",
      "Epoch 458/500\n",
      "\u001b[1m81/81\u001b[0m \u001b[32m━━━━━━━━━━━━━━━━━━━━\u001b[0m\u001b[37m\u001b[0m \u001b[1m0s\u001b[0m 2ms/step - loss: 1848196480.0000 - mae: 20799.6094 - val_loss: 18938109952.0000 - val_mae: 30155.6543\n",
      "Epoch 459/500\n",
      "\u001b[1m81/81\u001b[0m \u001b[32m━━━━━━━━━━━━━━━━━━━━\u001b[0m\u001b[37m\u001b[0m \u001b[1m0s\u001b[0m 2ms/step - loss: 4015247872.0000 - mae: 21300.7305 - val_loss: 18932940800.0000 - val_mae: 30192.5703\n",
      "Epoch 460/500\n",
      "\u001b[1m81/81\u001b[0m \u001b[32m━━━━━━━━━━━━━━━━━━━━\u001b[0m\u001b[37m\u001b[0m \u001b[1m0s\u001b[0m 2ms/step - loss: 1450624640.0000 - mae: 19137.6289 - val_loss: 18934988800.0000 - val_mae: 30161.8887\n",
      "Epoch 461/500\n",
      "\u001b[1m81/81\u001b[0m \u001b[32m━━━━━━━━━━━━━━━━━━━━\u001b[0m\u001b[37m\u001b[0m \u001b[1m0s\u001b[0m 2ms/step - loss: 2350645760.0000 - mae: 21777.5430 - val_loss: 18931910656.0000 - val_mae: 30195.9004\n",
      "Epoch 462/500\n",
      "\u001b[1m81/81\u001b[0m \u001b[32m━━━━━━━━━━━━━━━━━━━━\u001b[0m\u001b[37m\u001b[0m \u001b[1m0s\u001b[0m 2ms/step - loss: 2767339264.0000 - mae: 21640.8477 - val_loss: 18930341888.0000 - val_mae: 30200.3926\n",
      "Epoch 463/500\n",
      "\u001b[1m81/81\u001b[0m \u001b[32m━━━━━━━━━━━━━━━━━━━━\u001b[0m\u001b[37m\u001b[0m \u001b[1m0s\u001b[0m 2ms/step - loss: 3321533696.0000 - mae: 21608.8047 - val_loss: 18930065408.0000 - val_mae: 30184.8652\n",
      "Epoch 464/500\n",
      "\u001b[1m81/81\u001b[0m \u001b[32m━━━━━━━━━━━━━━━━━━━━\u001b[0m\u001b[37m\u001b[0m \u001b[1m0s\u001b[0m 2ms/step - loss: 2740930816.0000 - mae: 20918.1895 - val_loss: 18929874944.0000 - val_mae: 30178.8906\n",
      "Epoch 465/500\n",
      "\u001b[1m81/81\u001b[0m \u001b[32m━━━━━━━━━━━━━━━━━━━━\u001b[0m\u001b[37m\u001b[0m \u001b[1m0s\u001b[0m 2ms/step - loss: 2361590528.0000 - mae: 20127.5957 - val_loss: 18929246208.0000 - val_mae: 30177.1152\n",
      "Epoch 466/500\n",
      "\u001b[1m81/81\u001b[0m \u001b[32m━━━━━━━━━━━━━━━━━━━━\u001b[0m\u001b[37m\u001b[0m \u001b[1m0s\u001b[0m 2ms/step - loss: 2556023552.0000 - mae: 20784.1094 - val_loss: 18930483200.0000 - val_mae: 30140.6855\n",
      "Epoch 467/500\n",
      "\u001b[1m81/81\u001b[0m \u001b[32m━━━━━━━━━━━━━━━━━━━━\u001b[0m\u001b[37m\u001b[0m \u001b[1m0s\u001b[0m 2ms/step - loss: 2987040768.0000 - mae: 21834.0156 - val_loss: 18928494592.0000 - val_mae: 30174.8262\n",
      "Epoch 468/500\n",
      "\u001b[1m81/81\u001b[0m \u001b[32m━━━━━━━━━━━━━━━━━━━━\u001b[0m\u001b[37m\u001b[0m \u001b[1m0s\u001b[0m 2ms/step - loss: 1648333440.0000 - mae: 19997.4492 - val_loss: 18932609024.0000 - val_mae: 30120.3613\n",
      "Epoch 469/500\n",
      "\u001b[1m81/81\u001b[0m \u001b[32m━━━━━━━━━━━━━━━━━━━━\u001b[0m\u001b[37m\u001b[0m \u001b[1m0s\u001b[0m 2ms/step - loss: 7316642816.0000 - mae: 23312.2773 - val_loss: 18929143808.0000 - val_mae: 30131.1211\n",
      "Epoch 470/500\n",
      "\u001b[1m81/81\u001b[0m \u001b[32m━━━━━━━━━━━━━━━━━━━━\u001b[0m\u001b[37m\u001b[0m \u001b[1m0s\u001b[0m 2ms/step - loss: 2066221568.0000 - mae: 20822.3789 - val_loss: 18928250880.0000 - val_mae: 30146.0000\n",
      "Epoch 471/500\n",
      "\u001b[1m81/81\u001b[0m \u001b[32m━━━━━━━━━━━━━━━━━━━━\u001b[0m\u001b[37m\u001b[0m \u001b[1m0s\u001b[0m 2ms/step - loss: 2569769984.0000 - mae: 21968.5703 - val_loss: 18929115136.0000 - val_mae: 30111.0410\n",
      "Epoch 472/500\n",
      "\u001b[1m81/81\u001b[0m \u001b[32m━━━━━━━━━━━━━━━━━━━━\u001b[0m\u001b[37m\u001b[0m \u001b[1m0s\u001b[0m 2ms/step - loss: 2240032256.0000 - mae: 20757.9609 - val_loss: 18933559296.0000 - val_mae: 30044.9375\n",
      "Epoch 473/500\n",
      "\u001b[1m81/81\u001b[0m \u001b[32m━━━━━━━━━━━━━━━━━━━━\u001b[0m\u001b[37m\u001b[0m \u001b[1m0s\u001b[0m 2ms/step - loss: 1708556672.0000 - mae: 20505.9043 - val_loss: 18935814144.0000 - val_mae: 30019.5801\n",
      "Epoch 474/500\n",
      "\u001b[1m81/81\u001b[0m \u001b[32m━━━━━━━━━━━━━━━━━━━━\u001b[0m\u001b[37m\u001b[0m \u001b[1m0s\u001b[0m 2ms/step - loss: 1533613952.0000 - mae: 19801.1035 - val_loss: 18931509248.0000 - val_mae: 30062.8887\n",
      "Epoch 475/500\n",
      "\u001b[1m81/81\u001b[0m \u001b[32m━━━━━━━━━━━━━━━━━━━━\u001b[0m\u001b[37m\u001b[0m \u001b[1m0s\u001b[0m 2ms/step - loss: 2927779840.0000 - mae: 20983.6973 - val_loss: 18928453632.0000 - val_mae: 30074.4727\n",
      "Epoch 476/500\n",
      "\u001b[1m81/81\u001b[0m \u001b[32m━━━━━━━━━━━━━━━━━━━━\u001b[0m\u001b[37m\u001b[0m \u001b[1m0s\u001b[0m 2ms/step - loss: 2636959488.0000 - mae: 21201.8086 - val_loss: 18926155776.0000 - val_mae: 30090.3047\n",
      "Epoch 477/500\n",
      "\u001b[1m81/81\u001b[0m \u001b[32m━━━━━━━━━━━━━━━━━━━━\u001b[0m\u001b[37m\u001b[0m \u001b[1m0s\u001b[0m 2ms/step - loss: 1698509440.0000 - mae: 20122.6074 - val_loss: 18930247680.0000 - val_mae: 30037.7031\n",
      "Epoch 478/500\n",
      "\u001b[1m81/81\u001b[0m \u001b[32m━━━━━━━━━━━━━━━━━━━━\u001b[0m\u001b[37m\u001b[0m \u001b[1m0s\u001b[0m 2ms/step - loss: 2531896832.0000 - mae: 19387.6328 - val_loss: 18924050432.0000 - val_mae: 30097.4805\n",
      "Epoch 479/500\n",
      "\u001b[1m81/81\u001b[0m \u001b[32m━━━━━━━━━━━━━━━━━━━━\u001b[0m\u001b[37m\u001b[0m \u001b[1m0s\u001b[0m 2ms/step - loss: 3767389184.0000 - mae: 21520.3594 - val_loss: 18922479616.0000 - val_mae: 30109.2930\n",
      "Epoch 480/500\n",
      "\u001b[1m81/81\u001b[0m \u001b[32m━━━━━━━━━━━━━━━━━━━━\u001b[0m\u001b[37m\u001b[0m \u001b[1m0s\u001b[0m 2ms/step - loss: 3939013888.0000 - mae: 21805.9297 - val_loss: 18923081728.0000 - val_mae: 30083.1934\n",
      "Epoch 481/500\n",
      "\u001b[1m81/81\u001b[0m \u001b[32m━━━━━━━━━━━━━━━━━━━━\u001b[0m\u001b[37m\u001b[0m \u001b[1m0s\u001b[0m 2ms/step - loss: 3266366464.0000 - mae: 21651.3164 - val_loss: 18919626752.0000 - val_mae: 30123.5039\n",
      "Epoch 482/500\n",
      "\u001b[1m81/81\u001b[0m \u001b[32m━━━━━━━━━━━━━━━━━━━━\u001b[0m\u001b[37m\u001b[0m \u001b[1m0s\u001b[0m 2ms/step - loss: 6067265024.0000 - mae: 22755.2734 - val_loss: 18921099264.0000 - val_mae: 30086.7188\n",
      "Epoch 483/500\n",
      "\u001b[1m81/81\u001b[0m \u001b[32m━━━━━━━━━━━━━━━━━━━━\u001b[0m\u001b[37m\u001b[0m \u001b[1m0s\u001b[0m 2ms/step - loss: 1792757120.0000 - mae: 20440.2324 - val_loss: 18915887104.0000 - val_mae: 30138.4570\n",
      "Epoch 484/500\n",
      "\u001b[1m81/81\u001b[0m \u001b[32m━━━━━━━━━━━━━━━━━━━━\u001b[0m\u001b[37m\u001b[0m \u001b[1m0s\u001b[0m 2ms/step - loss: 3378010112.0000 - mae: 21377.7148 - val_loss: 18913652736.0000 - val_mae: 30143.8125\n",
      "Epoch 485/500\n",
      "\u001b[1m81/81\u001b[0m \u001b[32m━━━━━━━━━━━━━━━━━━━━\u001b[0m\u001b[37m\u001b[0m \u001b[1m0s\u001b[0m 2ms/step - loss: 6176582144.0000 - mae: 22855.8418 - val_loss: 18914453504.0000 - val_mae: 30118.8945\n",
      "Epoch 486/500\n",
      "\u001b[1m81/81\u001b[0m \u001b[32m━━━━━━━━━━━━━━━━━━━━\u001b[0m\u001b[37m\u001b[0m \u001b[1m0s\u001b[0m 2ms/step - loss: 1672465536.0000 - mae: 20175.1016 - val_loss: 18918137856.0000 - val_mae: 30072.8008\n",
      "Epoch 487/500\n",
      "\u001b[1m81/81\u001b[0m \u001b[32m━━━━━━━━━━━━━━━━━━━━\u001b[0m\u001b[37m\u001b[0m \u001b[1m0s\u001b[0m 2ms/step - loss: 2728190976.0000 - mae: 20862.4570 - val_loss: 18909364224.0000 - val_mae: 30168.1504\n",
      "Epoch 488/500\n",
      "\u001b[1m81/81\u001b[0m \u001b[32m━━━━━━━━━━━━━━━━━━━━\u001b[0m\u001b[37m\u001b[0m \u001b[1m0s\u001b[0m 2ms/step - loss: 2687094784.0000 - mae: 21002.9355 - val_loss: 18912387072.0000 - val_mae: 30099.2051\n",
      "Epoch 489/500\n",
      "\u001b[1m81/81\u001b[0m \u001b[32m━━━━━━━━━━━━━━━━━━━━\u001b[0m\u001b[37m\u001b[0m \u001b[1m0s\u001b[0m 2ms/step - loss: 1952475904.0000 - mae: 20663.9453 - val_loss: 18917175296.0000 - val_mae: 30024.9160\n",
      "Epoch 490/500\n",
      "\u001b[1m81/81\u001b[0m \u001b[32m━━━━━━━━━━━━━━━━━━━━\u001b[0m\u001b[37m\u001b[0m \u001b[1m0s\u001b[0m 2ms/step - loss: 2505103872.0000 - mae: 20896.0977 - val_loss: 18912571392.0000 - val_mae: 30086.4883\n",
      "Epoch 491/500\n",
      "\u001b[1m81/81\u001b[0m \u001b[32m━━━━━━━━━━━━━━━━━━━━\u001b[0m\u001b[37m\u001b[0m \u001b[1m0s\u001b[0m 2ms/step - loss: 2430181632.0000 - mae: 20095.4668 - val_loss: 18912208896.0000 - val_mae: 30073.0156\n",
      "Epoch 492/500\n",
      "\u001b[1m81/81\u001b[0m \u001b[32m━━━━━━━━━━━━━━━━━━━━\u001b[0m\u001b[37m\u001b[0m \u001b[1m0s\u001b[0m 2ms/step - loss: 4487924224.0000 - mae: 21389.0488 - val_loss: 18911434752.0000 - val_mae: 30066.1992\n",
      "Epoch 493/500\n",
      "\u001b[1m81/81\u001b[0m \u001b[32m━━━━━━━━━━━━━━━━━━━━\u001b[0m\u001b[37m\u001b[0m \u001b[1m0s\u001b[0m 2ms/step - loss: 1801592704.0000 - mae: 20269.0391 - val_loss: 18912397312.0000 - val_mae: 30050.2109\n",
      "Epoch 494/500\n",
      "\u001b[1m81/81\u001b[0m \u001b[32m━━━━━━━━━━━━━━━━━━━━\u001b[0m\u001b[37m\u001b[0m \u001b[1m0s\u001b[0m 2ms/step - loss: 3221307136.0000 - mae: 20620.5215 - val_loss: 18914643968.0000 - val_mae: 30002.5801\n",
      "Epoch 495/500\n",
      "\u001b[1m81/81\u001b[0m \u001b[32m━━━━━━━━━━━━━━━━━━━━\u001b[0m\u001b[37m\u001b[0m \u001b[1m0s\u001b[0m 2ms/step - loss: 4689152000.0000 - mae: 21756.6602 - val_loss: 18911311872.0000 - val_mae: 30044.9121\n",
      "Epoch 496/500\n",
      "\u001b[1m81/81\u001b[0m \u001b[32m━━━━━━━━━━━━━━━━━━━━\u001b[0m\u001b[37m\u001b[0m \u001b[1m0s\u001b[0m 2ms/step - loss: 1882509312.0000 - mae: 21017.9375 - val_loss: 18913437696.0000 - val_mae: 30018.6543\n",
      "Epoch 497/500\n",
      "\u001b[1m81/81\u001b[0m \u001b[32m━━━━━━━━━━━━━━━━━━━━\u001b[0m\u001b[37m\u001b[0m \u001b[1m0s\u001b[0m 2ms/step - loss: 2491224320.0000 - mae: 20078.9219 - val_loss: 18910476288.0000 - val_mae: 30025.0723\n",
      "Epoch 498/500\n",
      "\u001b[1m81/81\u001b[0m \u001b[32m━━━━━━━━━━━━━━━━━━━━\u001b[0m\u001b[37m\u001b[0m \u001b[1m0s\u001b[0m 2ms/step - loss: 2225720576.0000 - mae: 21144.9434 - val_loss: 18912075776.0000 - val_mae: 30005.1816\n",
      "Epoch 499/500\n",
      "\u001b[1m81/81\u001b[0m \u001b[32m━━━━━━━━━━━━━━━━━━━━\u001b[0m\u001b[37m\u001b[0m \u001b[1m0s\u001b[0m 2ms/step - loss: 2030092416.0000 - mae: 20353.9043 - val_loss: 18911885312.0000 - val_mae: 29988.3086\n",
      "Epoch 500/500\n",
      "\u001b[1m81/81\u001b[0m \u001b[32m━━━━━━━━━━━━━━━━━━━━\u001b[0m\u001b[37m\u001b[0m \u001b[1m0s\u001b[0m 2ms/step - loss: 2404795648.0000 - mae: 21337.1016 - val_loss: 18907447296.0000 - val_mae: 30029.2891\n",
      "\u001b[1m21/21\u001b[0m \u001b[32m━━━━━━━━━━━━━━━━━━━━\u001b[0m\u001b[37m\u001b[0m \u001b[1m0s\u001b[0m 2ms/step \n"
     ]
    },
    {
     "data": {
      "image/png": "[encoded data removed]",
      "text/plain": [
       "<Figure size 640x480 with 1 Axes>"
      ]
     },
     "metadata": {},
     "output_type": "display_data"
    },
    {
     "data": {
      "text/html": [
       "<style type=\"text/css\">\n",
       "#T_c67ab th {\n",
       "  font-size: 12px;\n",
       "  text-align: left;\n",
       "  font-weight: bold;\n",
       "}\n",
       "#T_c67ab td {\n",
       "  font-size: 12px;\n",
       "  text-align: center;\n",
       "}\n",
       "#T_c67ab_row0_col0, #T_c67ab_row0_col1, #T_c67ab_row0_col2, #T_c67ab_row0_col3, #T_c67ab_row0_col4, #T_c67ab_row0_col5, #T_c67ab_row0_col6, #T_c67ab_row0_col7, #T_c67ab_row0_col8 {\n",
       "  background-color: #f0f0f3;\n",
       "  color: #000000;\n",
       "}\n",
       "</style>\n",
       "<table id=\"T_c67ab\">\n",
       "  <thead>\n",
       "    <tr>\n",
       "      <th class=\"blank level0\" >&nbsp;</th>\n",
       "      <th id=\"T_c67ab_level0_col0\" class=\"col_heading level0 col0\" >R2 Score</th>\n",
       "      <th id=\"T_c67ab_level0_col1\" class=\"col_heading level0 col1\" >Explained Variance Score</th>\n",
       "      <th id=\"T_c67ab_level0_col2\" class=\"col_heading level0 col2\" >Mean Absolute Error</th>\n",
       "      <th id=\"T_c67ab_level0_col3\" class=\"col_heading level0 col3\" >Mean Squared Error</th>\n",
       "      <th id=\"T_c67ab_level0_col4\" class=\"col_heading level0 col4\" >Mean Squared Log Error</th>\n",
       "      <th id=\"T_c67ab_level0_col5\" class=\"col_heading level0 col5\" >Mean Absolute Percentage Error</th>\n",
       "      <th id=\"T_c67ab_level0_col6\" class=\"col_heading level0 col6\" >REC AUC</th>\n",
       "      <th id=\"T_c67ab_level0_col7\" class=\"col_heading level0 col7\" >Coeff. of Variation</th>\n",
       "      <th id=\"T_c67ab_level0_col8\" class=\"col_heading level0 col8\" >Mean of Variation</th>\n",
       "    </tr>\n",
       "  </thead>\n",
       "  <tbody>\n",
       "    <tr>\n",
       "      <th id=\"T_c67ab_level0_row0\" class=\"row_heading level0 row0\" >Metrics</th>\n",
       "      <td id=\"T_c67ab_row0_col0\" class=\"data row0 col0\" >0.054000</td>\n",
       "      <td id=\"T_c67ab_row0_col1\" class=\"data row0 col1\" >0.057000</td>\n",
       "      <td id=\"T_c67ab_row0_col2\" class=\"data row0 col2\" >30029.291000</td>\n",
       "      <td id=\"T_c67ab_row0_col3\" class=\"data row0 col3\" >18907448129.534000</td>\n",
       "      <td id=\"T_c67ab_row0_col4\" class=\"data row0 col4\" >0.390000</td>\n",
       "      <td id=\"T_c67ab_row0_col5\" class=\"data row0 col5\" >0.584000</td>\n",
       "      <td id=\"T_c67ab_row0_col6\" class=\"data row0 col6\" >0.687000</td>\n",
       "      <td id=\"T_c67ab_row0_col7\" class=\"data row0 col7\" >0.565000</td>\n",
       "      <td id=\"T_c67ab_row0_col8\" class=\"data row0 col8\" >1.336000</td>\n",
       "    </tr>\n",
       "  </tbody>\n",
       "</table>\n"
      ],
      "text/plain": [
       "<pandas.io.formats.style.Styler at 0x20925673bf0>"
      ]
     },
     "metadata": {},
     "output_type": "display_data"
    },
    {
     "data": {
      "image/png": "[encoded data removed]",
      "text/plain": [
       "<Figure size 1200x1600 with 6 Axes>"
      ]
     },
     "metadata": {},
     "output_type": "display_data"
    }
   ],
   "source": [
    "from keras.models import Sequential\n",
    "from keras.layers import Dense, Dropout\n",
    "from keras import regularizers\n",
    "\n",
    "# Parametros escolhidos pelo greedy\n",
    "modelo = Sequential()\n",
    "modelo.add(Dense(units=32, activation='relu', input_dim=X1_train_norm.shape[1]))\n",
    "# modelo.add(Dense(units=32, activation='relu', input_dim=X1out_train_norm.shape[1]))\n",
    "modelo.add(Dropout(0.3))  # Dropout para reduzir overfitting\n",
    "modelo.add(Dense(units=64, activation='relu', kernel_regularizer=regularizers.l2(0.1)))\n",
    "modelo.add(Dense(units=1, activation='linear'))\n",
    "\n",
    "# Treinando a rede neural com mais épocas\n",
    "modelo.compile(loss='mse', optimizer='adam', metrics=['mae'])\n",
    "resultado = modelo.fit(X1_train_norm, y1_train, epochs=500, batch_size=32, validation_data=(X1_test_norm, y1_test))\n",
    "# resultado = modelo.fit(X1out_train_norm, y1out_train, epochs=500, batch_size=32, validation_data=(X1out_test_norm, y1out_test))\n",
    "pred4 = modelo.predict(X1_test_norm)\n",
    "# pred4 = modelo.predict(X1out_test_norm)\n",
    "\n",
    "#Plotando gráfico do histórico de treinamento\n",
    "import matplotlib.pyplot as plt\n",
    "\n",
    "plt.plot(resultado.history['loss'])\n",
    "plt.plot(resultado.history['val_loss'])\n",
    "plt.title('Histórico de Treinamento')\n",
    "plt.ylabel('Função de custo')\n",
    "plt.xlabel('Épocas de treinamento')\n",
    "plt.legend(['Erro treino', 'Erro teste'])\n",
    "plt.show()\n",
    "\n",
    "reg_metrics4 = RegressionMetrics(y1_test.values.ravel(), pred4.ravel())\n",
    "# reg_metrics4 = RegressionMetrics(y1out_test.values.ravel(), pred4.ravel())\n",
    "reg_metrics4.plot()"
   ]
  },
  {
   "cell_type": "markdown",
   "metadata": {},
   "source": [
    "###### com log"
   ]
  },
  {
   "cell_type": "code",
   "execution_count": 11,
   "metadata": {},
   "outputs": [
    {
     "name": "stdout",
     "output_type": "stream",
     "text": [
      "Epoch 1/500\n"
     ]
    },
    {
     "name": "stderr",
     "output_type": "stream",
     "text": [
      "c:\\Users\\elisa\\AppData\\Local\\Programs\\Python\\Python312\\Lib\\site-packages\\keras\\src\\layers\\core\\dense.py:86: UserWarning: Do not pass an `input_shape`/`input_dim` argument to a layer. When using Sequential models, prefer using an `Input(shape)` object as the first layer in the model instead.\n",
      "  super().__init__(activity_regularizer=activity_regularizer, **kwargs)\n"
     ]
    },
    {
     "name": "stdout",
     "output_type": "stream",
     "text": [
      "\u001b[1m81/81\u001b[0m \u001b[32m━━━━━━━━━━━━━━━━━━━━\u001b[0m\u001b[37m\u001b[0m \u001b[1m1s\u001b[0m 3ms/step - loss: 98.3517 - mae: 9.6217 - val_loss: 34.2511 - val_mae: 5.1199\n",
      "Epoch 2/500\n",
      "\u001b[1m81/81\u001b[0m \u001b[32m━━━━━━━━━━━━━━━━━━━━\u001b[0m\u001b[37m\u001b[0m \u001b[1m0s\u001b[0m 2ms/step - loss: 24.8685 - mae: 3.9377 - val_loss: 12.8160 - val_mae: 2.5054\n",
      "Epoch 3/500\n",
      "\u001b[1m81/81\u001b[0m \u001b[32m━━━━━━━━━━━━━━━━━━━━\u001b[0m\u001b[37m\u001b[0m \u001b[1m0s\u001b[0m 1ms/step - loss: 13.1186 - mae: 2.5504 - val_loss: 7.3121 - val_mae: 1.6565\n",
      "Epoch 4/500\n",
      "\u001b[1m81/81\u001b[0m \u001b[32m━━━━━━━━━━━━━━━━━━━━\u001b[0m\u001b[37m\u001b[0m \u001b[1m0s\u001b[0m 2ms/step - loss: 7.9342 - mae: 1.7950 - val_loss: 4.7519 - val_mae: 1.1573\n",
      "Epoch 5/500\n",
      "\u001b[1m81/81\u001b[0m \u001b[32m━━━━━━━━━━━━━━━━━━━━\u001b[0m\u001b[37m\u001b[0m \u001b[1m0s\u001b[0m 2ms/step - loss: 5.8311 - mae: 1.4367 - val_loss: 3.4560 - val_mae: 0.8128\n",
      "Epoch 6/500\n",
      "\u001b[1m81/81\u001b[0m \u001b[32m━━━━━━━━━━━━━━━━━━━━\u001b[0m\u001b[37m\u001b[0m \u001b[1m0s\u001b[0m 2ms/step - loss: 4.5271 - mae: 1.1759 - val_loss: 2.7547 - val_mae: 0.6945\n",
      "Epoch 7/500\n",
      "\u001b[1m81/81\u001b[0m \u001b[32m━━━━━━━━━━━━━━━━━━━━\u001b[0m\u001b[37m\u001b[0m \u001b[1m0s\u001b[0m 2ms/step - loss: 3.8527 - mae: 1.0897 - val_loss: 2.2332 - val_mae: 0.5675\n",
      "Epoch 8/500\n",
      "\u001b[1m81/81\u001b[0m \u001b[32m━━━━━━━━━━━━━━━━━━━━\u001b[0m\u001b[37m\u001b[0m \u001b[1m0s\u001b[0m 2ms/step - loss: 3.1778 - mae: 0.9837 - val_loss: 1.8890 - val_mae: 0.5132\n",
      "Epoch 9/500\n",
      "\u001b[1m81/81\u001b[0m \u001b[32m━━━━━━━━━━━━━━━━━━━━\u001b[0m\u001b[37m\u001b[0m \u001b[1m0s\u001b[0m 2ms/step - loss: 2.6511 - mae: 0.9119 - val_loss: 1.6168 - val_mae: 0.4935\n",
      "Epoch 10/500\n",
      "\u001b[1m81/81\u001b[0m \u001b[32m━━━━━━━━━━━━━━━━━━━━\u001b[0m\u001b[37m\u001b[0m \u001b[1m0s\u001b[0m 2ms/step - loss: 2.3943 - mae: 0.8932 - val_loss: 1.3925 - val_mae: 0.4755\n",
      "Epoch 11/500\n",
      "\u001b[1m81/81\u001b[0m \u001b[32m━━━━━━━━━━━━━━━━━━━━\u001b[0m\u001b[37m\u001b[0m \u001b[1m0s\u001b[0m 2ms/step - loss: 2.0010 - mae: 0.8125 - val_loss: 1.2480 - val_mae: 0.4712\n",
      "Epoch 12/500\n",
      "\u001b[1m81/81\u001b[0m \u001b[32m━━━━━━━━━━━━━━━━━━━━\u001b[0m\u001b[37m\u001b[0m \u001b[1m0s\u001b[0m 2ms/step - loss: 1.7420 - mae: 0.7723 - val_loss: 1.0774 - val_mae: 0.4546\n",
      "Epoch 13/500\n",
      "\u001b[1m81/81\u001b[0m \u001b[32m━━━━━━━━━━━━━━━━━━━━\u001b[0m\u001b[37m\u001b[0m \u001b[1m0s\u001b[0m 2ms/step - loss: 1.4837 - mae: 0.7204 - val_loss: 0.9487 - val_mae: 0.4423\n",
      "Epoch 14/500\n",
      "\u001b[1m81/81\u001b[0m \u001b[32m━━━━━━━━━━━━━━━━━━━━\u001b[0m\u001b[37m\u001b[0m \u001b[1m0s\u001b[0m 2ms/step - loss: 1.3019 - mae: 0.6725 - val_loss: 0.9173 - val_mae: 0.4708\n",
      "Epoch 15/500\n",
      "\u001b[1m81/81\u001b[0m \u001b[32m━━━━━━━━━━━━━━━━━━━━\u001b[0m\u001b[37m\u001b[0m \u001b[1m0s\u001b[0m 2ms/step - loss: 1.1380 - mae: 0.6409 - val_loss: 0.7911 - val_mae: 0.4390\n",
      "Epoch 16/500\n",
      "\u001b[1m81/81\u001b[0m \u001b[32m━━━━━━━━━━━━━━━━━━━━\u001b[0m\u001b[37m\u001b[0m \u001b[1m0s\u001b[0m 2ms/step - loss: 0.9484 - mae: 0.5880 - val_loss: 0.7225 - val_mae: 0.4351\n",
      "Epoch 17/500\n",
      "\u001b[1m81/81\u001b[0m \u001b[32m━━━━━━━━━━━━━━━━━━━━\u001b[0m\u001b[37m\u001b[0m \u001b[1m0s\u001b[0m 2ms/step - loss: 0.8137 - mae: 0.5280 - val_loss: 0.6642 - val_mae: 0.4356\n",
      "Epoch 18/500\n",
      "\u001b[1m81/81\u001b[0m \u001b[32m━━━━━━━━━━━━━━━━━━━━\u001b[0m\u001b[37m\u001b[0m \u001b[1m0s\u001b[0m 2ms/step - loss: 0.7434 - mae: 0.5220 - val_loss: 0.6217 - val_mae: 0.4475\n",
      "Epoch 19/500\n",
      "\u001b[1m81/81\u001b[0m \u001b[32m━━━━━━━━━━━━━━━━━━━━\u001b[0m\u001b[37m\u001b[0m \u001b[1m0s\u001b[0m 2ms/step - loss: 0.6489 - mae: 0.4871 - val_loss: 0.5818 - val_mae: 0.4331\n",
      "Epoch 20/500\n",
      "\u001b[1m81/81\u001b[0m \u001b[32m━━━━━━━━━━━━━━━━━━━━\u001b[0m\u001b[37m\u001b[0m \u001b[1m0s\u001b[0m 2ms/step - loss: 0.6140 - mae: 0.4837 - val_loss: 0.5548 - val_mae: 0.4351\n",
      "Epoch 21/500\n",
      "\u001b[1m81/81\u001b[0m \u001b[32m━━━━━━━━━━━━━━━━━━━━\u001b[0m\u001b[37m\u001b[0m \u001b[1m0s\u001b[0m 2ms/step - loss: 0.5423 - mae: 0.4685 - val_loss: 0.5399 - val_mae: 0.4482\n",
      "Epoch 22/500\n",
      "\u001b[1m81/81\u001b[0m \u001b[32m━━━━━━━━━━━━━━━━━━━━\u001b[0m\u001b[37m\u001b[0m \u001b[1m0s\u001b[0m 2ms/step - loss: 0.5260 - mae: 0.4673 - val_loss: 0.5127 - val_mae: 0.4397\n",
      "Epoch 23/500\n",
      "\u001b[1m81/81\u001b[0m \u001b[32m━━━━━━━━━━━━━━━━━━━━\u001b[0m\u001b[37m\u001b[0m \u001b[1m0s\u001b[0m 2ms/step - loss: 0.4679 - mae: 0.4361 - val_loss: 0.5467 - val_mae: 0.5051\n",
      "Epoch 24/500\n",
      "\u001b[1m81/81\u001b[0m \u001b[32m━━━━━━━━━━━━━━━━━━━━\u001b[0m\u001b[37m\u001b[0m \u001b[1m0s\u001b[0m 2ms/step - loss: 0.4577 - mae: 0.4544 - val_loss: 0.4725 - val_mae: 0.4331\n",
      "Epoch 25/500\n",
      "\u001b[1m81/81\u001b[0m \u001b[32m━━━━━━━━━━━━━━━━━━━━\u001b[0m\u001b[37m\u001b[0m \u001b[1m0s\u001b[0m 2ms/step - loss: 0.4290 - mae: 0.4421 - val_loss: 0.4605 - val_mae: 0.4354\n",
      "Epoch 26/500\n",
      "\u001b[1m81/81\u001b[0m \u001b[32m━━━━━━━━━━━━━━━━━━━━\u001b[0m\u001b[37m\u001b[0m \u001b[1m0s\u001b[0m 2ms/step - loss: 0.4004 - mae: 0.4267 - val_loss: 0.4474 - val_mae: 0.4397\n",
      "Epoch 27/500\n",
      "\u001b[1m81/81\u001b[0m \u001b[32m━━━━━━━━━━━━━━━━━━━━\u001b[0m\u001b[37m\u001b[0m \u001b[1m0s\u001b[0m 2ms/step - loss: 0.3828 - mae: 0.4285 - val_loss: 0.4452 - val_mae: 0.4318\n",
      "Epoch 28/500\n",
      "\u001b[1m81/81\u001b[0m \u001b[32m━━━━━━━━━━━━━━━━━━━━\u001b[0m\u001b[37m\u001b[0m \u001b[1m0s\u001b[0m 2ms/step - loss: 0.3905 - mae: 0.4324 - val_loss: 0.4628 - val_mae: 0.4783\n",
      "Epoch 29/500\n",
      "\u001b[1m81/81\u001b[0m \u001b[32m━━━━━━━━━━━━━━━━━━━━\u001b[0m\u001b[37m\u001b[0m \u001b[1m0s\u001b[0m 2ms/step - loss: 0.3789 - mae: 0.4381 - val_loss: 0.4329 - val_mae: 0.4402\n",
      "Epoch 30/500\n",
      "\u001b[1m81/81\u001b[0m \u001b[32m━━━━━━━━━━━━━━━━━━━━\u001b[0m\u001b[37m\u001b[0m \u001b[1m0s\u001b[0m 2ms/step - loss: 0.3681 - mae: 0.4262 - val_loss: 0.4217 - val_mae: 0.4479\n",
      "Epoch 31/500\n",
      "\u001b[1m81/81\u001b[0m \u001b[32m━━━━━━━━━━━━━━━━━━━━\u001b[0m\u001b[37m\u001b[0m \u001b[1m0s\u001b[0m 2ms/step - loss: 0.3558 - mae: 0.4277 - val_loss: 0.4140 - val_mae: 0.4406\n",
      "Epoch 32/500\n",
      "\u001b[1m81/81\u001b[0m \u001b[32m━━━━━━━━━━━━━━━━━━━━\u001b[0m\u001b[37m\u001b[0m \u001b[1m0s\u001b[0m 2ms/step - loss: 0.3548 - mae: 0.4218 - val_loss: 0.4170 - val_mae: 0.4358\n",
      "Epoch 33/500\n",
      "\u001b[1m81/81\u001b[0m \u001b[32m━━━━━━━━━━━━━━━━━━━━\u001b[0m\u001b[37m\u001b[0m \u001b[1m0s\u001b[0m 2ms/step - loss: 0.3508 - mae: 0.4273 - val_loss: 0.4155 - val_mae: 0.4646\n",
      "Epoch 34/500\n",
      "\u001b[1m81/81\u001b[0m \u001b[32m━━━━━━━━━━━━━━━━━━━━\u001b[0m\u001b[37m\u001b[0m \u001b[1m0s\u001b[0m 2ms/step - loss: 0.3789 - mae: 0.4537 - val_loss: 0.4034 - val_mae: 0.4360\n",
      "Epoch 35/500\n",
      "\u001b[1m81/81\u001b[0m \u001b[32m━━━━━━━━━━━━━━━━━━━━\u001b[0m\u001b[37m\u001b[0m \u001b[1m0s\u001b[0m 2ms/step - loss: 0.3485 - mae: 0.4400 - val_loss: 0.3963 - val_mae: 0.4356\n",
      "Epoch 36/500\n",
      "\u001b[1m81/81\u001b[0m \u001b[32m━━━━━━━━━━━━━━━━━━━━\u001b[0m\u001b[37m\u001b[0m \u001b[1m0s\u001b[0m 2ms/step - loss: 0.3152 - mae: 0.4151 - val_loss: 0.4017 - val_mae: 0.4612\n",
      "Epoch 37/500\n",
      "\u001b[1m81/81\u001b[0m \u001b[32m━━━━━━━━━━━━━━━━━━━━\u001b[0m\u001b[37m\u001b[0m \u001b[1m0s\u001b[0m 2ms/step - loss: 0.3054 - mae: 0.4190 - val_loss: 0.3932 - val_mae: 0.4527\n",
      "Epoch 38/500\n",
      "\u001b[1m81/81\u001b[0m \u001b[32m━━━━━━━━━━━━━━━━━━━━\u001b[0m\u001b[37m\u001b[0m \u001b[1m0s\u001b[0m 2ms/step - loss: 0.3095 - mae: 0.4210 - val_loss: 0.3909 - val_mae: 0.4337\n",
      "Epoch 39/500\n",
      "\u001b[1m81/81\u001b[0m \u001b[32m━━━━━━━━━━━━━━━━━━━━\u001b[0m\u001b[37m\u001b[0m \u001b[1m0s\u001b[0m 2ms/step - loss: 0.3589 - mae: 0.4464 - val_loss: 0.4073 - val_mae: 0.4380\n",
      "Epoch 40/500\n",
      "\u001b[1m81/81\u001b[0m \u001b[32m━━━━━━━━━━━━━━━━━━━━\u001b[0m\u001b[37m\u001b[0m \u001b[1m0s\u001b[0m 2ms/step - loss: 0.3319 - mae: 0.4278 - val_loss: 0.4048 - val_mae: 0.4352\n",
      "Epoch 41/500\n",
      "\u001b[1m81/81\u001b[0m \u001b[32m━━━━━━━━━━━━━━━━━━━━\u001b[0m\u001b[37m\u001b[0m \u001b[1m0s\u001b[0m 2ms/step - loss: 0.3397 - mae: 0.4266 - val_loss: 0.3968 - val_mae: 0.4360\n",
      "Epoch 42/500\n",
      "\u001b[1m81/81\u001b[0m \u001b[32m━━━━━━━━━━━━━━━━━━━━\u001b[0m\u001b[37m\u001b[0m \u001b[1m0s\u001b[0m 2ms/step - loss: 0.3264 - mae: 0.4213 - val_loss: 0.3922 - val_mae: 0.4340\n",
      "Epoch 43/500\n",
      "\u001b[1m81/81\u001b[0m \u001b[32m━━━━━━━━━━━━━━━━━━━━\u001b[0m\u001b[37m\u001b[0m \u001b[1m0s\u001b[0m 2ms/step - loss: 0.3013 - mae: 0.4071 - val_loss: 0.3812 - val_mae: 0.4359\n",
      "Epoch 44/500\n",
      "\u001b[1m81/81\u001b[0m \u001b[32m━━━━━━━━━━━━━━━━━━━━\u001b[0m\u001b[37m\u001b[0m \u001b[1m0s\u001b[0m 2ms/step - loss: 0.3121 - mae: 0.4223 - val_loss: 0.3819 - val_mae: 0.4331\n",
      "Epoch 45/500\n",
      "\u001b[1m81/81\u001b[0m \u001b[32m━━━━━━━━━━━━━━━━━━━━\u001b[0m\u001b[37m\u001b[0m \u001b[1m0s\u001b[0m 2ms/step - loss: 0.3191 - mae: 0.4283 - val_loss: 0.3780 - val_mae: 0.4431\n",
      "Epoch 46/500\n",
      "\u001b[1m81/81\u001b[0m \u001b[32m━━━━━━━━━━━━━━━━━━━━\u001b[0m\u001b[37m\u001b[0m \u001b[1m0s\u001b[0m 1ms/step - loss: 0.3148 - mae: 0.4196 - val_loss: 0.3885 - val_mae: 0.4330\n",
      "Epoch 47/500\n",
      "\u001b[1m81/81\u001b[0m \u001b[32m━━━━━━━━━━━━━━━━━━━━\u001b[0m\u001b[37m\u001b[0m \u001b[1m0s\u001b[0m 2ms/step - loss: 0.2951 - mae: 0.4136 - val_loss: 0.3770 - val_mae: 0.4399\n",
      "Epoch 48/500\n",
      "\u001b[1m81/81\u001b[0m \u001b[32m━━━━━━━━━━━━━━━━━━━━\u001b[0m\u001b[37m\u001b[0m \u001b[1m0s\u001b[0m 2ms/step - loss: 0.3055 - mae: 0.4231 - val_loss: 0.3826 - val_mae: 0.4373\n",
      "Epoch 49/500\n",
      "\u001b[1m81/81\u001b[0m \u001b[32m━━━━━━━━━━━━━━━━━━━━\u001b[0m\u001b[37m\u001b[0m \u001b[1m0s\u001b[0m 2ms/step - loss: 0.3033 - mae: 0.4180 - val_loss: 0.3971 - val_mae: 0.4372\n",
      "Epoch 50/500\n",
      "\u001b[1m81/81\u001b[0m \u001b[32m━━━━━━━━━━━━━━━━━━━━\u001b[0m\u001b[37m\u001b[0m \u001b[1m0s\u001b[0m 2ms/step - loss: 0.3079 - mae: 0.4213 - val_loss: 0.3844 - val_mae: 0.4376\n",
      "Epoch 51/500\n",
      "\u001b[1m81/81\u001b[0m \u001b[32m━━━━━━━━━━━━━━━━━━━━\u001b[0m\u001b[37m\u001b[0m \u001b[1m0s\u001b[0m 2ms/step - loss: 0.3300 - mae: 0.4363 - val_loss: 0.3782 - val_mae: 0.4475\n",
      "Epoch 52/500\n",
      "\u001b[1m81/81\u001b[0m \u001b[32m━━━━━━━━━━━━━━━━━━━━\u001b[0m\u001b[37m\u001b[0m \u001b[1m0s\u001b[0m 2ms/step - loss: 0.3110 - mae: 0.4243 - val_loss: 0.3722 - val_mae: 0.4380\n",
      "Epoch 53/500\n",
      "\u001b[1m81/81\u001b[0m \u001b[32m━━━━━━━━━━━━━━━━━━━━\u001b[0m\u001b[37m\u001b[0m \u001b[1m0s\u001b[0m 2ms/step - loss: 0.2911 - mae: 0.4059 - val_loss: 0.3775 - val_mae: 0.4328\n",
      "Epoch 54/500\n",
      "\u001b[1m81/81\u001b[0m \u001b[32m━━━━━━━━━━━━━━━━━━━━\u001b[0m\u001b[37m\u001b[0m \u001b[1m0s\u001b[0m 2ms/step - loss: 0.3089 - mae: 0.4202 - val_loss: 0.4153 - val_mae: 0.4438\n",
      "Epoch 55/500\n",
      "\u001b[1m81/81\u001b[0m \u001b[32m━━━━━━━━━━━━━━━━━━━━\u001b[0m\u001b[37m\u001b[0m \u001b[1m0s\u001b[0m 2ms/step - loss: 0.3178 - mae: 0.4313 - val_loss: 0.3728 - val_mae: 0.4428\n",
      "Epoch 56/500\n",
      "\u001b[1m81/81\u001b[0m \u001b[32m━━━━━━━━━━━━━━━━━━━━\u001b[0m\u001b[37m\u001b[0m \u001b[1m0s\u001b[0m 2ms/step - loss: 0.3102 - mae: 0.4184 - val_loss: 0.3816 - val_mae: 0.4333\n",
      "Epoch 57/500\n",
      "\u001b[1m81/81\u001b[0m \u001b[32m━━━━━━━━━━━━━━━━━━━━\u001b[0m\u001b[37m\u001b[0m \u001b[1m0s\u001b[0m 2ms/step - loss: 0.3062 - mae: 0.4112 - val_loss: 0.3863 - val_mae: 0.4356\n",
      "Epoch 58/500\n",
      "\u001b[1m81/81\u001b[0m \u001b[32m━━━━━━━━━━━━━━━━━━━━\u001b[0m\u001b[37m\u001b[0m \u001b[1m0s\u001b[0m 2ms/step - loss: 0.3270 - mae: 0.4327 - val_loss: 0.3793 - val_mae: 0.4494\n",
      "Epoch 59/500\n",
      "\u001b[1m81/81\u001b[0m \u001b[32m━━━━━━━━━━━━━━━━━━━━\u001b[0m\u001b[37m\u001b[0m \u001b[1m0s\u001b[0m 2ms/step - loss: 0.3248 - mae: 0.4314 - val_loss: 0.4015 - val_mae: 0.4773\n",
      "Epoch 60/500\n",
      "\u001b[1m81/81\u001b[0m \u001b[32m━━━━━━━━━━━━━━━━━━━━\u001b[0m\u001b[37m\u001b[0m \u001b[1m0s\u001b[0m 2ms/step - loss: 0.3166 - mae: 0.4302 - val_loss: 0.3994 - val_mae: 0.4377\n",
      "Epoch 61/500\n",
      "\u001b[1m81/81\u001b[0m \u001b[32m━━━━━━━━━━━━━━━━━━━━\u001b[0m\u001b[37m\u001b[0m \u001b[1m0s\u001b[0m 2ms/step - loss: 0.3183 - mae: 0.4299 - val_loss: 0.3727 - val_mae: 0.4444\n",
      "Epoch 62/500\n",
      "\u001b[1m81/81\u001b[0m \u001b[32m━━━━━━━━━━━━━━━━━━━━\u001b[0m\u001b[37m\u001b[0m \u001b[1m0s\u001b[0m 2ms/step - loss: 0.3158 - mae: 0.4337 - val_loss: 0.3791 - val_mae: 0.4310\n",
      "Epoch 63/500\n",
      "\u001b[1m81/81\u001b[0m \u001b[32m━━━━━━━━━━━━━━━━━━━━\u001b[0m\u001b[37m\u001b[0m \u001b[1m0s\u001b[0m 2ms/step - loss: 0.3035 - mae: 0.4183 - val_loss: 0.3878 - val_mae: 0.4321\n",
      "Epoch 64/500\n",
      "\u001b[1m81/81\u001b[0m \u001b[32m━━━━━━━━━━━━━━━━━━━━\u001b[0m\u001b[37m\u001b[0m \u001b[1m0s\u001b[0m 2ms/step - loss: 0.3162 - mae: 0.4234 - val_loss: 0.3690 - val_mae: 0.4389\n",
      "Epoch 65/500\n",
      "\u001b[1m81/81\u001b[0m \u001b[32m━━━━━━━━━━━━━━━━━━━━\u001b[0m\u001b[37m\u001b[0m \u001b[1m0s\u001b[0m 2ms/step - loss: 0.3099 - mae: 0.4215 - val_loss: 0.3754 - val_mae: 0.4337\n",
      "Epoch 66/500\n",
      "\u001b[1m81/81\u001b[0m \u001b[32m━━━━━━━━━━━━━━━━━━━━\u001b[0m\u001b[37m\u001b[0m \u001b[1m0s\u001b[0m 2ms/step - loss: 0.3154 - mae: 0.4195 - val_loss: 0.3819 - val_mae: 0.4546\n",
      "Epoch 67/500\n",
      "\u001b[1m81/81\u001b[0m \u001b[32m━━━━━━━━━━━━━━━━━━━━\u001b[0m\u001b[37m\u001b[0m \u001b[1m0s\u001b[0m 2ms/step - loss: 0.3032 - mae: 0.4207 - val_loss: 0.3740 - val_mae: 0.4436\n",
      "Epoch 68/500\n",
      "\u001b[1m81/81\u001b[0m \u001b[32m━━━━━━━━━━━━━━━━━━━━\u001b[0m\u001b[37m\u001b[0m \u001b[1m0s\u001b[0m 2ms/step - loss: 0.3080 - mae: 0.4219 - val_loss: 0.3701 - val_mae: 0.4427\n",
      "Epoch 69/500\n",
      "\u001b[1m81/81\u001b[0m \u001b[32m━━━━━━━━━━━━━━━━━━━━\u001b[0m\u001b[37m\u001b[0m \u001b[1m0s\u001b[0m 2ms/step - loss: 0.2984 - mae: 0.4167 - val_loss: 0.3760 - val_mae: 0.4332\n",
      "Epoch 70/500\n",
      "\u001b[1m81/81\u001b[0m \u001b[32m━━━━━━━━━━━━━━━━━━━━\u001b[0m\u001b[37m\u001b[0m \u001b[1m0s\u001b[0m 2ms/step - loss: 0.3107 - mae: 0.4263 - val_loss: 0.3722 - val_mae: 0.4288\n",
      "Epoch 71/500\n",
      "\u001b[1m81/81\u001b[0m \u001b[32m━━━━━━━━━━━━━━━━━━━━\u001b[0m\u001b[37m\u001b[0m \u001b[1m0s\u001b[0m 2ms/step - loss: 0.3194 - mae: 0.4235 - val_loss: 0.4067 - val_mae: 0.4435\n",
      "Epoch 72/500\n",
      "\u001b[1m81/81\u001b[0m \u001b[32m━━━━━━━━━━━━━━━━━━━━\u001b[0m\u001b[37m\u001b[0m \u001b[1m0s\u001b[0m 2ms/step - loss: 0.3070 - mae: 0.4203 - val_loss: 0.3704 - val_mae: 0.4320\n",
      "Epoch 73/500\n",
      "\u001b[1m81/81\u001b[0m \u001b[32m━━━━━━━━━━━━━━━━━━━━\u001b[0m\u001b[37m\u001b[0m \u001b[1m0s\u001b[0m 2ms/step - loss: 0.3126 - mae: 0.4273 - val_loss: 0.3690 - val_mae: 0.4379\n",
      "Epoch 74/500\n",
      "\u001b[1m81/81\u001b[0m \u001b[32m━━━━━━━━━━━━━━━━━━━━\u001b[0m\u001b[37m\u001b[0m \u001b[1m0s\u001b[0m 2ms/step - loss: 0.3312 - mae: 0.4359 - val_loss: 0.3710 - val_mae: 0.4294\n",
      "Epoch 75/500\n",
      "\u001b[1m81/81\u001b[0m \u001b[32m━━━━━━━━━━━━━━━━━━━━\u001b[0m\u001b[37m\u001b[0m \u001b[1m0s\u001b[0m 2ms/step - loss: 0.3003 - mae: 0.4164 - val_loss: 0.3738 - val_mae: 0.4313\n",
      "Epoch 76/500\n",
      "\u001b[1m81/81\u001b[0m \u001b[32m━━━━━━━━━━━━━━━━━━━━\u001b[0m\u001b[37m\u001b[0m \u001b[1m0s\u001b[0m 2ms/step - loss: 0.3186 - mae: 0.4285 - val_loss: 0.3695 - val_mae: 0.4279\n",
      "Epoch 77/500\n",
      "\u001b[1m81/81\u001b[0m \u001b[32m━━━━━━━━━━━━━━━━━━━━\u001b[0m\u001b[37m\u001b[0m \u001b[1m0s\u001b[0m 2ms/step - loss: 0.3240 - mae: 0.4339 - val_loss: 0.3700 - val_mae: 0.4466\n",
      "Epoch 78/500\n",
      "\u001b[1m81/81\u001b[0m \u001b[32m━━━━━━━━━━━━━━━━━━━━\u001b[0m\u001b[37m\u001b[0m \u001b[1m0s\u001b[0m 2ms/step - loss: 0.2979 - mae: 0.4145 - val_loss: 0.3689 - val_mae: 0.4397\n",
      "Epoch 79/500\n",
      "\u001b[1m81/81\u001b[0m \u001b[32m━━━━━━━━━━━━━━━━━━━━\u001b[0m\u001b[37m\u001b[0m \u001b[1m0s\u001b[0m 2ms/step - loss: 0.3053 - mae: 0.4239 - val_loss: 0.3784 - val_mae: 0.4562\n",
      "Epoch 80/500\n",
      "\u001b[1m81/81\u001b[0m \u001b[32m━━━━━━━━━━━━━━━━━━━━\u001b[0m\u001b[37m\u001b[0m \u001b[1m0s\u001b[0m 2ms/step - loss: 0.3079 - mae: 0.4225 - val_loss: 0.3989 - val_mae: 0.4364\n",
      "Epoch 81/500\n",
      "\u001b[1m81/81\u001b[0m \u001b[32m━━━━━━━━━━━━━━━━━━━━\u001b[0m\u001b[37m\u001b[0m \u001b[1m0s\u001b[0m 2ms/step - loss: 0.3261 - mae: 0.4295 - val_loss: 0.3659 - val_mae: 0.4294\n",
      "Epoch 82/500\n",
      "\u001b[1m81/81\u001b[0m \u001b[32m━━━━━━━━━━━━━━━━━━━━\u001b[0m\u001b[37m\u001b[0m \u001b[1m0s\u001b[0m 2ms/step - loss: 0.3230 - mae: 0.4263 - val_loss: 0.3632 - val_mae: 0.4332\n",
      "Epoch 83/500\n",
      "\u001b[1m81/81\u001b[0m \u001b[32m━━━━━━━━━━━━━━━━━━━━\u001b[0m\u001b[37m\u001b[0m \u001b[1m0s\u001b[0m 2ms/step - loss: 0.3017 - mae: 0.4176 - val_loss: 0.3641 - val_mae: 0.4333\n",
      "Epoch 84/500\n",
      "\u001b[1m81/81\u001b[0m \u001b[32m━━━━━━━━━━━━━━━━━━━━\u001b[0m\u001b[37m\u001b[0m \u001b[1m0s\u001b[0m 2ms/step - loss: 0.3097 - mae: 0.4242 - val_loss: 0.3634 - val_mae: 0.4301\n",
      "Epoch 85/500\n",
      "\u001b[1m81/81\u001b[0m \u001b[32m━━━━━━━━━━━━━━━━━━━━\u001b[0m\u001b[37m\u001b[0m \u001b[1m0s\u001b[0m 2ms/step - loss: 0.3066 - mae: 0.4163 - val_loss: 0.4011 - val_mae: 0.4397\n",
      "Epoch 86/500\n",
      "\u001b[1m81/81\u001b[0m \u001b[32m━━━━━━━━━━━━━━━━━━━━\u001b[0m\u001b[37m\u001b[0m \u001b[1m0s\u001b[0m 2ms/step - loss: 0.3344 - mae: 0.4317 - val_loss: 0.3669 - val_mae: 0.4315\n",
      "Epoch 87/500\n",
      "\u001b[1m81/81\u001b[0m \u001b[32m━━━━━━━━━━━━━━━━━━━━\u001b[0m\u001b[37m\u001b[0m \u001b[1m0s\u001b[0m 2ms/step - loss: 0.3220 - mae: 0.4221 - val_loss: 0.3682 - val_mae: 0.4286\n",
      "Epoch 88/500\n",
      "\u001b[1m81/81\u001b[0m \u001b[32m━━━━━━━━━━━━━━━━━━━━\u001b[0m\u001b[37m\u001b[0m \u001b[1m0s\u001b[0m 2ms/step - loss: 0.2962 - mae: 0.4145 - val_loss: 0.3815 - val_mae: 0.4383\n",
      "Epoch 89/500\n",
      "\u001b[1m81/81\u001b[0m \u001b[32m━━━━━━━━━━━━━━━━━━━━\u001b[0m\u001b[37m\u001b[0m \u001b[1m0s\u001b[0m 2ms/step - loss: 0.3303 - mae: 0.4372 - val_loss: 0.3839 - val_mae: 0.4654\n",
      "Epoch 90/500\n",
      "\u001b[1m81/81\u001b[0m \u001b[32m━━━━━━━━━━━━━━━━━━━━\u001b[0m\u001b[37m\u001b[0m \u001b[1m0s\u001b[0m 2ms/step - loss: 0.2858 - mae: 0.4020 - val_loss: 0.3896 - val_mae: 0.4722\n",
      "Epoch 91/500\n",
      "\u001b[1m81/81\u001b[0m \u001b[32m━━━━━━━━━━━━━━━━━━━━\u001b[0m\u001b[37m\u001b[0m \u001b[1m0s\u001b[0m 2ms/step - loss: 0.3000 - mae: 0.4142 - val_loss: 0.3688 - val_mae: 0.4429\n",
      "Epoch 92/500\n",
      "\u001b[1m81/81\u001b[0m \u001b[32m━━━━━━━━━━━━━━━━━━━━\u001b[0m\u001b[37m\u001b[0m \u001b[1m0s\u001b[0m 2ms/step - loss: 0.3077 - mae: 0.4212 - val_loss: 0.3724 - val_mae: 0.4331\n",
      "Epoch 93/500\n",
      "\u001b[1m81/81\u001b[0m \u001b[32m━━━━━━━━━━━━━━━━━━━━\u001b[0m\u001b[37m\u001b[0m \u001b[1m0s\u001b[0m 2ms/step - loss: 0.3231 - mae: 0.4234 - val_loss: 0.3697 - val_mae: 0.4375\n",
      "Epoch 94/500\n",
      "\u001b[1m81/81\u001b[0m \u001b[32m━━━━━━━━━━━━━━━━━━━━\u001b[0m\u001b[37m\u001b[0m \u001b[1m0s\u001b[0m 2ms/step - loss: 0.2960 - mae: 0.4157 - val_loss: 0.3656 - val_mae: 0.4368\n",
      "Epoch 95/500\n",
      "\u001b[1m81/81\u001b[0m \u001b[32m━━━━━━━━━━━━━━━━━━━━\u001b[0m\u001b[37m\u001b[0m \u001b[1m0s\u001b[0m 2ms/step - loss: 0.3186 - mae: 0.4264 - val_loss: 0.3713 - val_mae: 0.4287\n",
      "Epoch 96/500\n",
      "\u001b[1m81/81\u001b[0m \u001b[32m━━━━━━━━━━━━━━━━━━━━\u001b[0m\u001b[37m\u001b[0m \u001b[1m0s\u001b[0m 2ms/step - loss: 0.2801 - mae: 0.4029 - val_loss: 0.3682 - val_mae: 0.4436\n",
      "Epoch 97/500\n"
     ]
    }
   ],
   "source": [
    "from keras.models import Sequential\n",
    "from keras.layers import Dense, Dropout\n",
    "from keras import regularizers\n",
    "\n",
    "# Parametros escolhidos pelo greedy\n",
    "modelo = Sequential()\n",
    "modelo.add(Dense(units=32, activation='relu', input_dim=X1_train_norm.shape[1]))\n",
    "# modelo.add(Dense(units=32, activation='relu', input_dim=X1out_train_norm.shape[1]))\n",
    "\n",
    "modelo.add(Dropout(0.3))  # Dropout para reduzir overfitting\n",
    "modelo.add(Dense(units=64, activation='relu', kernel_regularizer=regularizers.l2(0.1)))\n",
    "modelo.add(Dense(units=1, activation='linear'))\n",
    "# Treinando a rede neural com mais épocas\n",
    "modelo.compile(loss='mse', optimizer='adam', metrics=['mae'])\n",
    "resultado = modelo.fit(X1_train_norm, y1_train_log, epochs=500, batch_size=32, validation_data=(X1_test_norm, y1_test_log))\n",
    "# resultado = modelo.fit(X1_train_norm, y1_train_log, epochs=500, batch_size=32, validation_data=(X1out_test_norm, y1out_test_log))\n",
    "pred4 = modelo.predict(X1_test_norm)\n",
    "# pred4 = modelo.predict(X1out_test_norm)\n",
    "\n",
    "#Plotando gráfico do histórico de treinamento\n",
    "import matplotlib.pyplot as plt\n",
    "\n",
    "plt.plot(resultado.history['loss'])\n",
    "plt.plot(resultado.history['val_loss'])\n",
    "plt.title('Histórico de Treinamento')\n",
    "plt.ylabel('Função de custo')\n",
    "plt.xlabel('Épocas de treinamento')\n",
    "plt.legend(['Erro treino', 'Erro teste'])\n",
    "plt.show()\n",
    "\n",
    "reg_metrics4 = RegressionMetrics(y1_test_log.values.ravel(), pred4.ravel())\n",
    "# reg_metrics4 = RegressionMetrics(y1out_test_log.values.ravel(), pred4.ravel())\n",
    "reg_metrics4.plot()"
   ]
  },
  {
   "cell_type": "markdown",
   "metadata": {},
   "source": [
    "## comparação dos resultados"
   ]
  },
  {
   "cell_type": "code",
   "execution_count": null,
   "metadata": {},
   "outputs": [],
   "source": [
    "# Random Forest deviation and accuracy values (for custom visualization)\n",
    "RF_dev = reg_metrics.deviation_\n",
    "RF_acc = reg_metrics.accuracy_\n",
    "# Adaboost deviation and accuracy values (for custom visualization)\n",
    "AR_dev = reg_metrics2.deviation_\n",
    "AR_acc = reg_metrics2.accuracy_\n",
    "# Decision Tree deviation and accuracy values (for custom visualization)\n",
    "DT_dev = reg_metrics3.deviation_\n",
    "DT_acc = reg_metrics3.accuracy_\n",
    "# Neural Network deviation and accuracy values (for custom visualization)\n",
    "RN_dev=reg_metrics4.deviation_\n",
    "RN_acc=reg_metrics4.accuracy_"
   ]
  },
  {
   "cell_type": "code",
   "execution_count": null,
   "metadata": {},
   "outputs": [],
   "source": [
    "# REC curve - comparison of models\n",
    "fig, ax = plt.subplots(1, 1, figsize=(5.5, 5))\n",
    "plt.plot(\n",
    "    RF_dev,\n",
    "    RF_acc,\n",
    "    color=\"royalblue\",\n",
    "    ls=\"--\",\n",
    "    lw=2,\n",
    "    label=\"Random Forest={}\".format(round(reg_metrics.auc_rec_, 3)),\n",
    ")\n",
    "plt.plot(\n",
    "    AR_dev,\n",
    "    AR_acc,\n",
    "    color=\"darkorange\",\n",
    "    ls=\"-\",\n",
    "    lw=2,\n",
    "    label=\"AdaBoost={}\".format(round(reg_metrics2.auc_rec_, 3)),\n",
    ")\n",
    "plt.plot(\n",
    "    DT_dev,\n",
    "    DT_acc,\n",
    "    color=\"red\",\n",
    "    ls=\"-\",\n",
    "    lw=2,\n",
    "    label=\"DecisionTree={}\".format(round(reg_metrics3.auc_rec_, 3)),\n",
    ")\n",
    "plt.plot(\n",
    "    RN_dev,\n",
    "    RN_acc,\n",
    "    color=\"green\",\n",
    "    ls=\"-\",\n",
    "    lw=2,\n",
    "    label=\"NeuralNet={}\".format(round(reg_metrics4.auc_rec_, 3)),\n",
    ")\n",
    "plt.legend(loc=4)\n",
    "plt.grid(color=\"gray\", linestyle=\"--\", linewidth=0.5)\n",
    "plt.xlabel(\"Deviation\")\n",
    "plt.ylabel(\"Accuracy\")\n",
    "plt.show()"
   ]
  },
  {
   "cell_type": "code",
   "execution_count": null,
   "metadata": {},
   "outputs": [],
   "source": [
    "metrics = pd.concat(\n",
    "    [\n",
    "        reg_metrics.get_metrics(),\n",
    "        reg_metrics2.get_metrics(),\n",
    "        reg_metrics3.get_metrics(),\n",
    "        reg_metrics4.get_metrics(),\n",
    "    ]\n",
    ")\n",
    "metrics.index = [\"RandomForest\", \"AdaBoost\", \"DecisionTree\",\"Neural Net\"]\n",
    "metrics"
   ]
  },
  {
   "cell_type": "markdown",
   "metadata": {},
   "source": [
    "## para o que ?"
   ]
  },
  {
   "cell_type": "code",
   "execution_count": null,
   "metadata": {},
   "outputs": [],
   "source": [
    "import numpy as np\n",
    "import tensorflow as tf\n",
    "from sklearn.model_selection import GridSearchCV\n",
    "from tensorflow.keras.models import Sequential\n",
    "from tensorflow.keras.layers import Dense, Dropout\n",
    "from tensorflow.keras import regularizers\n",
    "from tensorflow.keras.callbacks import EarlyStopping\n",
    "\n",
    "# Função para construir o modelo Keras\n",
    "def create_model(units1=64, units2=32, dropout_rate=0.5, kernel_regularizer=0.01):\n",
    "    model = Sequential()\n",
    "    model.add(Dense(units=units1, activation='relu', input_dim=X1_train_norm.shape[1]))\n",
    "    model.add(Dropout(dropout_rate))\n",
    "    model.add(Dense(units=units2, activation='relu', kernel_regularizer=regularizers.l2(kernel_regularizer)))\n",
    "    model.add(Dropout(dropout_rate))\n",
    "    model.add(Dense(units=1, activation='linear'))\n",
    "    model.compile(loss='mse', optimizer='adam', metrics=['mae'])\n",
    "    return model\n",
    "\n",
    "# Definindo os parâmetros a serem otimizados\n",
    "param_grid = {\n",
    "    'units1': [32, 64, 128],\n",
    "    'units2': [16, 32, 64],\n",
    "    'dropout_rate': [0.3, 0.5, 0.7],\n",
    "    'kernel_regularizer': [0.001, 0.01, 0.1]\n",
    "}\n",
    "\n",
    "# Realizando a pesquisa em grade\n",
    "grid_search_results = []\n",
    "\n",
    "for units1 in param_grid['units1']:\n",
    "    for units2 in param_grid['units2']:\n",
    "        for dropout_rate in param_grid['dropout_rate']:\n",
    "            for kernel_regularizer in param_grid['kernel_regularizer']:\n",
    "                model = create_model(units1=units1, units2=units2, dropout_rate=dropout_rate, kernel_regularizer=kernel_regularizer)\n",
    "                history = model.fit(X1_train_norm, y1_train_log, epochs=20, batch_size=32, verbose=0, validation_split=0.2, callbacks=[EarlyStopping(patience=10, restore_best_weights=True)])\n",
    "                val_loss = history.history['val_loss'][-1]\n",
    "                grid_search_results.append({\n",
    "                    'units1': units1,\n",
    "                    'units2': units2,\n",
    "                    'dropout_rate': dropout_rate,\n",
    "                    'kernel_regularizer': kernel_regularizer,\n",
    "                    'val_loss': val_loss\n",
    "                })\n",
    "\n",
    "# Encontrando os melhores parâmetros\n",
    "best_params = min(grid_search_results, key=lambda x: x['val_loss'])\n",
    "\n",
    "# Imprimindo os resultados\n",
    "print(\"Melhores parâmetros encontrados: \", best_params)"
   ]
  },
  {
   "cell_type": "markdown",
   "metadata": {},
   "source": [
    "# CLASSIFICAÇÃO"
   ]
  },
  {
   "cell_type": "markdown",
   "metadata": {},
   "source": [
    "## smote"
   ]
  },
  {
   "cell_type": "code",
   "execution_count": null,
   "metadata": {},
   "outputs": [],
   "source": [
    "from imblearn.over_sampling import SMOTE\n",
    "\n",
    "# Passo 1: Instanciar o Objeto SMOTE\n",
    "smote = SMOTE(sampling_strategy='auto', random_state=42)\n",
    "\n",
    "# Passo 2: Aplicar o SMOTE\n",
    "X_resampled, y_resampled = smote.fit_resample(X, y)\n",
    "\n",
    "# Passo 3: Verificar o Resultado\n",
    "print(\"Tamanho do conjunto de dados antes do SMOTE:\", len(X), len(y))\n",
    "print(\"Tamanho do conjunto de dados após o SMOTE:\", len(X_resampled), len(y_resampled))"
   ]
  },
  {
   "cell_type": "markdown",
   "metadata": {},
   "source": [
    "## matriz de confusão"
   ]
  },
  {
   "cell_type": "code",
   "execution_count": null,
   "metadata": {},
   "outputs": [],
   "source": [
    "from sklearn import metrics\n",
    "RF = RandomForestRegressor()\n",
    "AR = AdaBoostRegressor()\n",
    "DT = tree.DecisionTreeRegressor(max_depth=3, random_state=45)\n",
    "\n",
    "modelos = [RF, AR, DT]\n",
    "nome_modelos = ['RandomForest', 'AdaBoost', 'DecisionTree']"
   ]
  },
  {
   "cell_type": "code",
   "execution_count": null,
   "metadata": {},
   "outputs": [],
   "source": [
    "for i in range (0, len(modelos)):\n",
    "    print(modelos[i])\n",
    "    modelos[i].fit(X1_train_norm, y1_train)\n",
    "    pred = modelos[i].predict(X1_test_norm)\n",
    "    accuracy = metrics.accuracy_score(y1_test, pred)\n",
    "    precision = metrics.precision_score(y1_test, pred)\n",
    "    fscore = metrics.f1_score(y1_test, pred)\n",
    "    tn, fp, fn, tp = metrics.confusion_matrix(y1_test, pred).ravel()\n",
    "    sensivity = tp/float((tp+fn))\n",
    "    specificity = tn/float((tn+fp))\n",
    "    prediction_proba = modelos[i].predict_proba(X1_test_norm,)[::,1]\n",
    "    fpr, tpr = metrics.roc_curve(y1_test, prediction_proba)\n",
    "    auc = metrics.roc_auc_score(y1_test, prediction_proba)\n",
    "    results = results.append({'Tecnica': nome_modelos[i], \n",
    "                              'Accuracy': accuracy,\n",
    "                              'Precision': precision, \n",
    "                              'F-score': fscore,\n",
    "                              'Sensivity': sensivity,\n",
    "                              'Specificity': specificity,\n",
    "                              'AUC': auc, \n",
    "                              'fpr': fpr,\n",
    "                              'tpr': tpr}, ignore_index=True)\n",
    "    matriz_confusao = metrics.confusion_matrix(y1_test, pred)\n",
    "    class_names=[0,1]    "
   ]
  }
 ],
 "metadata": {
  "kernelspec": {
   "display_name": "Python 3",
   "language": "python",
   "name": "python3"
  },
  "language_info": {
   "codemirror_mode": {
    "name": "ipython",
    "version": 3
   },
   "file_extension": ".py",
   "mimetype": "text/x-python",
   "name": "python",
   "nbconvert_exporter": "python",
   "pygments_lexer": "ipython3",
   "version": "3.12.3"
  }
 },
 "nbformat": 4,
 "nbformat_minor": 2
}
