{
 "cells": [
  {
   "cell_type": "markdown",
   "metadata": {},
   "source": [
    "Tratamento do Dataset"
   ]
  },
  {
   "cell_type": "code",
   "execution_count": 1,
   "metadata": {},
   "outputs": [],
   "source": [
    "# Bibliotecas \n",
    "import pandas as pd\n",
    "import datetime as dt\n",
    "import re\n",
    "import matplotlib.pyplot as plt\n",
    "pd.set_option('display.max_rows', None)\n",
    "data=pd.read_csv('train.csv') # dataset do projeto"
   ]
  },
  {
   "cell_type": "markdown",
   "metadata": {},
   "source": [
    "#### data INFO"
   ]
  },
  {
   "cell_type": "code",
   "execution_count": null,
   "metadata": {},
   "outputs": [],
   "source": [
    "# data.dtypes\n",
    "data.info() #milage\n",
    "# data.head()\n",
    "# data.tail()\n",
    "# data.shape #(3207, 12)\n",
    "# data.nunique() # valores unicos para cada coluna"
   ]
  },
  {
   "cell_type": "code",
   "execution_count": null,
   "metadata": {},
   "outputs": [],
   "source": [
    "# modelo mais antigo e mais novo:\n",
    "antigo=data['model_year'].min()\n",
    "novo=data['model_year'].max()\n",
    "print(antigo,novo)"
   ]
  },
  {
   "cell_type": "markdown",
   "metadata": {},
   "source": [
    "#### correção: 'milage' -> INT"
   ]
  },
  {
   "cell_type": "code",
   "execution_count": 2,
   "metadata": {},
   "outputs": [],
   "source": [
    "#milage:\n",
    "valores_corrigidos=[]\n",
    "for milage in data['milage']: # para cada quilometragem do dataset\n",
    "    separa=re.split(r'[ ]',milage) # sepagar o numero do mi\n",
    "    numero=separa[0] # numero\n",
    "    letra=separa[1] # mi\n",
    "    verifica=re.search(r'^[0-9]+[,]?[0-9]+$',numero) # verifica se o numeros sao sempre iguais(com casas decimais ou não)\n",
    "    verifica2=re.search(r'^mi\\.$',letra) # verifica se a letra é sempre mi\n",
    "    if verifica and verifica2: # se seguir o padra numero + mi:\n",
    "        numero=int(re.sub(r',','',numero)) # retira a , dos numeros e passa para inteiro ( estavam em obj)\n",
    "        valores_corrigidos.append(numero)\n",
    "    else: \n",
    "        print(milage,False) # tem dados diferentes no dataset\n",
    "\n",
    "data['milage']=valores_corrigidos"
   ]
  },
  {
   "cell_type": "code",
   "execution_count": null,
   "metadata": {},
   "outputs": [],
   "source": [
    "#verificaçao\n",
    "for m in data['milage']:\n",
    "    if not isinstance(m, (int)):\n",
    "        print('dado incorreto')\n",
    "# tudo certo"
   ]
  },
  {
   "cell_type": "code",
   "execution_count": null,
   "metadata": {},
   "outputs": [],
   "source": [
    "data.describe()"
   ]
  },
  {
   "cell_type": "markdown",
   "metadata": {},
   "source": [
    "#### NULL's"
   ]
  },
  {
   "cell_type": "code",
   "execution_count": 19,
   "metadata": {},
   "outputs": [
    {
     "data": {
      "text/plain": [
       "brand                  0\n",
       "model                  0\n",
       "model_year             0\n",
       "milage                 0\n",
       "fuel_type            147\n",
       "engine                 0\n",
       "transmission           0\n",
       "ext_col                0\n",
       "int_col                0\n",
       "accident              89\n",
       "clean_title          467\n",
       "price                  0\n",
       "Potencia             629\n",
       "Capacidade_Motor     187\n",
       "Numero_Cilindros     356\n",
       "Numero_Valvulas     2812\n",
       "dtype: int64"
      ]
     },
     "execution_count": 19,
     "metadata": {},
     "output_type": "execute_result"
    }
   ],
   "source": [
    "data.isnull().sum()"
   ]
  },
  {
   "cell_type": "markdown",
   "metadata": {},
   "source": [
    "#### counts"
   ]
  },
  {
   "cell_type": "code",
   "execution_count": null,
   "metadata": {},
   "outputs": [],
   "source": [
    "data['fuel_type'].value_counts() # –  38 ( existem 38 linhas com (-) -> nao se sabe)\n",
    "data['accident'].value_counts()\n",
    "data['clean_title'].value_counts() # Yes -> 2740, os restantes são valores nulos (nan)\n",
    "# data['clean_title'].unique()\n",
    "# verificar outros tipos de dizer valores nulos: ( como (-) por exemplo)\n",
    "data['brand'].value_counts() # tudo certo\n",
    "data['model'].value_counts() # tudo certo\n",
    "data['model_year'].value_counts() # tudo certo\n",
    "data['engine'].value_counts() # – 38 -> nao se sabe\n",
    "data['transmission'].value_counts() # 4 -> nao se sabe \n",
    "data['ext_col'].value_counts()# 11 -> nao se sabe\n",
    "data['int_col'].value_counts() # 98 -> nao se sabe\n",
    "for preco in data['price']: # tudo certo\n",
    "    if not isinstance(preco, int):\n",
    "        print('erro')"
   ]
  },
  {
   "cell_type": "code",
   "execution_count": null,
   "metadata": {},
   "outputs": [],
   "source": [
    "len(data['milage'])\n",
    "# len(data['milage'].unique())"
   ]
  },
  {
   "cell_type": "markdown",
   "metadata": {},
   "source": [
    "##### --> nº de velocidades na transmissão existentes no dataset"
   ]
  },
  {
   "cell_type": "code",
   "execution_count": 3,
   "metadata": {},
   "outputs": [
    {
     "data": {
      "text/plain": [
       "[1, 2, 4, 5, 6, 7, 8, 9, 10]"
      ]
     },
     "execution_count": 3,
     "metadata": {},
     "output_type": "execute_result"
    }
   ],
   "source": [
    "d2=list(data['transmission'].unique())\n",
    "alls = [int(numero) for string in d2 for numero in re.findall(r'\\d+', string)]\n",
    "list(set(alls))"
   ]
  },
  {
   "cell_type": "markdown",
   "metadata": {},
   "source": [
    "#### verificar significado de '-' e NaN para o tipo de combustível"
   ]
  },
  {
   "cell_type": "code",
   "execution_count": 4,
   "metadata": {},
   "outputs": [
    {
     "data": {
      "text/plain": [
       "38"
      ]
     },
     "execution_count": 4,
     "metadata": {},
     "output_type": "execute_result"
    }
   ],
   "source": [
    "len(data.loc[data['fuel_type'] == '–'])"
   ]
  },
  {
   "cell_type": "code",
   "execution_count": null,
   "metadata": {},
   "outputs": [],
   "source": [
    "data.loc[(data['fuel_type'] == '–') & (data['engine'] != '–')] "
   ]
  },
  {
   "cell_type": "markdown",
   "metadata": {},
   "source": [
    "###### OS CARROS PARA OS QUAIS O FUEL_TYPE É '-' NÃO INDICADO, TAMBÉM NÃO SE CONHECE A CONFIGURAÇÃO DO MOTOR"
   ]
  },
  {
   "cell_type": "code",
   "execution_count": 3,
   "metadata": {},
   "outputs": [
    {
     "data": {
      "text/html": [
       "<div>\n",
       "<style scoped>\n",
       "    .dataframe tbody tr th:only-of-type {\n",
       "        vertical-align: middle;\n",
       "    }\n",
       "\n",
       "    .dataframe tbody tr th {\n",
       "        vertical-align: top;\n",
       "    }\n",
       "\n",
       "    .dataframe thead th {\n",
       "        text-align: right;\n",
       "    }\n",
       "</style>\n",
       "<table border=\"1\" class=\"dataframe\">\n",
       "  <thead>\n",
       "    <tr style=\"text-align: right;\">\n",
       "      <th></th>\n",
       "      <th>brand</th>\n",
       "      <th>model</th>\n",
       "      <th>model_year</th>\n",
       "      <th>milage</th>\n",
       "      <th>fuel_type</th>\n",
       "      <th>engine</th>\n",
       "      <th>transmission</th>\n",
       "      <th>ext_col</th>\n",
       "      <th>int_col</th>\n",
       "      <th>accident</th>\n",
       "      <th>clean_title</th>\n",
       "      <th>price</th>\n",
       "    </tr>\n",
       "  </thead>\n",
       "  <tbody>\n",
       "    <tr>\n",
       "      <th>399</th>\n",
       "      <td>Kia</td>\n",
       "      <td>EV6 Wind</td>\n",
       "      <td>2022</td>\n",
       "      <td>11945</td>\n",
       "      <td>NaN</td>\n",
       "      <td>111.2Ah / FR 70kW / RR 160kW (697V)</td>\n",
       "      <td>Automatic</td>\n",
       "      <td>Glacier</td>\n",
       "      <td>Black</td>\n",
       "      <td>None reported</td>\n",
       "      <td>NaN</td>\n",
       "      <td>38998</td>\n",
       "    </tr>\n",
       "    <tr>\n",
       "      <th>1311</th>\n",
       "      <td>Ford</td>\n",
       "      <td>Mustang Mach-E Select</td>\n",
       "      <td>2023</td>\n",
       "      <td>923</td>\n",
       "      <td>NaN</td>\n",
       "      <td>Standard Range Battery</td>\n",
       "      <td>Automatic</td>\n",
       "      <td>Rapid Red Metallic Tinted Clearcoat</td>\n",
       "      <td>Black Onyx</td>\n",
       "      <td>None reported</td>\n",
       "      <td>NaN</td>\n",
       "      <td>46998</td>\n",
       "    </tr>\n",
       "    <tr>\n",
       "      <th>1552</th>\n",
       "      <td>Tesla</td>\n",
       "      <td>Model Y Long Range</td>\n",
       "      <td>2022</td>\n",
       "      <td>4665</td>\n",
       "      <td>NaN</td>\n",
       "      <td>Dual Motor - Standard</td>\n",
       "      <td>Automatic</td>\n",
       "      <td>Silver</td>\n",
       "      <td>Black</td>\n",
       "      <td>None reported</td>\n",
       "      <td>NaN</td>\n",
       "      <td>46598</td>\n",
       "    </tr>\n",
       "    <tr>\n",
       "      <th>2622</th>\n",
       "      <td>Tesla</td>\n",
       "      <td>Model Y Long Range</td>\n",
       "      <td>2022</td>\n",
       "      <td>9411</td>\n",
       "      <td>NaN</td>\n",
       "      <td>Dual Motor - Standard</td>\n",
       "      <td>Automatic</td>\n",
       "      <td>Silver</td>\n",
       "      <td>Black</td>\n",
       "      <td>None reported</td>\n",
       "      <td>NaN</td>\n",
       "      <td>47998</td>\n",
       "    </tr>\n",
       "  </tbody>\n",
       "</table>\n",
       "</div>"
      ],
      "text/plain": [
       "      brand                  model  model_year  milage fuel_type  \\\n",
       "399     Kia               EV6 Wind        2022   11945       NaN   \n",
       "1311   Ford  Mustang Mach-E Select        2023     923       NaN   \n",
       "1552  Tesla     Model Y Long Range        2022    4665       NaN   \n",
       "2622  Tesla     Model Y Long Range        2022    9411       NaN   \n",
       "\n",
       "                                   engine transmission  \\\n",
       "399   111.2Ah / FR 70kW / RR 160kW (697V)    Automatic   \n",
       "1311               Standard Range Battery    Automatic   \n",
       "1552                Dual Motor - Standard    Automatic   \n",
       "2622                Dual Motor - Standard    Automatic   \n",
       "\n",
       "                                  ext_col     int_col       accident  \\\n",
       "399                               Glacier       Black  None reported   \n",
       "1311  Rapid Red Metallic Tinted Clearcoat  Black Onyx  None reported   \n",
       "1552                               Silver       Black  None reported   \n",
       "2622                               Silver       Black  None reported   \n",
       "\n",
       "     clean_title  price  \n",
       "399          NaN  38998  \n",
       "1311         NaN  46998  \n",
       "1552         NaN  46598  \n",
       "2622         NaN  47998  "
      ]
     },
     "execution_count": 3,
     "metadata": {},
     "output_type": "execute_result"
    }
   ],
   "source": [
    "# VERIFICAR QUE OS CARROS COM NAN NO TIPO DE COMBUSTÍVEL SÃO CARROS ELÉTRICOS\n",
    "elec=data[data['fuel_type'].isnull()]\n",
    "pattern = re.compile(r'\\bElectric\\b', flags=re.IGNORECASE)\n",
    "contains_electric = elec['engine'].str.contains(pattern, na=False)\n",
    "# Selecionar todas as linhas que não contêm 'Electric' na coluna 'engine'\n",
    "elec[~contains_electric]\n",
    "# elec[contains_electric].head(10)"
   ]
  },
  {
   "cell_type": "markdown",
   "metadata": {},
   "source": [
    "###### os carros com NaN para 'fuel_type' são carros elétricos\n",
    "Tesla --> elétrico\n",
    "Standard Range Battery --> elétrico\n",
    "111.2Ah / FR 70kW / RR 160kW (697V) --> especificidade de baterias"
   ]
  },
  {
   "cell_type": "markdown",
   "metadata": {},
   "source": [
    "### gráficos"
   ]
  },
  {
   "cell_type": "markdown",
   "metadata": {},
   "source": [
    "#### BOXPLOT"
   ]
  },
  {
   "cell_type": "code",
   "execution_count": null,
   "metadata": {},
   "outputs": [],
   "source": [
    "data.plot(kind='box',figsize=(15,6),subplots=True) # grafico do codigo acima"
   ]
  },
  {
   "cell_type": "code",
   "execution_count": null,
   "metadata": {},
   "outputs": [],
   "source": [
    "data[data['model_year']<1990] # outlier do 1º gráfico"
   ]
  },
  {
   "cell_type": "code",
   "execution_count": null,
   "metadata": {},
   "outputs": [],
   "source": [
    "data[data['milage']>350000] # outlier do 2º gráfico"
   ]
  },
  {
   "cell_type": "code",
   "execution_count": null,
   "metadata": {},
   "outputs": [],
   "source": [
    "data[data['price']>1500000] # outlier 3º gráfico"
   ]
  },
  {
   "cell_type": "markdown",
   "metadata": {},
   "source": [
    "#### BARPLOT"
   ]
  },
  {
   "cell_type": "code",
   "execution_count": null,
   "metadata": {},
   "outputs": [],
   "source": [
    "import matplotlib.pyplot as plt\n",
    "import pandas as pd\n",
    "\n",
    "# Supondo que 'data' seja seu DataFrame com colunas de atributos e 'preco'\n",
    "# Vamos calcular a média do preço para cada atributo (exceto a última coluna)\n",
    "data['fuel_type'].fillna('Elétrico', inplace=True)\n",
    "\n",
    "# Lista para armazenar os gráficos gerados\n",
    "colunas = ['brand', 'model', 'model_year', 'fuel_type', 'engine', 'transmission', 'ext_col', 'int_col', 'accident', 'clean_title']\n",
    "num_linhas = 3\n",
    "num_colunas = 3\n",
    "\n",
    "fig, axs = plt.subplots(num_linhas, num_colunas, figsize=(15, 10))\n",
    "\n",
    "# Iterar sobre as colunas do DataFrame\n",
    "for i, column in enumerate(colunas[:-1]):\n",
    "    # Calcular a média do preço para cada valor único na coluna\n",
    "    med = data.groupby(column)['price'].mean()\n",
    "    top = med.sort_values(ascending=False).head(10)\n",
    "    \n",
    "    # Truncate long labels and append ellipsis\n",
    "    truncated_labels = [str(val)[:10] + '...' if len(str(val)) > 10 else str(val) for val in top.index]\n",
    "\n",
    "    # Determine the subplot index\n",
    "    linha = i // num_colunas\n",
    "    coluna = i % num_colunas\n",
    "\n",
    "    # Plotar o gráfico de barras para a média do preço por valor\n",
    "    axs[linha, coluna].bar(truncated_labels, top.values, color='deepskyblue')\n",
    "    axs[linha, coluna].set_title(f'Média de Preço por {column.upper()}')\n",
    "    axs[linha, coluna].set_ylabel('Média de Preço')\n",
    "    axs[linha, coluna].tick_params(axis='x', rotation=45)  # Rotacionar rótulos do eixo x\n",
    "\n",
    "# Ajustar o layout para evitar sobreposição\n",
    "plt.tight_layout(rect=[0, 0.1, 1, 2])\n",
    "plt.show()\n"
   ]
  },
  {
   "cell_type": "markdown",
   "metadata": {},
   "source": [
    "#### análise dos modelos com preço mais altos"
   ]
  },
  {
   "cell_type": "code",
   "execution_count": null,
   "metadata": {},
   "outputs": [],
   "source": [
    "d=data.sort_values(by='price', ascending=False).head(10)\n",
    "d[['brand', 'model', 'price']].head(10)"
   ]
  },
  {
   "cell_type": "markdown",
   "metadata": {},
   "source": [
    "#### LINEPLOT"
   ]
  },
  {
   "cell_type": "code",
   "execution_count": null,
   "metadata": {},
   "outputs": [],
   "source": [
    "d = data.groupby('milage')['price'].mean()\n",
    "d=d.sort_index()\n",
    "plt.scatter(d.index, d.values, marker='o', linestyle='-')\n",
    "plt.title('Preço Médio em Função do Número de Quilômetros')\n",
    "plt.xlabel('Quilometragem')\n",
    "plt.ylabel('Preço Médio')\n",
    "plt.xticks(rotation=45)\n",
    "\n",
    "plt.tight_layout()  # Ajuste automático da disposição para evitar sobreposição\n",
    "plt.show()\n"
   ]
  },
  {
   "cell_type": "markdown",
   "metadata": {},
   "source": [
    "#### o preço diminui a medida que o nº de quilometros aumenta"
   ]
  },
  {
   "cell_type": "code",
   "execution_count": null,
   "metadata": {},
   "outputs": [],
   "source": [
    "summary_stats = data.groupby(['brand', 'model_year'])['price'].describe()\n",
    "print(summary_stats)"
   ]
  },
  {
   "cell_type": "markdown",
   "metadata": {},
   "source": [
    "# [ENGINE] novos atributos "
   ]
  },
  {
   "cell_type": "code",
   "execution_count": 4,
   "metadata": {},
   "outputs": [],
   "source": [
    "data['Potencia'] = data['engine'].str.extract(r'(\\d+\\.\\d+)HP?')\n",
    "data['Capacidade_Motor'] = data['engine'].str.extract(r'(\\d+\\.\\d+|\\d+)\\s*(?:L|Liter)')\n",
    "data['Numero_Cilindros'] = data['engine'].str.extract(r'(?:V(\\d+)|I-(\\d+)|I(\\d+)|(\\d+) Cylinder)').apply(lambda x: next(filter(lambda y: pd.notna(y), x), None), axis=1)\n",
    "# data['Tipo_Combustivel'] = data['engine'].str.extract(r'(Gasoline Fuel|Flexible Fuel|Electric)')\n",
    "data['Numero_Valvulas'] = data['engine'].str.extract(r'( \\d+)V')\n",
    "\n",
    "data['Potencia'] = pd.to_numeric(data['Potencia'], errors='coerce')\n",
    "data['Capacidade_Motor'] = pd.to_numeric(data['Capacidade_Motor'], errors='coerce')\n",
    "data['Numero_Cilindros'] = pd.to_numeric(data['Numero_Cilindros'], errors='coerce')\n",
    "data['Numero_Valvulas'] = pd.to_numeric(data['Numero_Valvulas'], errors='coerce')"
   ]
  },
  {
   "cell_type": "code",
   "execution_count": null,
   "metadata": {},
   "outputs": [],
   "source": [
    "data.info()"
   ]
  },
  {
   "cell_type": "code",
   "execution_count": null,
   "metadata": {},
   "outputs": [],
   "source": [
    "# data[['engine', 'Potencia', 'Capacidade_Motor',  'Numero_Cilindros',  'Numero_Valvulas' ]].head(50)"
   ]
  },
  {
   "cell_type": "code",
   "execution_count": 7,
   "metadata": {},
   "outputs": [
    {
     "data": {
      "text/plain": [
       "2812"
      ]
     },
     "execution_count": 7,
     "metadata": {},
     "output_type": "execute_result"
    }
   ],
   "source": [
    "d=len(data[data['Numero_Valvulas'].isnull()])\n",
    "d\n",
    "# d[['engine', 'Potencia', 'Capacidade_Motor',  'Numero_Cilindros',  'Numero_Valvulas' ]].head(50)\n",
    "# data[['engine', 'Potencia', 'Capacidade_Motor',  'Numero_Cilindros',  'Numero_Valvulas' ]].head(10)"
   ]
  },
  {
   "cell_type": "markdown",
   "metadata": {},
   "source": [
    "#### BARPLOT"
   ]
  },
  {
   "cell_type": "code",
   "execution_count": null,
   "metadata": {},
   "outputs": [],
   "source": [
    "import matplotlib.pyplot as plt\n",
    "import pandas as pd\n",
    "\n",
    "# Assuming 'data' is your DataFrame with columns of attributes and 'price'\n",
    "# Let's calculate the mean price for each attribute (except the last column)\n",
    "\n",
    "# List to store the generated plots\n",
    "columns = ['Potencia', 'Capacidade_Motor', 'Numero_Cilindros', 'Numero_Valvulas']\n",
    "\n",
    "num_linhas = 2\n",
    "num_colunas = 2\n",
    "\n",
    "fig, axs = plt.subplots(num_linhas, num_colunas, figsize=(10, 5))\n",
    "\n",
    "# Iterar sobre as colunas do DataFrame\n",
    "for i, column in enumerate(columns):\n",
    "    # Calcular a média do preço para cada valor único na coluna\n",
    "    med = data.groupby(column)['price'].mean()\n",
    "    top = med.sort_values(ascending=False).head(13)\n",
    "    \n",
    "    # Truncate long labels and append ellipsis\n",
    "    truncated_labels = [str(val)[:10] + '...' if len(str(val)) > 10 else str(val) for val in top.index]\n",
    "\n",
    "    # Determine the subplot index\n",
    "    linha = i // num_colunas\n",
    "    coluna = i % num_colunas\n",
    "\n",
    "    # Plotar o gráfico de barras para a média do preço por valor\n",
    "    axs[linha, coluna].bar(truncated_labels, top.values, color='blueviolet')\n",
    "    axs[linha, coluna].set_title(f'Média de Preço por {column.upper()}')\n",
    "    axs[linha, coluna].set_ylabel('Média de Preço')\n",
    "    axs[linha, coluna].tick_params(axis='x', rotation=45)  # Rotacionar rótulos do eixo x\n",
    "\n",
    "# Ajustar o layout para evitar sobreposição\n",
    "plt.tight_layout(rect=[0, 0.1, 1, 2])\n",
    "plt.show()"
   ]
  },
  {
   "cell_type": "code",
   "execution_count": null,
   "metadata": {},
   "outputs": [],
   "source": [
    "# data.loc[data['Numero_Valvulas'] == 32]"
   ]
  },
  {
   "cell_type": "code",
   "execution_count": null,
   "metadata": {},
   "outputs": [],
   "source": [
    "len(data['Numero_Valvulas'].unique())\n",
    "sorted(list(data['Numero_Valvulas'].unique()))"
   ]
  },
  {
   "cell_type": "code",
   "execution_count": null,
   "metadata": {},
   "outputs": [],
   "source": [
    "len(data['Numero_Cilindros'].unique())\n",
    "list(sorted(data['Numero_Cilindros'].unique()))"
   ]
  },
  {
   "cell_type": "code",
   "execution_count": 24,
   "metadata": {},
   "outputs": [],
   "source": [
    "# len(data['Capacidade_Motor'].unique())\n",
    "#sorted(list(data['Capacidade_Motor'].unique()))"
   ]
  },
  {
   "cell_type": "code",
   "execution_count": 23,
   "metadata": {},
   "outputs": [],
   "source": [
    "#sorted(data['Potencia'].unique())"
   ]
  },
  {
   "cell_type": "markdown",
   "metadata": {},
   "source": [
    "###### verificação de possíveis valores únicos reportados pela análise do boxplot preço / marca no R"
   ]
  },
  {
   "cell_type": "code",
   "execution_count": 8,
   "metadata": {},
   "outputs": [
    {
     "data": {
      "text/html": [
       "<div>\n",
       "<style scoped>\n",
       "    .dataframe tbody tr th:only-of-type {\n",
       "        vertical-align: middle;\n",
       "    }\n",
       "\n",
       "    .dataframe tbody tr th {\n",
       "        vertical-align: top;\n",
       "    }\n",
       "\n",
       "    .dataframe thead th {\n",
       "        text-align: right;\n",
       "    }\n",
       "</style>\n",
       "<table border=\"1\" class=\"dataframe\">\n",
       "  <thead>\n",
       "    <tr style=\"text-align: right;\">\n",
       "      <th></th>\n",
       "      <th>brand</th>\n",
       "      <th>model</th>\n",
       "      <th>model_year</th>\n",
       "      <th>milage</th>\n",
       "      <th>fuel_type</th>\n",
       "      <th>engine</th>\n",
       "      <th>transmission</th>\n",
       "      <th>ext_col</th>\n",
       "      <th>int_col</th>\n",
       "      <th>accident</th>\n",
       "      <th>clean_title</th>\n",
       "      <th>price</th>\n",
       "      <th>Potencia</th>\n",
       "      <th>Capacidade_Motor</th>\n",
       "      <th>Numero_Cilindros</th>\n",
       "      <th>Numero_Valvulas</th>\n",
       "    </tr>\n",
       "  </thead>\n",
       "  <tbody>\n",
       "    <tr>\n",
       "      <th>1600</th>\n",
       "      <td>Maybach</td>\n",
       "      <td>Type 57 Base</td>\n",
       "      <td>2004</td>\n",
       "      <td>34254</td>\n",
       "      <td>Gasoline</td>\n",
       "      <td>543.0HP 5.5L 12 Cylinder Engine Gasoline Fuel</td>\n",
       "      <td>5-Speed A/T</td>\n",
       "      <td>Brown</td>\n",
       "      <td>–</td>\n",
       "      <td>None reported</td>\n",
       "      <td>Yes</td>\n",
       "      <td>64250</td>\n",
       "      <td>543.0</td>\n",
       "      <td>5.5</td>\n",
       "      <td>12.0</td>\n",
       "      <td>NaN</td>\n",
       "    </tr>\n",
       "  </tbody>\n",
       "</table>\n",
       "</div>"
      ],
      "text/plain": [
       "        brand         model  model_year  milage fuel_type  \\\n",
       "1600  Maybach  Type 57 Base        2004   34254  Gasoline   \n",
       "\n",
       "                                             engine transmission ext_col  \\\n",
       "1600  543.0HP 5.5L 12 Cylinder Engine Gasoline Fuel  5-Speed A/T   Brown   \n",
       "\n",
       "     int_col       accident clean_title  price  Potencia  Capacidade_Motor  \\\n",
       "1600       –  None reported         Yes  64250     543.0               5.5   \n",
       "\n",
       "      Numero_Cilindros  Numero_Valvulas  \n",
       "1600              12.0              NaN  "
      ]
     },
     "execution_count": 8,
     "metadata": {},
     "output_type": "execute_result"
    }
   ],
   "source": [
    "data.loc[data['brand'] == 'Maybach'].head()"
   ]
  },
  {
   "cell_type": "code",
   "execution_count": 11,
   "metadata": {},
   "outputs": [],
   "source": [
    "data.to_csv('train_ccols.csv', index=False)"
   ]
  },
  {
   "cell_type": "markdown",
   "metadata": {},
   "source": [
    "# Subsets com DATASET W/ ENGINE caract-"
   ]
  },
  {
   "cell_type": "code",
   "execution_count": 1,
   "metadata": {},
   "outputs": [],
   "source": [
    "import pandas as pd\n",
    "import datetime as dt\n",
    "import re\n",
    "import matplotlib.pyplot as plt\n",
    "pd.set_option('display.max_rows', None)\n",
    "p=pd.read_csv('train_ccols.csv') "
   ]
  },
  {
   "cell_type": "code",
   "execution_count": 54,
   "metadata": {},
   "outputs": [
    {
     "data": {
      "text/plain": [
       "Index(['brand', 'model', 'model_year', 'milage', 'fuel_type', 'engine',\n",
       "       'transmission', 'ext_col', 'int_col', 'accident', 'clean_title',\n",
       "       'price', 'Potencia', 'Capacidade_Motor', 'Numero_Cilindros',\n",
       "       'Numero_Valvulas'],\n",
       "      dtype='object')"
      ]
     },
     "execution_count": 54,
     "metadata": {},
     "output_type": "execute_result"
    }
   ],
   "source": [
    "p.columns"
   ]
  },
  {
   "cell_type": "code",
   "execution_count": 45,
   "metadata": {},
   "outputs": [
    {
     "name": "stdout",
     "output_type": "stream",
     "text": [
      "0\n"
     ]
    }
   ],
   "source": [
    "print(p.duplicated().sum())"
   ]
  },
  {
   "cell_type": "markdown",
   "metadata": {},
   "source": [
    "# SUBSET 1 "
   ]
  },
  {
   "cell_type": "markdown",
   "metadata": {},
   "source": [
    "##### Substituição de valores nulos e - pela moda\n",
    "##### Substituição de valores nulos da coluna Fuel_type por Eletric\n",
    "##### Mantém colunas adicionais (Potencia, Capacidade_Motor, Numero_Cilindros, Numero_Valvulas)\n",
    "##### Transformação da variável Transmission em numérica\n",
    "##### Normalização dos dados numéricos"
   ]
  },
  {
   "cell_type": "code",
   "execution_count": 131,
   "metadata": {},
   "outputs": [],
   "source": [
    "data1 = p"
   ]
  },
  {
   "cell_type": "code",
   "execution_count": 85,
   "metadata": {},
   "outputs": [
    {
     "data": {
      "text/html": [
       "<div>\n",
       "<style scoped>\n",
       "    .dataframe tbody tr th:only-of-type {\n",
       "        vertical-align: middle;\n",
       "    }\n",
       "\n",
       "    .dataframe tbody tr th {\n",
       "        vertical-align: top;\n",
       "    }\n",
       "\n",
       "    .dataframe thead th {\n",
       "        text-align: right;\n",
       "    }\n",
       "</style>\n",
       "<table border=\"1\" class=\"dataframe\">\n",
       "  <thead>\n",
       "    <tr style=\"text-align: right;\">\n",
       "      <th></th>\n",
       "      <th>model_year</th>\n",
       "      <th>milage</th>\n",
       "      <th>price</th>\n",
       "      <th>Potencia</th>\n",
       "      <th>Capacidade_Motor</th>\n",
       "      <th>Numero_Cilindros</th>\n",
       "      <th>Numero_Valvulas</th>\n",
       "    </tr>\n",
       "  </thead>\n",
       "  <tbody>\n",
       "    <tr>\n",
       "      <th>count</th>\n",
       "      <td>3207.000000</td>\n",
       "      <td>3207.000000</td>\n",
       "      <td>3.207000e+03</td>\n",
       "      <td>2578.000000</td>\n",
       "      <td>3020.000000</td>\n",
       "      <td>2851.000000</td>\n",
       "      <td>395.000000</td>\n",
       "    </tr>\n",
       "    <tr>\n",
       "      <th>mean</th>\n",
       "      <td>2015.517930</td>\n",
       "      <td>64594.983785</td>\n",
       "      <td>4.487024e+04</td>\n",
       "      <td>333.120248</td>\n",
       "      <td>3.698079</td>\n",
       "      <td>6.222729</td>\n",
       "      <td>21.716456</td>\n",
       "    </tr>\n",
       "    <tr>\n",
       "      <th>std</th>\n",
       "      <td>6.131963</td>\n",
       "      <td>52387.260707</td>\n",
       "      <td>8.382969e+04</td>\n",
       "      <td>121.663739</td>\n",
       "      <td>1.420807</td>\n",
       "      <td>1.703615</td>\n",
       "      <td>7.640435</td>\n",
       "    </tr>\n",
       "    <tr>\n",
       "      <th>min</th>\n",
       "      <td>1974.000000</td>\n",
       "      <td>100.000000</td>\n",
       "      <td>2.000000e+03</td>\n",
       "      <td>70.000000</td>\n",
       "      <td>0.650000</td>\n",
       "      <td>3.000000</td>\n",
       "      <td>12.000000</td>\n",
       "    </tr>\n",
       "    <tr>\n",
       "      <th>25%</th>\n",
       "      <td>2012.000000</td>\n",
       "      <td>23151.500000</td>\n",
       "      <td>1.705000e+04</td>\n",
       "      <td>248.000000</td>\n",
       "      <td>2.500000</td>\n",
       "      <td>4.000000</td>\n",
       "      <td>16.000000</td>\n",
       "    </tr>\n",
       "    <tr>\n",
       "      <th>50%</th>\n",
       "      <td>2017.000000</td>\n",
       "      <td>52253.000000</td>\n",
       "      <td>3.169800e+04</td>\n",
       "      <td>311.000000</td>\n",
       "      <td>3.500000</td>\n",
       "      <td>6.000000</td>\n",
       "      <td>24.000000</td>\n",
       "    </tr>\n",
       "    <tr>\n",
       "      <th>75%</th>\n",
       "      <td>2020.000000</td>\n",
       "      <td>93450.000000</td>\n",
       "      <td>4.999650e+04</td>\n",
       "      <td>400.000000</td>\n",
       "      <td>4.700000</td>\n",
       "      <td>8.000000</td>\n",
       "      <td>24.000000</td>\n",
       "    </tr>\n",
       "    <tr>\n",
       "      <th>max</th>\n",
       "      <td>2024.000000</td>\n",
       "      <td>405000.000000</td>\n",
       "      <td>2.954083e+06</td>\n",
       "      <td>1020.000000</td>\n",
       "      <td>8.400000</td>\n",
       "      <td>12.000000</td>\n",
       "      <td>64.000000</td>\n",
       "    </tr>\n",
       "  </tbody>\n",
       "</table>\n",
       "</div>"
      ],
      "text/plain": [
       "        model_year         milage         price     Potencia  \\\n",
       "count  3207.000000    3207.000000  3.207000e+03  2578.000000   \n",
       "mean   2015.517930   64594.983785  4.487024e+04   333.120248   \n",
       "std       6.131963   52387.260707  8.382969e+04   121.663739   \n",
       "min    1974.000000     100.000000  2.000000e+03    70.000000   \n",
       "25%    2012.000000   23151.500000  1.705000e+04   248.000000   \n",
       "50%    2017.000000   52253.000000  3.169800e+04   311.000000   \n",
       "75%    2020.000000   93450.000000  4.999650e+04   400.000000   \n",
       "max    2024.000000  405000.000000  2.954083e+06  1020.000000   \n",
       "\n",
       "       Capacidade_Motor  Numero_Cilindros  Numero_Valvulas  \n",
       "count       3020.000000       2851.000000       395.000000  \n",
       "mean           3.698079          6.222729        21.716456  \n",
       "std            1.420807          1.703615         7.640435  \n",
       "min            0.650000          3.000000        12.000000  \n",
       "25%            2.500000          4.000000        16.000000  \n",
       "50%            3.500000          6.000000        24.000000  \n",
       "75%            4.700000          8.000000        24.000000  \n",
       "max            8.400000         12.000000        64.000000  "
      ]
     },
     "execution_count": 85,
     "metadata": {},
     "output_type": "execute_result"
    }
   ],
   "source": [
    "data1.describe()"
   ]
  },
  {
   "cell_type": "code",
   "execution_count": 33,
   "metadata": {},
   "outputs": [
    {
     "data": {
      "text/html": [
       "<div>\n",
       "<style scoped>\n",
       "    .dataframe tbody tr th:only-of-type {\n",
       "        vertical-align: middle;\n",
       "    }\n",
       "\n",
       "    .dataframe tbody tr th {\n",
       "        vertical-align: top;\n",
       "    }\n",
       "\n",
       "    .dataframe thead th {\n",
       "        text-align: right;\n",
       "    }\n",
       "</style>\n",
       "<table border=\"1\" class=\"dataframe\">\n",
       "  <thead>\n",
       "    <tr style=\"text-align: right;\">\n",
       "      <th></th>\n",
       "      <th>brand</th>\n",
       "      <th>model</th>\n",
       "      <th>model_year</th>\n",
       "      <th>milage</th>\n",
       "      <th>fuel_type</th>\n",
       "      <th>engine</th>\n",
       "      <th>transmission</th>\n",
       "      <th>ext_col</th>\n",
       "      <th>int_col</th>\n",
       "      <th>accident</th>\n",
       "      <th>clean_title</th>\n",
       "      <th>price</th>\n",
       "      <th>Potencia</th>\n",
       "      <th>Capacidade_Motor</th>\n",
       "      <th>Numero_Cilindros</th>\n",
       "      <th>Numero_Valvulas</th>\n",
       "      <th>T2</th>\n",
       "      <th>outlier</th>\n",
       "    </tr>\n",
       "  </thead>\n",
       "  <tbody>\n",
       "    <tr>\n",
       "      <th>0</th>\n",
       "      <td>Jeep</td>\n",
       "      <td>Wrangler Sport</td>\n",
       "      <td>0.80</td>\n",
       "      <td>0.175105</td>\n",
       "      <td>Gasoline</td>\n",
       "      <td>285.0HP 3.6L V6 Cylinder Engine Gasoline Fuel</td>\n",
       "      <td>5-Speed A/T</td>\n",
       "      <td>Gray</td>\n",
       "      <td>Black</td>\n",
       "      <td>None reported</td>\n",
       "      <td>Yes</td>\n",
       "      <td>0.006775</td>\n",
       "      <td>0.226316</td>\n",
       "      <td>0.380645</td>\n",
       "      <td>0.333333</td>\n",
       "      <td>0.186855</td>\n",
       "      <td>0.444444</td>\n",
       "      <td>1</td>\n",
       "    </tr>\n",
       "    <tr>\n",
       "      <th>1</th>\n",
       "      <td>Toyota</td>\n",
       "      <td>Highlander XLE</td>\n",
       "      <td>0.82</td>\n",
       "      <td>0.169116</td>\n",
       "      <td>Gasoline</td>\n",
       "      <td>270.0HP 3.5L V6 Cylinder Engine Gasoline Fuel</td>\n",
       "      <td>A/T</td>\n",
       "      <td>Silver</td>\n",
       "      <td>Gray</td>\n",
       "      <td>At least 1 accident or damage reported</td>\n",
       "      <td>Yes</td>\n",
       "      <td>0.008130</td>\n",
       "      <td>0.210526</td>\n",
       "      <td>0.367742</td>\n",
       "      <td>0.333333</td>\n",
       "      <td>0.186855</td>\n",
       "      <td>0.666667</td>\n",
       "      <td>1</td>\n",
       "    </tr>\n",
       "    <tr>\n",
       "      <th>2</th>\n",
       "      <td>Toyota</td>\n",
       "      <td>Camry Hybrid XLE</td>\n",
       "      <td>0.88</td>\n",
       "      <td>0.171749</td>\n",
       "      <td>Hybrid</td>\n",
       "      <td>208.0HP 2.5L 4 Cylinder Engine Gas/Electric Hy...</td>\n",
       "      <td>CVT Transmission</td>\n",
       "      <td>White</td>\n",
       "      <td>Black</td>\n",
       "      <td>At least 1 accident or damage reported</td>\n",
       "      <td>Yes</td>\n",
       "      <td>0.007451</td>\n",
       "      <td>0.145263</td>\n",
       "      <td>0.238710</td>\n",
       "      <td>0.111111</td>\n",
       "      <td>0.186855</td>\n",
       "      <td>0.666667</td>\n",
       "      <td>1</td>\n",
       "    </tr>\n",
       "    <tr>\n",
       "      <th>3</th>\n",
       "      <td>Subaru</td>\n",
       "      <td>Outback Touring XT</td>\n",
       "      <td>0.94</td>\n",
       "      <td>0.082490</td>\n",
       "      <td>Gasoline</td>\n",
       "      <td>260.0HP 2.4L 4 Cylinder Engine Gasoline Fuel</td>\n",
       "      <td>CVT Transmission</td>\n",
       "      <td>Blue</td>\n",
       "      <td>Brown</td>\n",
       "      <td>None reported</td>\n",
       "      <td>Yes</td>\n",
       "      <td>0.010840</td>\n",
       "      <td>0.200000</td>\n",
       "      <td>0.225806</td>\n",
       "      <td>0.111111</td>\n",
       "      <td>0.186855</td>\n",
       "      <td>0.666667</td>\n",
       "      <td>1</td>\n",
       "    </tr>\n",
       "    <tr>\n",
       "      <th>4</th>\n",
       "      <td>Lexus</td>\n",
       "      <td>GX 460 Base</td>\n",
       "      <td>0.88</td>\n",
       "      <td>0.184984</td>\n",
       "      <td>Gasoline</td>\n",
       "      <td>301.0HP 4.6L 8 Cylinder Engine Gasoline Fuel</td>\n",
       "      <td>6-Speed A/T</td>\n",
       "      <td>White</td>\n",
       "      <td>Beige</td>\n",
       "      <td>At least 1 accident or damage reported</td>\n",
       "      <td>Yes</td>\n",
       "      <td>0.012227</td>\n",
       "      <td>0.243158</td>\n",
       "      <td>0.509677</td>\n",
       "      <td>0.555556</td>\n",
       "      <td>0.186855</td>\n",
       "      <td>0.555556</td>\n",
       "      <td>1</td>\n",
       "    </tr>\n",
       "  </tbody>\n",
       "</table>\n",
       "</div>"
      ],
      "text/plain": [
       "    brand               model  model_year    milage fuel_type  \\\n",
       "0    Jeep      Wrangler Sport        0.80  0.175105  Gasoline   \n",
       "1  Toyota      Highlander XLE        0.82  0.169116  Gasoline   \n",
       "2  Toyota    Camry Hybrid XLE        0.88  0.171749    Hybrid   \n",
       "3  Subaru  Outback Touring XT        0.94  0.082490  Gasoline   \n",
       "4   Lexus         GX 460 Base        0.88  0.184984  Gasoline   \n",
       "\n",
       "                                              engine      transmission  \\\n",
       "0      285.0HP 3.6L V6 Cylinder Engine Gasoline Fuel       5-Speed A/T   \n",
       "1      270.0HP 3.5L V6 Cylinder Engine Gasoline Fuel               A/T   \n",
       "2  208.0HP 2.5L 4 Cylinder Engine Gas/Electric Hy...  CVT Transmission   \n",
       "3       260.0HP 2.4L 4 Cylinder Engine Gasoline Fuel  CVT Transmission   \n",
       "4       301.0HP 4.6L 8 Cylinder Engine Gasoline Fuel       6-Speed A/T   \n",
       "\n",
       "  ext_col int_col                                accident clean_title  \\\n",
       "0    Gray   Black                           None reported         Yes   \n",
       "1  Silver    Gray  At least 1 accident or damage reported         Yes   \n",
       "2   White   Black  At least 1 accident or damage reported         Yes   \n",
       "3    Blue   Brown                           None reported         Yes   \n",
       "4   White   Beige  At least 1 accident or damage reported         Yes   \n",
       "\n",
       "      price  Potencia  Capacidade_Motor  Numero_Cilindros  Numero_Valvulas  \\\n",
       "0  0.006775  0.226316          0.380645          0.333333         0.186855   \n",
       "1  0.008130  0.210526          0.367742          0.333333         0.186855   \n",
       "2  0.007451  0.145263          0.238710          0.111111         0.186855   \n",
       "3  0.010840  0.200000          0.225806          0.111111         0.186855   \n",
       "4  0.012227  0.243158          0.509677          0.555556         0.186855   \n",
       "\n",
       "         T2  outlier  \n",
       "0  0.444444        1  \n",
       "1  0.666667        1  \n",
       "2  0.666667        1  \n",
       "3  0.666667        1  \n",
       "4  0.555556        1  "
      ]
     },
     "execution_count": 33,
     "metadata": {},
     "output_type": "execute_result"
    }
   ],
   "source": [
    "data1.head()"
   ]
  },
  {
   "cell_type": "markdown",
   "metadata": {},
   "source": [
    "### NULL's substitution"
   ]
  },
  {
   "cell_type": "markdown",
   "metadata": {},
   "source": [
    "#### ENGINE clone"
   ]
  },
  {
   "cell_type": "code",
   "execution_count": 34,
   "metadata": {},
   "outputs": [],
   "source": [
    "m = data1['Numero_Valvulas'].mean()\n",
    "m2 = data1['Numero_Cilindros'].mean()\n",
    "m3 = data1['Potencia'].mean()\n",
    "m4 = data1['Capacidade_Motor'].mean()\n",
    "\n",
    "data1['Numero_Valvulas'].fillna(m, inplace=True)\n",
    "data1['Numero_Cilindros'].fillna(m2, inplace=True)\n",
    "data1['Potencia'].fillna(m3, inplace=True)\n",
    "data1['Capacidade_Motor'].fillna(m4, inplace=True)"
   ]
  },
  {
   "cell_type": "markdown",
   "metadata": {},
   "source": [
    "#### FUEL TYPE + Engine + Ex_col + Int_col + Accident + Transmission"
   ]
  },
  {
   "cell_type": "code",
   "execution_count": 35,
   "metadata": {},
   "outputs": [],
   "source": [
    "data1['fuel_type'].unique()\n",
    "data1['fuel_type'].isnull().sum()\n",
    "data1['fuel_type'].fillna('Eletric', inplace=True)\n",
    "mod = data1['fuel_type'].mode()[0]\n",
    "data1['fuel_type'] = data1['fuel_type'].replace('–', mod)\n",
    "#data1['fuel_type'].unique()\n",
    "\n",
    "mod1=data1['accident'].mode()[0]\n",
    "data1['accident'].fillna(mod, inplace=True)\n",
    "\n",
    "mod3=data1['engine'].mode()[0]\n",
    "data1['engine'] = data1['engine'].replace('–', mod3)\n",
    "\n",
    "mod4=data1['transmission'].mode()[0]\n",
    "data1['transmission'] = data1['transmission'].replace('–', mod4)\n",
    "\n",
    "mod5=data1['ext_col'].mode()[0]\n",
    "data1['ext_col'] = data1['ext_col'].replace('–', mod5)\n",
    "\n",
    "mod6=data1['int_col'].mode()[0]\n",
    "data1['int_col'] = data1['int_col'].replace('–', mod6)\n",
    "\n",
    "mod7=data1['transmission'].mode()[0]\n",
    "data1['transmission']=data1['transmission'].replace('–', mod7)"
   ]
  },
  {
   "cell_type": "markdown",
   "metadata": {},
   "source": [
    "#### clean title"
   ]
  },
  {
   "cell_type": "code",
   "execution_count": 36,
   "metadata": {},
   "outputs": [],
   "source": [
    "data1['clean_title'] = data1['clean_title'].fillna('No')"
   ]
  },
  {
   "cell_type": "markdown",
   "metadata": {},
   "source": [
    "#### TRANSMISSION SEP "
   ]
  },
  {
   "cell_type": "code",
   "execution_count": 37,
   "metadata": {},
   "outputs": [
    {
     "data": {
      "text/html": [
       "<div>\n",
       "<style scoped>\n",
       "    .dataframe tbody tr th:only-of-type {\n",
       "        vertical-align: middle;\n",
       "    }\n",
       "\n",
       "    .dataframe tbody tr th {\n",
       "        vertical-align: top;\n",
       "    }\n",
       "\n",
       "    .dataframe thead th {\n",
       "        text-align: right;\n",
       "    }\n",
       "</style>\n",
       "<table border=\"1\" class=\"dataframe\">\n",
       "  <thead>\n",
       "    <tr style=\"text-align: right;\">\n",
       "      <th></th>\n",
       "      <th>brand</th>\n",
       "      <th>model</th>\n",
       "      <th>model_year</th>\n",
       "      <th>milage</th>\n",
       "      <th>fuel_type</th>\n",
       "      <th>engine</th>\n",
       "      <th>transmission</th>\n",
       "      <th>ext_col</th>\n",
       "      <th>int_col</th>\n",
       "      <th>accident</th>\n",
       "      <th>clean_title</th>\n",
       "      <th>price</th>\n",
       "      <th>Potencia</th>\n",
       "      <th>Capacidade_Motor</th>\n",
       "      <th>Numero_Cilindros</th>\n",
       "      <th>Numero_Valvulas</th>\n",
       "      <th>T2</th>\n",
       "      <th>outlier</th>\n",
       "    </tr>\n",
       "  </thead>\n",
       "  <tbody>\n",
       "    <tr>\n",
       "      <th>0</th>\n",
       "      <td>Jeep</td>\n",
       "      <td>Wrangler Sport</td>\n",
       "      <td>0.80</td>\n",
       "      <td>0.175105</td>\n",
       "      <td>Gasoline</td>\n",
       "      <td>285.0HP 3.6L V6 Cylinder Engine Gasoline Fuel</td>\n",
       "      <td>5-Speed A/T</td>\n",
       "      <td>Gray</td>\n",
       "      <td>Black</td>\n",
       "      <td>None reported</td>\n",
       "      <td>Yes</td>\n",
       "      <td>0.006775</td>\n",
       "      <td>0.226316</td>\n",
       "      <td>0.380645</td>\n",
       "      <td>0.333333</td>\n",
       "      <td>0.186855</td>\n",
       "      <td>5.0</td>\n",
       "      <td>1</td>\n",
       "    </tr>\n",
       "    <tr>\n",
       "      <th>1</th>\n",
       "      <td>Toyota</td>\n",
       "      <td>Highlander XLE</td>\n",
       "      <td>0.82</td>\n",
       "      <td>0.169116</td>\n",
       "      <td>Gasoline</td>\n",
       "      <td>270.0HP 3.5L V6 Cylinder Engine Gasoline Fuel</td>\n",
       "      <td>A/T</td>\n",
       "      <td>Silver</td>\n",
       "      <td>Gray</td>\n",
       "      <td>At least 1 accident or damage reported</td>\n",
       "      <td>Yes</td>\n",
       "      <td>0.008130</td>\n",
       "      <td>0.210526</td>\n",
       "      <td>0.367742</td>\n",
       "      <td>0.333333</td>\n",
       "      <td>0.186855</td>\n",
       "      <td>7.0</td>\n",
       "      <td>1</td>\n",
       "    </tr>\n",
       "    <tr>\n",
       "      <th>2</th>\n",
       "      <td>Toyota</td>\n",
       "      <td>Camry Hybrid XLE</td>\n",
       "      <td>0.88</td>\n",
       "      <td>0.171749</td>\n",
       "      <td>Hybrid</td>\n",
       "      <td>208.0HP 2.5L 4 Cylinder Engine Gas/Electric Hy...</td>\n",
       "      <td>CVT Transmission</td>\n",
       "      <td>White</td>\n",
       "      <td>Black</td>\n",
       "      <td>At least 1 accident or damage reported</td>\n",
       "      <td>Yes</td>\n",
       "      <td>0.007451</td>\n",
       "      <td>0.145263</td>\n",
       "      <td>0.238710</td>\n",
       "      <td>0.111111</td>\n",
       "      <td>0.186855</td>\n",
       "      <td>7.0</td>\n",
       "      <td>1</td>\n",
       "    </tr>\n",
       "    <tr>\n",
       "      <th>3</th>\n",
       "      <td>Subaru</td>\n",
       "      <td>Outback Touring XT</td>\n",
       "      <td>0.94</td>\n",
       "      <td>0.082490</td>\n",
       "      <td>Gasoline</td>\n",
       "      <td>260.0HP 2.4L 4 Cylinder Engine Gasoline Fuel</td>\n",
       "      <td>CVT Transmission</td>\n",
       "      <td>Blue</td>\n",
       "      <td>Brown</td>\n",
       "      <td>None reported</td>\n",
       "      <td>Yes</td>\n",
       "      <td>0.010840</td>\n",
       "      <td>0.200000</td>\n",
       "      <td>0.225806</td>\n",
       "      <td>0.111111</td>\n",
       "      <td>0.186855</td>\n",
       "      <td>7.0</td>\n",
       "      <td>1</td>\n",
       "    </tr>\n",
       "    <tr>\n",
       "      <th>4</th>\n",
       "      <td>Lexus</td>\n",
       "      <td>GX 460 Base</td>\n",
       "      <td>0.88</td>\n",
       "      <td>0.184984</td>\n",
       "      <td>Gasoline</td>\n",
       "      <td>301.0HP 4.6L 8 Cylinder Engine Gasoline Fuel</td>\n",
       "      <td>6-Speed A/T</td>\n",
       "      <td>White</td>\n",
       "      <td>Beige</td>\n",
       "      <td>At least 1 accident or damage reported</td>\n",
       "      <td>Yes</td>\n",
       "      <td>0.012227</td>\n",
       "      <td>0.243158</td>\n",
       "      <td>0.509677</td>\n",
       "      <td>0.555556</td>\n",
       "      <td>0.186855</td>\n",
       "      <td>6.0</td>\n",
       "      <td>1</td>\n",
       "    </tr>\n",
       "  </tbody>\n",
       "</table>\n",
       "</div>"
      ],
      "text/plain": [
       "    brand               model  model_year    milage fuel_type  \\\n",
       "0    Jeep      Wrangler Sport        0.80  0.175105  Gasoline   \n",
       "1  Toyota      Highlander XLE        0.82  0.169116  Gasoline   \n",
       "2  Toyota    Camry Hybrid XLE        0.88  0.171749    Hybrid   \n",
       "3  Subaru  Outback Touring XT        0.94  0.082490  Gasoline   \n",
       "4   Lexus         GX 460 Base        0.88  0.184984  Gasoline   \n",
       "\n",
       "                                              engine      transmission  \\\n",
       "0      285.0HP 3.6L V6 Cylinder Engine Gasoline Fuel       5-Speed A/T   \n",
       "1      270.0HP 3.5L V6 Cylinder Engine Gasoline Fuel               A/T   \n",
       "2  208.0HP 2.5L 4 Cylinder Engine Gas/Electric Hy...  CVT Transmission   \n",
       "3       260.0HP 2.4L 4 Cylinder Engine Gasoline Fuel  CVT Transmission   \n",
       "4       301.0HP 4.6L 8 Cylinder Engine Gasoline Fuel       6-Speed A/T   \n",
       "\n",
       "  ext_col int_col                                accident clean_title  \\\n",
       "0    Gray   Black                           None reported         Yes   \n",
       "1  Silver    Gray  At least 1 accident or damage reported         Yes   \n",
       "2   White   Black  At least 1 accident or damage reported         Yes   \n",
       "3    Blue   Brown                           None reported         Yes   \n",
       "4   White   Beige  At least 1 accident or damage reported         Yes   \n",
       "\n",
       "      price  Potencia  Capacidade_Motor  Numero_Cilindros  Numero_Valvulas  \\\n",
       "0  0.006775  0.226316          0.380645          0.333333         0.186855   \n",
       "1  0.008130  0.210526          0.367742          0.333333         0.186855   \n",
       "2  0.007451  0.145263          0.238710          0.111111         0.186855   \n",
       "3  0.010840  0.200000          0.225806          0.111111         0.186855   \n",
       "4  0.012227  0.243158          0.509677          0.555556         0.186855   \n",
       "\n",
       "    T2  outlier  \n",
       "0  5.0        1  \n",
       "1  7.0        1  \n",
       "2  7.0        1  \n",
       "3  7.0        1  \n",
       "4  6.0        1  "
      ]
     },
     "execution_count": 37,
     "metadata": {},
     "output_type": "execute_result"
    }
   ],
   "source": [
    "# import numpy as np\n",
    "data1['T2'] = data1['transmission'].str.extract(r'(\\d+)')\n",
    "data1['T2'] = pd.to_numeric(data1['T2'], errors='coerce')\n",
    "m5 = data1['T2'].mean() # ja nao precisa\n",
    "data1['T2'].fillna(round(m5), inplace=True) # arredondar para cima # ja nao precisa\n",
    "data1.head()\n",
    "# 1478 nulls"
   ]
  },
  {
   "cell_type": "code",
   "execution_count": 38,
   "metadata": {},
   "outputs": [
    {
     "data": {
      "text/plain": [
       "9"
      ]
     },
     "execution_count": 38,
     "metadata": {},
     "output_type": "execute_result"
    }
   ],
   "source": [
    "len(data1['T2'].unique()) # 9\n",
    "# len(data['fuel_type'].unique()) # 7\n",
    "# len(data['Numero_Cilindros'].unique()) # 8\n",
    "# len(data['Potencia'].unique()) # 324\n",
    "# len(data['Numero_Valvulas'].unique()) # 9\n",
    "# len(data['Capacidade_Motor'].unique()) # 61"
   ]
  },
  {
   "cell_type": "markdown",
   "metadata": {},
   "source": [
    "### NORMALIZAÇÃO"
   ]
  },
  {
   "cell_type": "code",
   "execution_count": 39,
   "metadata": {},
   "outputs": [],
   "source": [
    "from sklearn.preprocessing import MinMaxScaler\n",
    "\n",
    "# Define the scaler\n",
    "scaler = MinMaxScaler()\n",
    "\n",
    "# Fit the scaler on the data and transform the features\n",
    "data1[['price', 'model_year', 'Potencia', 'Capacidade_Motor', 'Numero_Cilindros', 'Numero_Valvulas', 'T2','milage']] = scaler.fit_transform(data1[['price', 'model_year', 'Potencia', 'Capacidade_Motor', 'Numero_Cilindros', 'Numero_Valvulas', 'T2', 'milage']])\n",
    "\n",
    "\n"
   ]
  },
  {
   "cell_type": "code",
   "execution_count": 130,
   "metadata": {},
   "outputs": [
    {
     "data": {
      "text/html": [
       "<div>\n",
       "<style scoped>\n",
       "    .dataframe tbody tr th:only-of-type {\n",
       "        vertical-align: middle;\n",
       "    }\n",
       "\n",
       "    .dataframe tbody tr th {\n",
       "        vertical-align: top;\n",
       "    }\n",
       "\n",
       "    .dataframe thead th {\n",
       "        text-align: right;\n",
       "    }\n",
       "</style>\n",
       "<table border=\"1\" class=\"dataframe\">\n",
       "  <thead>\n",
       "    <tr style=\"text-align: right;\">\n",
       "      <th></th>\n",
       "      <th>brand</th>\n",
       "      <th>model</th>\n",
       "      <th>model_year</th>\n",
       "      <th>milage</th>\n",
       "      <th>fuel_type</th>\n",
       "      <th>engine</th>\n",
       "      <th>transmission</th>\n",
       "      <th>ext_col</th>\n",
       "      <th>int_col</th>\n",
       "      <th>accident</th>\n",
       "      <th>clean_title</th>\n",
       "      <th>price</th>\n",
       "      <th>Potencia</th>\n",
       "      <th>Capacidade_Motor</th>\n",
       "      <th>Numero_Cilindros</th>\n",
       "      <th>Numero_Valvulas</th>\n",
       "      <th>T2</th>\n",
       "      <th>Classificação_Preco</th>\n",
       "    </tr>\n",
       "  </thead>\n",
       "  <tbody>\n",
       "    <tr>\n",
       "      <th>0</th>\n",
       "      <td>Jeep</td>\n",
       "      <td>Wrangler Sport</td>\n",
       "      <td>0.587787</td>\n",
       "      <td>0.175105</td>\n",
       "      <td>Gasoline</td>\n",
       "      <td>285.0HP 3.6L V6 Cylinder Engine Gasoline Fuel</td>\n",
       "      <td>5-Speed A/T</td>\n",
       "      <td>Gray</td>\n",
       "      <td>Black</td>\n",
       "      <td>None reported</td>\n",
       "      <td>Yes</td>\n",
       "      <td>0.006752</td>\n",
       "      <td>0.204014</td>\n",
       "      <td>0.322551</td>\n",
       "      <td>0.287682</td>\n",
       "      <td>0.171307</td>\n",
       "      <td>0.367725</td>\n",
       "      <td>ecônomico</td>\n",
       "    </tr>\n",
       "  </tbody>\n",
       "</table>\n",
       "</div>"
      ],
      "text/plain": [
       "  brand           model  model_year    milage fuel_type  \\\n",
       "0  Jeep  Wrangler Sport    0.587787  0.175105  Gasoline   \n",
       "\n",
       "                                          engine transmission ext_col int_col  \\\n",
       "0  285.0HP 3.6L V6 Cylinder Engine Gasoline Fuel  5-Speed A/T    Gray   Black   \n",
       "\n",
       "        accident clean_title     price  Potencia  Capacidade_Motor  \\\n",
       "0  None reported         Yes  0.006752  0.204014          0.322551   \n",
       "\n",
       "   Numero_Cilindros  Numero_Valvulas        T2 Classificação_Preco  \n",
       "0          0.287682         0.171307  0.367725           ecônomico  "
      ]
     },
     "execution_count": 130,
     "metadata": {},
     "output_type": "execute_result"
    }
   ],
   "source": [
    "import numpy as np\n",
    "\n",
    "# Apply logarithmic transformation to skewed features\n",
    "skewed_features = ['price', 'model_year', 'Potencia', 'Capacidade_Motor', 'Numero_Cilindros', 'Numero_Valvulas', 'T2', 'milage']  # Specify the skewed features here\n",
    "data1[skewed_features] = np.log1p(data1[skewed_features])\n",
    "data1.head(1)"
   ]
  },
  {
   "cell_type": "markdown",
   "metadata": {},
   "source": [
    "### Outliers - LOF"
   ]
  },
  {
   "cell_type": "code",
   "execution_count": 40,
   "metadata": {},
   "outputs": [],
   "source": [
    "import pandas as pd\n",
    "import numpy as np\n",
    "from sklearn.neighbors import LocalOutlierFactor\n",
    "\n",
    "nums = data1.select_dtypes(include=[np.number])"
   ]
  },
  {
   "cell_type": "code",
   "execution_count": 41,
   "metadata": {},
   "outputs": [],
   "source": [
    "lof = LocalOutlierFactor(n_neighbors=20, novelty=False, contamination=0.05)\n",
    "y_pred = lof.fit_predict(nums)\n",
    "data1['outlier'] = y_pred"
   ]
  },
  {
   "cell_type": "code",
   "execution_count": 42,
   "metadata": {},
   "outputs": [
    {
     "data": {
      "text/html": [
       "<div>\n",
       "<style scoped>\n",
       "    .dataframe tbody tr th:only-of-type {\n",
       "        vertical-align: middle;\n",
       "    }\n",
       "\n",
       "    .dataframe tbody tr th {\n",
       "        vertical-align: top;\n",
       "    }\n",
       "\n",
       "    .dataframe thead th {\n",
       "        text-align: right;\n",
       "    }\n",
       "</style>\n",
       "<table border=\"1\" class=\"dataframe\">\n",
       "  <thead>\n",
       "    <tr style=\"text-align: right;\">\n",
       "      <th></th>\n",
       "      <th>model_year</th>\n",
       "      <th>milage</th>\n",
       "      <th>price</th>\n",
       "      <th>Potencia</th>\n",
       "      <th>Capacidade_Motor</th>\n",
       "      <th>Numero_Cilindros</th>\n",
       "      <th>Numero_Valvulas</th>\n",
       "      <th>T2</th>\n",
       "      <th>outlier</th>\n",
       "    </tr>\n",
       "  </thead>\n",
       "  <tbody>\n",
       "    <tr>\n",
       "      <th>count</th>\n",
       "      <td>5.000000</td>\n",
       "      <td>5.000000</td>\n",
       "      <td>5.000000</td>\n",
       "      <td>5.000000</td>\n",
       "      <td>5.000000</td>\n",
       "      <td>5.000000</td>\n",
       "      <td>5.000000</td>\n",
       "      <td>5.000000</td>\n",
       "      <td>5.0</td>\n",
       "    </tr>\n",
       "    <tr>\n",
       "      <th>mean</th>\n",
       "      <td>0.852000</td>\n",
       "      <td>0.113464</td>\n",
       "      <td>0.015060</td>\n",
       "      <td>0.418131</td>\n",
       "      <td>0.247643</td>\n",
       "      <td>0.281515</td>\n",
       "      <td>0.149484</td>\n",
       "      <td>0.266667</td>\n",
       "      <td>-1.0</td>\n",
       "    </tr>\n",
       "    <tr>\n",
       "      <th>std</th>\n",
       "      <td>0.117132</td>\n",
       "      <td>0.093234</td>\n",
       "      <td>0.011203</td>\n",
       "      <td>0.260155</td>\n",
       "      <td>0.195361</td>\n",
       "      <td>0.157736</td>\n",
       "      <td>0.083564</td>\n",
       "      <td>0.365148</td>\n",
       "      <td>0.0</td>\n",
       "    </tr>\n",
       "    <tr>\n",
       "      <th>min</th>\n",
       "      <td>0.680000</td>\n",
       "      <td>0.000491</td>\n",
       "      <td>0.004403</td>\n",
       "      <td>0.105263</td>\n",
       "      <td>0.000000</td>\n",
       "      <td>0.000000</td>\n",
       "      <td>0.000000</td>\n",
       "      <td>0.000000</td>\n",
       "      <td>-1.0</td>\n",
       "    </tr>\n",
       "    <tr>\n",
       "      <th>25%</th>\n",
       "      <td>0.820000</td>\n",
       "      <td>0.063966</td>\n",
       "      <td>0.007451</td>\n",
       "      <td>0.276969</td>\n",
       "      <td>0.070968</td>\n",
       "      <td>0.333333</td>\n",
       "      <td>0.186855</td>\n",
       "      <td>0.000000</td>\n",
       "      <td>-1.0</td>\n",
       "    </tr>\n",
       "    <tr>\n",
       "      <th>50%</th>\n",
       "      <td>0.840000</td>\n",
       "      <td>0.124841</td>\n",
       "      <td>0.009925</td>\n",
       "      <td>0.431579</td>\n",
       "      <td>0.380645</td>\n",
       "      <td>0.358081</td>\n",
       "      <td>0.186855</td>\n",
       "      <td>0.000000</td>\n",
       "      <td>-1.0</td>\n",
       "    </tr>\n",
       "    <tr>\n",
       "      <th>75%</th>\n",
       "      <td>0.940000</td>\n",
       "      <td>0.125710</td>\n",
       "      <td>0.022865</td>\n",
       "      <td>0.471579</td>\n",
       "      <td>0.393301</td>\n",
       "      <td>0.358081</td>\n",
       "      <td>0.186855</td>\n",
       "      <td>0.666667</td>\n",
       "      <td>-1.0</td>\n",
       "    </tr>\n",
       "    <tr>\n",
       "      <th>max</th>\n",
       "      <td>0.980000</td>\n",
       "      <td>0.252309</td>\n",
       "      <td>0.030656</td>\n",
       "      <td>0.805263</td>\n",
       "      <td>0.393301</td>\n",
       "      <td>0.358081</td>\n",
       "      <td>0.186855</td>\n",
       "      <td>0.666667</td>\n",
       "      <td>-1.0</td>\n",
       "    </tr>\n",
       "  </tbody>\n",
       "</table>\n",
       "</div>"
      ],
      "text/plain": [
       "       model_year    milage     price  Potencia  Capacidade_Motor  \\\n",
       "count    5.000000  5.000000  5.000000  5.000000          5.000000   \n",
       "mean     0.852000  0.113464  0.015060  0.418131          0.247643   \n",
       "std      0.117132  0.093234  0.011203  0.260155          0.195361   \n",
       "min      0.680000  0.000491  0.004403  0.105263          0.000000   \n",
       "25%      0.820000  0.063966  0.007451  0.276969          0.070968   \n",
       "50%      0.840000  0.124841  0.009925  0.431579          0.380645   \n",
       "75%      0.940000  0.125710  0.022865  0.471579          0.393301   \n",
       "max      0.980000  0.252309  0.030656  0.805263          0.393301   \n",
       "\n",
       "       Numero_Cilindros  Numero_Valvulas        T2  outlier  \n",
       "count          5.000000         5.000000  5.000000      5.0  \n",
       "mean           0.281515         0.149484  0.266667     -1.0  \n",
       "std            0.157736         0.083564  0.365148      0.0  \n",
       "min            0.000000         0.000000  0.000000     -1.0  \n",
       "25%            0.333333         0.186855  0.000000     -1.0  \n",
       "50%            0.358081         0.186855  0.000000     -1.0  \n",
       "75%            0.358081         0.186855  0.666667     -1.0  \n",
       "max            0.358081         0.186855  0.666667     -1.0  "
      ]
     },
     "execution_count": 42,
     "metadata": {},
     "output_type": "execute_result"
    }
   ],
   "source": [
    "out = data1[data1['outlier']==-1]\n",
    "# len(out) # 161 outliers\n",
    "out.describe()\n",
    "\n",
    "outlier_indices = data1[data1['outlier'] == -1].index\n",
    "o=(data1.loc[outlier_indices]).head()\n",
    "o.describe() # dados outliers"
   ]
  },
  {
   "cell_type": "code",
   "execution_count": 43,
   "metadata": {},
   "outputs": [
    {
     "data": {
      "text/html": [
       "<div>\n",
       "<style scoped>\n",
       "    .dataframe tbody tr th:only-of-type {\n",
       "        vertical-align: middle;\n",
       "    }\n",
       "\n",
       "    .dataframe tbody tr th {\n",
       "        vertical-align: top;\n",
       "    }\n",
       "\n",
       "    .dataframe thead th {\n",
       "        text-align: right;\n",
       "    }\n",
       "</style>\n",
       "<table border=\"1\" class=\"dataframe\">\n",
       "  <thead>\n",
       "    <tr style=\"text-align: right;\">\n",
       "      <th></th>\n",
       "      <th>model_year</th>\n",
       "      <th>milage</th>\n",
       "      <th>price</th>\n",
       "      <th>Potencia</th>\n",
       "      <th>Capacidade_Motor</th>\n",
       "      <th>Numero_Cilindros</th>\n",
       "      <th>Numero_Valvulas</th>\n",
       "      <th>T2</th>\n",
       "      <th>outlier</th>\n",
       "    </tr>\n",
       "  </thead>\n",
       "  <tbody>\n",
       "    <tr>\n",
       "      <th>count</th>\n",
       "      <td>3046.000000</td>\n",
       "      <td>3046.000000</td>\n",
       "      <td>3046.000000</td>\n",
       "      <td>3046.000000</td>\n",
       "      <td>3046.000000</td>\n",
       "      <td>3046.000000</td>\n",
       "      <td>3046.000000</td>\n",
       "      <td>3046.000000</td>\n",
       "      <td>3046.0</td>\n",
       "    </tr>\n",
       "    <tr>\n",
       "      <th>mean</th>\n",
       "      <td>0.830538</td>\n",
       "      <td>0.158585</td>\n",
       "      <td>0.013669</td>\n",
       "      <td>0.273240</td>\n",
       "      <td>0.394010</td>\n",
       "      <td>0.359631</td>\n",
       "      <td>0.187095</td>\n",
       "      <td>0.660940</td>\n",
       "      <td>1.0</td>\n",
       "    </tr>\n",
       "    <tr>\n",
       "      <th>std</th>\n",
       "      <td>0.120513</td>\n",
       "      <td>0.124424</td>\n",
       "      <td>0.016879</td>\n",
       "      <td>0.105039</td>\n",
       "      <td>0.176545</td>\n",
       "      <td>0.178691</td>\n",
       "      <td>0.049033</td>\n",
       "      <td>0.147704</td>\n",
       "      <td>0.0</td>\n",
       "    </tr>\n",
       "    <tr>\n",
       "      <th>min</th>\n",
       "      <td>0.360000</td>\n",
       "      <td>0.000000</td>\n",
       "      <td>0.000000</td>\n",
       "      <td>0.006316</td>\n",
       "      <td>0.000000</td>\n",
       "      <td>0.000000</td>\n",
       "      <td>0.000000</td>\n",
       "      <td>0.000000</td>\n",
       "      <td>1.0</td>\n",
       "    </tr>\n",
       "    <tr>\n",
       "      <th>25%</th>\n",
       "      <td>0.760000</td>\n",
       "      <td>0.058039</td>\n",
       "      <td>0.005081</td>\n",
       "      <td>0.208421</td>\n",
       "      <td>0.238710</td>\n",
       "      <td>0.333333</td>\n",
       "      <td>0.186855</td>\n",
       "      <td>0.666667</td>\n",
       "      <td>1.0</td>\n",
       "    </tr>\n",
       "    <tr>\n",
       "      <th>50%</th>\n",
       "      <td>0.860000</td>\n",
       "      <td>0.130650</td>\n",
       "      <td>0.009824</td>\n",
       "      <td>0.276969</td>\n",
       "      <td>0.367742</td>\n",
       "      <td>0.333333</td>\n",
       "      <td>0.186855</td>\n",
       "      <td>0.666667</td>\n",
       "      <td>1.0</td>\n",
       "    </tr>\n",
       "    <tr>\n",
       "      <th>75%</th>\n",
       "      <td>0.920000</td>\n",
       "      <td>0.229439</td>\n",
       "      <td>0.015921</td>\n",
       "      <td>0.328158</td>\n",
       "      <td>0.509677</td>\n",
       "      <td>0.555556</td>\n",
       "      <td>0.186855</td>\n",
       "      <td>0.666667</td>\n",
       "      <td>1.0</td>\n",
       "    </tr>\n",
       "    <tr>\n",
       "      <th>max</th>\n",
       "      <td>1.000000</td>\n",
       "      <td>0.823070</td>\n",
       "      <td>0.253363</td>\n",
       "      <td>0.755789</td>\n",
       "      <td>1.000000</td>\n",
       "      <td>1.000000</td>\n",
       "      <td>0.692308</td>\n",
       "      <td>1.000000</td>\n",
       "      <td>1.0</td>\n",
       "    </tr>\n",
       "  </tbody>\n",
       "</table>\n",
       "</div>"
      ],
      "text/plain": [
       "        model_year       milage        price     Potencia  Capacidade_Motor  \\\n",
       "count  3046.000000  3046.000000  3046.000000  3046.000000       3046.000000   \n",
       "mean      0.830538     0.158585     0.013669     0.273240          0.394010   \n",
       "std       0.120513     0.124424     0.016879     0.105039          0.176545   \n",
       "min       0.360000     0.000000     0.000000     0.006316          0.000000   \n",
       "25%       0.760000     0.058039     0.005081     0.208421          0.238710   \n",
       "50%       0.860000     0.130650     0.009824     0.276969          0.367742   \n",
       "75%       0.920000     0.229439     0.015921     0.328158          0.509677   \n",
       "max       1.000000     0.823070     0.253363     0.755789          1.000000   \n",
       "\n",
       "       Numero_Cilindros  Numero_Valvulas           T2  outlier  \n",
       "count       3046.000000      3046.000000  3046.000000   3046.0  \n",
       "mean           0.359631         0.187095     0.660940      1.0  \n",
       "std            0.178691         0.049033     0.147704      0.0  \n",
       "min            0.000000         0.000000     0.000000      1.0  \n",
       "25%            0.333333         0.186855     0.666667      1.0  \n",
       "50%            0.333333         0.186855     0.666667      1.0  \n",
       "75%            0.555556         0.186855     0.666667      1.0  \n",
       "max            1.000000         0.692308     1.000000      1.0  "
      ]
     },
     "execution_count": 43,
     "metadata": {},
     "output_type": "execute_result"
    }
   ],
   "source": [
    "(p.drop(outlier_indices)).describe() # dados sem os outliers"
   ]
  },
  {
   "cell_type": "code",
   "execution_count": 62,
   "metadata": {},
   "outputs": [
    {
     "data": {
      "text/html": [
       "<div>\n",
       "<style scoped>\n",
       "    .dataframe tbody tr th:only-of-type {\n",
       "        vertical-align: middle;\n",
       "    }\n",
       "\n",
       "    .dataframe tbody tr th {\n",
       "        vertical-align: top;\n",
       "    }\n",
       "\n",
       "    .dataframe thead th {\n",
       "        text-align: right;\n",
       "    }\n",
       "</style>\n",
       "<table border=\"1\" class=\"dataframe\">\n",
       "  <thead>\n",
       "    <tr style=\"text-align: right;\">\n",
       "      <th></th>\n",
       "      <th>brand</th>\n",
       "      <th>model</th>\n",
       "      <th>model_year</th>\n",
       "      <th>milage</th>\n",
       "      <th>fuel_type</th>\n",
       "      <th>engine</th>\n",
       "      <th>transmission</th>\n",
       "      <th>ext_col</th>\n",
       "      <th>int_col</th>\n",
       "      <th>accident</th>\n",
       "      <th>clean_title</th>\n",
       "      <th>price</th>\n",
       "      <th>Potencia</th>\n",
       "      <th>Capacidade_Motor</th>\n",
       "      <th>Numero_Cilindros</th>\n",
       "      <th>Numero_Valvulas</th>\n",
       "      <th>T2</th>\n",
       "    </tr>\n",
       "  </thead>\n",
       "  <tbody>\n",
       "    <tr>\n",
       "      <th>0</th>\n",
       "      <td>Jeep</td>\n",
       "      <td>Wrangler Sport</td>\n",
       "      <td>0.80</td>\n",
       "      <td>0.175105</td>\n",
       "      <td>Gasoline</td>\n",
       "      <td>285.0HP 3.6L V6 Cylinder Engine Gasoline Fuel</td>\n",
       "      <td>5-Speed A/T</td>\n",
       "      <td>Gray</td>\n",
       "      <td>Black</td>\n",
       "      <td>None reported</td>\n",
       "      <td>Yes</td>\n",
       "      <td>0.006775</td>\n",
       "      <td>0.226316</td>\n",
       "      <td>0.380645</td>\n",
       "      <td>0.333333</td>\n",
       "      <td>0.186855</td>\n",
       "      <td>0.444444</td>\n",
       "    </tr>\n",
       "    <tr>\n",
       "      <th>1</th>\n",
       "      <td>Toyota</td>\n",
       "      <td>Highlander XLE</td>\n",
       "      <td>0.82</td>\n",
       "      <td>0.169116</td>\n",
       "      <td>Gasoline</td>\n",
       "      <td>270.0HP 3.5L V6 Cylinder Engine Gasoline Fuel</td>\n",
       "      <td>A/T</td>\n",
       "      <td>Silver</td>\n",
       "      <td>Gray</td>\n",
       "      <td>At least 1 accident or damage reported</td>\n",
       "      <td>Yes</td>\n",
       "      <td>0.008130</td>\n",
       "      <td>0.210526</td>\n",
       "      <td>0.367742</td>\n",
       "      <td>0.333333</td>\n",
       "      <td>0.186855</td>\n",
       "      <td>0.666667</td>\n",
       "    </tr>\n",
       "    <tr>\n",
       "      <th>2</th>\n",
       "      <td>Toyota</td>\n",
       "      <td>Camry Hybrid XLE</td>\n",
       "      <td>0.88</td>\n",
       "      <td>0.171749</td>\n",
       "      <td>Hybrid</td>\n",
       "      <td>208.0HP 2.5L 4 Cylinder Engine Gas/Electric Hy...</td>\n",
       "      <td>CVT Transmission</td>\n",
       "      <td>White</td>\n",
       "      <td>Black</td>\n",
       "      <td>At least 1 accident or damage reported</td>\n",
       "      <td>Yes</td>\n",
       "      <td>0.007451</td>\n",
       "      <td>0.145263</td>\n",
       "      <td>0.238710</td>\n",
       "      <td>0.111111</td>\n",
       "      <td>0.186855</td>\n",
       "      <td>0.666667</td>\n",
       "    </tr>\n",
       "    <tr>\n",
       "      <th>3</th>\n",
       "      <td>Subaru</td>\n",
       "      <td>Outback Touring XT</td>\n",
       "      <td>0.94</td>\n",
       "      <td>0.082490</td>\n",
       "      <td>Gasoline</td>\n",
       "      <td>260.0HP 2.4L 4 Cylinder Engine Gasoline Fuel</td>\n",
       "      <td>CVT Transmission</td>\n",
       "      <td>Blue</td>\n",
       "      <td>Brown</td>\n",
       "      <td>None reported</td>\n",
       "      <td>Yes</td>\n",
       "      <td>0.010840</td>\n",
       "      <td>0.200000</td>\n",
       "      <td>0.225806</td>\n",
       "      <td>0.111111</td>\n",
       "      <td>0.186855</td>\n",
       "      <td>0.666667</td>\n",
       "    </tr>\n",
       "    <tr>\n",
       "      <th>4</th>\n",
       "      <td>Lexus</td>\n",
       "      <td>GX 460 Base</td>\n",
       "      <td>0.88</td>\n",
       "      <td>0.184984</td>\n",
       "      <td>Gasoline</td>\n",
       "      <td>301.0HP 4.6L 8 Cylinder Engine Gasoline Fuel</td>\n",
       "      <td>6-Speed A/T</td>\n",
       "      <td>White</td>\n",
       "      <td>Beige</td>\n",
       "      <td>At least 1 accident or damage reported</td>\n",
       "      <td>Yes</td>\n",
       "      <td>0.012227</td>\n",
       "      <td>0.243158</td>\n",
       "      <td>0.509677</td>\n",
       "      <td>0.555556</td>\n",
       "      <td>0.186855</td>\n",
       "      <td>0.555556</td>\n",
       "    </tr>\n",
       "  </tbody>\n",
       "</table>\n",
       "</div>"
      ],
      "text/plain": [
       "    brand               model  model_year    milage fuel_type  \\\n",
       "0    Jeep      Wrangler Sport        0.80  0.175105  Gasoline   \n",
       "1  Toyota      Highlander XLE        0.82  0.169116  Gasoline   \n",
       "2  Toyota    Camry Hybrid XLE        0.88  0.171749    Hybrid   \n",
       "3  Subaru  Outback Touring XT        0.94  0.082490  Gasoline   \n",
       "4   Lexus         GX 460 Base        0.88  0.184984  Gasoline   \n",
       "\n",
       "                                              engine      transmission  \\\n",
       "0      285.0HP 3.6L V6 Cylinder Engine Gasoline Fuel       5-Speed A/T   \n",
       "1      270.0HP 3.5L V6 Cylinder Engine Gasoline Fuel               A/T   \n",
       "2  208.0HP 2.5L 4 Cylinder Engine Gas/Electric Hy...  CVT Transmission   \n",
       "3       260.0HP 2.4L 4 Cylinder Engine Gasoline Fuel  CVT Transmission   \n",
       "4       301.0HP 4.6L 8 Cylinder Engine Gasoline Fuel       6-Speed A/T   \n",
       "\n",
       "  ext_col int_col                                accident clean_title  \\\n",
       "0    Gray   Black                           None reported         Yes   \n",
       "1  Silver    Gray  At least 1 accident or damage reported         Yes   \n",
       "2   White   Black  At least 1 accident or damage reported         Yes   \n",
       "3    Blue   Brown                           None reported         Yes   \n",
       "4   White   Beige  At least 1 accident or damage reported         Yes   \n",
       "\n",
       "      price  Potencia  Capacidade_Motor  Numero_Cilindros  Numero_Valvulas  \\\n",
       "0  0.006775  0.226316          0.380645          0.333333         0.186855   \n",
       "1  0.008130  0.210526          0.367742          0.333333         0.186855   \n",
       "2  0.007451  0.145263          0.238710          0.111111         0.186855   \n",
       "3  0.010840  0.200000          0.225806          0.111111         0.186855   \n",
       "4  0.012227  0.243158          0.509677          0.555556         0.186855   \n",
       "\n",
       "         T2  \n",
       "0  0.444444  \n",
       "1  0.666667  \n",
       "2  0.666667  \n",
       "3  0.666667  \n",
       "4  0.555556  "
      ]
     },
     "execution_count": 62,
     "metadata": {},
     "output_type": "execute_result"
    }
   ],
   "source": [
    "criteria = data1['outlier'] == -1\n",
    "clean_data = data1[~criteria] # datarfame sem outliers\n",
    "clean_data.columns\n",
    "ck = clean_data.drop(['outlier'], axis=1) # nova variável para fazer o modelo sem os outliers\n",
    "ck.head()"
   ]
  },
  {
   "cell_type": "markdown",
   "metadata": {},
   "source": [
    "### BOXPLOT OUTLIERS"
   ]
  },
  {
   "cell_type": "code",
   "execution_count": 46,
   "metadata": {},
   "outputs": [
    {
     "data": {
      "image/png": "[encoded data removed]",
      "text/plain": [
       "<Figure size 1600x1000 with 8 Axes>"
      ]
     },
     "metadata": {},
     "output_type": "display_data"
    }
   ],
   "source": [
    "woo = data1.drop(['outlier'], axis=1) # nova variável para fazer o modelo sem os outliers\n",
    "import numpy as np\n",
    "import matplotlib.pyplot as plt\n",
    "\n",
    "# Selecionar apenas as colunas numéricas\n",
    "colunas_numericas = woo.select_dtypes(include=np.number)\n",
    "\n",
    "# Definir o número de colunas e linhas para os subplots\n",
    "num_linhas = 2\n",
    "num_colunas = 4\n",
    "fig, axs = plt.subplots(num_linhas, num_colunas, figsize=(16, 10))\n",
    "\n",
    "# Iterar sobre os atributos numéricos e plotar os boxplots em subplots\n",
    "for i, coluna in enumerate(colunas_numericas.columns):\n",
    "    linha = i // num_colunas\n",
    "    coluna_atual = i % num_colunas\n",
    "    axs[linha, coluna_atual].boxplot(colunas_numericas[coluna])\n",
    "    axs[linha, coluna_atual].set_title(f'{coluna}')\n",
    "    axs[linha, coluna_atual].set_xlabel('Coluna')\n",
    "    axs[linha, coluna_atual].set_ylabel('Valores')\n",
    "    axs[linha, coluna_atual].grid(True)\n",
    "\n",
    "# Ajustar o layout dos subplots\n",
    "plt.tight_layout()\n",
    "\n",
    "# Mostrar o gráfico\n",
    "plt.show()"
   ]
  },
  {
   "cell_type": "markdown",
   "metadata": {},
   "source": [
    "# Subset 2"
   ]
  },
  {
   "cell_type": "markdown",
   "metadata": {},
   "source": [
    "##### Susbtituir valores nulos e - por desconhecido\n",
    "##### Substituição de valores nulos da coluna Fuel_type por Eletric\n",
    "#### Mantém colunas adicionais (Potencia, Capacidade_Motor, Numero_Cilindros, Numero_Valvulas)\n",
    "#### Remoção de Outliers por LOF\n",
    "#### Criação de uma variavel Classificação para os preços"
   ]
  },
  {
   "cell_type": "code",
   "execution_count": 2,
   "metadata": {},
   "outputs": [],
   "source": [
    "data2=p"
   ]
  },
  {
   "cell_type": "markdown",
   "metadata": {},
   "source": [
    "### NULL's substitution"
   ]
  },
  {
   "cell_type": "markdown",
   "metadata": {},
   "source": [
    "### Fuel_type"
   ]
  },
  {
   "cell_type": "code",
   "execution_count": 3,
   "metadata": {},
   "outputs": [],
   "source": [
    "data2['fuel_type'].unique()\n",
    "data2['fuel_type'].isnull().sum()\n",
    "data2['fuel_type'].fillna('Eletric', inplace=True)\n",
    "data2['fuel_type'] = data2['fuel_type'].replace('–', 'desconhecido')"
   ]
  },
  {
   "cell_type": "markdown",
   "metadata": {},
   "source": [
    "#### ENGINE clone"
   ]
  },
  {
   "cell_type": "code",
   "execution_count": 4,
   "metadata": {},
   "outputs": [],
   "source": [
    "m = data2['Numero_Valvulas'].median()\n",
    "m2 = data2['Numero_Cilindros'].median()\n",
    "m3 = data2['Potencia'].median()\n",
    "m4 = data2['Capacidade_Motor'].median()\n",
    "\n",
    "data2['Numero_Valvulas'].fillna(m, inplace=True)\n",
    "data2['Numero_Cilindros'].fillna(m2, inplace=True)\n",
    "data2['Potencia'].fillna(m3, inplace=True)\n",
    "data2['Capacidade_Motor'].fillna(m4, inplace=True)"
   ]
  },
  {
   "cell_type": "markdown",
   "metadata": {},
   "source": [
    "#### Accident + engine + transmission + ex_col + int_col"
   ]
  },
  {
   "cell_type": "code",
   "execution_count": 5,
   "metadata": {},
   "outputs": [],
   "source": [
    "data2['accident'].fillna('desconhecido', inplace=True)\n",
    "data2['engine'] = data2['engine'].replace('–', 'desconhecido')\n",
    "data2['transmission'] = data2['transmission'].replace('–', 'desconhecido')\n",
    "data2['ext_col'] = data2['ext_col'].replace('–', 'desconhecido')\n",
    "data2['int_col'] = data2['int_col'].replace('–', 'desconhecido')\n"
   ]
  },
  {
   "cell_type": "markdown",
   "metadata": {},
   "source": [
    "#### Clean Title"
   ]
  },
  {
   "cell_type": "code",
   "execution_count": 6,
   "metadata": {},
   "outputs": [],
   "source": [
    "data2['clean_title'] = data2['clean_title'].fillna('No')"
   ]
  },
  {
   "cell_type": "code",
   "execution_count": 68,
   "metadata": {},
   "outputs": [
    {
     "data": {
      "text/plain": [
       "brand               0\n",
       "model               0\n",
       "model_year          0\n",
       "milage              0\n",
       "fuel_type           0\n",
       "engine              0\n",
       "transmission        0\n",
       "ext_col             0\n",
       "int_col             0\n",
       "accident            0\n",
       "clean_title         0\n",
       "price               0\n",
       "Potencia            0\n",
       "Capacidade_Motor    0\n",
       "Numero_Cilindros    0\n",
       "Numero_Valvulas     0\n",
       "T2                  0\n",
       "outlier             0\n",
       "dtype: int64"
      ]
     },
     "execution_count": 68,
     "metadata": {},
     "output_type": "execute_result"
    }
   ],
   "source": [
    "data2.isnull().sum()"
   ]
  },
  {
   "cell_type": "markdown",
   "metadata": {},
   "source": [
    "### Normalização"
   ]
  },
  {
   "cell_type": "code",
   "execution_count": 7,
   "metadata": {},
   "outputs": [],
   "source": [
    "from sklearn.preprocessing import MinMaxScaler\n",
    "\n",
    "# Define the scaler\n",
    "scaler = MinMaxScaler()\n",
    "\n",
    "# Fit the scaler on the data and transform the features\n",
    "data2[['price', 'model_year', 'Potencia', 'Capacidade_Motor', 'Numero_Cilindros', 'Numero_Valvulas', 'milage']] = scaler.fit_transform(data2[['price', 'model_year', 'Potencia', 'Capacidade_Motor', 'Numero_Cilindros', 'Numero_Valvulas' ,'milage']])\n"
   ]
  },
  {
   "cell_type": "markdown",
   "metadata": {},
   "source": [
    "### Remoção de Ouliers - LOF"
   ]
  },
  {
   "cell_type": "code",
   "execution_count": 9,
   "metadata": {},
   "outputs": [
    {
     "data": {
      "text/html": [
       "<div>\n",
       "<style scoped>\n",
       "    .dataframe tbody tr th:only-of-type {\n",
       "        vertical-align: middle;\n",
       "    }\n",
       "\n",
       "    .dataframe tbody tr th {\n",
       "        vertical-align: top;\n",
       "    }\n",
       "\n",
       "    .dataframe thead th {\n",
       "        text-align: right;\n",
       "    }\n",
       "</style>\n",
       "<table border=\"1\" class=\"dataframe\">\n",
       "  <thead>\n",
       "    <tr style=\"text-align: right;\">\n",
       "      <th></th>\n",
       "      <th>brand</th>\n",
       "      <th>model</th>\n",
       "      <th>model_year</th>\n",
       "      <th>milage</th>\n",
       "      <th>fuel_type</th>\n",
       "      <th>engine</th>\n",
       "      <th>transmission</th>\n",
       "      <th>ext_col</th>\n",
       "      <th>int_col</th>\n",
       "      <th>accident</th>\n",
       "      <th>clean_title</th>\n",
       "      <th>price</th>\n",
       "      <th>Potencia</th>\n",
       "      <th>Capacidade_Motor</th>\n",
       "      <th>Numero_Cilindros</th>\n",
       "      <th>Numero_Valvulas</th>\n",
       "    </tr>\n",
       "  </thead>\n",
       "  <tbody>\n",
       "    <tr>\n",
       "      <th>0</th>\n",
       "      <td>Jeep</td>\n",
       "      <td>Wrangler Sport</td>\n",
       "      <td>0.80</td>\n",
       "      <td>0.175105</td>\n",
       "      <td>Gasoline</td>\n",
       "      <td>285.0HP 3.6L V6 Cylinder Engine Gasoline Fuel</td>\n",
       "      <td>5-Speed A/T</td>\n",
       "      <td>Gray</td>\n",
       "      <td>Black</td>\n",
       "      <td>None reported</td>\n",
       "      <td>Yes</td>\n",
       "      <td>0.006775</td>\n",
       "      <td>0.226316</td>\n",
       "      <td>0.380645</td>\n",
       "      <td>0.333333</td>\n",
       "      <td>0.230769</td>\n",
       "    </tr>\n",
       "    <tr>\n",
       "      <th>1</th>\n",
       "      <td>Toyota</td>\n",
       "      <td>Highlander XLE</td>\n",
       "      <td>0.82</td>\n",
       "      <td>0.169116</td>\n",
       "      <td>Gasoline</td>\n",
       "      <td>270.0HP 3.5L V6 Cylinder Engine Gasoline Fuel</td>\n",
       "      <td>A/T</td>\n",
       "      <td>Silver</td>\n",
       "      <td>Gray</td>\n",
       "      <td>At least 1 accident or damage reported</td>\n",
       "      <td>Yes</td>\n",
       "      <td>0.008130</td>\n",
       "      <td>0.210526</td>\n",
       "      <td>0.367742</td>\n",
       "      <td>0.333333</td>\n",
       "      <td>0.230769</td>\n",
       "    </tr>\n",
       "    <tr>\n",
       "      <th>2</th>\n",
       "      <td>Toyota</td>\n",
       "      <td>Camry Hybrid XLE</td>\n",
       "      <td>0.88</td>\n",
       "      <td>0.171749</td>\n",
       "      <td>Hybrid</td>\n",
       "      <td>208.0HP 2.5L 4 Cylinder Engine Gas/Electric Hy...</td>\n",
       "      <td>CVT Transmission</td>\n",
       "      <td>White</td>\n",
       "      <td>Black</td>\n",
       "      <td>At least 1 accident or damage reported</td>\n",
       "      <td>Yes</td>\n",
       "      <td>0.007451</td>\n",
       "      <td>0.145263</td>\n",
       "      <td>0.238710</td>\n",
       "      <td>0.111111</td>\n",
       "      <td>0.230769</td>\n",
       "    </tr>\n",
       "    <tr>\n",
       "      <th>3</th>\n",
       "      <td>Subaru</td>\n",
       "      <td>Outback Touring XT</td>\n",
       "      <td>0.94</td>\n",
       "      <td>0.082490</td>\n",
       "      <td>Gasoline</td>\n",
       "      <td>260.0HP 2.4L 4 Cylinder Engine Gasoline Fuel</td>\n",
       "      <td>CVT Transmission</td>\n",
       "      <td>Blue</td>\n",
       "      <td>Brown</td>\n",
       "      <td>None reported</td>\n",
       "      <td>Yes</td>\n",
       "      <td>0.010840</td>\n",
       "      <td>0.200000</td>\n",
       "      <td>0.225806</td>\n",
       "      <td>0.111111</td>\n",
       "      <td>0.230769</td>\n",
       "    </tr>\n",
       "    <tr>\n",
       "      <th>4</th>\n",
       "      <td>Lexus</td>\n",
       "      <td>GX 460 Base</td>\n",
       "      <td>0.88</td>\n",
       "      <td>0.184984</td>\n",
       "      <td>Gasoline</td>\n",
       "      <td>301.0HP 4.6L 8 Cylinder Engine Gasoline Fuel</td>\n",
       "      <td>6-Speed A/T</td>\n",
       "      <td>White</td>\n",
       "      <td>Beige</td>\n",
       "      <td>At least 1 accident or damage reported</td>\n",
       "      <td>Yes</td>\n",
       "      <td>0.012227</td>\n",
       "      <td>0.243158</td>\n",
       "      <td>0.509677</td>\n",
       "      <td>0.555556</td>\n",
       "      <td>0.230769</td>\n",
       "    </tr>\n",
       "  </tbody>\n",
       "</table>\n",
       "</div>"
      ],
      "text/plain": [
       "    brand               model  model_year    milage fuel_type  \\\n",
       "0    Jeep      Wrangler Sport        0.80  0.175105  Gasoline   \n",
       "1  Toyota      Highlander XLE        0.82  0.169116  Gasoline   \n",
       "2  Toyota    Camry Hybrid XLE        0.88  0.171749    Hybrid   \n",
       "3  Subaru  Outback Touring XT        0.94  0.082490  Gasoline   \n",
       "4   Lexus         GX 460 Base        0.88  0.184984  Gasoline   \n",
       "\n",
       "                                              engine      transmission  \\\n",
       "0      285.0HP 3.6L V6 Cylinder Engine Gasoline Fuel       5-Speed A/T   \n",
       "1      270.0HP 3.5L V6 Cylinder Engine Gasoline Fuel               A/T   \n",
       "2  208.0HP 2.5L 4 Cylinder Engine Gas/Electric Hy...  CVT Transmission   \n",
       "3       260.0HP 2.4L 4 Cylinder Engine Gasoline Fuel  CVT Transmission   \n",
       "4       301.0HP 4.6L 8 Cylinder Engine Gasoline Fuel       6-Speed A/T   \n",
       "\n",
       "  ext_col int_col                                accident clean_title  \\\n",
       "0    Gray   Black                           None reported         Yes   \n",
       "1  Silver    Gray  At least 1 accident or damage reported         Yes   \n",
       "2   White   Black  At least 1 accident or damage reported         Yes   \n",
       "3    Blue   Brown                           None reported         Yes   \n",
       "4   White   Beige  At least 1 accident or damage reported         Yes   \n",
       "\n",
       "      price  Potencia  Capacidade_Motor  Numero_Cilindros  Numero_Valvulas  \n",
       "0  0.006775  0.226316          0.380645          0.333333         0.230769  \n",
       "1  0.008130  0.210526          0.367742          0.333333         0.230769  \n",
       "2  0.007451  0.145263          0.238710          0.111111         0.230769  \n",
       "3  0.010840  0.200000          0.225806          0.111111         0.230769  \n",
       "4  0.012227  0.243158          0.509677          0.555556         0.230769  "
      ]
     },
     "execution_count": 9,
     "metadata": {},
     "output_type": "execute_result"
    }
   ],
   "source": [
    "import pandas as pd\n",
    "import numpy as np\n",
    "from sklearn.neighbors import LocalOutlierFactor\n",
    "\n",
    "nums = data2.select_dtypes(include=[np.number])\n",
    "lof = LocalOutlierFactor(n_neighbors=20, novelty=False, contamination=0.05)\n",
    "y_pred = lof.fit_predict(nums)\n",
    "data2['outlier'] = y_pred\n",
    "out = data2[data2['outlier']==-1]\n",
    "# len(out) # 161 outliers\n",
    "out.describe()\n",
    "\n",
    "outlier_indices = data2[data2['outlier'] == -1].index\n",
    "o=(data2.loc[outlier_indices]).head()\n",
    "o.describe() # dados outliers\n",
    "criteria = data2['outlier'] == -1\n",
    "clean_data = data2[~criteria] # datarfame sem outliers\n",
    "clean_data.columns\n",
    "ck2 = clean_data.drop(['outlier'], axis=1) # nova variável para fazer o modelo sem os outliers\n",
    "ck2.head()\n"
   ]
  },
  {
   "cell_type": "markdown",
   "metadata": {},
   "source": [
    "### Nova Categoria para os precos"
   ]
  },
  {
   "cell_type": "code",
   "execution_count": 11,
   "metadata": {},
   "outputs": [
    {
     "data": {
      "text/plain": [
       "array([0.        , 0.05067269, 0.10134539, 0.15201808, 0.20269078,\n",
       "       0.25336347])"
      ]
     },
     "execution_count": 11,
     "metadata": {},
     "output_type": "execute_result"
    }
   ],
   "source": [
    "min_value = ck2['price'].min() #0.0\n",
    "max_value = ck2['price'].max() # 0.25336347250399127\n",
    "import numpy as np\n",
    "bins = np.linspace(min_value,max_value,6) # ecônomico, médio-baixo, médio, médio-alto, alto \n",
    "bins"
   ]
  },
  {
   "cell_type": "code",
   "execution_count": 12,
   "metadata": {},
   "outputs": [],
   "source": [
    "labels = ['ecônomico','médio-baixo','médio','médio-alto','alto']"
   ]
  },
  {
   "cell_type": "code",
   "execution_count": 13,
   "metadata": {},
   "outputs": [
    {
     "data": {
      "text/html": [
       "<div>\n",
       "<style scoped>\n",
       "    .dataframe tbody tr th:only-of-type {\n",
       "        vertical-align: middle;\n",
       "    }\n",
       "\n",
       "    .dataframe tbody tr th {\n",
       "        vertical-align: top;\n",
       "    }\n",
       "\n",
       "    .dataframe thead th {\n",
       "        text-align: right;\n",
       "    }\n",
       "</style>\n",
       "<table border=\"1\" class=\"dataframe\">\n",
       "  <thead>\n",
       "    <tr style=\"text-align: right;\">\n",
       "      <th></th>\n",
       "      <th>brand</th>\n",
       "      <th>model</th>\n",
       "      <th>model_year</th>\n",
       "      <th>milage</th>\n",
       "      <th>fuel_type</th>\n",
       "      <th>engine</th>\n",
       "      <th>transmission</th>\n",
       "      <th>ext_col</th>\n",
       "      <th>int_col</th>\n",
       "      <th>accident</th>\n",
       "      <th>clean_title</th>\n",
       "      <th>price</th>\n",
       "      <th>Potencia</th>\n",
       "      <th>Capacidade_Motor</th>\n",
       "      <th>Numero_Cilindros</th>\n",
       "      <th>Numero_Valvulas</th>\n",
       "      <th>Classificação_Preco</th>\n",
       "    </tr>\n",
       "  </thead>\n",
       "  <tbody>\n",
       "    <tr>\n",
       "      <th>0</th>\n",
       "      <td>Jeep</td>\n",
       "      <td>Wrangler Sport</td>\n",
       "      <td>0.80</td>\n",
       "      <td>0.175105</td>\n",
       "      <td>Gasoline</td>\n",
       "      <td>285.0HP 3.6L V6 Cylinder Engine Gasoline Fuel</td>\n",
       "      <td>5-Speed A/T</td>\n",
       "      <td>Gray</td>\n",
       "      <td>Black</td>\n",
       "      <td>None reported</td>\n",
       "      <td>Yes</td>\n",
       "      <td>0.006775</td>\n",
       "      <td>0.226316</td>\n",
       "      <td>0.380645</td>\n",
       "      <td>0.333333</td>\n",
       "      <td>0.230769</td>\n",
       "      <td>ecônomico</td>\n",
       "    </tr>\n",
       "    <tr>\n",
       "      <th>1</th>\n",
       "      <td>Toyota</td>\n",
       "      <td>Highlander XLE</td>\n",
       "      <td>0.82</td>\n",
       "      <td>0.169116</td>\n",
       "      <td>Gasoline</td>\n",
       "      <td>270.0HP 3.5L V6 Cylinder Engine Gasoline Fuel</td>\n",
       "      <td>A/T</td>\n",
       "      <td>Silver</td>\n",
       "      <td>Gray</td>\n",
       "      <td>At least 1 accident or damage reported</td>\n",
       "      <td>Yes</td>\n",
       "      <td>0.008130</td>\n",
       "      <td>0.210526</td>\n",
       "      <td>0.367742</td>\n",
       "      <td>0.333333</td>\n",
       "      <td>0.230769</td>\n",
       "      <td>ecônomico</td>\n",
       "    </tr>\n",
       "    <tr>\n",
       "      <th>2</th>\n",
       "      <td>Toyota</td>\n",
       "      <td>Camry Hybrid XLE</td>\n",
       "      <td>0.88</td>\n",
       "      <td>0.171749</td>\n",
       "      <td>Hybrid</td>\n",
       "      <td>208.0HP 2.5L 4 Cylinder Engine Gas/Electric Hy...</td>\n",
       "      <td>CVT Transmission</td>\n",
       "      <td>White</td>\n",
       "      <td>Black</td>\n",
       "      <td>At least 1 accident or damage reported</td>\n",
       "      <td>Yes</td>\n",
       "      <td>0.007451</td>\n",
       "      <td>0.145263</td>\n",
       "      <td>0.238710</td>\n",
       "      <td>0.111111</td>\n",
       "      <td>0.230769</td>\n",
       "      <td>ecônomico</td>\n",
       "    </tr>\n",
       "    <tr>\n",
       "      <th>3</th>\n",
       "      <td>Subaru</td>\n",
       "      <td>Outback Touring XT</td>\n",
       "      <td>0.94</td>\n",
       "      <td>0.082490</td>\n",
       "      <td>Gasoline</td>\n",
       "      <td>260.0HP 2.4L 4 Cylinder Engine Gasoline Fuel</td>\n",
       "      <td>CVT Transmission</td>\n",
       "      <td>Blue</td>\n",
       "      <td>Brown</td>\n",
       "      <td>None reported</td>\n",
       "      <td>Yes</td>\n",
       "      <td>0.010840</td>\n",
       "      <td>0.200000</td>\n",
       "      <td>0.225806</td>\n",
       "      <td>0.111111</td>\n",
       "      <td>0.230769</td>\n",
       "      <td>ecônomico</td>\n",
       "    </tr>\n",
       "    <tr>\n",
       "      <th>4</th>\n",
       "      <td>Lexus</td>\n",
       "      <td>GX 460 Base</td>\n",
       "      <td>0.88</td>\n",
       "      <td>0.184984</td>\n",
       "      <td>Gasoline</td>\n",
       "      <td>301.0HP 4.6L 8 Cylinder Engine Gasoline Fuel</td>\n",
       "      <td>6-Speed A/T</td>\n",
       "      <td>White</td>\n",
       "      <td>Beige</td>\n",
       "      <td>At least 1 accident or damage reported</td>\n",
       "      <td>Yes</td>\n",
       "      <td>0.012227</td>\n",
       "      <td>0.243158</td>\n",
       "      <td>0.509677</td>\n",
       "      <td>0.555556</td>\n",
       "      <td>0.230769</td>\n",
       "      <td>ecônomico</td>\n",
       "    </tr>\n",
       "  </tbody>\n",
       "</table>\n",
       "</div>"
      ],
      "text/plain": [
       "    brand               model  model_year    milage fuel_type  \\\n",
       "0    Jeep      Wrangler Sport        0.80  0.175105  Gasoline   \n",
       "1  Toyota      Highlander XLE        0.82  0.169116  Gasoline   \n",
       "2  Toyota    Camry Hybrid XLE        0.88  0.171749    Hybrid   \n",
       "3  Subaru  Outback Touring XT        0.94  0.082490  Gasoline   \n",
       "4   Lexus         GX 460 Base        0.88  0.184984  Gasoline   \n",
       "\n",
       "                                              engine      transmission  \\\n",
       "0      285.0HP 3.6L V6 Cylinder Engine Gasoline Fuel       5-Speed A/T   \n",
       "1      270.0HP 3.5L V6 Cylinder Engine Gasoline Fuel               A/T   \n",
       "2  208.0HP 2.5L 4 Cylinder Engine Gas/Electric Hy...  CVT Transmission   \n",
       "3       260.0HP 2.4L 4 Cylinder Engine Gasoline Fuel  CVT Transmission   \n",
       "4       301.0HP 4.6L 8 Cylinder Engine Gasoline Fuel       6-Speed A/T   \n",
       "\n",
       "  ext_col int_col                                accident clean_title  \\\n",
       "0    Gray   Black                           None reported         Yes   \n",
       "1  Silver    Gray  At least 1 accident or damage reported         Yes   \n",
       "2   White   Black  At least 1 accident or damage reported         Yes   \n",
       "3    Blue   Brown                           None reported         Yes   \n",
       "4   White   Beige  At least 1 accident or damage reported         Yes   \n",
       "\n",
       "      price  Potencia  Capacidade_Motor  Numero_Cilindros  Numero_Valvulas  \\\n",
       "0  0.006775  0.226316          0.380645          0.333333         0.230769   \n",
       "1  0.008130  0.210526          0.367742          0.333333         0.230769   \n",
       "2  0.007451  0.145263          0.238710          0.111111         0.230769   \n",
       "3  0.010840  0.200000          0.225806          0.111111         0.230769   \n",
       "4  0.012227  0.243158          0.509677          0.555556         0.230769   \n",
       "\n",
       "  Classificação_Preco  \n",
       "0           ecônomico  \n",
       "1           ecônomico  \n",
       "2           ecônomico  \n",
       "3           ecônomico  \n",
       "4           ecônomico  "
      ]
     },
     "execution_count": 13,
     "metadata": {},
     "output_type": "execute_result"
    }
   ],
   "source": [
    "ck2['Classificação_Preco'] = pd.cut(ck2['price'], bins=bins, labels=labels, include_lowest=True)\n",
    "ck2.head(5)"
   ]
  },
  {
   "cell_type": "code",
   "execution_count": 14,
   "metadata": {},
   "outputs": [
    {
     "data": {
      "text/plain": [
       "(array([2.974e+03, 0.000e+00, 0.000e+00, 0.000e+00, 0.000e+00, 6.000e+00,\n",
       "        0.000e+00, 0.000e+00, 0.000e+00, 0.000e+00, 5.800e+01, 0.000e+00,\n",
       "        0.000e+00, 0.000e+00, 0.000e+00, 6.000e+00, 0.000e+00, 0.000e+00,\n",
       "        0.000e+00, 2.000e+00]),\n",
       " array([0. , 0.2, 0.4, 0.6, 0.8, 1. , 1.2, 1.4, 1.6, 1.8, 2. , 2.2, 2.4,\n",
       "        2.6, 2.8, 3. , 3.2, 3.4, 3.6, 3.8, 4. ]),\n",
       " <BarContainer object of 20 artists>)"
      ]
     },
     "execution_count": 14,
     "metadata": {},
     "output_type": "execute_result"
    },
    {
     "data": {
      "image/png": "[encoded data removed]",
      "text/plain": [
       "<Figure size 640x480 with 1 Axes>"
      ]
     },
     "metadata": {},
     "output_type": "display_data"
    }
   ],
   "source": [
    "import matplotlib.pyplot as plt\n",
    "plt.hist(ck2['Classificação_Preco'], bins=20)"
   ]
  },
  {
   "cell_type": "code",
   "execution_count": 15,
   "metadata": {},
   "outputs": [
    {
     "data": {
      "text/plain": [
       "Classificação_Preco\n",
       "ecônomico      2974\n",
       "médio-baixo      58\n",
       "médio             6\n",
       "médio-alto        6\n",
       "alto              2\n",
       "Name: count, dtype: int64"
      ]
     },
     "execution_count": 15,
     "metadata": {},
     "output_type": "execute_result"
    }
   ],
   "source": [
    "ck2['Classificação_Preco'].value_counts()"
   ]
  },
  {
   "cell_type": "markdown",
   "metadata": {},
   "source": [
    "## Regressão Linear 1"
   ]
  },
  {
   "cell_type": "markdown",
   "metadata": {},
   "source": [
    "preço ~ engine atbs + transmission atbs (T2) + fuel_type + model_year (price e milage mesma faixa de valores; novos atributos mesma faixa de valores; ano) -- NORMALIZAR ?"
   ]
  },
  {
   "cell_type": "markdown",
   "metadata": {},
   "source": [
    "### Separar Data / Treinar e Avaliar Algoritmos"
   ]
  },
  {
   "cell_type": "code",
   "execution_count": 54,
   "metadata": {},
   "outputs": [],
   "source": [
    "import pandas as pd\n",
    "from sklearn.ensemble import RandomForestRegressor, AdaBoostRegressor\n",
    "from sklearn import tree\n",
    "from sklearn.model_selection import train_test_split as split\n",
    "# from sklearn import datasets\n",
    "# from slickml.metrics import (\n",
    "#     RegressionMetrics,\n",
    "# )  # downloaded from https://github.com/slickml/slick-ml # btw pip install slickml\n",
    "from matplotlib import pyplot as plt\n",
    "# import shap"
   ]
  },
  {
   "cell_type": "code",
   "execution_count": 56,
   "metadata": {},
   "outputs": [],
   "source": [
    "# X = data.drop(['price'], axis=1)  # Features\n",
    "# y = data['price'] \n",
    "ck1=ck.loc[:, ['model_year', \n",
    "#'fuel_type', \n",
    "'price', 'Potencia', 'Capacidade_Motor', 'Numero_Cilindros', 'Numero_Valvulas', 'T2']]\n",
    "X = ck1.drop(['price'], axis=1)  # sem os outliers \n",
    "y = ck1['price'] "
   ]
  },
  {
   "cell_type": "code",
   "execution_count": 57,
   "metadata": {},
   "outputs": [],
   "source": [
    "# X = pd.get_dummies(X, drop_first=True) # para var. categóricas\n",
    "# Option 1: Fill missing values, for example with the median or mean\n",
    "# X.fillna(X.median(), inplace=True)\n",
    "\n",
    "# Option 2: Drop rows with missing values\n",
    "# X.dropna(inplace=True)\n",
    "from sklearn.model_selection import train_test_split\n",
    "X_train, X_test, y_train, y_test = train_test_split(X, y, test_size=0.2, random_state=42)\n"
   ]
  },
  {
   "cell_type": "code",
   "execution_count": 58,
   "metadata": {},
   "outputs": [
    {
     "data": {
      "text/html": [
       "<style>#sk-container-id-1 {\n",
       "  /* Definition of color scheme common for light and dark mode */\n",
       "  --sklearn-color-text: black;\n",
       "  --sklearn-color-line: gray;\n",
       "  /* Definition of color scheme for unfitted estimators */\n",
       "  --sklearn-color-unfitted-level-0: #fff5e6;\n",
       "  --sklearn-color-unfitted-level-1: #f6e4d2;\n",
       "  --sklearn-color-unfitted-level-2: #ffe0b3;\n",
       "  --sklearn-color-unfitted-level-3: chocolate;\n",
       "  /* Definition of color scheme for fitted estimators */\n",
       "  --sklearn-color-fitted-level-0: #f0f8ff;\n",
       "  --sklearn-color-fitted-level-1: #d4ebff;\n",
       "  --sklearn-color-fitted-level-2: #b3dbfd;\n",
       "  --sklearn-color-fitted-level-3: cornflowerblue;\n",
       "\n",
       "  /* Specific color for light theme */\n",
       "  --sklearn-color-text-on-default-background: var(--sg-text-color, var(--theme-code-foreground, var(--jp-content-font-color1, black)));\n",
       "  --sklearn-color-background: var(--sg-background-color, var(--theme-background, var(--jp-layout-color0, white)));\n",
       "  --sklearn-color-border-box: var(--sg-text-color, var(--theme-code-foreground, var(--jp-content-font-color1, black)));\n",
       "  --sklearn-color-icon: #696969;\n",
       "\n",
       "  @media (prefers-color-scheme: dark) {\n",
       "    /* Redefinition of color scheme for dark theme */\n",
       "    --sklearn-color-text-on-default-background: var(--sg-text-color, var(--theme-code-foreground, var(--jp-content-font-color1, white)));\n",
       "    --sklearn-color-background: var(--sg-background-color, var(--theme-background, var(--jp-layout-color0, #111)));\n",
       "    --sklearn-color-border-box: var(--sg-text-color, var(--theme-code-foreground, var(--jp-content-font-color1, white)));\n",
       "    --sklearn-color-icon: #878787;\n",
       "  }\n",
       "}\n",
       "\n",
       "#sk-container-id-1 {\n",
       "  color: var(--sklearn-color-text);\n",
       "}\n",
       "\n",
       "#sk-container-id-1 pre {\n",
       "  padding: 0;\n",
       "}\n",
       "\n",
       "#sk-container-id-1 input.sk-hidden--visually {\n",
       "  border: 0;\n",
       "  clip: rect(1px 1px 1px 1px);\n",
       "  clip: rect(1px, 1px, 1px, 1px);\n",
       "  height: 1px;\n",
       "  margin: -1px;\n",
       "  overflow: hidden;\n",
       "  padding: 0;\n",
       "  position: absolute;\n",
       "  width: 1px;\n",
       "}\n",
       "\n",
       "#sk-container-id-1 div.sk-dashed-wrapped {\n",
       "  border: 1px dashed var(--sklearn-color-line);\n",
       "  margin: 0 0.4em 0.5em 0.4em;\n",
       "  box-sizing: border-box;\n",
       "  padding-bottom: 0.4em;\n",
       "  background-color: var(--sklearn-color-background);\n",
       "}\n",
       "\n",
       "#sk-container-id-1 div.sk-container {\n",
       "  /* jupyter's `normalize.less` sets `[hidden] { display: none; }`\n",
       "     but bootstrap.min.css set `[hidden] { display: none !important; }`\n",
       "     so we also need the `!important` here to be able to override the\n",
       "     default hidden behavior on the sphinx rendered scikit-learn.org.\n",
       "     See: https://github.com/scikit-learn/scikit-learn/issues/21755 */\n",
       "  display: inline-block !important;\n",
       "  position: relative;\n",
       "}\n",
       "\n",
       "#sk-container-id-1 div.sk-text-repr-fallback {\n",
       "  display: none;\n",
       "}\n",
       "\n",
       "div.sk-parallel-item,\n",
       "div.sk-serial,\n",
       "div.sk-item {\n",
       "  /* draw centered vertical line to link estimators */\n",
       "  background-image: linear-gradient(var(--sklearn-color-text-on-default-background), var(--sklearn-color-text-on-default-background));\n",
       "  background-size: 2px 100%;\n",
       "  background-repeat: no-repeat;\n",
       "  background-position: center center;\n",
       "}\n",
       "\n",
       "/* Parallel-specific style estimator block */\n",
       "\n",
       "#sk-container-id-1 div.sk-parallel-item::after {\n",
       "  content: \"\";\n",
       "  width: 100%;\n",
       "  border-bottom: 2px solid var(--sklearn-color-text-on-default-background);\n",
       "  flex-grow: 1;\n",
       "}\n",
       "\n",
       "#sk-container-id-1 div.sk-parallel {\n",
       "  display: flex;\n",
       "  align-items: stretch;\n",
       "  justify-content: center;\n",
       "  background-color: var(--sklearn-color-background);\n",
       "  position: relative;\n",
       "}\n",
       "\n",
       "#sk-container-id-1 div.sk-parallel-item {\n",
       "  display: flex;\n",
       "  flex-direction: column;\n",
       "}\n",
       "\n",
       "#sk-container-id-1 div.sk-parallel-item:first-child::after {\n",
       "  align-self: flex-end;\n",
       "  width: 50%;\n",
       "}\n",
       "\n",
       "#sk-container-id-1 div.sk-parallel-item:last-child::after {\n",
       "  align-self: flex-start;\n",
       "  width: 50%;\n",
       "}\n",
       "\n",
       "#sk-container-id-1 div.sk-parallel-item:only-child::after {\n",
       "  width: 0;\n",
       "}\n",
       "\n",
       "/* Serial-specific style estimator block */\n",
       "\n",
       "#sk-container-id-1 div.sk-serial {\n",
       "  display: flex;\n",
       "  flex-direction: column;\n",
       "  align-items: center;\n",
       "  background-color: var(--sklearn-color-background);\n",
       "  padding-right: 1em;\n",
       "  padding-left: 1em;\n",
       "}\n",
       "\n",
       "\n",
       "/* Toggleable style: style used for estimator/Pipeline/ColumnTransformer box that is\n",
       "clickable and can be expanded/collapsed.\n",
       "- Pipeline and ColumnTransformer use this feature and define the default style\n",
       "- Estimators will overwrite some part of the style using the `sk-estimator` class\n",
       "*/\n",
       "\n",
       "/* Pipeline and ColumnTransformer style (default) */\n",
       "\n",
       "#sk-container-id-1 div.sk-toggleable {\n",
       "  /* Default theme specific background. It is overwritten whether we have a\n",
       "  specific estimator or a Pipeline/ColumnTransformer */\n",
       "  background-color: var(--sklearn-color-background);\n",
       "}\n",
       "\n",
       "/* Toggleable label */\n",
       "#sk-container-id-1 label.sk-toggleable__label {\n",
       "  cursor: pointer;\n",
       "  display: block;\n",
       "  width: 100%;\n",
       "  margin-bottom: 0;\n",
       "  padding: 0.5em;\n",
       "  box-sizing: border-box;\n",
       "  text-align: center;\n",
       "}\n",
       "\n",
       "#sk-container-id-1 label.sk-toggleable__label-arrow:before {\n",
       "  /* Arrow on the left of the label */\n",
       "  content: \"▸\";\n",
       "  float: left;\n",
       "  margin-right: 0.25em;\n",
       "  color: var(--sklearn-color-icon);\n",
       "}\n",
       "\n",
       "#sk-container-id-1 label.sk-toggleable__label-arrow:hover:before {\n",
       "  color: var(--sklearn-color-text);\n",
       "}\n",
       "\n",
       "/* Toggleable content - dropdown */\n",
       "\n",
       "#sk-container-id-1 div.sk-toggleable__content {\n",
       "  max-height: 0;\n",
       "  max-width: 0;\n",
       "  overflow: hidden;\n",
       "  text-align: left;\n",
       "  /* unfitted */\n",
       "  background-color: var(--sklearn-color-unfitted-level-0);\n",
       "}\n",
       "\n",
       "#sk-container-id-1 div.sk-toggleable__content.fitted {\n",
       "  /* fitted */\n",
       "  background-color: var(--sklearn-color-fitted-level-0);\n",
       "}\n",
       "\n",
       "#sk-container-id-1 div.sk-toggleable__content pre {\n",
       "  margin: 0.2em;\n",
       "  border-radius: 0.25em;\n",
       "  color: var(--sklearn-color-text);\n",
       "  /* unfitted */\n",
       "  background-color: var(--sklearn-color-unfitted-level-0);\n",
       "}\n",
       "\n",
       "#sk-container-id-1 div.sk-toggleable__content.fitted pre {\n",
       "  /* unfitted */\n",
       "  background-color: var(--sklearn-color-fitted-level-0);\n",
       "}\n",
       "\n",
       "#sk-container-id-1 input.sk-toggleable__control:checked~div.sk-toggleable__content {\n",
       "  /* Expand drop-down */\n",
       "  max-height: 200px;\n",
       "  max-width: 100%;\n",
       "  overflow: auto;\n",
       "}\n",
       "\n",
       "#sk-container-id-1 input.sk-toggleable__control:checked~label.sk-toggleable__label-arrow:before {\n",
       "  content: \"▾\";\n",
       "}\n",
       "\n",
       "/* Pipeline/ColumnTransformer-specific style */\n",
       "\n",
       "#sk-container-id-1 div.sk-label input.sk-toggleable__control:checked~label.sk-toggleable__label {\n",
       "  color: var(--sklearn-color-text);\n",
       "  background-color: var(--sklearn-color-unfitted-level-2);\n",
       "}\n",
       "\n",
       "#sk-container-id-1 div.sk-label.fitted input.sk-toggleable__control:checked~label.sk-toggleable__label {\n",
       "  background-color: var(--sklearn-color-fitted-level-2);\n",
       "}\n",
       "\n",
       "/* Estimator-specific style */\n",
       "\n",
       "/* Colorize estimator box */\n",
       "#sk-container-id-1 div.sk-estimator input.sk-toggleable__control:checked~label.sk-toggleable__label {\n",
       "  /* unfitted */\n",
       "  background-color: var(--sklearn-color-unfitted-level-2);\n",
       "}\n",
       "\n",
       "#sk-container-id-1 div.sk-estimator.fitted input.sk-toggleable__control:checked~label.sk-toggleable__label {\n",
       "  /* fitted */\n",
       "  background-color: var(--sklearn-color-fitted-level-2);\n",
       "}\n",
       "\n",
       "#sk-container-id-1 div.sk-label label.sk-toggleable__label,\n",
       "#sk-container-id-1 div.sk-label label {\n",
       "  /* The background is the default theme color */\n",
       "  color: var(--sklearn-color-text-on-default-background);\n",
       "}\n",
       "\n",
       "/* On hover, darken the color of the background */\n",
       "#sk-container-id-1 div.sk-label:hover label.sk-toggleable__label {\n",
       "  color: var(--sklearn-color-text);\n",
       "  background-color: var(--sklearn-color-unfitted-level-2);\n",
       "}\n",
       "\n",
       "/* Label box, darken color on hover, fitted */\n",
       "#sk-container-id-1 div.sk-label.fitted:hover label.sk-toggleable__label.fitted {\n",
       "  color: var(--sklearn-color-text);\n",
       "  background-color: var(--sklearn-color-fitted-level-2);\n",
       "}\n",
       "\n",
       "/* Estimator label */\n",
       "\n",
       "#sk-container-id-1 div.sk-label label {\n",
       "  font-family: monospace;\n",
       "  font-weight: bold;\n",
       "  display: inline-block;\n",
       "  line-height: 1.2em;\n",
       "}\n",
       "\n",
       "#sk-container-id-1 div.sk-label-container {\n",
       "  text-align: center;\n",
       "}\n",
       "\n",
       "/* Estimator-specific */\n",
       "#sk-container-id-1 div.sk-estimator {\n",
       "  font-family: monospace;\n",
       "  border: 1px dotted var(--sklearn-color-border-box);\n",
       "  border-radius: 0.25em;\n",
       "  box-sizing: border-box;\n",
       "  margin-bottom: 0.5em;\n",
       "  /* unfitted */\n",
       "  background-color: var(--sklearn-color-unfitted-level-0);\n",
       "}\n",
       "\n",
       "#sk-container-id-1 div.sk-estimator.fitted {\n",
       "  /* fitted */\n",
       "  background-color: var(--sklearn-color-fitted-level-0);\n",
       "}\n",
       "\n",
       "/* on hover */\n",
       "#sk-container-id-1 div.sk-estimator:hover {\n",
       "  /* unfitted */\n",
       "  background-color: var(--sklearn-color-unfitted-level-2);\n",
       "}\n",
       "\n",
       "#sk-container-id-1 div.sk-estimator.fitted:hover {\n",
       "  /* fitted */\n",
       "  background-color: var(--sklearn-color-fitted-level-2);\n",
       "}\n",
       "\n",
       "/* Specification for estimator info (e.g. \"i\" and \"?\") */\n",
       "\n",
       "/* Common style for \"i\" and \"?\" */\n",
       "\n",
       ".sk-estimator-doc-link,\n",
       "a:link.sk-estimator-doc-link,\n",
       "a:visited.sk-estimator-doc-link {\n",
       "  float: right;\n",
       "  font-size: smaller;\n",
       "  line-height: 1em;\n",
       "  font-family: monospace;\n",
       "  background-color: var(--sklearn-color-background);\n",
       "  border-radius: 1em;\n",
       "  height: 1em;\n",
       "  width: 1em;\n",
       "  text-decoration: none !important;\n",
       "  margin-left: 1ex;\n",
       "  /* unfitted */\n",
       "  border: var(--sklearn-color-unfitted-level-1) 1pt solid;\n",
       "  color: var(--sklearn-color-unfitted-level-1);\n",
       "}\n",
       "\n",
       ".sk-estimator-doc-link.fitted,\n",
       "a:link.sk-estimator-doc-link.fitted,\n",
       "a:visited.sk-estimator-doc-link.fitted {\n",
       "  /* fitted */\n",
       "  border: var(--sklearn-color-fitted-level-1) 1pt solid;\n",
       "  color: var(--sklearn-color-fitted-level-1);\n",
       "}\n",
       "\n",
       "/* On hover */\n",
       "div.sk-estimator:hover .sk-estimator-doc-link:hover,\n",
       ".sk-estimator-doc-link:hover,\n",
       "div.sk-label-container:hover .sk-estimator-doc-link:hover,\n",
       ".sk-estimator-doc-link:hover {\n",
       "  /* unfitted */\n",
       "  background-color: var(--sklearn-color-unfitted-level-3);\n",
       "  color: var(--sklearn-color-background);\n",
       "  text-decoration: none;\n",
       "}\n",
       "\n",
       "div.sk-estimator.fitted:hover .sk-estimator-doc-link.fitted:hover,\n",
       ".sk-estimator-doc-link.fitted:hover,\n",
       "div.sk-label-container:hover .sk-estimator-doc-link.fitted:hover,\n",
       ".sk-estimator-doc-link.fitted:hover {\n",
       "  /* fitted */\n",
       "  background-color: var(--sklearn-color-fitted-level-3);\n",
       "  color: var(--sklearn-color-background);\n",
       "  text-decoration: none;\n",
       "}\n",
       "\n",
       "/* Span, style for the box shown on hovering the info icon */\n",
       ".sk-estimator-doc-link span {\n",
       "  display: none;\n",
       "  z-index: 9999;\n",
       "  position: relative;\n",
       "  font-weight: normal;\n",
       "  right: .2ex;\n",
       "  padding: .5ex;\n",
       "  margin: .5ex;\n",
       "  width: min-content;\n",
       "  min-width: 20ex;\n",
       "  max-width: 50ex;\n",
       "  color: var(--sklearn-color-text);\n",
       "  box-shadow: 2pt 2pt 4pt #999;\n",
       "  /* unfitted */\n",
       "  background: var(--sklearn-color-unfitted-level-0);\n",
       "  border: .5pt solid var(--sklearn-color-unfitted-level-3);\n",
       "}\n",
       "\n",
       ".sk-estimator-doc-link.fitted span {\n",
       "  /* fitted */\n",
       "  background: var(--sklearn-color-fitted-level-0);\n",
       "  border: var(--sklearn-color-fitted-level-3);\n",
       "}\n",
       "\n",
       ".sk-estimator-doc-link:hover span {\n",
       "  display: block;\n",
       "}\n",
       "\n",
       "/* \"?\"-specific style due to the `<a>` HTML tag */\n",
       "\n",
       "#sk-container-id-1 a.estimator_doc_link {\n",
       "  float: right;\n",
       "  font-size: 1rem;\n",
       "  line-height: 1em;\n",
       "  font-family: monospace;\n",
       "  background-color: var(--sklearn-color-background);\n",
       "  border-radius: 1rem;\n",
       "  height: 1rem;\n",
       "  width: 1rem;\n",
       "  text-decoration: none;\n",
       "  /* unfitted */\n",
       "  color: var(--sklearn-color-unfitted-level-1);\n",
       "  border: var(--sklearn-color-unfitted-level-1) 1pt solid;\n",
       "}\n",
       "\n",
       "#sk-container-id-1 a.estimator_doc_link.fitted {\n",
       "  /* fitted */\n",
       "  border: var(--sklearn-color-fitted-level-1) 1pt solid;\n",
       "  color: var(--sklearn-color-fitted-level-1);\n",
       "}\n",
       "\n",
       "/* On hover */\n",
       "#sk-container-id-1 a.estimator_doc_link:hover {\n",
       "  /* unfitted */\n",
       "  background-color: var(--sklearn-color-unfitted-level-3);\n",
       "  color: var(--sklearn-color-background);\n",
       "  text-decoration: none;\n",
       "}\n",
       "\n",
       "#sk-container-id-1 a.estimator_doc_link.fitted:hover {\n",
       "  /* fitted */\n",
       "  background-color: var(--sklearn-color-fitted-level-3);\n",
       "}\n",
       "</style><div id=\"sk-container-id-1\" class=\"sk-top-container\"><div class=\"sk-text-repr-fallback\"><pre>LinearRegression()</pre><b>In a Jupyter environment, please rerun this cell to show the HTML representation or trust the notebook. <br />On GitHub, the HTML representation is unable to render, please try loading this page with nbviewer.org.</b></div><div class=\"sk-container\" hidden><div class=\"sk-item\"><div class=\"sk-estimator fitted sk-toggleable\"><input class=\"sk-toggleable__control sk-hidden--visually\" id=\"sk-estimator-id-1\" type=\"checkbox\" checked><label for=\"sk-estimator-id-1\" class=\"sk-toggleable__label fitted sk-toggleable__label-arrow fitted\">&nbsp;&nbsp;LinearRegression<a class=\"sk-estimator-doc-link fitted\" rel=\"noreferrer\" target=\"_blank\" href=\"https://scikit-learn.org/1.4/modules/generated/sklearn.linear_model.LinearRegression.html\">?<span>Documentation for LinearRegression</span></a><span class=\"sk-estimator-doc-link fitted\">i<span>Fitted</span></span></label><div class=\"sk-toggleable__content fitted\"><pre>LinearRegression()</pre></div> </div></div></div></div>"
      ],
      "text/plain": [
       "LinearRegression()"
      ]
     },
     "execution_count": 58,
     "metadata": {},
     "output_type": "execute_result"
    }
   ],
   "source": [
    "from sklearn.model_selection import train_test_split\n",
    "from sklearn.linear_model import LinearRegression\n",
    "from sklearn.metrics import mean_squared_error, mean_absolute_error, r2_score\n",
    "model = LinearRegression()\n",
    "model.fit(X_train, y_train)\n"
   ]
  },
  {
   "cell_type": "code",
   "execution_count": 59,
   "metadata": {},
   "outputs": [],
   "source": [
    "# Make predictions\n",
    "y_pred = model.predict(X_test)\n"
   ]
  },
  {
   "cell_type": "code",
   "execution_count": 60,
   "metadata": {},
   "outputs": [
    {
     "name": "stdout",
     "output_type": "stream",
     "text": [
      "Mean Squared Error: 0.00015557826490745114\n",
      "Mean Absolute Error: 0.006920807402624365\n",
      "R-squared: 0.4269728383640924\n"
     ]
    }
   ],
   "source": [
    "# Calculate evaluation metrics\n",
    "mse = mean_squared_error(y_test, y_pred)\n",
    "mae = mean_absolute_error(y_test, y_pred)\n",
    "r2 = r2_score(y_test, y_pred)\n",
    "\n",
    "print(\"Mean Squared Error:\", mse)\n",
    "print(\"Mean Absolute Error:\", mae)\n",
    "print(\"R-squared:\", r2)\n"
   ]
  },
  {
   "cell_type": "code",
   "execution_count": 61,
   "metadata": {},
   "outputs": [
    {
     "data": {
      "image/png": "[encoded data removed]",
      "text/plain": [
       "<Figure size 1000x600 with 1 Axes>"
      ]
     },
     "metadata": {},
     "output_type": "display_data"
    }
   ],
   "source": [
    "import matplotlib.pyplot as plt\n",
    "\n",
    "# Plotting actual vs predicted prices\n",
    "plt.figure(figsize=(10, 6))\n",
    "plt.scatter(y_test, y_pred, color='blue', alpha=0.5)\n",
    "plt.title('Actual vs Predicted Car Prices (Multiple Linear Regression)')\n",
    "plt.xlabel('Actual Price')\n",
    "plt.ylabel('Predicted Price')\n",
    "plt.grid(True)\n",
    "plt.show()\n"
   ]
  },
  {
   "cell_type": "markdown",
   "metadata": {},
   "source": [
    "#### RANDOM FOREST"
   ]
  },
  {
   "cell_type": "code",
   "execution_count": null,
   "metadata": {},
   "outputs": [],
   "source": [
    "# train and predict with Random Forest Regressor\n",
    "RF = RandomForestRegressor()\n",
    "RF.fit(X_train, y_train)\n",
    "pred = RF.predict(X_test)"
   ]
  },
  {
   "cell_type": "code",
   "execution_count": null,
   "metadata": {},
   "outputs": [],
   "source": [
    "# Regression metrics for Random Forest\n",
    "from slickml.metrics import RegressionMetrics\n",
    "\n",
    "reg_metrics = RegressionMetrics(y_test, pred)\n",
    "reg_metrics.plot()"
   ]
  },
  {
   "cell_type": "markdown",
   "metadata": {},
   "source": [
    "# CORRELATION"
   ]
  },
  {
   "cell_type": "code",
   "execution_count": null,
   "metadata": {},
   "outputs": [],
   "source": [
    "import seaborn as sns\n",
    "\n",
    "dados_numericos = data.select_dtypes(include=['number'])\n",
    "correlation_matrix = dados_numericos.corr(method='spearman')\n",
    "sns.heatmap(correlation_matrix, annot=True, cmap='coolwarm', fmt=\".2f\")\n",
    "# preço está bastante correlacionado com potência e ano de fábrico"
   ]
  },
  {
   "cell_type": "markdown",
   "metadata": {},
   "source": [
    "correlação p/ preço/nº valvulas diminui muito quando se substitui NaN (0.51 para 0.11)"
   ]
  },
  {
   "cell_type": "markdown",
   "metadata": {},
   "source": [
    "# Regressão Linear 2"
   ]
  },
  {
   "cell_type": "markdown",
   "metadata": {},
   "source": [
    "preço ~ milage + clean_title + accident"
   ]
  },
  {
   "cell_type": "markdown",
   "metadata": {},
   "source": [
    "#### ACCIDENT"
   ]
  },
  {
   "cell_type": "code",
   "execution_count": null,
   "metadata": {},
   "outputs": [],
   "source": [
    "ac_m = data['accident'].mode()[0]\n",
    "data['accident'].fillna(ac_m, inplace=True)\n",
    "data['accident'].unique()"
   ]
  },
  {
   "cell_type": "markdown",
   "metadata": {},
   "source": [
    "#### CLEAN TITLE"
   ]
  },
  {
   "cell_type": "code",
   "execution_count": null,
   "metadata": {},
   "outputs": [],
   "source": [
    "data['clean_title'].fillna('No', inplace=True)\n",
    "data['clean_title'].unique()"
   ]
  },
  {
   "cell_type": "markdown",
   "metadata": {},
   "source": [
    "#### CORES"
   ]
  },
  {
   "cell_type": "code",
   "execution_count": null,
   "metadata": {},
   "outputs": [],
   "source": [
    "def simplify_color(color):\n",
    "    return color.split()[0]\n",
    "\n",
    "# Aplicar a função à coluna 'Cor'\n",
    "p['simp_int_col'] = p['int_col'].apply(simplify_color)\n",
    "p['simp_ext_col'] = p['ext_col'].apply(simplify_color) # de 265 p/ 191\n",
    "# n vale a pena"
   ]
  },
  {
   "cell_type": "markdown",
   "metadata": {},
   "source": [
    "# DR -> Subset 2"
   ]
  },
  {
   "cell_type": "markdown",
   "metadata": {},
   "source": [
    "### Dividir o dataset em treino e teste"
   ]
  },
  {
   "cell_type": "code",
   "execution_count": 66,
   "metadata": {},
   "outputs": [
    {
     "ename": "ModuleNotFoundError",
     "evalue": "No module named 'slickml'",
     "output_type": "error",
     "traceback": [
      "\u001b[1;31m---------------------------------------------------------------------------\u001b[0m",
      "\u001b[1;31mModuleNotFoundError\u001b[0m                       Traceback (most recent call last)",
      "Cell \u001b[1;32mIn[66], line 6\u001b[0m\n\u001b[0;32m      4\u001b[0m \u001b[38;5;28;01mfrom\u001b[39;00m \u001b[38;5;21;01msklearn\u001b[39;00m\u001b[38;5;21;01m.\u001b[39;00m\u001b[38;5;21;01mmodel_selection\u001b[39;00m \u001b[38;5;28;01mimport\u001b[39;00m train_test_split \u001b[38;5;28;01mas\u001b[39;00m split\n\u001b[0;32m      5\u001b[0m \u001b[38;5;28;01mfrom\u001b[39;00m \u001b[38;5;21;01msklearn\u001b[39;00m \u001b[38;5;28;01mimport\u001b[39;00m datasets\n\u001b[1;32m----> 6\u001b[0m \u001b[38;5;28;01mfrom\u001b[39;00m \u001b[38;5;21;01mslickml\u001b[39;00m\u001b[38;5;21;01m.\u001b[39;00m\u001b[38;5;21;01mmetrics\u001b[39;00m \u001b[38;5;28;01mimport\u001b[39;00m (\n\u001b[0;32m      7\u001b[0m     RegressionMetrics,\n\u001b[0;32m      8\u001b[0m )   \u001b[38;5;66;03m# downloaded from https://github.com/slickml/slick-ml\u001b[39;00m\n\u001b[0;32m      9\u001b[0m \u001b[38;5;28;01mfrom\u001b[39;00m \u001b[38;5;21;01mmatplotlib\u001b[39;00m \u001b[38;5;28;01mimport\u001b[39;00m pyplot \u001b[38;5;28;01mas\u001b[39;00m plt\n\u001b[0;32m     10\u001b[0m \u001b[38;5;66;03m#import shap\u001b[39;00m\n",
      "\u001b[1;31mModuleNotFoundError\u001b[0m: No module named 'slickml'"
     ]
    }
   ],
   "source": [
    "import pandas as pd\n",
    "from sklearn.ensemble import RandomForestRegressor, AdaBoostRegressor\n",
    "from sklearn import tree\n",
    "from sklearn.model_selection import train_test_split as split\n",
    "from sklearn import datasets\n",
    "from slickml.metrics import (\n",
    "    RegressionMetrics,\n",
    ")   # downloaded from https://github.com/slickml/slick-ml\n",
    "from matplotlib import pyplot as plt\n",
    "#import shap"
   ]
  },
  {
   "cell_type": "code",
   "execution_count": 44,
   "metadata": {},
   "outputs": [
    {
     "data": {
      "text/plain": [
       "3046"
      ]
     },
     "execution_count": 44,
     "metadata": {},
     "output_type": "execute_result"
    }
   ],
   "source": [
    "X = ck2.drop(['price'], axis=1)  # sem os outliers \n",
    "y = ck2['price'] \n"
   ]
  },
  {
   "cell_type": "markdown",
   "metadata": {},
   "source": [
    "### Coverter categorico -> Numerico"
   ]
  },
  {
   "cell_type": "code",
   "execution_count": 47,
   "metadata": {},
   "outputs": [],
   "source": [
    "from sklearn.preprocessing import OneHotEncoder\n",
    "\n",
    "# Crie uma instância do codificador com handle_unknown='ignore'\n",
    "encoder = OneHotEncoder(drop='first', handle_unknown='ignore')\n",
    "\n",
    "# Ajuste e transforme todas as variáveis categóricas no conjunto de dados completo\n",
    "X_encoded = encoder.fit_transform(X)\n"
   ]
  },
  {
   "cell_type": "code",
   "execution_count": 48,
   "metadata": {},
   "outputs": [],
   "source": [
    "# Divida os dados transformados em conjuntos de treinamento e teste\n",
    "from sklearn.model_selection import train_test_split\n",
    "X_tr_encoded, X_ts_encoded, y_tr, y_ts = train_test_split(X_encoded, y, test_size=0.2, random_state=42)"
   ]
  },
  {
   "cell_type": "code",
   "execution_count": 53,
   "metadata": {},
   "outputs": [],
   "source": [
    "DT = tree.DecisionTreeRegressor(max_depth=3, random_state=42)\n",
    "DT.fit(X_tr_encoded, y_tr)\n",
    "pred3 = DT.predict(X_ts_encoded)"
   ]
  },
  {
   "cell_type": "code",
   "execution_count": 56,
   "metadata": {},
   "outputs": [
    {
     "data": {
      "image/png": "[encoded data removed]",
      "text/plain": [
       "<Figure size 2000x1000 with 1 Axes>"
      ]
     },
     "metadata": {},
     "output_type": "display_data"
    }
   ],
   "source": [
    "plt.figure(figsize=(20,10))\n",
    "tree.plot_tree(DT, filled=True, feature_names=encoder.get_feature_names_out())\n",
    "plt.show()"
   ]
  },
  {
   "cell_type": "code",
   "execution_count": 65,
   "metadata": {},
   "outputs": [
    {
     "ename": "NameError",
     "evalue": "name 'RegressionMetrics' is not defined",
     "output_type": "error",
     "traceback": [
      "\u001b[1;31m---------------------------------------------------------------------------\u001b[0m",
      "\u001b[1;31mNameError\u001b[0m                                 Traceback (most recent call last)",
      "Cell \u001b[1;32mIn[65], line 2\u001b[0m\n\u001b[0;32m      1\u001b[0m \u001b[38;5;66;03m# Regression metrics for Decision Tree\u001b[39;00m\n\u001b[1;32m----> 2\u001b[0m reg_metrics3 \u001b[38;5;241m=\u001b[39m \u001b[43mRegressionMetrics\u001b[49m(y_ts, pred3)\n\u001b[0;32m      3\u001b[0m reg_metrics3\u001b[38;5;241m.\u001b[39mplot()\n",
      "\u001b[1;31mNameError\u001b[0m: name 'RegressionMetrics' is not defined"
     ]
    }
   ],
   "source": [
    "# Regression metrics for Decision Tree\n",
    "reg_metrics3 = RegressionMetrics(y_ts, pred3)\n",
    "reg_metrics3.plot()"
   ]
  }
 ],
 "metadata": {
  "kernelspec": {
   "display_name": "Python 3",
   "language": "python",
   "name": "python3"
  },
  "language_info": {
   "codemirror_mode": {
    "name": "ipython",
    "version": 3
   },
   "file_extension": ".py",
   "mimetype": "text/x-python",
   "name": "python",
   "nbconvert_exporter": "python",
   "pygments_lexer": "ipython3",
   "version": "3.12.1"
  }
 },
 "nbformat": 4,
 "nbformat_minor": 2
}
