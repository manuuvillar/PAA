{
 "cells": [
  {
   "cell_type": "markdown",
   "metadata": {},
   "source": [
    "Tratamento do Dataset"
   ]
  },
  {
   "cell_type": "code",
   "execution_count": 100,
   "metadata": {},
   "outputs": [],
   "source": [
    "# Bibliotecas \n",
    "import pandas as pd\n",
    "import datetime as dt\n",
    "import re\n",
    "pd.set_option('display.max_rows', None)"
   ]
  },
  {
   "cell_type": "code",
   "execution_count": 66,
   "metadata": {},
   "outputs": [],
   "source": [
    "data=pd.read_csv('train.csv')"
   ]
  },
  {
   "cell_type": "code",
   "execution_count": 67,
   "metadata": {},
   "outputs": [
    {
     "data": {
      "text/html": [
       "<div>\n",
       "<style scoped>\n",
       "    .dataframe tbody tr th:only-of-type {\n",
       "        vertical-align: middle;\n",
       "    }\n",
       "\n",
       "    .dataframe tbody tr th {\n",
       "        vertical-align: top;\n",
       "    }\n",
       "\n",
       "    .dataframe thead th {\n",
       "        text-align: right;\n",
       "    }\n",
       "</style>\n",
       "<table border=\"1\" class=\"dataframe\">\n",
       "  <thead>\n",
       "    <tr style=\"text-align: right;\">\n",
       "      <th></th>\n",
       "      <th>brand</th>\n",
       "      <th>model</th>\n",
       "      <th>model_year</th>\n",
       "      <th>milage</th>\n",
       "      <th>fuel_type</th>\n",
       "      <th>engine</th>\n",
       "      <th>transmission</th>\n",
       "      <th>ext_col</th>\n",
       "      <th>int_col</th>\n",
       "      <th>accident</th>\n",
       "      <th>clean_title</th>\n",
       "      <th>price</th>\n",
       "    </tr>\n",
       "  </thead>\n",
       "  <tbody>\n",
       "    <tr>\n",
       "      <th>3202</th>\n",
       "      <td>Audi</td>\n",
       "      <td>Q5 2.0T Premium Plus</td>\n",
       "      <td>2016</td>\n",
       "      <td>52,105 mi.</td>\n",
       "      <td>E85 Flex Fuel</td>\n",
       "      <td>220.0HP 2.0L 4 Cylinder Engine Flex Fuel Capab...</td>\n",
       "      <td>A/T</td>\n",
       "      <td>White</td>\n",
       "      <td>Beige</td>\n",
       "      <td>At least 1 accident or damage reported</td>\n",
       "      <td>Yes</td>\n",
       "      <td>20499</td>\n",
       "    </tr>\n",
       "    <tr>\n",
       "      <th>3203</th>\n",
       "      <td>Mercedes-Benz</td>\n",
       "      <td>SL-Class SL 550</td>\n",
       "      <td>2014</td>\n",
       "      <td>76,850 mi.</td>\n",
       "      <td>Gasoline</td>\n",
       "      <td>429.0HP 4.7L 8 Cylinder Engine Gasoline Fuel</td>\n",
       "      <td>7-Speed A/T</td>\n",
       "      <td>Brown</td>\n",
       "      <td>Beige</td>\n",
       "      <td>At least 1 accident or damage reported</td>\n",
       "      <td>Yes</td>\n",
       "      <td>32999</td>\n",
       "    </tr>\n",
       "    <tr>\n",
       "      <th>3204</th>\n",
       "      <td>Cadillac</td>\n",
       "      <td>Escalade ESV Premium Luxury</td>\n",
       "      <td>2018</td>\n",
       "      <td>74,150 mi.</td>\n",
       "      <td>Gasoline</td>\n",
       "      <td>420.0HP 6.2L 8 Cylinder Engine Gasoline Fuel</td>\n",
       "      <td>10-Speed A/T</td>\n",
       "      <td>Gold</td>\n",
       "      <td>Brown</td>\n",
       "      <td>None reported</td>\n",
       "      <td>Yes</td>\n",
       "      <td>45000</td>\n",
       "    </tr>\n",
       "    <tr>\n",
       "      <th>3205</th>\n",
       "      <td>Ford</td>\n",
       "      <td>Edge SEL</td>\n",
       "      <td>2019</td>\n",
       "      <td>26,465 mi.</td>\n",
       "      <td>Gasoline</td>\n",
       "      <td>2.0L I4 16V GDI DOHC Turbo</td>\n",
       "      <td>8-Speed Automatic</td>\n",
       "      <td>White Platinum Tri-Coat Metallic</td>\n",
       "      <td>Ebony</td>\n",
       "      <td>None reported</td>\n",
       "      <td>NaN</td>\n",
       "      <td>24998</td>\n",
       "    </tr>\n",
       "    <tr>\n",
       "      <th>3206</th>\n",
       "      <td>Honda</td>\n",
       "      <td>Prelude Type SH</td>\n",
       "      <td>2001</td>\n",
       "      <td>125,000 mi.</td>\n",
       "      <td>Gasoline</td>\n",
       "      <td>200.0HP 2.2L 4 Cylinder Engine Gasoline Fuel</td>\n",
       "      <td>5-Speed M/T</td>\n",
       "      <td>Red</td>\n",
       "      <td>Black</td>\n",
       "      <td>None reported</td>\n",
       "      <td>Yes</td>\n",
       "      <td>18000</td>\n",
       "    </tr>\n",
       "  </tbody>\n",
       "</table>\n",
       "</div>"
      ],
      "text/plain": [
       "              brand                        model  model_year       milage  \\\n",
       "3202           Audi         Q5 2.0T Premium Plus        2016   52,105 mi.   \n",
       "3203  Mercedes-Benz              SL-Class SL 550        2014   76,850 mi.   \n",
       "3204       Cadillac  Escalade ESV Premium Luxury        2018   74,150 mi.   \n",
       "3205           Ford                     Edge SEL        2019   26,465 mi.   \n",
       "3206          Honda              Prelude Type SH        2001  125,000 mi.   \n",
       "\n",
       "          fuel_type                                             engine  \\\n",
       "3202  E85 Flex Fuel  220.0HP 2.0L 4 Cylinder Engine Flex Fuel Capab...   \n",
       "3203       Gasoline       429.0HP 4.7L 8 Cylinder Engine Gasoline Fuel   \n",
       "3204       Gasoline       420.0HP 6.2L 8 Cylinder Engine Gasoline Fuel   \n",
       "3205       Gasoline                         2.0L I4 16V GDI DOHC Turbo   \n",
       "3206       Gasoline       200.0HP 2.2L 4 Cylinder Engine Gasoline Fuel   \n",
       "\n",
       "           transmission                           ext_col int_col  \\\n",
       "3202                A/T                             White   Beige   \n",
       "3203        7-Speed A/T                             Brown   Beige   \n",
       "3204       10-Speed A/T                              Gold   Brown   \n",
       "3205  8-Speed Automatic  White Platinum Tri-Coat Metallic   Ebony   \n",
       "3206        5-Speed M/T                               Red   Black   \n",
       "\n",
       "                                    accident clean_title  price  \n",
       "3202  At least 1 accident or damage reported         Yes  20499  \n",
       "3203  At least 1 accident or damage reported         Yes  32999  \n",
       "3204                           None reported         Yes  45000  \n",
       "3205                           None reported         NaN  24998  \n",
       "3206                           None reported         Yes  18000  "
      ]
     },
     "execution_count": 67,
     "metadata": {},
     "output_type": "execute_result"
    }
   ],
   "source": [
    "data.head()\n",
    "data.tail()\n",
    "#data.shape #(3207, 12)"
   ]
  },
  {
   "cell_type": "code",
   "execution_count": 68,
   "metadata": {},
   "outputs": [
    {
     "name": "stdout",
     "output_type": "stream",
     "text": [
      "<class 'pandas.core.frame.DataFrame'>\n",
      "RangeIndex: 3207 entries, 0 to 3206\n",
      "Data columns (total 12 columns):\n",
      " #   Column        Non-Null Count  Dtype \n",
      "---  ------        --------------  ----- \n",
      " 0   brand         3207 non-null   object\n",
      " 1   model         3207 non-null   object\n",
      " 2   model_year    3207 non-null   int64 \n",
      " 3   milage        3207 non-null   object\n",
      " 4   fuel_type     3060 non-null   object\n",
      " 5   engine        3207 non-null   object\n",
      " 6   transmission  3207 non-null   object\n",
      " 7   ext_col       3207 non-null   object\n",
      " 8   int_col       3207 non-null   object\n",
      " 9   accident      3118 non-null   object\n",
      " 10  clean_title   2740 non-null   object\n",
      " 11  price         3207 non-null   int64 \n",
      "dtypes: int64(2), object(10)\n",
      "memory usage: 300.8+ KB\n"
     ]
    }
   ],
   "source": [
    "data.info() #milage"
   ]
  },
  {
   "cell_type": "code",
   "execution_count": 69,
   "metadata": {},
   "outputs": [
    {
     "name": "stdout",
     "output_type": "stream",
     "text": [
      "1974 2024\n"
     ]
    }
   ],
   "source": [
    "#modelo mais antigo e mais novo:\n",
    "antigo=data['model_year'].min()\n",
    "novo=data['model_year'].max()\n",
    "print(antigo,novo)"
   ]
  },
  {
   "cell_type": "code",
   "execution_count": 75,
   "metadata": {},
   "outputs": [],
   "source": [
    "#milage:\n",
    "valores_corrigidos=[]\n",
    "for milage in data['milage']: # para cada quilometragem do dataset\n",
    "    separa=re.split(r'[ ]',milage) # sepagar o numero do mi\n",
    "    numero=separa[0] # numero\n",
    "    letra=separa[1] # mi\n",
    "    verifica=re.search(r'^[0-9]+[,]?[0-9]+$',numero) # verifica se o numeros sao sempre iguais(com casas decimais ou não)\n",
    "    verifica2=re.search(r'^mi\\.$',letra) # verifica se a letra é sempre mi\n",
    "    if verifica and verifica2: # se seguir o padra numero + mi:\n",
    "        numero=int(re.sub(r',','',numero)) # retira a , dos numeros e passa para inteiro ( estavam em obj)\n",
    "        valores_corrigidos.append(numero)\n",
    "    else: \n",
    "        print(milage,False) # tem dados diferentes no dataset\n",
    "\n",
    "data['milage']=valores_corrigidos"
   ]
  },
  {
   "cell_type": "code",
   "execution_count": 80,
   "metadata": {},
   "outputs": [],
   "source": [
    "#verificaçao\n",
    "for m in data['milage']:\n",
    "    if not isinstance(m, (int)):\n",
    "        print('dado incorreto')\n",
    "# tudo certo"
   ]
  },
  {
   "cell_type": "code",
   "execution_count": 81,
   "metadata": {},
   "outputs": [
    {
     "name": "stdout",
     "output_type": "stream",
     "text": [
      "<class 'pandas.core.frame.DataFrame'>\n",
      "RangeIndex: 3207 entries, 0 to 3206\n",
      "Data columns (total 12 columns):\n",
      " #   Column        Non-Null Count  Dtype \n",
      "---  ------        --------------  ----- \n",
      " 0   brand         3207 non-null   object\n",
      " 1   model         3207 non-null   object\n",
      " 2   model_year    3207 non-null   int64 \n",
      " 3   milage        3207 non-null   int64 \n",
      " 4   fuel_type     3060 non-null   object\n",
      " 5   engine        3207 non-null   object\n",
      " 6   transmission  3207 non-null   object\n",
      " 7   ext_col       3207 non-null   object\n",
      " 8   int_col       3207 non-null   object\n",
      " 9   accident      3118 non-null   object\n",
      " 10  clean_title   2740 non-null   object\n",
      " 11  price         3207 non-null   int64 \n",
      "dtypes: int64(3), object(9)\n",
      "memory usage: 300.8+ KB\n"
     ]
    }
   ],
   "source": [
    "data.info()"
   ]
  },
  {
   "cell_type": "code",
   "execution_count": 82,
   "metadata": {},
   "outputs": [
    {
     "data": {
      "text/plain": [
       "brand             0\n",
       "model             0\n",
       "model_year        0\n",
       "milage            0\n",
       "fuel_type       147\n",
       "engine            0\n",
       "transmission      0\n",
       "ext_col           0\n",
       "int_col           0\n",
       "accident         89\n",
       "clean_title     467\n",
       "price             0\n",
       "dtype: int64"
      ]
     },
     "execution_count": 82,
     "metadata": {},
     "output_type": "execute_result"
    }
   ],
   "source": [
    "data.isnull().sum()\n",
    "# utilizar algoritmo de arvore de decisão para preencher esses valores?"
   ]
  },
  {
   "cell_type": "code",
   "execution_count": 107,
   "metadata": {},
   "outputs": [],
   "source": [
    "data['fuel_type'].value_counts() # –  38 ( existem 38 linhas com (-) -> nao se sabe)\n",
    "data['accident'].value_counts()\n",
    "data['clean_title'].value_counts() #Yes-> 2740, os valores nulos só podem ser no( ou não se sabe)??\n",
    "\n",
    "# verificar outros tipos de dizer valores nulos: ( como (-) por exemplo)\n",
    "data['brand'].value_counts() # tudo certo\n",
    "data['model'].value_counts() # tudo certo\n",
    "data['model_year'].value_counts() # tudo certo\n",
    "data['engine'].value_counts() # – 38 -> nao se sabe\n",
    "data['transmission'].value_counts() # 4 -> nao se sabe \n",
    "data['ext_col'].value_counts()# 11 -> nao se sabe\n",
    "data['int_col'].value_counts() # 98 -> nao se sabe\n",
    "for preco in data['price']: # tudo certo\n",
    "    if not isinstance(preco, int):\n",
    "        print('erro')\n",
    "\n",
    "\n"
   ]
  },
  {
   "cell_type": "code",
   "execution_count": 108,
   "metadata": {},
   "outputs": [
    {
     "data": {
      "text/html": [
       "<div>\n",
       "<style scoped>\n",
       "    .dataframe tbody tr th:only-of-type {\n",
       "        vertical-align: middle;\n",
       "    }\n",
       "\n",
       "    .dataframe tbody tr th {\n",
       "        vertical-align: top;\n",
       "    }\n",
       "\n",
       "    .dataframe thead th {\n",
       "        text-align: right;\n",
       "    }\n",
       "</style>\n",
       "<table border=\"1\" class=\"dataframe\">\n",
       "  <thead>\n",
       "    <tr style=\"text-align: right;\">\n",
       "      <th></th>\n",
       "      <th>model_year</th>\n",
       "      <th>milage</th>\n",
       "      <th>price</th>\n",
       "    </tr>\n",
       "  </thead>\n",
       "  <tbody>\n",
       "    <tr>\n",
       "      <th>count</th>\n",
       "      <td>3207.000000</td>\n",
       "      <td>3207.000000</td>\n",
       "      <td>3.207000e+03</td>\n",
       "    </tr>\n",
       "    <tr>\n",
       "      <th>mean</th>\n",
       "      <td>2015.517930</td>\n",
       "      <td>64594.983785</td>\n",
       "      <td>4.487024e+04</td>\n",
       "    </tr>\n",
       "    <tr>\n",
       "      <th>std</th>\n",
       "      <td>6.131963</td>\n",
       "      <td>52387.260707</td>\n",
       "      <td>8.382969e+04</td>\n",
       "    </tr>\n",
       "    <tr>\n",
       "      <th>min</th>\n",
       "      <td>1974.000000</td>\n",
       "      <td>100.000000</td>\n",
       "      <td>2.000000e+03</td>\n",
       "    </tr>\n",
       "    <tr>\n",
       "      <th>25%</th>\n",
       "      <td>2012.000000</td>\n",
       "      <td>23151.500000</td>\n",
       "      <td>1.705000e+04</td>\n",
       "    </tr>\n",
       "    <tr>\n",
       "      <th>50%</th>\n",
       "      <td>2017.000000</td>\n",
       "      <td>52253.000000</td>\n",
       "      <td>3.169800e+04</td>\n",
       "    </tr>\n",
       "    <tr>\n",
       "      <th>75%</th>\n",
       "      <td>2020.000000</td>\n",
       "      <td>93450.000000</td>\n",
       "      <td>4.999650e+04</td>\n",
       "    </tr>\n",
       "    <tr>\n",
       "      <th>max</th>\n",
       "      <td>2024.000000</td>\n",
       "      <td>405000.000000</td>\n",
       "      <td>2.954083e+06</td>\n",
       "    </tr>\n",
       "  </tbody>\n",
       "</table>\n",
       "</div>"
      ],
      "text/plain": [
       "        model_year         milage         price\n",
       "count  3207.000000    3207.000000  3.207000e+03\n",
       "mean   2015.517930   64594.983785  4.487024e+04\n",
       "std       6.131963   52387.260707  8.382969e+04\n",
       "min    1974.000000     100.000000  2.000000e+03\n",
       "25%    2012.000000   23151.500000  1.705000e+04\n",
       "50%    2017.000000   52253.000000  3.169800e+04\n",
       "75%    2020.000000   93450.000000  4.999650e+04\n",
       "max    2024.000000  405000.000000  2.954083e+06"
      ]
     },
     "execution_count": 108,
     "metadata": {},
     "output_type": "execute_result"
    }
   ],
   "source": [
    "data.describe()"
   ]
  },
  {
   "cell_type": "code",
   "execution_count": 112,
   "metadata": {},
   "outputs": [
    {
     "data": {
      "text/plain": [
       "model_year       Axes(0.125,0.11;0.227941x0.77)\n",
       "milage        Axes(0.398529,0.11;0.227941x0.77)\n",
       "price         Axes(0.672059,0.11;0.227941x0.77)\n",
       "dtype: object"
      ]
     },
     "execution_count": 112,
     "metadata": {},
     "output_type": "execute_result"
    },
    {
     "data": {
      "image/png": "[encoded data removed]",
      "text/plain": [
       "<Figure size 1500x600 with 3 Axes>"
      ]
     },
     "metadata": {},
     "output_type": "display_data"
    }
   ],
   "source": [
    "data.plot(kind='box',figsize=(15,6),subplots=True) # grafico do codigo acima"
   ]
  },
  {
   "cell_type": "code",
   "execution_count": 114,
   "metadata": {},
   "outputs": [
    {
     "data": {
      "text/html": [
       "<div>\n",
       "<style scoped>\n",
       "    .dataframe tbody tr th:only-of-type {\n",
       "        vertical-align: middle;\n",
       "    }\n",
       "\n",
       "    .dataframe tbody tr th {\n",
       "        vertical-align: top;\n",
       "    }\n",
       "\n",
       "    .dataframe thead th {\n",
       "        text-align: right;\n",
       "    }\n",
       "</style>\n",
       "<table border=\"1\" class=\"dataframe\">\n",
       "  <thead>\n",
       "    <tr style=\"text-align: right;\">\n",
       "      <th></th>\n",
       "      <th>brand</th>\n",
       "      <th>model</th>\n",
       "      <th>model_year</th>\n",
       "      <th>milage</th>\n",
       "      <th>fuel_type</th>\n",
       "      <th>engine</th>\n",
       "      <th>transmission</th>\n",
       "      <th>ext_col</th>\n",
       "      <th>int_col</th>\n",
       "      <th>accident</th>\n",
       "      <th>clean_title</th>\n",
       "      <th>price</th>\n",
       "    </tr>\n",
       "  </thead>\n",
       "  <tbody>\n",
       "    <tr>\n",
       "      <th>1650</th>\n",
       "      <td>Bugatti</td>\n",
       "      <td>Veyron 16.4 Grand Sport</td>\n",
       "      <td>2011</td>\n",
       "      <td>6330</td>\n",
       "      <td>Gasoline</td>\n",
       "      <td>8.0L W16 64V GDI DOHC Twin Turbo</td>\n",
       "      <td>7-Speed Automatic with Auto-Shift</td>\n",
       "      <td>White</td>\n",
       "      <td>White</td>\n",
       "      <td>None reported</td>\n",
       "      <td>Yes</td>\n",
       "      <td>1950995</td>\n",
       "    </tr>\n",
       "    <tr>\n",
       "      <th>2484</th>\n",
       "      <td>Maserati</td>\n",
       "      <td>Quattroporte Base</td>\n",
       "      <td>2005</td>\n",
       "      <td>32000</td>\n",
       "      <td>Gasoline</td>\n",
       "      <td>394.0HP 4.2L 8 Cylinder Engine Gasoline Fuel</td>\n",
       "      <td>Transmission w/Dual Shift Mode</td>\n",
       "      <td>Red</td>\n",
       "      <td>Beige</td>\n",
       "      <td>At least 1 accident or damage reported</td>\n",
       "      <td>Yes</td>\n",
       "      <td>2954083</td>\n",
       "    </tr>\n",
       "    <tr>\n",
       "      <th>2564</th>\n",
       "      <td>Porsche</td>\n",
       "      <td>Carrera GT Base</td>\n",
       "      <td>2005</td>\n",
       "      <td>4400</td>\n",
       "      <td>Gasoline</td>\n",
       "      <td>605.0HP 5.7L 10 Cylinder Engine Gasoline Fuel</td>\n",
       "      <td>6-Speed M/T</td>\n",
       "      <td>Gray</td>\n",
       "      <td>Black</td>\n",
       "      <td>None reported</td>\n",
       "      <td>Yes</td>\n",
       "      <td>1599000</td>\n",
       "    </tr>\n",
       "  </tbody>\n",
       "</table>\n",
       "</div>"
      ],
      "text/plain": [
       "         brand                    model  model_year  milage fuel_type  \\\n",
       "1650   Bugatti  Veyron 16.4 Grand Sport        2011    6330  Gasoline   \n",
       "2484  Maserati        Quattroporte Base        2005   32000  Gasoline   \n",
       "2564   Porsche          Carrera GT Base        2005    4400  Gasoline   \n",
       "\n",
       "                                             engine  \\\n",
       "1650               8.0L W16 64V GDI DOHC Twin Turbo   \n",
       "2484   394.0HP 4.2L 8 Cylinder Engine Gasoline Fuel   \n",
       "2564  605.0HP 5.7L 10 Cylinder Engine Gasoline Fuel   \n",
       "\n",
       "                           transmission ext_col int_col  \\\n",
       "1650  7-Speed Automatic with Auto-Shift   White   White   \n",
       "2484     Transmission w/Dual Shift Mode     Red   Beige   \n",
       "2564                        6-Speed M/T    Gray   Black   \n",
       "\n",
       "                                    accident clean_title    price  \n",
       "1650                           None reported         Yes  1950995  \n",
       "2484  At least 1 accident or damage reported         Yes  2954083  \n",
       "2564                           None reported         Yes  1599000  "
      ]
     },
     "execution_count": 114,
     "metadata": {},
     "output_type": "execute_result"
    }
   ],
   "source": [
    "data[data['model_year']<1990] # outlier do 1º gráfico\n",
    "data[data['milage']>350000] # outlier do 2º gráfico\n",
    "data[data['price']>1500000] # 3º\n"
   ]
  }
 ],
 "metadata": {
  "kernelspec": {
   "display_name": "Python 3",
   "language": "python",
   "name": "python3"
  },
  "language_info": {
   "codemirror_mode": {
    "name": "ipython",
    "version": 3
   },
   "file_extension": ".py",
   "mimetype": "text/x-python",
   "name": "python",
   "nbconvert_exporter": "python",
   "pygments_lexer": "ipython3",
   "version": "3.12.1"
  }
 },
 "nbformat": 4,
 "nbformat_minor": 2
}
